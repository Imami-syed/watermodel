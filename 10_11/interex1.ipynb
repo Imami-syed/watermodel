{
 "cells": [
  {
   "cell_type": "code",
   "execution_count": 27,
   "metadata": {},
   "outputs": [],
   "source": [
    "from stage1 import *"
   ]
  },
  {
   "cell_type": "code",
   "execution_count": 28,
   "metadata": {},
   "outputs": [],
   "source": [
    "nframes,natoms,nmols=(0,0,0)"
   ]
  },
  {
   "cell_type": "code",
   "execution_count": 29,
   "metadata": {},
   "outputs": [],
   "source": [
    "from stage2 import * "
   ]
  },
  {
   "cell_type": "code",
   "execution_count": 30,
   "metadata": {},
   "outputs": [
    {
     "data": {
      "text/plain": [
       "VGAE(\n",
       "  (encoder): VariationalGCNEncoder(\n",
       "    (conv1): GATConv(5, 15, heads=3)\n",
       "    (head_transform1): Linear(45, 15, bias=True)\n",
       "    (bn1): BatchNorm(15)\n",
       "    (conv2): GCNConv(15, 9)\n",
       "    (bn2): BatchNorm(9)\n",
       "    (linear1): Linear(9, 100, bias=True)\n",
       "    (linear2): Linear(100, 4, bias=True)\n",
       "    (transform): Linear(16, 3, bias=True)\n",
       "    (mu): Linear(3, 3, bias=True)\n",
       "    (logstd): Linear(3, 3, bias=True)\n",
       "  )\n",
       "  (decoder): VariationalGCNDecoder(\n",
       "    (inv_transform): Linear(3, 4, bias=True)\n",
       "    (conv1): GCNConv(1, 9)\n",
       "    (bn1): BatchNorm(9)\n",
       "    (conv2): GCNConv(9, 3)\n",
       "    (bn2): BatchNorm(3)\n",
       "    (conv3): GCNConv(3, 3)\n",
       "    (linear1): Linear(3, 512, bias=True)\n",
       "    (linear2): Linear(512, 128, bias=True)\n",
       "    (linear3): Linear(128, 5, bias=True)\n",
       "  )\n",
       ")"
      ]
     },
     "execution_count": 30,
     "metadata": {},
     "output_type": "execute_result"
    }
   ],
   "source": [
    "stage1"
   ]
  },
  {
   "cell_type": "code",
   "execution_count": 31,
   "metadata": {},
   "outputs": [],
   "source": [
    "testframe=md.load_xtc(\"../../xtc_files/50000eql2.xtc\",top=\"../../xtc_files/conf.gro\",frame=0)\n"
   ]
  },
  {
   "cell_type": "code",
   "execution_count": 32,
   "metadata": {},
   "outputs": [],
   "source": [
    "cf=condenseframe(testframe)"
   ]
  },
  {
   "cell_type": "code",
   "execution_count": 33,
   "metadata": {},
   "outputs": [
    {
     "name": "stdout",
     "output_type": "stream",
     "text": [
      "50001 4 592\n"
     ]
    }
   ],
   "source": [
    "meltframes=md.load_xtc(\"../../xtc_files/50000eql2.xtc\",top=\"../../xtc_files/conf.gro\")\n",
    "meltframes.xyz=meltframes.xyz*10\n",
    "global nframes,natoms,nmols \n",
    "nframes = meltframes.xyz.shape[0]\n",
    "natoms = meltframes.topology.residue(0).n_atoms\n",
    "nmols = meltframes.topology.n_residues\n",
    "print (nframes,natoms,nmols)\n",
    "meltframes=meltframes[::1000]"
   ]
  },
  {
   "cell_type": "code",
   "execution_count": 34,
   "metadata": {},
   "outputs": [
    {
     "data": {
      "text/plain": [
       "array([[ 784.57624268,  -93.61405064, -156.63581845,    2.28225017,\n",
       "           0.95225006,    1.95350003],\n",
       "       [ 779.80309936,  -93.0955292 , -155.6282712 ,    1.36549997,\n",
       "           1.45650005,    2.59900022],\n",
       "       [ 875.98538323, -105.72439904, -174.73795757,    0.83375001,\n",
       "           1.77175009,    0.73750007],\n",
       "       ...,\n",
       "       [ 741.20094106,  -88.34534765, -147.99184888,    2.56474996,\n",
       "           1.57500005,    2.47574997],\n",
       "       [ 757.66172186,  -90.34700559, -151.26807672,    1.61825013,\n",
       "           1.92200017,    2.49900007],\n",
       "       [ 803.44132066,  -96.45390954, -160.33241851,    0.79150009,\n",
       "           2.24175   ,    2.16525006]])"
      ]
     },
     "execution_count": 34,
     "metadata": {},
     "output_type": "execute_result"
    }
   ],
   "source": [
    "cf"
   ]
  },
  {
   "cell_type": "code",
   "execution_count": 35,
   "metadata": {},
   "outputs": [
    {
     "name": "stderr",
     "output_type": "stream",
     "text": [
      "100%|██████████| 51/51 [00:36<00:00,  1.41it/s]\n",
      "100%|██████████| 51/51 [00:02<00:00, 22.02it/s]"
     ]
    },
    {
     "name": "stdout",
     "output_type": "stream",
     "text": [
      "30192\n"
     ]
    },
    {
     "name": "stderr",
     "output_type": "stream",
     "text": [
      "\n"
     ]
    }
   ],
   "source": [
    "melt_condensed=condenseAllFrames(meltframes)\n",
    "graphs_melt_cpu=get_graphs(melt_condensed,\"melt\")\n",
    "print(len(graphs_melt_cpu))"
   ]
  },
  {
   "cell_type": "code",
   "execution_count": 36,
   "metadata": {},
   "outputs": [],
   "source": [
    "torch.save(graphs_melt_cpu,f'./graphs/melt_neigh{n_neigh}.pt')"
   ]
  },
  {
   "cell_type": "code",
   "execution_count": 37,
   "metadata": {},
   "outputs": [],
   "source": [
    "g = get_graph(cf,1,n_neigh,\"cry\")"
   ]
  },
  {
   "cell_type": "code",
   "execution_count": 38,
   "metadata": {},
   "outputs": [],
   "source": [
    "graphs_cpu=graphs_melt_cpu\n",
    "np.random.shuffle(graphs_cpu)\n"
   ]
  },
  {
   "cell_type": "code",
   "execution_count": 39,
   "metadata": {},
   "outputs": [],
   "source": [
    "import os\n",
    "in_channels = graphs_cpu[0].num_features\n",
    "out_channels = 5\n",
    "lr = 1e-4\n",
    "n_epochs = 100\n",
    "batch_size=256\n",
    "test_train_split = 0.8\n",
    "model_name = \"Interex1.pt\"\n",
    "model_loaded = False\n",
    "force_train = True\n",
    "device = torch.device('cuda' if torch.cuda.is_available() else 'cpu')\n",
    "\n",
    "if os.path.exists(\"./\"+model_name) and not force_train:\n",
    "    model = torch.load(\"./\"+model_name)\n",
    "    model_loaded = True\n",
    "else:\n",
    "    model = VGAE_S2(VariationalGCNEncoder_S2(in_channels, out_channels,batch_size,n_neigh+1),\n",
    "                    VariationalGCNDecoder_S2(out_channels, in_channels,batch_size,n_neigh+1))\n",
    "\n",
    "model = model.to(device)\n",
    "model = model.double()\n",
    "# optimizer = torch.optim.SGD(model.parameters(), lr=0.1, momentum=0.9)\n",
    "\n",
    "optimizer = torch.optim.Adam(model.parameters(), lr=lr)\n",
    "scheduler = lr_scheduler.StepLR(optimizer, step_size=300, gamma=0.5)\n"
   ]
  },
  {
   "cell_type": "code",
   "execution_count": 40,
   "metadata": {},
   "outputs": [
    {
     "name": "stderr",
     "output_type": "stream",
     "text": [
      "100%|██████████| 30192/30192 [00:22<00:00, 1345.62it/s]\n"
     ]
    }
   ],
   "source": [
    "graphs_device = []\n",
    "for graph in tqdm(graphs_cpu):\n",
    "    graphs_device.append(graph.to(device))"
   ]
  },
  {
   "cell_type": "code",
   "execution_count": 41,
   "metadata": {},
   "outputs": [],
   "source": [
    "graphs = graphs_device\n",
    "total_graphs = len(graphs)\n"
   ]
  },
  {
   "cell_type": "code",
   "execution_count": 42,
   "metadata": {},
   "outputs": [
    {
     "name": "stdout",
     "output_type": "stream",
     "text": [
      "Using: cuda\n",
      "total_graphs: 30192\n",
      "batch Size: 256\n",
      "number of batches: 117\n",
      "Neighbours: 20\n",
      "Model\n",
      " VGAE_S2(\n",
      "  (encoder): VariationalGCNEncoder_S2(\n",
      "    (conv1): GATConv(6, 15, heads=3)\n",
      "    (head_transform1): Linear(45, 15, bias=True)\n",
      "    (bn1): BatchNorm(15)\n",
      "    (conv2): GCNConv(15, 9)\n",
      "    (bn2): BatchNorm(9)\n",
      "    (linear1): Linear(9, 100, bias=True)\n",
      "    (linear2): Linear(100, 4, bias=True)\n",
      "    (transform): Linear(84, 5, bias=True)\n",
      "    (mu): Linear(5, 5, bias=True)\n",
      "    (logstd): Linear(5, 5, bias=True)\n",
      "  )\n",
      "  (decoder): VariationalGCNDecoder_S2(\n",
      "    (inv_transform): Linear(5, 21, bias=True)\n",
      "    (conv1): GCNConv(1, 9)\n",
      "    (bn1): BatchNorm(9)\n",
      "    (conv2): GCNConv(9, 3)\n",
      "    (bn2): BatchNorm(3)\n",
      "    (conv3): GCNConv(3, 3)\n",
      "    (linear1): Linear(3, 512, bias=True)\n",
      "    (linear2): Linear(512, 128, bias=True)\n",
      "    (linear3): Linear(128, 6, bias=True)\n",
      "  )\n",
      ")\n"
     ]
    }
   ],
   "source": [
    "print(\"Using:\",device )\n",
    "print(\"total_graphs:\", total_graphs)\n",
    "print(\"batch Size:\" , batch_size)\n",
    "print(\"number of batches:\",total_graphs//batch_size)\n",
    "print(\"Neighbours:\",n_neigh)\n",
    "print(\"Model\\n\",model)"
   ]
  },
  {
   "cell_type": "code",
   "execution_count": 43,
   "metadata": {},
   "outputs": [],
   "source": [
    "split = int(test_train_split * total_graphs)\n",
    "train_loader = DataLoader(graphs[:split], batch_size=batch_size, shuffle=True)\n",
    "test_loader = DataLoader(graphs[split:], batch_size=batch_size, shuffle=True)"
   ]
  },
  {
   "cell_type": "code",
   "execution_count": 44,
   "metadata": {},
   "outputs": [],
   "source": [
    "cross_entropy_loss = torch.nn.CrossEntropyLoss()\n",
    "MSE_loss = torch.nn.MSELoss()\n",
    "\n",
    "def train():\n",
    "    model.train()\n",
    "    model.zero_grad()\n",
    "    all_loss_mse = 0\n",
    "    for data in train_loader:\n",
    "        optimizer.zero_grad()\n",
    "        z,encoded_edge_index = model.encode(data.x, data.edge_index)\n",
    "        decoded_x, decoded_edge_index = model.decode(z, encoded_edge_index)\n",
    "        loss = MSE_loss(decoded_x, data.x)\n",
    "        loss.backward()\n",
    "        all_loss_mse += float(loss)\n",
    "        optimizer.step()\n",
    "\n",
    "\n",
    "    return all_loss_mse/len(train_loader)"
   ]
  },
  {
   "cell_type": "code",
   "execution_count": 45,
   "metadata": {},
   "outputs": [],
   "source": [
    "def test():\n",
    "    model.eval()\n",
    "    model.zero_grad()\n",
    "    all_loss_mse = 0\n",
    "    for data in test_loader:\n",
    "        optimizer.zero_grad()\n",
    "        z,encoded_edge_index = model.encode(data.x, data.edge_index)\n",
    "        decoded_x, decoded_edge_index = model.decode(z, encoded_edge_index)\n",
    "\n",
    "        loss = MSE_loss(decoded_x, data.x)\n",
    "\n",
    "        all_loss_mse += float(loss)\n",
    "\n",
    "\n",
    "    return all_loss_mse/len(test_loader)"
   ]
  },
  {
   "cell_type": "code",
   "execution_count": 46,
   "metadata": {},
   "outputs": [
    {
     "name": "stdout",
     "output_type": "stream",
     "text": [
      "Epoch: 001\n",
      "\tTrain:\tMSE Loss: 4131.5500\n",
      "\tTest: \tMSE Loss: 4166.9378\n",
      "Epoch: 002\n",
      "\tTrain:\tMSE Loss: 3728.6431\n",
      "\tTest: \tMSE Loss: 4102.1203\n",
      "Epoch: 003\n",
      "\tTrain:\tMSE Loss: 3882.7510\n",
      "\tTest: \tMSE Loss: 4043.5991\n",
      "Epoch: 004\n",
      "\tTrain:\tMSE Loss: 3682.2930\n",
      "\tTest: \tMSE Loss: 4022.5531\n",
      "Epoch: 005\n",
      "\tTrain:\tMSE Loss: 3524.2554\n",
      "\tTest: \tMSE Loss: 3933.2514\n",
      "Epoch: 006\n",
      "\tTrain:\tMSE Loss: 3551.8332\n",
      "\tTest: \tMSE Loss: 3866.5431\n",
      "Epoch: 007\n",
      "\tTrain:\tMSE Loss: 3478.9838\n",
      "\tTest: \tMSE Loss: 3792.6351\n",
      "Epoch: 008\n",
      "\tTrain:\tMSE Loss: 3406.3583\n",
      "\tTest: \tMSE Loss: 3734.2123\n",
      "Epoch: 009\n",
      "\tTrain:\tMSE Loss: 3431.9056\n",
      "\tTest: \tMSE Loss: 3679.4460\n",
      "Epoch: 010\n",
      "\tTrain:\tMSE Loss: 3296.3770\n",
      "\tTest: \tMSE Loss: 3552.1701\n",
      "Epoch: 011\n",
      "\tTrain:\tMSE Loss: 3076.0655\n",
      "\tTest: \tMSE Loss: 3498.0983\n",
      "Epoch: 012\n",
      "\tTrain:\tMSE Loss: 3030.8684\n",
      "\tTest: \tMSE Loss: 3463.0794\n",
      "Epoch: 013\n",
      "\tTrain:\tMSE Loss: 2962.9110\n",
      "\tTest: \tMSE Loss: 3359.8144\n",
      "Epoch: 014\n",
      "\tTrain:\tMSE Loss: 2847.8009\n",
      "\tTest: \tMSE Loss: 3262.0579\n",
      "Epoch: 015\n",
      "\tTrain:\tMSE Loss: 2766.5176\n",
      "\tTest: \tMSE Loss: 3199.0732\n",
      "Epoch: 016\n",
      "\tTrain:\tMSE Loss: 2830.9721\n",
      "\tTest: \tMSE Loss: 3131.8182\n",
      "Epoch: 017\n",
      "\tTrain:\tMSE Loss: 2605.3888\n",
      "\tTest: \tMSE Loss: 3024.2901\n",
      "Epoch: 018\n",
      "\tTrain:\tMSE Loss: 2453.1058\n",
      "\tTest: \tMSE Loss: 2915.3802\n",
      "Epoch: 019\n",
      "\tTrain:\tMSE Loss: 2364.5187\n",
      "\tTest: \tMSE Loss: 2826.7812\n",
      "Epoch: 020\n",
      "\tTrain:\tMSE Loss: 2236.8374\n",
      "\tTest: \tMSE Loss: 2672.6862\n",
      "Epoch: 021\n",
      "\tTrain:\tMSE Loss: 2165.8350\n",
      "\tTest: \tMSE Loss: 2670.8169\n",
      "Epoch: 022\n",
      "\tTrain:\tMSE Loss: 2105.3453\n",
      "\tTest: \tMSE Loss: 2504.8125\n",
      "Epoch: 023\n",
      "\tTrain:\tMSE Loss: 2041.6516\n",
      "\tTest: \tMSE Loss: 2385.3064\n",
      "Epoch: 024\n",
      "\tTrain:\tMSE Loss: 1949.7197\n",
      "\tTest: \tMSE Loss: 2243.8958\n",
      "Epoch: 025\n",
      "\tTrain:\tMSE Loss: 1893.9192\n",
      "\tTest: \tMSE Loss: 2216.5061\n",
      "Epoch: 026\n",
      "\tTrain:\tMSE Loss: 1822.3986\n",
      "\tTest: \tMSE Loss: 1867.4548\n",
      "Epoch: 027\n",
      "\tTrain:\tMSE Loss: 1640.8194\n",
      "\tTest: \tMSE Loss: 1777.2268\n",
      "Epoch: 028\n",
      "\tTrain:\tMSE Loss: 1578.0615\n",
      "\tTest: \tMSE Loss: 1576.5849\n",
      "Epoch: 029\n",
      "\tTrain:\tMSE Loss: 1510.7438\n",
      "\tTest: \tMSE Loss: 1571.9974\n",
      "Epoch: 030\n",
      "\tTrain:\tMSE Loss: 1442.9319\n",
      "\tTest: \tMSE Loss: 1434.3046\n",
      "Epoch: 031\n",
      "\tTrain:\tMSE Loss: 1378.2132\n",
      "\tTest: \tMSE Loss: 1354.3958\n",
      "Epoch: 032\n",
      "\tTrain:\tMSE Loss: 1345.1179\n",
      "\tTest: \tMSE Loss: 1306.3913\n",
      "Epoch: 033\n",
      "\tTrain:\tMSE Loss: 1313.5637\n",
      "\tTest: \tMSE Loss: 1260.6663\n",
      "Epoch: 034\n",
      "\tTrain:\tMSE Loss: 1284.1699\n",
      "\tTest: \tMSE Loss: 1216.0100\n",
      "Epoch: 035\n",
      "\tTrain:\tMSE Loss: 1250.9057\n",
      "\tTest: \tMSE Loss: 1185.1164\n",
      "Epoch: 036\n",
      "\tTrain:\tMSE Loss: 1218.1281\n",
      "\tTest: \tMSE Loss: 1139.1817\n",
      "Epoch: 037\n",
      "\tTrain:\tMSE Loss: 1191.5772\n",
      "\tTest: \tMSE Loss: 1115.7008\n",
      "Epoch: 038\n",
      "\tTrain:\tMSE Loss: 1168.2209\n",
      "\tTest: \tMSE Loss: 1103.4335\n",
      "Epoch: 039\n",
      "\tTrain:\tMSE Loss: 1150.3716\n",
      "\tTest: \tMSE Loss: 1084.5546\n",
      "Epoch: 040\n",
      "\tTrain:\tMSE Loss: 1127.0742\n",
      "\tTest: \tMSE Loss: 1061.4774\n",
      "Epoch: 041\n",
      "\tTrain:\tMSE Loss: 1106.4674\n",
      "\tTest: \tMSE Loss: 1036.0326\n",
      "Epoch: 042\n",
      "\tTrain:\tMSE Loss: 1092.6381\n",
      "\tTest: \tMSE Loss: 1030.1657\n",
      "Epoch: 043\n",
      "\tTrain:\tMSE Loss: 1067.2684\n",
      "\tTest: \tMSE Loss: 1008.0024\n",
      "Epoch: 044\n",
      "\tTrain:\tMSE Loss: 1049.1633\n",
      "\tTest: \tMSE Loss: 985.1493\n",
      "Epoch: 045\n",
      "\tTrain:\tMSE Loss: 1022.9813\n",
      "\tTest: \tMSE Loss: 971.6548\n",
      "Epoch: 046\n",
      "\tTrain:\tMSE Loss: 1014.1061\n",
      "\tTest: \tMSE Loss: 955.5986\n",
      "Epoch: 047\n",
      "\tTrain:\tMSE Loss: 986.1361\n",
      "\tTest: \tMSE Loss: 936.9610\n",
      "Epoch: 048\n",
      "\tTrain:\tMSE Loss: 972.1794\n",
      "\tTest: \tMSE Loss: 926.0315\n",
      "Epoch: 049\n",
      "\tTrain:\tMSE Loss: 951.6481\n",
      "\tTest: \tMSE Loss: 906.4113\n",
      "Epoch: 050\n",
      "\tTrain:\tMSE Loss: 939.3121\n",
      "\tTest: \tMSE Loss: 888.5707\n",
      "Epoch: 051\n",
      "\tTrain:\tMSE Loss: 924.0505\n",
      "\tTest: \tMSE Loss: 887.1948\n",
      "Epoch: 052\n",
      "\tTrain:\tMSE Loss: 913.6627\n",
      "\tTest: \tMSE Loss: 866.6212\n",
      "Epoch: 053\n",
      "\tTrain:\tMSE Loss: 903.2401\n",
      "\tTest: \tMSE Loss: 864.0269\n",
      "Epoch: 054\n",
      "\tTrain:\tMSE Loss: 893.8132\n",
      "\tTest: \tMSE Loss: 846.7884\n",
      "Epoch: 055\n",
      "\tTrain:\tMSE Loss: 880.9126\n",
      "\tTest: \tMSE Loss: 854.1753\n",
      "Epoch: 056\n",
      "\tTrain:\tMSE Loss: 876.3330\n",
      "\tTest: \tMSE Loss: 848.2906\n",
      "Epoch: 057\n",
      "\tTrain:\tMSE Loss: 866.3124\n",
      "\tTest: \tMSE Loss: 826.5641\n",
      "Epoch: 058\n",
      "\tTrain:\tMSE Loss: 856.1020\n",
      "\tTest: \tMSE Loss: 818.6740\n",
      "Epoch: 059\n",
      "\tTrain:\tMSE Loss: 847.3753\n",
      "\tTest: \tMSE Loss: 817.6603\n",
      "Epoch: 060\n",
      "\tTrain:\tMSE Loss: 843.9596\n",
      "\tTest: \tMSE Loss: 806.6865\n",
      "Epoch: 061\n",
      "\tTrain:\tMSE Loss: 839.2937\n",
      "\tTest: \tMSE Loss: 902.3265\n",
      "Epoch: 062\n",
      "\tTrain:\tMSE Loss: 827.8995\n",
      "\tTest: \tMSE Loss: 797.9007\n",
      "Epoch: 063\n",
      "\tTrain:\tMSE Loss: 822.7717\n",
      "\tTest: \tMSE Loss: 792.2151\n",
      "Epoch: 064\n",
      "\tTrain:\tMSE Loss: 820.7668\n",
      "\tTest: \tMSE Loss: 791.8025\n",
      "Epoch: 065\n",
      "\tTrain:\tMSE Loss: 814.9750\n",
      "\tTest: \tMSE Loss: 783.0277\n",
      "Epoch: 066\n",
      "\tTrain:\tMSE Loss: 808.4869\n",
      "\tTest: \tMSE Loss: 775.0125\n",
      "Epoch: 067\n",
      "\tTrain:\tMSE Loss: 802.6905\n",
      "\tTest: \tMSE Loss: 782.3858\n",
      "Epoch: 068\n",
      "\tTrain:\tMSE Loss: 803.2149\n",
      "\tTest: \tMSE Loss: 777.2805\n",
      "Epoch: 069\n",
      "\tTrain:\tMSE Loss: 796.7246\n",
      "\tTest: \tMSE Loss: 765.4401\n",
      "Epoch: 070\n",
      "\tTrain:\tMSE Loss: 796.8688\n",
      "\tTest: \tMSE Loss: 767.8039\n",
      "Epoch: 071\n",
      "\tTrain:\tMSE Loss: 791.2222\n",
      "\tTest: \tMSE Loss: 767.0862\n",
      "Epoch: 072\n",
      "\tTrain:\tMSE Loss: 785.7845\n",
      "\tTest: \tMSE Loss: 849.5853\n",
      "Epoch: 073\n",
      "\tTrain:\tMSE Loss: 782.7037\n",
      "\tTest: \tMSE Loss: 767.7508\n",
      "Epoch: 074\n",
      "\tTrain:\tMSE Loss: 783.1039\n",
      "\tTest: \tMSE Loss: 756.8552\n",
      "Epoch: 075\n",
      "\tTrain:\tMSE Loss: 780.1636\n",
      "\tTest: \tMSE Loss: 753.7600\n",
      "Epoch: 076\n",
      "\tTrain:\tMSE Loss: 775.6626\n",
      "\tTest: \tMSE Loss: 752.8810\n",
      "Epoch: 077\n",
      "\tTrain:\tMSE Loss: 775.4363\n",
      "\tTest: \tMSE Loss: 751.7223\n",
      "Epoch: 078\n",
      "\tTrain:\tMSE Loss: 771.7578\n",
      "\tTest: \tMSE Loss: 774.9135\n",
      "Epoch: 079\n",
      "\tTrain:\tMSE Loss: 772.1250\n",
      "\tTest: \tMSE Loss: 752.2100\n",
      "Epoch: 080\n",
      "\tTrain:\tMSE Loss: 769.1723\n",
      "\tTest: \tMSE Loss: 763.6180\n",
      "Epoch: 081\n",
      "\tTrain:\tMSE Loss: 767.9283\n",
      "\tTest: \tMSE Loss: 751.2497\n",
      "Epoch: 082\n",
      "\tTrain:\tMSE Loss: 767.4300\n",
      "\tTest: \tMSE Loss: 800.5206\n",
      "Epoch: 083\n",
      "\tTrain:\tMSE Loss: 766.7969\n",
      "\tTest: \tMSE Loss: 743.1921\n",
      "Epoch: 084\n",
      "\tTrain:\tMSE Loss: 764.7993\n",
      "\tTest: \tMSE Loss: 745.6368\n",
      "Epoch: 085\n",
      "\tTrain:\tMSE Loss: 760.1424\n",
      "\tTest: \tMSE Loss: 747.8337\n",
      "Epoch: 086\n",
      "\tTrain:\tMSE Loss: 761.3542\n",
      "\tTest: \tMSE Loss: 738.6047\n",
      "Epoch: 087\n",
      "\tTrain:\tMSE Loss: 760.0527\n",
      "\tTest: \tMSE Loss: 742.2010\n",
      "Epoch: 088\n",
      "\tTrain:\tMSE Loss: 757.5742\n",
      "\tTest: \tMSE Loss: 735.3439\n",
      "Epoch: 089\n",
      "\tTrain:\tMSE Loss: 758.4942\n",
      "\tTest: \tMSE Loss: 810.8800\n",
      "Epoch: 090\n",
      "\tTrain:\tMSE Loss: 755.7366\n",
      "\tTest: \tMSE Loss: 733.4163\n",
      "Epoch: 091\n",
      "\tTrain:\tMSE Loss: 754.6914\n",
      "\tTest: \tMSE Loss: 746.8812\n",
      "Epoch: 092\n",
      "\tTrain:\tMSE Loss: 752.8918\n",
      "\tTest: \tMSE Loss: 731.1594\n",
      "Epoch: 093\n",
      "\tTrain:\tMSE Loss: 753.8056\n",
      "\tTest: \tMSE Loss: 753.3438\n",
      "Epoch: 094\n",
      "\tTrain:\tMSE Loss: 751.4525\n",
      "\tTest: \tMSE Loss: 742.3613\n",
      "Epoch: 095\n",
      "\tTrain:\tMSE Loss: 751.4216\n",
      "\tTest: \tMSE Loss: 746.6686\n",
      "Epoch: 096\n",
      "\tTrain:\tMSE Loss: 750.1660\n",
      "\tTest: \tMSE Loss: 730.7759\n",
      "Epoch: 097\n",
      "\tTrain:\tMSE Loss: 750.0989\n",
      "\tTest: \tMSE Loss: 743.5341\n",
      "Epoch: 098\n",
      "\tTrain:\tMSE Loss: 747.9320\n",
      "\tTest: \tMSE Loss: 797.9430\n",
      "Epoch: 099\n",
      "\tTrain:\tMSE Loss: 745.2582\n",
      "\tTest: \tMSE Loss: 735.2495\n",
      "Epoch: 100\n",
      "\tTrain:\tMSE Loss: 745.3859\n",
      "\tTest: \tMSE Loss: 746.7293\n"
     ]
    }
   ],
   "source": [
    "train_losses = []\n",
    "test_losses = []\n",
    "\n",
    "if model_loaded:\n",
    "    print(\"Pretrained Model Loaded, no training required\")\n",
    "else:\n",
    "    for epoch in range(1, n_epochs + 1):\n",
    "\n",
    "        train_loss_mse = train()\n",
    "        test_loss_mse = test()\n",
    "\n",
    "        print(f\"Epoch: {epoch:03d}\")\n",
    "        print(f'\\tTrain:\\tMSE Loss: {train_loss_mse:.4f}')\n",
    "        print(f'\\tTest: \\tMSE Loss: {test_loss_mse:.4f}')\n",
    "\n",
    "        train_losses.append([train_loss_mse]);\n",
    "        test_losses.append([test_loss_mse]);\n",
    "\n",
    "        scheduler.step()\n",
    "    torch.save(model,\"./models/\"+model_name)"
   ]
  },
  {
   "cell_type": "code",
   "execution_count": 47,
   "metadata": {},
   "outputs": [
    {
     "data": {
      "image/png": "[encoded data removed]",
      "text/plain": [
       "<Figure size 640x480 with 1 Axes>"
      ]
     },
     "metadata": {},
     "output_type": "display_data"
    }
   ],
   "source": [
    "if not model_loaded:\n",
    "    plt.figure()\n",
    "    plt.plot(test_losses, label='Total Test Loss')\n",
    "    plt.plot(train_losses, label='Total Train Loss')\n",
    "    plt.legend()\n",
    "    plt.title('Total Loss')\n",
    "    plt.show()"
   ]
  },
  {
   "cell_type": "code",
   "execution_count": 48,
   "metadata": {},
   "outputs": [
    {
     "data": {
      "image/png": "[encoded data removed]",
      "text/plain": [
       "<Figure size 640x480 with 1 Axes>"
      ]
     },
     "metadata": {},
     "output_type": "display_data"
    }
   ],
   "source": [
    "if not model_loaded:\n",
    "    plt.figure()\n",
    "    # plt.plot(test_losses, label='Total Test Loss')\n",
    "    plt.plot(train_losses, label='Total Train Loss')\n",
    "    plt.legend()\n",
    "    plt.title('Total Loss')\n",
    "    plt.show()"
   ]
  },
  {
   "cell_type": "code",
   "execution_count": 49,
   "metadata": {},
   "outputs": [
    {
     "data": {
      "image/png": "[encoded data removed]",
      "text/plain": [
       "<Figure size 640x480 with 1 Axes>"
      ]
     },
     "metadata": {},
     "output_type": "display_data"
    }
   ],
   "source": [
    "if not model_loaded:\n",
    "    plt.figure()\n",
    "    plt.plot(test_losses, label='Total Test Loss')\n",
    "    # plt.plot(train_losses, label='Total Train Loss')\n",
    "    plt.legend()\n",
    "    plt.title('Total Loss')\n",
    "    plt.show()"
   ]
  },
  {
   "cell_type": "code",
   "execution_count": 50,
   "metadata": {},
   "outputs": [
    {
     "name": "stdout",
     "output_type": "stream",
     "text": [
      "Average Error 336.07095474006974\n"
     ]
    }
   ],
   "source": [
    "from torch.functional import F\n",
    "\n",
    "avg1 = 0\n",
    "avg2 = 0\n",
    "\n",
    "embeddings = []\n",
    "input_feature = []\n",
    "decoded_feature = []\n",
    "\n",
    "for ind in range(len(test_loader)):\n",
    "    test_graph = test_loader.dataset[ind]\n",
    "\n",
    "    model.double()\n",
    "    z,encoded_edge_index = model.encode(test_graph.x,test_graph.edge_index)\n",
    "    decoded_x,decoded_edge_index = model.decode(z,encoded_edge_index)\n",
    "    heavy_indices = torch.where(test_graph.x[:,4] > torch.tensor([1]).to(device))\n",
    "\n",
    "    embeddings.append(z)\n",
    "    decoded_feature.append(decoded_x)\n",
    "    input_feature.append(test_graph.x)\n",
    "    \n",
    "    Error_wo_s = F.mse_loss(decoded_x[heavy_indices], test_graph.x[heavy_indices]).detach().cpu().numpy()\n",
    "\n",
    "\n",
    "\n",
    "    avg1 += Error_wo_s\n",
    "\n",
    "print(\"Average Error\", avg1/len(test_loader))\n"
   ]
  },
  {
   "cell_type": "code",
   "execution_count": 51,
   "metadata": {},
   "outputs": [
    {
     "data": {
      "text/plain": [
       "(tensor([[-2.7848,  2.7309, -3.1041, 15.6088, 17.0096, 16.0192],\n",
       "         [-0.1902, -3.5414, -6.5491, 15.4044, 15.9775, 15.0953],\n",
       "         [-0.1900, -3.5424, -6.5508, 15.4035, 15.9764, 15.0945],\n",
       "         [-0.1899, -3.5429, -6.5516, 15.4031, 15.9759, 15.0941],\n",
       "         [-0.1904, -3.5397, -6.5464, 15.4059, 15.9792, 15.0965],\n",
       "         [-0.1904, -3.5393, -6.5458, 15.4062, 15.9796, 15.0968],\n",
       "         [-0.1902, -3.5413, -6.5490, 15.4045, 15.9775, 15.0953],\n",
       "         [-0.1899, -3.5430, -6.5517, 15.4030, 15.9758, 15.0941],\n",
       "         [-0.1901, -3.5415, -6.5493, 15.4043, 15.9773, 15.0952],\n",
       "         [-0.1899, -3.5435, -6.5525, 15.4026, 15.9753, 15.0937],\n",
       "         [-0.1900, -3.5427, -6.5512, 15.4033, 15.9761, 15.0943],\n",
       "         [-0.1899, -3.5434, -6.5523, 15.4027, 15.9754, 15.0938],\n",
       "         [-0.1899, -3.5430, -6.5516, 15.4031, 15.9759, 15.0941],\n",
       "         [-0.1900, -3.5424, -6.5507, 15.4035, 15.9764, 15.0945],\n",
       "         [-0.1902, -3.5410, -6.5484, 15.4048, 15.9779, 15.0956],\n",
       "         [-0.1899, -3.5435, -6.5524, 15.4026, 15.9753, 15.0937],\n",
       "         [-0.1900, -3.5428, -6.5513, 15.4032, 15.9761, 15.0943],\n",
       "         [-0.1898, -3.5443, -6.5537, 15.4020, 15.9745, 15.0932],\n",
       "         [-0.1898, -3.5436, -6.5527, 15.4025, 15.9752, 15.0936],\n",
       "         [-0.1898, -3.5439, -6.5531, 15.4023, 15.9749, 15.0934],\n",
       "         [-0.1903, -3.5407, -6.5480, 15.4050, 15.9782, 15.0958]],\n",
       "        device='cuda:0', dtype=torch.float64, grad_fn=<IndexBackward0>),\n",
       " tensor([[-6.0131,  0.3167, -0.2784, 19.5775, 18.5575, 13.0500],\n",
       "         [-4.5987,  0.4725, -0.2831, 17.8800, 16.4250, 12.4575],\n",
       "         [-5.5123,  0.3678, -0.2905, 16.8800, 19.4050, 12.4275],\n",
       "         [-7.3491,  0.1648, -0.2832, 19.1600, 21.0675, 14.6875],\n",
       "         [-6.2952,  0.2809, -0.2822, 18.0675, 18.0100, 15.9425],\n",
       "         [-5.5429,  0.3694, -0.2783, 19.4050, 19.9300,  9.7975],\n",
       "         [-6.8285,  0.2249, -0.2797, 20.5625, 17.2475, 16.5725],\n",
       "         [-7.0548,  0.1949, -0.2876, 21.7825, 20.7700, 10.5925],\n",
       "         [-8.2003,  0.0700, -0.2812, 21.8200, 21.8425, 13.6925],\n",
       "         [-5.7523,  0.3392, -0.2920, 21.5400, 18.2050,  9.3650],\n",
       "         [-6.3926,  0.2729, -0.2788, 17.2025, 22.0925, 12.2600],\n",
       "         [-4.9360,  0.4293, -0.2925, 18.9575, 14.3825, 14.2825],\n",
       "         [-4.8235,  0.4450, -0.2886, 15.7900, 16.8850, 14.6300],\n",
       "         [-4.7711,  0.4497, -0.2891, 21.0525, 15.6200,  9.9550],\n",
       "         [-4.6076,  0.4720, -0.2852, 16.5850, 19.6025,  9.7850],\n",
       "         [-7.8309,  0.1104, -0.2801, 24.0125, 19.6825, 12.6425],\n",
       "         [-6.7953,  0.2292, -0.2763, 19.4100, 22.6800, 10.6800],\n",
       "         [-8.0221,  0.0940, -0.2718, 23.8700, 18.7425, 15.5025],\n",
       "         [-5.5270,  0.3650, -0.2891, 14.8350, 19.5975, 14.4350],\n",
       "         [-8.2280,  0.0725, -0.2690, 21.9100, 19.7100, 17.3900],\n",
       "         [-5.8620,  0.3303, -0.2858, 20.9725, 14.4475, 15.9675]],\n",
       "        device='cuda:0', dtype=torch.float64))"
      ]
     },
     "execution_count": 51,
     "metadata": {},
     "output_type": "execute_result"
    }
   ],
   "source": [
    "np.set_printoptions(suppress=True)\n",
    "heavy_indices = torch.where(input_feature[0][:,4] > torch.tensor([1]).to(device))\n",
    "heavy_indices\n",
    "decoded_feature[0][heavy_indices],input_feature[0][heavy_indices]\n",
    "# len(input_feature[0][heavy_indices])"
   ]
  },
  {
   "cell_type": "code",
   "execution_count": 52,
   "metadata": {},
   "outputs": [
    {
     "data": {
      "image/png": "[encoded data removed]",
      "text/plain": [
       "<Figure size 640x480 with 1 Axes>"
      ]
     },
     "metadata": {},
     "output_type": "display_data"
    }
   ],
   "source": [
    "add_self_loops=False\n",
    "adj_binary = convert_to_adj(decoded_edge_index, num_nodes=decoded_x.shape[0])\n",
    "indices = torch.where(adj_binary)\n",
    "G = nx.Graph()\n",
    "if not add_self_loops:\n",
    "    edges = [(i, j) for i, j in zip(indices[0].tolist(), indices[1].tolist()) if i != j]\n",
    "    G.add_edges_from(edges)\n",
    "else:\n",
    "    G.add_edges_from(zip(indices[0].tolist(), indices[1].tolist()))\n",
    "nx.draw_networkx(G)\n",
    "plt.show()\n"
   ]
  },
  {
   "cell_type": "code",
   "execution_count": null,
   "metadata": {},
   "outputs": [],
   "source": []
  }
 ],
 "metadata": {
  "kernelspec": {
   "display_name": "3dpytorch",
   "language": "python",
   "name": "python3"
  },
  "language_info": {
   "codemirror_mode": {
    "name": "ipython",
    "version": 3
   },
   "file_extension": ".py",
   "mimetype": "text/x-python",
   "name": "python",
   "nbconvert_exporter": "python",
   "pygments_lexer": "ipython3",
   "version": "3.11.5"
  }
 },
 "nbformat": 4,
 "nbformat_minor": 2
}
