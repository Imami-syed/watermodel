{
 "cells": [
  {
   "cell_type": "code",
   "execution_count": 1,
   "metadata": {},
   "outputs": [
    {
     "data": {
      "application/vnd.jupyter.widget-view+json": {
       "model_id": "d7dfd48a799c4982bf2a9e11bec39824",
       "version_major": 2,
       "version_minor": 0
      },
      "text/plain": []
     },
     "metadata": {},
     "output_type": "display_data"
    }
   ],
   "source": [
    "from model2 import *"
   ]
  },
  {
   "cell_type": "code",
   "execution_count": 2,
   "metadata": {},
   "outputs": [],
   "source": [
    "traj = md.load('../../xtc_files/50000eql2.xtc', top='../../xtc_files/conf.gro')"
   ]
  },
  {
   "cell_type": "code",
   "execution_count": 3,
   "metadata": {},
   "outputs": [],
   "source": [
    "n_frames,n_atoms,n_mols = (0,0,0)\n",
    "n_neigh = 15"
   ]
  },
  {
   "cell_type": "code",
   "execution_count": 4,
   "metadata": {},
   "outputs": [
    {
     "data": {
      "text/plain": [
       "VGAE(\n",
       "  (encoder): VariationalGCNEncoder(\n",
       "    (conv1): GATConv(5, 15, heads=3)\n",
       "    (head_transform1): Linear(45, 15, bias=True)\n",
       "    (bn1): BatchNorm(15)\n",
       "    (conv2): GCNConv(15, 9)\n",
       "    (bn2): BatchNorm(9)\n",
       "    (linear1): Linear(9, 100, bias=True)\n",
       "    (linear2): Linear(100, 4, bias=True)\n",
       "    (transform): Linear(16, 3, bias=True)\n",
       "    (mu): Linear(3, 3, bias=True)\n",
       "    (logstd): Linear(3, 3, bias=True)\n",
       "  )\n",
       "  (decoder): VariationalGCNDecoder(\n",
       "    (inv_transform): Linear(3, 4, bias=True)\n",
       "    (conv1): GCNConv(1, 9)\n",
       "    (bn1): BatchNorm(9)\n",
       "    (conv2): GCNConv(9, 3)\n",
       "    (bn2): BatchNorm(3)\n",
       "    (conv3): GCNConv(3, 3)\n",
       "    (linear1): Linear(3, 512, bias=True)\n",
       "    (linear2): Linear(512, 128, bias=True)\n",
       "    (linear3): Linear(128, 5, bias=True)\n",
       "  )\n",
       ")"
      ]
     },
     "execution_count": 4,
     "metadata": {},
     "output_type": "execute_result"
    }
   ],
   "source": [
    "model_1_name = \"Intra.pt\"\n",
    "model_stage1 = torch.load(\"./models/\"+model_1_name)\n",
    "model_stage1"
   ]
  },
  {
   "cell_type": "code",
   "execution_count": null,
   "metadata": {},
   "outputs": [],
   "source": []
  },
  {
   "cell_type": "code",
   "execution_count": 5,
   "metadata": {},
   "outputs": [
    {
     "name": "stderr",
     "output_type": "stream",
     "text": [
      "  0%|          | 0/1001 [00:00<?, ?it/s]\n"
     ]
    },
    {
     "ename": "NameError",
     "evalue": "name 'model_stage1' is not defined",
     "output_type": "error",
     "traceback": [
      "\u001b[0;31m---------------------------------------------------------------------------\u001b[0m",
      "\u001b[0;31mNameError\u001b[0m                                 Traceback (most recent call last)",
      "\u001b[1;32m/home/imami/watermodel/10_11/inter.ipynb Cell 6\u001b[0m line \u001b[0;36m1\n\u001b[1;32m     <a href='vscode-notebook-cell:/home/imami/watermodel/10_11/inter.ipynb#W5sZmlsZQ%3D%3D?line=12'>13</a>\u001b[0m     \u001b[39mglobal\u001b[39;00m n_frames,n_atoms,n_mols \n\u001b[1;32m     <a href='vscode-notebook-cell:/home/imami/watermodel/10_11/inter.ipynb#W5sZmlsZQ%3D%3D?line=13'>14</a>\u001b[0m     \u001b[39m# n_frames = all_frames_cry.xyz.shape[0]\u001b[39;00m\n\u001b[1;32m     <a href='vscode-notebook-cell:/home/imami/watermodel/10_11/inter.ipynb#W5sZmlsZQ%3D%3D?line=14'>15</a>\u001b[0m     \u001b[39m# n_atoms = all_frames_cry.topology.residue(0).n_atoms\u001b[39;00m\n\u001b[1;32m     <a href='vscode-notebook-cell:/home/imami/watermodel/10_11/inter.ipynb#W5sZmlsZQ%3D%3D?line=15'>16</a>\u001b[0m     \u001b[39m# n_mols = all_frames_cry.topology.n_residues\u001b[39;00m\n\u001b[1;32m     <a href='vscode-notebook-cell:/home/imami/watermodel/10_11/inter.ipynb#W5sZmlsZQ%3D%3D?line=16'>17</a>\u001b[0m     \u001b[39m# condensed_crystal = condenseAllFrames(all_frames_cry)\u001b[39;00m\n\u001b[1;32m     <a href='vscode-notebook-cell:/home/imami/watermodel/10_11/inter.ipynb#W5sZmlsZQ%3D%3D?line=17'>18</a>\u001b[0m \u001b[39m#     condensed_crystal = condenseAllFrames_same_res_id(f,n_frames)\u001b[39;00m\n\u001b[0;32m---> <a href='vscode-notebook-cell:/home/imami/watermodel/10_11/inter.ipynb#W5sZmlsZQ%3D%3D?line=18'>19</a>\u001b[0m     condensed_melt \u001b[39m=\u001b[39m condenseAllFrames(all_frames_melt)\n\u001b[1;32m     <a href='vscode-notebook-cell:/home/imami/watermodel/10_11/inter.ipynb#W5sZmlsZQ%3D%3D?line=19'>20</a>\u001b[0m     \u001b[39m# graphs_cry_cpu = get_graphs(condensed_crystal,\"cry\")\u001b[39;00m\n\u001b[1;32m     <a href='vscode-notebook-cell:/home/imami/watermodel/10_11/inter.ipynb#W5sZmlsZQ%3D%3D?line=20'>21</a>\u001b[0m     graphs_melt_cpu \u001b[39m=\u001b[39m get_graphs(condensed_melt,\u001b[39m\"\u001b[39m\u001b[39mmelt\u001b[39m\u001b[39m\"\u001b[39m)\n",
      "File \u001b[0;32m~/watermodel/10_11/model2.py:409\u001b[0m, in \u001b[0;36mcondenseAllFrames\u001b[0;34m(frames)\u001b[0m\n\u001b[1;32m    407\u001b[0m condensed_frames \u001b[39m=\u001b[39m []\n\u001b[1;32m    408\u001b[0m \u001b[39mfor\u001b[39;00m frame \u001b[39min\u001b[39;00m tqdm(frames):\n\u001b[0;32m--> 409\u001b[0m     condensed_frames\u001b[39m.\u001b[39mappend(condenseFrame2(frame))\n\u001b[1;32m    410\u001b[0m \u001b[39mreturn\u001b[39;00m np\u001b[39m.\u001b[39marray(condensed_frames)\n",
      "File \u001b[0;32m~/watermodel/10_11/model2.py:360\u001b[0m, in \u001b[0;36mcondenseFrame2\u001b[0;34m(frame)\u001b[0m\n\u001b[1;32m    357\u001b[0m node_features \u001b[39m=\u001b[39m np\u001b[39m.\u001b[39mconcatenate((pos,vdwr,atomic_nums),axis\u001b[39m=\u001b[39m\u001b[39m1\u001b[39m)\n\u001b[1;32m    358\u001b[0m graph \u001b[39m=\u001b[39m data\u001b[39m.\u001b[39mData(x\u001b[39m=\u001b[39mtorch\u001b[39m.\u001b[39mfrom_numpy(node_features),edge_index\u001b[39m=\u001b[39mtorch\u001b[39m.\u001b[39mfrom_numpy(edge_list))\u001b[39m#.to(\"cuda\")\u001b[39;00m\n\u001b[0;32m--> 360\u001b[0m encoded \u001b[39m=\u001b[39m model_stage1\u001b[39m.\u001b[39mencode(graph\u001b[39m.\u001b[39mx,graph\u001b[39m.\u001b[39medge_index)\n\u001b[1;32m    362\u001b[0m model_out \u001b[39m=\u001b[39m np\u001b[39m.\u001b[39mmean(encoded[\u001b[39m0\u001b[39m]\u001b[39m.\u001b[39mdetach()\u001b[39m.\u001b[39mcpu()\u001b[39m.\u001b[39mnumpy(),axis\u001b[39m=\u001b[39m\u001b[39m0\u001b[39m)\n\u001b[1;32m    363\u001b[0m feature \u001b[39m=\u001b[39m np\u001b[39m.\u001b[39mconcatenate((model_out,avg_pos))\n",
      "\u001b[0;31mNameError\u001b[0m: name 'model_stage1' is not defined"
     ]
    }
   ],
   "source": [
    "load = False\n",
    "if load:\n",
    "    graphs_cry_cpu = torch.load(f'./graphs/simple/crystal_neigh{n_neigh}.pt')\n",
    "    graphs_melt_cpu = torch.load(f'./graphs/simple/melt_neigh{n_neigh}.pt')\n",
    "else:\n",
    "    # all_frames_cry = md.load_xtc(\"../simulation/para_crystal.xtc\", top=\"../simulation/para_crystal.gro\")\n",
    "    all_frames_melt= md.load_xtc('../../xtc_files/50000eql2.xtc', top='../../xtc_files/conf.gro')\n",
    "    # all_frames_melt = md.load_xtc(\"../simulation/para_melt.xtc\", top=\"../simulation/para_melt.gro\")\n",
    "    # all_frames_cry.xyz = all_frames_cry.xyz*10\n",
    "    all_frames_melt.xyz = all_frames_melt.xyz*10\n",
    "    # all_frames_cry = all_frames_cry\n",
    "    all_frames_melt = all_frames_melt[::50]\n",
    "    global n_frames,n_atoms,n_mols \n",
    "    # n_frames = all_frames_cry.xyz.shape[0]\n",
    "    # n_atoms = all_frames_cry.topology.residue(0).n_atoms\n",
    "    # n_mols = all_frames_cry.topology.n_residues\n",
    "    # condensed_crystal = condenseAllFrames(all_frames_cry)\n",
    "#     condensed_crystal = condenseAllFrames_same_res_id(f,n_frames)\n",
    "    condensed_melt = condenseAllFrames(all_frames_melt)\n",
    "    # graphs_cry_cpu = get_graphs(condensed_crystal,\"cry\")\n",
    "    graphs_melt_cpu = get_graphs(condensed_melt,\"melt\")\n",
    "#     graphs_cry_cpu = pad(graphs_cry_cpu)\n",
    "#     graphs_melt_cpu = pad(graphs_melt_cpu)\n",
    "    # torch.save(graphs_cry_cpu, f'./graphs/simple/crystal_neigh{n_neigh}.pt')\n",
    "    torch.save(graphs_melt_cpu,f'./graphs/simple/melt_neigh{n_neigh}.pt')"
   ]
  },
  {
   "cell_type": "code",
   "execution_count": null,
   "metadata": {},
   "outputs": [
    {
     "ename": "FileNotFoundError",
     "evalue": "[Errno 2] No such file or directory: '../simulation/para_crystal.gro'",
     "output_type": "error",
     "traceback": [
      "\u001b[0;31m---------------------------------------------------------------------------\u001b[0m",
      "\u001b[0;31mFileNotFoundError\u001b[0m                         Traceback (most recent call last)",
      "\u001b[1;32m/home/imami/watermodel/10_11/inter.ipynb Cell 6\u001b[0m line \u001b[0;36m1\n\u001b[0;32m----> <a href='vscode-notebook-cell:/home/imami/watermodel/10_11/inter.ipynb#W5sZmlsZQ%3D%3D?line=0'>1</a>\u001b[0m test_frame \u001b[39m=\u001b[39m md\u001b[39m.\u001b[39;49mload_xtc(\u001b[39m\"\u001b[39;49m\u001b[39m../simulation/para_crystal.xtc\u001b[39;49m\u001b[39m\"\u001b[39;49m, top\u001b[39m=\u001b[39;49m\u001b[39m\"\u001b[39;49m\u001b[39m../simulation/para_crystal.gro\u001b[39;49m\u001b[39m\"\u001b[39;49m,frame\u001b[39m=\u001b[39;49m\u001b[39m0\u001b[39;49m)\n",
      "File \u001b[0;32mmdtraj/formats/xtc/xtc.pyx:165\u001b[0m, in \u001b[0;36mmdtraj.formats.xtc.load_xtc\u001b[0;34m()\u001b[0m\n",
      "File \u001b[0;32m~/anaconda3/envs/3dpytorch/lib/python3.11/site-packages/mdtraj/core/trajectory.py:183\u001b[0m, in \u001b[0;36m_parse_topology\u001b[0;34m(top, **kwargs)\u001b[0m\n\u001b[1;32m    181\u001b[0m     topology \u001b[39m=\u001b[39m load_mol2(top, \u001b[39m*\u001b[39m\u001b[39m*\u001b[39mkwargs)\u001b[39m.\u001b[39mtopology\n\u001b[1;32m    182\u001b[0m \u001b[39melif\u001b[39;00m \u001b[39misinstance\u001b[39m(top, (string_types, os\u001b[39m.\u001b[39mPathLike)) \u001b[39mand\u001b[39;00m (ext \u001b[39min\u001b[39;00m [\u001b[39m'\u001b[39m\u001b[39m.gro\u001b[39m\u001b[39m'\u001b[39m]):\n\u001b[0;32m--> 183\u001b[0m     topology \u001b[39m=\u001b[39m load_gro(top, \u001b[39m*\u001b[39;49m\u001b[39m*\u001b[39;49mkwargs)\u001b[39m.\u001b[39mtopology\n\u001b[1;32m    184\u001b[0m \u001b[39melif\u001b[39;00m \u001b[39misinstance\u001b[39m(top, (string_types, os\u001b[39m.\u001b[39mPathLike)) \u001b[39mand\u001b[39;00m (ext \u001b[39min\u001b[39;00m [\u001b[39m'\u001b[39m\u001b[39m.arc\u001b[39m\u001b[39m'\u001b[39m]):\n\u001b[1;32m    185\u001b[0m     topology \u001b[39m=\u001b[39m load_arc(top, \u001b[39m*\u001b[39m\u001b[39m*\u001b[39mkwargs)\u001b[39m.\u001b[39mtopology\n",
      "File \u001b[0;32m~/anaconda3/envs/3dpytorch/lib/python3.11/site-packages/mdtraj/formats/gro.py:94\u001b[0m, in \u001b[0;36mload_gro\u001b[0;34m(filename, stride, atom_indices, frame, top)\u001b[0m\n\u001b[1;32m     73\u001b[0m \u001b[39m\u001b[39m\u001b[39m\"\"\"Load a GROMACS GRO file.\u001b[39;00m\n\u001b[1;32m     74\u001b[0m \n\u001b[1;32m     75\u001b[0m \u001b[39mParameters\u001b[39;00m\n\u001b[0;32m   (...)\u001b[0m\n\u001b[1;32m     90\u001b[0m \u001b[39m    it saves time if you have to parse a big number of files\u001b[39;00m\n\u001b[1;32m     91\u001b[0m \u001b[39m\"\"\"\u001b[39;00m\n\u001b[1;32m     92\u001b[0m \u001b[39mfrom\u001b[39;00m \u001b[39mmdtraj\u001b[39;00m\u001b[39m.\u001b[39;00m\u001b[39mcore\u001b[39;00m\u001b[39m.\u001b[39;00m\u001b[39mtrajectory\u001b[39;00m \u001b[39mimport\u001b[39;00m _parse_topology, Trajectory\n\u001b[0;32m---> 94\u001b[0m \u001b[39mwith\u001b[39;00m GroTrajectoryFile(filename, \u001b[39m'\u001b[39;49m\u001b[39mr\u001b[39;49m\u001b[39m'\u001b[39;49m, top\u001b[39m=\u001b[39;49mtop) \u001b[39mas\u001b[39;00m f:\n\u001b[1;32m     95\u001b[0m     topology \u001b[39m=\u001b[39m f\u001b[39m.\u001b[39mtopology\n\u001b[1;32m     96\u001b[0m     \u001b[39mif\u001b[39;00m frame \u001b[39mis\u001b[39;00m \u001b[39mnot\u001b[39;00m \u001b[39mNone\u001b[39;00m:\n",
      "File \u001b[0;32m~/anaconda3/envs/3dpytorch/lib/python3.11/site-packages/mdtraj/formats/gro.py:145\u001b[0m, in \u001b[0;36mGroTrajectoryFile.__init__\u001b[0;34m(self, filename, mode, force_overwrite, top)\u001b[0m\n\u001b[1;32m    143\u001b[0m \u001b[39mself\u001b[39m\u001b[39m.\u001b[39m_open \u001b[39m=\u001b[39m \u001b[39mTrue\u001b[39;00m\n\u001b[1;32m    144\u001b[0m \u001b[39mself\u001b[39m\u001b[39m.\u001b[39m_frame_index \u001b[39m=\u001b[39m \u001b[39m0\u001b[39m\n\u001b[0;32m--> 145\u001b[0m \u001b[39mself\u001b[39m\u001b[39m.\u001b[39m_file \u001b[39m=\u001b[39m \u001b[39mopen\u001b[39;49m(filename, \u001b[39m'\u001b[39;49m\u001b[39mr\u001b[39;49m\u001b[39m'\u001b[39;49m)\n\u001b[1;32m    146\u001b[0m \u001b[39mtry\u001b[39;00m:\n\u001b[1;32m    147\u001b[0m     \u001b[39mif\u001b[39;00m \u001b[39mself\u001b[39m\u001b[39m.\u001b[39mtopology \u001b[39mis\u001b[39;00m \u001b[39mNone\u001b[39;00m:\n",
      "\u001b[0;31mFileNotFoundError\u001b[0m: [Errno 2] No such file or directory: '../simulation/para_crystal.gro'"
     ]
    }
   ],
   "source": [
    "test_frame = md.load_xtc(\"../simulation/para_crystal.xtc\", top=\"../simulation/para_crystal.gro\",frame=0)\n"
   ]
  },
  {
   "cell_type": "code",
   "execution_count": null,
   "metadata": {},
   "outputs": [
    {
     "ename": "NameError",
     "evalue": "name 'test_frame' is not defined",
     "output_type": "error",
     "traceback": [
      "\u001b[0;31m---------------------------------------------------------------------------\u001b[0m",
      "\u001b[0;31mNameError\u001b[0m                                 Traceback (most recent call last)",
      "\u001b[1;32m/home/imami/watermodel/10_11/inter.ipynb Cell 7\u001b[0m line \u001b[0;36m1\n\u001b[0;32m----> <a href='vscode-notebook-cell:/home/imami/watermodel/10_11/inter.ipynb#W6sZmlsZQ%3D%3D?line=0'>1</a>\u001b[0m cf \u001b[39m=\u001b[39m condenseFrame2(test_frame)\n",
      "\u001b[0;31mNameError\u001b[0m: name 'test_frame' is not defined"
     ]
    }
   ],
   "source": [
    "cf = condenseFrame2(test_frame)"
   ]
  },
  {
   "cell_type": "code",
   "execution_count": null,
   "metadata": {},
   "outputs": [
    {
     "ename": "NameError",
     "evalue": "name 'cf' is not defined",
     "output_type": "error",
     "traceback": [
      "\u001b[0;31m---------------------------------------------------------------------------\u001b[0m",
      "\u001b[0;31mNameError\u001b[0m                                 Traceback (most recent call last)",
      "\u001b[1;32m/home/imami/watermodel/10_11/inter.ipynb Cell 8\u001b[0m line \u001b[0;36m3\n\u001b[1;32m      <a href='vscode-notebook-cell:/home/imami/watermodel/10_11/inter.ipynb#X10sZmlsZQ%3D%3D?line=0'>1</a>\u001b[0m \u001b[39m# %matplotlib widget\u001b[39;00m\n\u001b[0;32m----> <a href='vscode-notebook-cell:/home/imami/watermodel/10_11/inter.ipynb#X10sZmlsZQ%3D%3D?line=2'>3</a>\u001b[0m g \u001b[39m=\u001b[39m get_graph(cf,\u001b[39m10\u001b[39m,n_neigh,\u001b[39m\"\u001b[39m\u001b[39mcry\u001b[39m\u001b[39m\"\u001b[39m)\n\u001b[1;32m      <a href='vscode-notebook-cell:/home/imami/watermodel/10_11/inter.ipynb#X10sZmlsZQ%3D%3D?line=3'>4</a>\u001b[0m plot3D(g)\n",
      "\u001b[0;31mNameError\u001b[0m: name 'cf' is not defined"
     ]
    }
   ],
   "source": [
    "# %matplotlib widget\n",
    "\n",
    "g = get_graph(cf,10,n_neigh,\"cry\")\n",
    "plot3D(g)"
   ]
  },
  {
   "cell_type": "code",
   "execution_count": null,
   "metadata": {},
   "outputs": [
    {
     "ename": "NameError",
     "evalue": "name 'graphs_cry_cpu' is not defined",
     "output_type": "error",
     "traceback": [
      "\u001b[0;31m---------------------------------------------------------------------------\u001b[0m",
      "\u001b[0;31mNameError\u001b[0m                                 Traceback (most recent call last)",
      "\u001b[1;32m/home/imami/watermodel/10_11/inter.ipynb Cell 9\u001b[0m line \u001b[0;36m1\n\u001b[0;32m----> <a href='vscode-notebook-cell:/home/imami/watermodel/10_11/inter.ipynb#X11sZmlsZQ%3D%3D?line=0'>1</a>\u001b[0m graphs_cpu \u001b[39m=\u001b[39m graphs_cry_cpu \u001b[39m+\u001b[39m graphs_melt_cpu\n",
      "\u001b[0;31mNameError\u001b[0m: name 'graphs_cry_cpu' is not defined"
     ]
    }
   ],
   "source": [
    "graphs_cpu = graphs_cry_cpu + graphs_melt_cpu"
   ]
  },
  {
   "cell_type": "code",
   "execution_count": null,
   "metadata": {},
   "outputs": [
    {
     "ename": "NameError",
     "evalue": "name 'graphs_cry_cpu' is not defined",
     "output_type": "error",
     "traceback": [
      "\u001b[0;31m---------------------------------------------------------------------------\u001b[0m",
      "\u001b[0;31mNameError\u001b[0m                                 Traceback (most recent call last)",
      "\u001b[1;32m/home/imami/watermodel/10_11/inter.ipynb Cell 10\u001b[0m line \u001b[0;36m1\n\u001b[0;32m----> <a href='vscode-notebook-cell:/home/imami/watermodel/10_11/inter.ipynb#X12sZmlsZQ%3D%3D?line=0'>1</a>\u001b[0m \u001b[39mprint\u001b[39m(\u001b[39mlen\u001b[39m(graphs_cry_cpu))\n\u001b[1;32m      <a href='vscode-notebook-cell:/home/imami/watermodel/10_11/inter.ipynb#X12sZmlsZQ%3D%3D?line=1'>2</a>\u001b[0m \u001b[39mprint\u001b[39m(\u001b[39mlen\u001b[39m(graphs_melt_cpu))\n",
      "\u001b[0;31mNameError\u001b[0m: name 'graphs_cry_cpu' is not defined"
     ]
    }
   ],
   "source": [
    "print(len(graphs_cry_cpu))\n",
    "print(len(graphs_melt_cpu))"
   ]
  },
  {
   "cell_type": "code",
   "execution_count": null,
   "metadata": {},
   "outputs": [
    {
     "ename": "NameError",
     "evalue": "name 'graphs_cpu' is not defined",
     "output_type": "error",
     "traceback": [
      "\u001b[0;31m---------------------------------------------------------------------------\u001b[0m",
      "\u001b[0;31mNameError\u001b[0m                                 Traceback (most recent call last)",
      "\u001b[1;32m/home/imami/watermodel/10_11/inter.ipynb Cell 11\u001b[0m line \u001b[0;36m2\n\u001b[1;32m      <a href='vscode-notebook-cell:/home/imami/watermodel/10_11/inter.ipynb#X13sZmlsZQ%3D%3D?line=0'>1</a>\u001b[0m \u001b[39m# shuffle the graphs\u001b[39;00m\n\u001b[0;32m----> <a href='vscode-notebook-cell:/home/imami/watermodel/10_11/inter.ipynb#X13sZmlsZQ%3D%3D?line=1'>2</a>\u001b[0m np\u001b[39m.\u001b[39mrandom\u001b[39m.\u001b[39mshuffle(graphs_cpu)\n",
      "\u001b[0;31mNameError\u001b[0m: name 'graphs_cpu' is not defined"
     ]
    }
   ],
   "source": [
    "# shuffle the graphs\n",
    "np.random.shuffle(graphs_cpu)"
   ]
  },
  {
   "cell_type": "code",
   "execution_count": null,
   "metadata": {},
   "outputs": [
    {
     "ename": "NameError",
     "evalue": "name 'graphs_cpu' is not defined",
     "output_type": "error",
     "traceback": [
      "\u001b[0;31m---------------------------------------------------------------------------\u001b[0m",
      "\u001b[0;31mNameError\u001b[0m                                 Traceback (most recent call last)",
      "\u001b[1;32m/home/imami/watermodel/10_11/inter.ipynb Cell 12\u001b[0m line \u001b[0;36m2\n\u001b[1;32m      <a href='vscode-notebook-cell:/home/imami/watermodel/10_11/inter.ipynb#X14sZmlsZQ%3D%3D?line=0'>1</a>\u001b[0m \u001b[39mimport\u001b[39;00m \u001b[39mos\u001b[39;00m\n\u001b[0;32m----> <a href='vscode-notebook-cell:/home/imami/watermodel/10_11/inter.ipynb#X14sZmlsZQ%3D%3D?line=1'>2</a>\u001b[0m in_channels \u001b[39m=\u001b[39m graphs_cpu[\u001b[39m0\u001b[39m]\u001b[39m.\u001b[39mnum_features\n\u001b[1;32m      <a href='vscode-notebook-cell:/home/imami/watermodel/10_11/inter.ipynb#X14sZmlsZQ%3D%3D?line=2'>3</a>\u001b[0m out_channels \u001b[39m=\u001b[39m \u001b[39m5\u001b[39m\n\u001b[1;32m      <a href='vscode-notebook-cell:/home/imami/watermodel/10_11/inter.ipynb#X14sZmlsZQ%3D%3D?line=3'>4</a>\u001b[0m lr \u001b[39m=\u001b[39m \u001b[39m1e-4\u001b[39m\n",
      "\u001b[0;31mNameError\u001b[0m: name 'graphs_cpu' is not defined"
     ]
    }
   ],
   "source": [
    "import os\n",
    "in_channels = graphs_cpu[0].num_features\n",
    "out_channels = 5\n",
    "lr = 1e-4\n",
    "n_epochs = 400\n",
    "batch_size=64\n",
    "test_train_split = 0.8\n",
    "model_name = \"LOCAL_Classifier.pt\"\n",
    "model_loaded = False\n",
    "force_train = True\n",
    "device = torch.device('cuda' if torch.cuda.is_available() else 'cpu')\n",
    "\n",
    "if os.path.exists(\"./\"+model_name) and not force_train:\n",
    "    model = torch.load(\"./\"+model_name)\n",
    "    model_loaded = True\n",
    "else:\n",
    "    model = VGAE_S2(VariationalGCNEncoder_S2(in_channels, out_channels,batch_size,n_neigh+1),\n",
    "                    VariationalGCNDecoder_S2(out_channels, in_channels,batch_size,n_neigh+1))\n",
    "\n",
    "model = model.to(device)\n",
    "model = model.double()\n",
    "# optimizer = torch.optim.SGD(model.parameters(), lr=0.1, momentum=0.9)\n",
    "\n",
    "optimizer = torch.optim.Adam(model.parameters(), lr=lr)\n",
    "scheduler = lr_scheduler.StepLR(optimizer, step_size=300, gamma=0.5)\n"
   ]
  },
  {
   "cell_type": "code",
   "execution_count": null,
   "metadata": {},
   "outputs": [
    {
     "ename": "NameError",
     "evalue": "name 'graphs_cpu' is not defined",
     "output_type": "error",
     "traceback": [
      "\u001b[0;31m---------------------------------------------------------------------------\u001b[0m",
      "\u001b[0;31mNameError\u001b[0m                                 Traceback (most recent call last)",
      "\u001b[1;32m/home/imami/watermodel/10_11/inter.ipynb Cell 13\u001b[0m line \u001b[0;36m2\n\u001b[1;32m      <a href='vscode-notebook-cell:/home/imami/watermodel/10_11/inter.ipynb#X15sZmlsZQ%3D%3D?line=0'>1</a>\u001b[0m graphs_device \u001b[39m=\u001b[39m []\n\u001b[0;32m----> <a href='vscode-notebook-cell:/home/imami/watermodel/10_11/inter.ipynb#X15sZmlsZQ%3D%3D?line=1'>2</a>\u001b[0m \u001b[39mfor\u001b[39;00m graph \u001b[39min\u001b[39;00m tqdm(graphs_cpu):\n\u001b[1;32m      <a href='vscode-notebook-cell:/home/imami/watermodel/10_11/inter.ipynb#X15sZmlsZQ%3D%3D?line=2'>3</a>\u001b[0m     graphs_device\u001b[39m.\u001b[39mappend(graph\u001b[39m.\u001b[39mto(device))\n",
      "\u001b[0;31mNameError\u001b[0m: name 'graphs_cpu' is not defined"
     ]
    }
   ],
   "source": [
    "graphs_device = []\n",
    "for graph in tqdm(graphs_cpu):\n",
    "    graphs_device.append(graph.to(device))"
   ]
  },
  {
   "cell_type": "code",
   "execution_count": null,
   "metadata": {},
   "outputs": [],
   "source": [
    "graphs = graphs_device\n",
    "total_graphs = len(graphs)"
   ]
  },
  {
   "cell_type": "code",
   "execution_count": null,
   "metadata": {},
   "outputs": [
    {
     "ename": "NameError",
     "evalue": "name 'device' is not defined",
     "output_type": "error",
     "traceback": [
      "\u001b[0;31m---------------------------------------------------------------------------\u001b[0m",
      "\u001b[0;31mNameError\u001b[0m                                 Traceback (most recent call last)",
      "\u001b[1;32m/home/imami/watermodel/10_11/inter.ipynb Cell 15\u001b[0m line \u001b[0;36m1\n\u001b[0;32m----> <a href='vscode-notebook-cell:/home/imami/watermodel/10_11/inter.ipynb#X20sZmlsZQ%3D%3D?line=0'>1</a>\u001b[0m \u001b[39mprint\u001b[39m(\u001b[39m\"\u001b[39m\u001b[39mUsing:\u001b[39m\u001b[39m\"\u001b[39m,device )\n\u001b[1;32m      <a href='vscode-notebook-cell:/home/imami/watermodel/10_11/inter.ipynb#X20sZmlsZQ%3D%3D?line=1'>2</a>\u001b[0m \u001b[39mprint\u001b[39m(\u001b[39m\"\u001b[39m\u001b[39mtotal_graphs:\u001b[39m\u001b[39m\"\u001b[39m, total_graphs)\n\u001b[1;32m      <a href='vscode-notebook-cell:/home/imami/watermodel/10_11/inter.ipynb#X20sZmlsZQ%3D%3D?line=2'>3</a>\u001b[0m \u001b[39mprint\u001b[39m(\u001b[39m\"\u001b[39m\u001b[39mbatch Size:\u001b[39m\u001b[39m\"\u001b[39m , batch_size)\n",
      "\u001b[0;31mNameError\u001b[0m: name 'device' is not defined"
     ]
    }
   ],
   "source": [
    "print(\"Using:\",device )\n",
    "print(\"total_graphs:\", total_graphs)\n",
    "print(\"batch Size:\" , batch_size)\n",
    "print(\"number of batches:\",total_graphs//batch_size)\n",
    "print(\"Neighbours:\",n_neigh)\n",
    "print(\"Model\\n\",model)"
   ]
  },
  {
   "cell_type": "code",
   "execution_count": null,
   "metadata": {},
   "outputs": [
    {
     "ename": "NameError",
     "evalue": "name 'test_train_split' is not defined",
     "output_type": "error",
     "traceback": [
      "\u001b[0;31m---------------------------------------------------------------------------\u001b[0m",
      "\u001b[0;31mNameError\u001b[0m                                 Traceback (most recent call last)",
      "\u001b[1;32m/home/imami/watermodel/10_11/inter.ipynb Cell 16\u001b[0m line \u001b[0;36m1\n\u001b[0;32m----> <a href='vscode-notebook-cell:/home/imami/watermodel/10_11/inter.ipynb#X21sZmlsZQ%3D%3D?line=0'>1</a>\u001b[0m split \u001b[39m=\u001b[39m \u001b[39mint\u001b[39m(test_train_split \u001b[39m*\u001b[39m total_graphs)\n\u001b[1;32m      <a href='vscode-notebook-cell:/home/imami/watermodel/10_11/inter.ipynb#X21sZmlsZQ%3D%3D?line=2'>3</a>\u001b[0m train_loader \u001b[39m=\u001b[39m DataLoader(graphs[:split], batch_size\u001b[39m=\u001b[39mbatch_size, shuffle\u001b[39m=\u001b[39m\u001b[39mTrue\u001b[39;00m)\n\u001b[1;32m      <a href='vscode-notebook-cell:/home/imami/watermodel/10_11/inter.ipynb#X21sZmlsZQ%3D%3D?line=3'>4</a>\u001b[0m test_loader \u001b[39m=\u001b[39m DataLoader(graphs[split:], batch_size\u001b[39m=\u001b[39mbatch_size, shuffle\u001b[39m=\u001b[39m\u001b[39mTrue\u001b[39;00m)\n",
      "\u001b[0;31mNameError\u001b[0m: name 'test_train_split' is not defined"
     ]
    }
   ],
   "source": [
    "split = int(test_train_split * total_graphs)\n",
    "\n",
    "train_loader = DataLoader(graphs[:split], batch_size=batch_size, shuffle=True)\n",
    "test_loader = DataLoader(graphs[split:], batch_size=batch_size, shuffle=True)"
   ]
  },
  {
   "cell_type": "code",
   "execution_count": null,
   "metadata": {},
   "outputs": [],
   "source": [
    "cross_entropy_loss = torch.nn.CrossEntropyLoss()\n",
    "MSE_loss = torch.nn.MSELoss()\n",
    "\n",
    "def train():\n",
    "    model.train()\n",
    "    model.zero_grad()\n",
    "    all_loss_mse = 0\n",
    "    for data in train_loader:\n",
    "        optimizer.zero_grad()\n",
    "        \n",
    "        z,encoded_edge_index = model.encode(data.x, data.edge_index)\n",
    "        decoded_x, decoded_edge_index = model.decode(z, encoded_edge_index)\n",
    "\n",
    "        \n",
    "        loss = MSE_loss(decoded_x, data.x)\n",
    "\n",
    "\n",
    "        loss.backward()\n",
    "        all_loss_mse += float(loss)\n",
    "        optimizer.step()\n",
    "\n",
    "\n",
    "    return all_loss_mse/len(train_loader)"
   ]
  },
  {
   "cell_type": "code",
   "execution_count": null,
   "metadata": {},
   "outputs": [],
   "source": [
    "def test():\n",
    "    model.eval()\n",
    "    model.zero_grad()\n",
    "    all_loss_mse = 0\n",
    "    for data in test_loader:\n",
    "        optimizer.zero_grad()\n",
    "        z,encoded_edge_index = model.encode(data.x, data.edge_index)\n",
    "        decoded_x, decoded_edge_index = model.decode(z, encoded_edge_index)\n",
    "\n",
    "        loss = MSE_loss(decoded_x, data.x)\n",
    "\n",
    "        all_loss_mse += float(loss)\n",
    "\n",
    "\n",
    "    return all_loss_mse/len(test_loader)"
   ]
  },
  {
   "cell_type": "code",
   "execution_count": null,
   "metadata": {},
   "outputs": [
    {
     "ename": "NameError",
     "evalue": "name 'model_loaded' is not defined",
     "output_type": "error",
     "traceback": [
      "\u001b[0;31m---------------------------------------------------------------------------\u001b[0m",
      "\u001b[0;31mNameError\u001b[0m                                 Traceback (most recent call last)",
      "\u001b[1;32m/home/imami/watermodel/10_11/inter.ipynb Cell 19\u001b[0m line \u001b[0;36m4\n\u001b[1;32m      <a href='vscode-notebook-cell:/home/imami/watermodel/10_11/inter.ipynb#X24sZmlsZQ%3D%3D?line=0'>1</a>\u001b[0m train_losses \u001b[39m=\u001b[39m []\n\u001b[1;32m      <a href='vscode-notebook-cell:/home/imami/watermodel/10_11/inter.ipynb#X24sZmlsZQ%3D%3D?line=1'>2</a>\u001b[0m test_losses \u001b[39m=\u001b[39m []\n\u001b[0;32m----> <a href='vscode-notebook-cell:/home/imami/watermodel/10_11/inter.ipynb#X24sZmlsZQ%3D%3D?line=3'>4</a>\u001b[0m \u001b[39mif\u001b[39;00m model_loaded:\n\u001b[1;32m      <a href='vscode-notebook-cell:/home/imami/watermodel/10_11/inter.ipynb#X24sZmlsZQ%3D%3D?line=4'>5</a>\u001b[0m     \u001b[39mprint\u001b[39m(\u001b[39m\"\u001b[39m\u001b[39mPretrained Model Loaded, no training required\u001b[39m\u001b[39m\"\u001b[39m)\n\u001b[1;32m      <a href='vscode-notebook-cell:/home/imami/watermodel/10_11/inter.ipynb#X24sZmlsZQ%3D%3D?line=5'>6</a>\u001b[0m \u001b[39melse\u001b[39;00m:\n",
      "\u001b[0;31mNameError\u001b[0m: name 'model_loaded' is not defined"
     ]
    }
   ],
   "source": [
    "train_losses = []\n",
    "test_losses = []\n",
    "\n",
    "if model_loaded:\n",
    "    print(\"Pretrained Model Loaded, no training required\")\n",
    "else:\n",
    "    for epoch in range(1, n_epochs + 1):\n",
    "\n",
    "        train_loss_mse = train()\n",
    "        test_loss_mse = test()\n",
    "\n",
    "        print(f\"Epoch: {epoch:03d}\")\n",
    "        print(f'\\tTrain:\\tMSE Loss: {train_loss_mse:.4f}')\n",
    "        print(f'\\tTest: \\tMSE Loss: {test_loss_mse:.4f}')\n",
    "\n",
    "        train_losses.append([train_loss_mse]);\n",
    "        test_losses.append([test_loss_mse]);\n",
    "\n",
    "        scheduler.step()\n",
    "    torch.save(model,\"./\"+model_name)"
   ]
  },
  {
   "cell_type": "code",
   "execution_count": null,
   "metadata": {},
   "outputs": [
    {
     "ename": "NameError",
     "evalue": "name 'model_loaded' is not defined",
     "output_type": "error",
     "traceback": [
      "\u001b[0;31m---------------------------------------------------------------------------\u001b[0m",
      "\u001b[0;31mNameError\u001b[0m                                 Traceback (most recent call last)",
      "\u001b[1;32m/home/imami/watermodel/10_11/inter.ipynb Cell 20\u001b[0m line \u001b[0;36m1\n\u001b[0;32m----> <a href='vscode-notebook-cell:/home/imami/watermodel/10_11/inter.ipynb#X25sZmlsZQ%3D%3D?line=0'>1</a>\u001b[0m \u001b[39mif\u001b[39;00m \u001b[39mnot\u001b[39;00m model_loaded:\n\u001b[1;32m      <a href='vscode-notebook-cell:/home/imami/watermodel/10_11/inter.ipynb#X25sZmlsZQ%3D%3D?line=1'>2</a>\u001b[0m     plt\u001b[39m.\u001b[39mfigure()\n\u001b[1;32m      <a href='vscode-notebook-cell:/home/imami/watermodel/10_11/inter.ipynb#X25sZmlsZQ%3D%3D?line=2'>3</a>\u001b[0m     plt\u001b[39m.\u001b[39mplot(test_losses, label\u001b[39m=\u001b[39m\u001b[39m'\u001b[39m\u001b[39mTotal Test Loss\u001b[39m\u001b[39m'\u001b[39m)\n",
      "\u001b[0;31mNameError\u001b[0m: name 'model_loaded' is not defined"
     ]
    }
   ],
   "source": [
    "if not model_loaded:\n",
    "    plt.figure()\n",
    "    plt.plot(test_losses, label='Total Test Loss')\n",
    "    plt.plot(train_losses, label='Total Train Loss')\n",
    "    plt.legend()\n",
    "    plt.title('Total Loss')\n",
    "    plt.show()"
   ]
  },
  {
   "cell_type": "code",
   "execution_count": null,
   "metadata": {},
   "outputs": [
    {
     "ename": "NameError",
     "evalue": "name 'graphs_cry_cpu' is not defined",
     "output_type": "error",
     "traceback": [
      "\u001b[0;31m---------------------------------------------------------------------------\u001b[0m",
      "\u001b[0;31mNameError\u001b[0m                                 Traceback (most recent call last)",
      "\u001b[1;32m/home/imami/watermodel/10_11/inter.ipynb Cell 21\u001b[0m line \u001b[0;36m1\n\u001b[0;32m----> <a href='vscode-notebook-cell:/home/imami/watermodel/10_11/inter.ipynb#X26sZmlsZQ%3D%3D?line=0'>1</a>\u001b[0m test_loader_cry \u001b[39m=\u001b[39m DataLoader(graphs_cry_cpu[::\u001b[39m100\u001b[39m], batch_size\u001b[39m=\u001b[39m\u001b[39m1\u001b[39m)\n\u001b[1;32m      <a href='vscode-notebook-cell:/home/imami/watermodel/10_11/inter.ipynb#X26sZmlsZQ%3D%3D?line=1'>2</a>\u001b[0m pred_cry\u001b[39m=\u001b[39m[]\n\u001b[1;32m      <a href='vscode-notebook-cell:/home/imami/watermodel/10_11/inter.ipynb#X26sZmlsZQ%3D%3D?line=2'>3</a>\u001b[0m \u001b[39mfor\u001b[39;00m data \u001b[39min\u001b[39;00m tqdm(test_loader_cry):\n",
      "\u001b[0;31mNameError\u001b[0m: name 'graphs_cry_cpu' is not defined"
     ]
    }
   ],
   "source": [
    "test_loader_cry = DataLoader(graphs_cry_cpu[::100], batch_size=1)\n",
    "pred_cry=[]\n",
    "for data in tqdm(test_loader_cry):\n",
    "    model.eval()\n",
    "    data = data.to(device)\n",
    "    pred = model(data.x.float(),data.edge_index)\n",
    "    pred_cry.append(pred.cpu().detach().numpy())\n",
    "\n",
    "pred_cry = np.array(pred_cry)\n"
   ]
  },
  {
   "cell_type": "code",
   "execution_count": null,
   "metadata": {},
   "outputs": [
    {
     "ename": "NameError",
     "evalue": "name 'test_loader_melt' is not defined",
     "output_type": "error",
     "traceback": [
      "\u001b[0;31m---------------------------------------------------------------------------\u001b[0m",
      "\u001b[0;31mNameError\u001b[0m                                 Traceback (most recent call last)",
      "\u001b[1;32m/home/imami/watermodel/10_11/inter.ipynb Cell 22\u001b[0m line \u001b[0;36m3\n\u001b[1;32m      <a href='vscode-notebook-cell:/home/imami/watermodel/10_11/inter.ipynb#X30sZmlsZQ%3D%3D?line=0'>1</a>\u001b[0m \u001b[39mfrom\u001b[39;00m \u001b[39msklearn\u001b[39;00m\u001b[39m.\u001b[39;00m\u001b[39mmetrics\u001b[39;00m \u001b[39mimport\u001b[39;00m confusion_matrix, ConfusionMatrixDisplay\n\u001b[0;32m----> <a href='vscode-notebook-cell:/home/imami/watermodel/10_11/inter.ipynb#X30sZmlsZQ%3D%3D?line=2'>3</a>\u001b[0m y_test \u001b[39m=\u001b[39m test_loader_melt\n\u001b[1;32m      <a href='vscode-notebook-cell:/home/imami/watermodel/10_11/inter.ipynb#X30sZmlsZQ%3D%3D?line=3'>4</a>\u001b[0m cm \u001b[39m=\u001b[39m confusion_matrix(y_test, predictions)\n\u001b[1;32m      <a href='vscode-notebook-cell:/home/imami/watermodel/10_11/inter.ipynb#X30sZmlsZQ%3D%3D?line=4'>5</a>\u001b[0m ConfusionMatrixDisplay(cm)\u001b[39m.\u001b[39mplot()\n",
      "\u001b[0;31mNameError\u001b[0m: name 'test_loader_melt' is not defined"
     ]
    }
   ],
   "source": [
    "from sklearn.metrics import confusion_matrix, ConfusionMatrixDisplay\n",
    "\n",
    "y_test = test_loader_melt\n",
    "cm = confusion_matrix(y_test, predictions)\n",
    "ConfusionMatrixDisplay(cm).plot()\n"
   ]
  },
  {
   "cell_type": "code",
   "execution_count": null,
   "metadata": {},
   "outputs": [
    {
     "ename": "NameError",
     "evalue": "name 'pred_melt' is not defined",
     "output_type": "error",
     "traceback": [
      "\u001b[0;31m---------------------------------------------------------------------------\u001b[0m",
      "\u001b[0;31mNameError\u001b[0m                                 Traceback (most recent call last)",
      "\u001b[1;32m/home/imami/watermodel/10_11/inter.ipynb Cell 23\u001b[0m line \u001b[0;36m4\n\u001b[1;32m      <a href='vscode-notebook-cell:/home/imami/watermodel/10_11/inter.ipynb#X31sZmlsZQ%3D%3D?line=0'>1</a>\u001b[0m \u001b[39m# %matplotlib widget\u001b[39;00m\n\u001b[1;32m      <a href='vscode-notebook-cell:/home/imami/watermodel/10_11/inter.ipynb#X31sZmlsZQ%3D%3D?line=2'>3</a>\u001b[0m fig \u001b[39m=\u001b[39m plt\u001b[39m.\u001b[39mfigure(figsize\u001b[39m=\u001b[39m(\u001b[39m15\u001b[39m,\u001b[39m4\u001b[39m))\n\u001b[0;32m----> <a href='vscode-notebook-cell:/home/imami/watermodel/10_11/inter.ipynb#X31sZmlsZQ%3D%3D?line=3'>4</a>\u001b[0m data_melt \u001b[39m=\u001b[39m pred_melt\n\u001b[1;32m      <a href='vscode-notebook-cell:/home/imami/watermodel/10_11/inter.ipynb#X31sZmlsZQ%3D%3D?line=4'>5</a>\u001b[0m data_cry \u001b[39m=\u001b[39m pred_cry\n\u001b[1;32m      <a href='vscode-notebook-cell:/home/imami/watermodel/10_11/inter.ipynb#X31sZmlsZQ%3D%3D?line=6'>7</a>\u001b[0m plt\u001b[39m.\u001b[39mscatter(data_melt[:,\u001b[39m0\u001b[39m],data_melt[:,\u001b[39m1\u001b[39m],c\u001b[39m=\u001b[39m\u001b[39m\"\u001b[39m\u001b[39mr\u001b[39m\u001b[39m\"\u001b[39m,label\u001b[39m=\u001b[39m\u001b[39m\"\u001b[39m\u001b[39mmelt\u001b[39m\u001b[39m\"\u001b[39m)\n",
      "\u001b[0;31mNameError\u001b[0m: name 'pred_melt' is not defined"
     ]
    },
    {
     "data": {
      "text/plain": [
       "<Figure size 1500x400 with 0 Axes>"
      ]
     },
     "metadata": {},
     "output_type": "display_data"
    }
   ],
   "source": [
    "# %matplotlib widget\n",
    "\n",
    "fig = plt.figure(figsize=(15,4))\n",
    "data_melt = pred_melt\n",
    "data_cry = pred_cry\n",
    "\n",
    "plt.scatter(data_melt[:,0],data_melt[:,1],c=\"r\",label=\"melt\")\n",
    "plt.scatter(data_cry[:,0],data_cry[:,1],c=\"b\",label=\"crystal\")\n",
    "plt.legend()\n",
    "plt.show()"
   ]
  },
  {
   "cell_type": "code",
   "execution_count": null,
   "metadata": {},
   "outputs": [],
   "source": [
    "n_sample = 1000\n",
    "n_class = 2\n",
    "n_1 = 1000\n",
    "n_2 = 1000"
   ]
  },
  {
   "cell_type": "code",
   "execution_count": null,
   "metadata": {},
   "outputs": [],
   "source": []
  }
 ],
 "metadata": {
  "kernelspec": {
   "display_name": "3dpytorch",
   "language": "python",
   "name": "python3"
  },
  "language_info": {
   "codemirror_mode": {
    "name": "ipython",
    "version": 3
   },
   "file_extension": ".py",
   "mimetype": "text/x-python",
   "name": "python",
   "nbconvert_exporter": "python",
   "pygments_lexer": "ipython3",
   "version": "3.11.4"
  }
 },
 "nbformat": 4,
 "nbformat_minor": 2
}
