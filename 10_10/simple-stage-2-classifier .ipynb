{
 "cells": [
  {
   "cell_type": "code",
   "execution_count": 1,
   "metadata": {
    "colab": {
     "base_uri": "https://localhost:8080/"
    },
    "id": "o-_pm_pztrnu",
    "outputId": "23e8447d-6071-40c5-9804-69e0ea2a5478"
   },
   "outputs": [],
   "source": [
    "# !pip install mdtraj ase nglview"
   ]
  },
  {
   "cell_type": "code",
   "execution_count": 2,
   "metadata": {
    "colab": {
     "base_uri": "https://localhost:8080/"
    },
    "id": "ODY_qKINuV4n",
    "outputId": "ae0aefdd-e526-4a2a-dda3-1b0c74ddede4"
   },
   "outputs": [],
   "source": [
    "# import os\n",
    "# import torch\n",
    "# os.environ['TORCH'] = torch.__version__\n",
    "# print(torch.__version__)\n",
    "\n",
    "# !pip install -q torch-scatter -f https://data.pyg.org/whl/torch-${TORCH}.html\n",
    "# !pip install -q torch-sparse -f https://data.pyg.org/whl/torch-${TORCH}.html\n",
    "# !pip install -q git+https://github.com/pyg-team/pytorch_geometric.git"
   ]
  },
  {
   "cell_type": "code",
   "execution_count": 3,
   "metadata": {
    "colab": {
     "base_uri": "https://localhost:8080/",
     "height": 17,
     "referenced_widgets": [
      "53891150d6cf43b18e61ee33a7bc07be"
     ]
    },
    "id": "tc2vX9TvtqW3",
    "outputId": "d857173a-4b10-4c46-f526-5b15048b9d34"
   },
   "outputs": [
    {
     "data": {
      "application/vnd.jupyter.widget-view+json": {
       "model_id": "d5921f1ce02c404e8b1a2e0cdd717334",
       "version_major": 2,
       "version_minor": 0
      },
      "text/plain": []
     },
     "metadata": {},
     "output_type": "display_data"
    },
    {
     "name": "stderr",
     "output_type": "stream",
     "text": [
      "\n",
      "Bad key \"text.kerning_factor\" on line 4 in\n",
      "/home2/naval.s/anaconda3/envs/GAENN/lib/python3.7/site-packages/matplotlib/mpl-data/stylelib/_classic_test_patch.mplstyle.\n",
      "You probably need to get an updated matplotlibrc file from\n",
      "http://github.com/matplotlib/matplotlib/blob/master/matplotlibrc.template\n",
      "or from the matplotlib source distribution\n"
     ]
    }
   ],
   "source": [
    "import mdtraj as md\n",
    "from ase import Atoms\n",
    "import nglview as nv\n",
    "import networkx as nx\n",
    "\n",
    "import numpy as np\n",
    "import matplotlib.pyplot as plt\n",
    "import torch\n",
    "from tqdm import tqdm\n",
    "\n",
    "import torch_geometric.transforms as T\n",
    "from torch_geometric.loader import DataLoader\n",
    "from torch_geometric.nn import GCNConv, SAGPooling, InnerProductDecoder\n",
    "import torch_geometric.data as data\n",
    "from torch_geometric.utils.convert import to_networkx\n",
    "import torch.optim.lr_scheduler as lr_scheduler\n",
    "from torch.nn import Linear\n",
    "import sys\n",
    "import os\n",
    "import time\n",
    "from torch_geometric.nn import global_mean_pool as gap, global_max_pool as gmp\n",
    "from torch_geometric.nn import TransformerConv, GATConv, TopKPooling, BatchNorm\n",
    "\n",
    "import torch.nn.functional as F\n",
    "from torch_geometric.transforms import pad\n"
   ]
  },
  {
   "cell_type": "code",
   "execution_count": 4,
   "metadata": {},
   "outputs": [],
   "source": [
    "n_frames,n_atoms,n_mols = (0,0,0)\n",
    "n_neigh = 15"
   ]
  },
  {
   "cell_type": "code",
   "execution_count": 5,
   "metadata": {},
   "outputs": [],
   "source": [
    "from typing import Optional, Tuple \n",
    "\n",
    "import torch\n",
    "from torch import Tensor\n",
    "from torch.nn import Module\n",
    "\n",
    "from torch_geometric.nn.inits import reset\n",
    "from torch_geometric.utils import negative_sampling\n",
    "\n",
    "EPS = 1e-15\n",
    "MAX_LOGSTD = 10\n",
    "\n",
    "\n",
    "class InnerProductDecoder(torch.nn.Module):\n",
    "    r\"\"\"The inner product decoder from the `\"Variational Graph Auto-Encoders\"\n",
    "    <https://arxiv.org/abs/1611.07308>`_ paper\n",
    "\n",
    "    .. math::\n",
    "        \\sigma(\\mathbf{Z}\\mathbf{Z}^{\\top})\n",
    "\n",
    "    where :math:`\\mathbf{Z} \\in \\mathbb{R}^{N \\times d}` denotes the latent\n",
    "    space produced by the encoder.\"\"\"\n",
    "\n",
    "    def forward(self, z: Tensor, edge_index: Tensor,\n",
    "                sigmoid: bool = True) -> Tensor:\n",
    "        r\"\"\"Decodes the latent variables :obj:`z` into edge probabilities for\n",
    "        the given node-pairs :obj:`edge_index`.\n",
    "\n",
    "        Args:\n",
    "            z (torch.Tensor): The latent space :math:`\\mathbf{Z}`.\n",
    "            sigmoid (bool, optional): If set to :obj:`False`, does not apply\n",
    "                the logistic sigmoid function to the output.\n",
    "                (default: :obj:`True`)\n",
    "        \"\"\"\n",
    "        value = (z[edge_index[0]] * z[edge_index[1]]).sum(dim=1)\n",
    "        return torch.sigmoid(value) if sigmoid else value\n",
    "\n",
    "    def forward_all(self, z: Tensor, sigmoid: bool = True) -> Tensor:\n",
    "        r\"\"\"Decodes the latent variables :obj:`z` into a probabilistic dense\n",
    "        adjacency matrix.\n",
    "\n",
    "        Args:\n",
    "            z (torch.Tensor): The latent space :math:`\\mathbf{Z}`.\n",
    "            sigmoid (bool, optional): If set to :obj:`False`, does not apply\n",
    "                the logistic sigmoid function to the output.\n",
    "                (default: :obj:`True`)\n",
    "        \"\"\"\n",
    "        adj = torch.matmul(z, z.t())\n",
    "        return torch.sigmoid(adj) if sigmoid else adj\n",
    "\n",
    "\n",
    "class GAE(torch.nn.Module):\n",
    "    r\"\"\"The Graph Auto-Encoder model from the\n",
    "    `\"Variational Graph Auto-Encoders\" <https://arxiv.org/abs/1611.07308>`_\n",
    "    paper based on user-defined encoder and decoder models.\n",
    "\n",
    "    Args:\n",
    "        encoder (torch.nn.Module): The encoder module.\n",
    "        decoder (torch.nn.Module, optional): The decoder module. If set to\n",
    "            :obj:`None`, will default to the\n",
    "            :class:`torch_geometric.nn.models.InnerProductDecoder`.\n",
    "            (default: :obj:`None`)\n",
    "    \"\"\"\n",
    "\n",
    "    def __init__(self, encoder: Module, decoder: Optional[Module] = None):\n",
    "        super().__init__()\n",
    "        self.encoder = encoder\n",
    "        self.decoder = InnerProductDecoder() if decoder is None else decoder\n",
    "        GAE.reset_parameters(self)\n",
    "\n",
    "    def reset_parameters(self):\n",
    "        r\"\"\"Resets all learnable parameters of the module.\"\"\"\n",
    "        reset(self.encoder)\n",
    "        reset(self.decoder)\n",
    "\n",
    "    def forward(self, *args, **kwargs) -> Tensor:  # pragma: no cover\n",
    "        r\"\"\"Alias for :meth:`encode`.\"\"\"\n",
    "        return self.encoder(*args, **kwargs)\n",
    "\n",
    "    def encode(self, *args, **kwargs) -> Tensor:\n",
    "        r\"\"\"Runs the encoder and computes node-wise latent variables.\"\"\"\n",
    "        return self.encoder(*args, **kwargs)\n",
    "\n",
    "    def decode(self, *args, **kwargs) -> Tensor:\n",
    "        r\"\"\"Runs the decoder and computes edge probabilities.\"\"\"\n",
    "        return self.decoder(*args, **kwargs)\n",
    "\n",
    "    def recon_loss(self, z: Tensor, pos_edge_index: Tensor,\n",
    "                   neg_edge_index: Optional[Tensor] = None) -> Tensor:\n",
    "        r\"\"\"Given latent variables :obj:`z`, computes the binary cross\n",
    "        entropy loss for positive edges :obj:`pos_edge_index` and negative\n",
    "        sampled edges.\n",
    "\n",
    "        Args:\n",
    "            z (torch.Tensor): The latent space :math:`\\mathbf{Z}`.\n",
    "            pos_edge_index (torch.Tensor): The positive edges to train against.\n",
    "            neg_edge_index (torch.Tensor, optional): The negative edges to\n",
    "                train against. If not given, uses negative sampling to\n",
    "                calculate negative edges. (default: :obj:`None`)\n",
    "        \"\"\"\n",
    "        pos_loss = -torch.log(\n",
    "            self.decoder(z, pos_edge_index, sigmoid=True)[0] + EPS).mean()\n",
    "\n",
    "        if neg_edge_index is None:\n",
    "            neg_edge_index = negative_sampling(pos_edge_index, z.size(0))\n",
    "        neg_loss = -torch.log(1 -\n",
    "                              self.decoder(z, neg_edge_index.long(), sigmoid=True)[0] +\n",
    "                              EPS).mean()\n",
    "\n",
    "        return pos_loss + neg_loss\n",
    "\n",
    "    def test(self, z: Tensor, pos_edge_index: Tensor,\n",
    "             neg_edge_index: Tensor) -> Tuple[Tensor, Tensor]:\n",
    "        r\"\"\"Given latent variables :obj:`z`, positive edges\n",
    "        :obj:`pos_edge_index` and negative edges :obj:`neg_edge_index`,\n",
    "        computes area under the ROC curve (AUC) and average precision (AP)\n",
    "        \n",
    "        scores.\n",
    "\n",
    "        Args:\n",
    "            z (torch.Tensor): The latent space :math:`\\mathbf{Z}`.\n",
    "            pos_edge_index (torch.Tensor): The positive edges to evaluate\n",
    "                against.\n",
    "            neg_edge_index (torch.Tensor): The negative edges to evaluate\n",
    "                against.\n",
    "        \"\"\"\n",
    "        from sklearn.metrics import average_precision_score, roc_auc_score\n",
    "\n",
    "        pos_y = z.new_ones(pos_edge_index.size(1))\n",
    "        neg_y = z.new_zeros(neg_edge_index.size(1))\n",
    "        y = torch.cat([pos_y, neg_y], dim=0)\n",
    "\n",
    "        pos_pred = self.decoder(z, pos_edge_index, sigmoid=True)\n",
    "        neg_pred = self.decoder(z, neg_edge_index, sigmoid=True)\n",
    "        pred = torch.cat([pos_pred, neg_pred], dim=0)\n",
    "\n",
    "        y, pred = y.detach().cpu().numpy(), pred.detach().cpu().numpy()\n",
    "\n",
    "        return roc_auc_score(y, pred), average_precision_score(y, pred)\n",
    "\n",
    "\n",
    "class VGAE(GAE):\n",
    "    r\"\"\"The Variational Graph Auto-Encoder model from the\n",
    "    `\"Variational Graph Auto-Encoders\" <https://arxiv.org/abs/1611.07308>`_\n",
    "    paper.\n",
    "\n",
    "    Args:\n",
    "        encoder (torch.nn.Module): The encoder module to compute :math:`\\mu`\n",
    "            and :math:`\\log\\sigma^2`.\n",
    "        decoder (torch.nn.Module, optional): The decoder module. If set to\n",
    "            :obj:`None`, will default to the\n",
    "            :class:`torch_geometric.nn.models.InnerProductDecoder`.\n",
    "            (default: :obj:`None`)\n",
    "    \"\"\"\n",
    "\n",
    "    def __init__(self, encoder: Module, decoder: Optional[Module] = None):\n",
    "        super().__init__(encoder, decoder)\n",
    "\n",
    "    def reparametrize(self, mu: Tensor, logstd: Tensor) -> Tensor:\n",
    "        if self.training:\n",
    "            return mu + torch.randn_like(logstd) * torch.exp(logstd)\n",
    "        else:\n",
    "            return mu\n",
    "\n",
    "    def encode(self, *args, **kwargs) -> Tensor:\n",
    "        \"\"\"\"\"\"\n",
    "        self.__mu__, self.__logstd__, self.edge_index = self.encoder(\n",
    "            *args, **kwargs)\n",
    "        self.__logstd__ = self.__logstd__.clamp(max=MAX_LOGSTD)\n",
    "        z = self.reparametrize(self.__mu__, self.__logstd__)\n",
    "        return z, self.edge_index\n",
    "\n",
    "    def kl_loss(self, mu: Optional[Tensor] = None,\n",
    "                logstd: Optional[Tensor] = None) -> Tensor:\n",
    "        r\"\"\"Computes the KL loss, either for the passed arguments :obj:`mu`\n",
    "        and :obj:`logstd`, or based on latent variables from last encoding.\n",
    "\n",
    "        Args:\n",
    "            mu (torch.Tensor, optional): The latent space for :math:`\\mu`. If\n",
    "                set to :obj:`None`, uses the last computation of :math:`\\mu`.\n",
    "                (default: :obj:`None`)\n",
    "            logstd (torch.Tensor, optional): The latent space for\n",
    "                :math:`\\log\\sigma`.  If set to :obj:`None`, uses the last\n",
    "                computation of :math:`\\log\\sigma^2`. (default: :obj:`None`)\n",
    "        \"\"\"\n",
    "        mu = self.__mu__ if mu is None else mu\n",
    "        logstd = self.__logstd__ if logstd is None else logstd.clamp(\n",
    "            max=MAX_LOGSTD)\n",
    "        return -0.5 * torch.mean(\n",
    "            torch.sum(1 + 2 * logstd - mu**2 - logstd.exp()**2, dim=1))\n"
   ]
  },
  {
   "cell_type": "code",
   "execution_count": 6,
   "metadata": {},
   "outputs": [],
   "source": [
    "class VariationalGCNEncoder(torch.nn.Module):\n",
    "    def __init__(self, in_channels, out_channels,batch_size,n_atoms):\n",
    "        \n",
    "        self.embedding_size1 = 15\n",
    "        self.embedding_size2 = 9\n",
    "        self.linear_size1 = 100\n",
    "        self.linear_size2 = 4\n",
    "        \n",
    "        self.batch_size = batch_size\n",
    "        self.n_atoms = n_atoms\n",
    "        self.in_channels = in_channels\n",
    "        self.out_channels = out_channels\n",
    "        \n",
    "        super().__init__()\n",
    "        self.conv1 = GATConv(self.in_channels,self.embedding_size1,heads=3)\n",
    "        self.head_transform1 = Linear(self.embedding_size1*3, self.embedding_size1)\n",
    "        self.bn1 = BatchNorm(self.embedding_size1)\n",
    "        \n",
    "        self.conv2 = GCNConv(self.embedding_size1,self.embedding_size2)\n",
    "        self.bn2 = BatchNorm(self.embedding_size2)\n",
    "        \n",
    "        self.linear1 = Linear(self.embedding_size2, self.linear_size1)\n",
    "        self.linear2 = Linear(self.linear_size1,self.linear_size2)\n",
    "        \n",
    "        self.transform = Linear(self.linear_size2*self.n_atoms,self.out_channels)\n",
    "        \n",
    "        self.mu = Linear(self.out_channels, self.out_channels)\n",
    "        self.logstd = Linear(self.out_channels, self.out_channels)\n",
    "\n",
    "    def forward(self, x, edge_index):\n",
    "        self.batch_size = x.shape[0]//self.n_atoms\n",
    "        x = self.conv1(x, edge_index)\n",
    "        x = self.head_transform1(x)\n",
    "        x = self.bn1(x)\n",
    "\n",
    "        x = self.conv2(x, edge_index)\n",
    "        x = self.bn2(x)\n",
    "        \n",
    "        x = self.linear1(x)\n",
    "        x = F.leaky_relu(x)\n",
    "\n",
    "        x = self.linear2(x)\n",
    "        x = F.leaky_relu(x)\n",
    "        x = x.reshape(self.batch_size,self.n_atoms,-1)\n",
    "        x = x.reshape(self.batch_size,-1)\n",
    "        \n",
    "        x = self.transform(x)\n",
    "        x = F.leaky_relu(x)\n",
    "        \n",
    "        \n",
    "        x,y,z = self.mu(x), self.logstd(x), edge_index\n",
    "        return x,y,z\n"
   ]
  },
  {
   "cell_type": "code",
   "execution_count": 7,
   "metadata": {},
   "outputs": [],
   "source": [
    "class VariationalGCNDecoder(torch.nn.Module):\n",
    "    def __init__(self,in_channels,out_channels,batch_size,n_atoms):\n",
    "        self.embedding_size1 = 9\n",
    "        self.embedding_size2 = 3\n",
    "        self.embedding_size3 = 3\n",
    "        self.linear_size1 = 512\n",
    "        self.linear_size2 = 128\n",
    "        self.batch_size = batch_size\n",
    "        self.n_atoms = n_atoms\n",
    "        self.in_channels = in_channels\n",
    "        self.out_channels = out_channels\n",
    "\n",
    "        super().__init__()\n",
    "        self.inv_transform = Linear(self.in_channels,self.n_atoms) \n",
    "        \n",
    "        self.conv1 = GCNConv(1, self.embedding_size1)\n",
    "        self.bn1 = BatchNorm(self.embedding_size1)\n",
    "\n",
    "        self.conv2 = GCNConv(self.embedding_size1,self.embedding_size2)\n",
    "        self.bn2 = BatchNorm(self.embedding_size2)\n",
    "\n",
    "        self.conv3 = GCNConv(self.embedding_size2,self.embedding_size3)\n",
    "\n",
    "        self.linear1 = Linear(self.embedding_size3, self.linear_size1)\n",
    "        self.linear2 = Linear(self.linear_size1, self.linear_size2)\n",
    "        self.linear3 = Linear(self.linear_size2, self.out_channels)\n",
    "\n",
    "    def forward(self, x, edge_index, sigmoid=True):\n",
    "        self.batch_size = x.shape[0]//self.n_atoms\n",
    "\n",
    "        x = self.inv_transform(x)\n",
    "        x = F.leaky_relu(x)\n",
    "\n",
    "        x = x.reshape(x.shape[0]*x.shape[1],1)\n",
    "        \n",
    "        x = self.conv1(x, edge_index)\n",
    "        x = self.conv2(x, edge_index)        \n",
    "        x = self.conv3(x,edge_index)\n",
    "        \n",
    "        x = self.linear1(x)\n",
    "        x = F.leaky_relu(x)\n",
    "        x = self.linear2(x)\n",
    "        x = F.leaky_relu(x)\n",
    "        x = self.linear3(x)\n",
    "        x = F.leaky_relu(x)\n",
    "\n",
    "        \n",
    "        return x, edge_index"
   ]
  },
  {
   "cell_type": "code",
   "execution_count": 8,
   "metadata": {
    "colab": {
     "base_uri": "https://localhost:8080/"
    },
    "id": "BbeE9L5Jt0xF",
    "outputId": "c0bfc8c8-d6ef-4613-86cb-1a68d66b4dce"
   },
   "outputs": [
    {
     "data": {
      "text/plain": [
       "VGAE(\n",
       "  (encoder): VariationalGCNEncoder(\n",
       "    (conv1): GATConv(5, 15, heads=3)\n",
       "    (head_transform1): Linear(45, 15, bias=True)\n",
       "    (bn1): BatchNorm(15)\n",
       "    (conv2): GCNConv(15, 9)\n",
       "    (bn2): BatchNorm(9)\n",
       "    (linear1): Linear(9, 100, bias=True)\n",
       "    (linear2): Linear(100, 4, bias=True)\n",
       "    (transform): Linear(80, 3, bias=True)\n",
       "    (mu): Linear(3, 3, bias=True)\n",
       "    (logstd): Linear(3, 3, bias=True)\n",
       "  )\n",
       "  (decoder): VariationalGCNDecoder(\n",
       "    (inv_transform): Linear(3, 20, bias=True)\n",
       "    (conv1): GCNConv(1, 9)\n",
       "    (bn1): BatchNorm(9)\n",
       "    (conv2): GCNConv(9, 3)\n",
       "    (bn2): BatchNorm(3)\n",
       "    (conv3): GCNConv(3, 3)\n",
       "    (linear1): Linear(3, 512, bias=True)\n",
       "    (linear2): Linear(512, 128, bias=True)\n",
       "    (linear3): Linear(128, 5, bias=True)\n",
       "  )\n",
       ")"
      ]
     },
     "execution_count": 8,
     "metadata": {},
     "output_type": "execute_result"
    }
   ],
   "source": [
    "# from google.colab import drive\n",
    "# drive.mount('/content/drive')\n",
    "model_1_name = \"IntraGVAE.pt\"\n",
    "model_stage1 = torch.load(\"./models/\"+model_1_name)\n",
    "model_stage1"
   ]
  },
  {
   "cell_type": "code",
   "execution_count": 9,
   "metadata": {},
   "outputs": [],
   "source": [
    "def plotMols(features):\n",
    "    from mpl_toolkits.mplot3d import Axes3D\n",
    "    %matplotlib widget\n",
    "    xyz = features[:,-3:]\n",
    "    fig = plt.figure()\n",
    "    ax1 = fig.add_subplot(111,projection='3d')\n",
    "    ax1.scatter(xyz[:,0],xyz[:,1],xyz[:,2])\n",
    "    plt.show()"
   ]
  },
  {
   "cell_type": "code",
   "execution_count": 10,
   "metadata": {},
   "outputs": [],
   "source": [
    "def changeFrame(frame,mol_id):\n",
    "    L = [0.642130,0.642130,0.642130]    \n",
    "    features = frame[:,:3]\n",
    "    xyz = frame[:,3:]\n",
    "    xyz = xyz - xyz[mol_id]\n",
    "    xyz = xyz - np.multiply(L,np.round(xyz/L)) \n",
    "    frame_recenter = np.concatenate((features,xyz),axis=1)\n",
    "    return frame_recenter\n",
    "    "
   ]
  },
  {
   "cell_type": "code",
   "execution_count": 11,
   "metadata": {
    "id": "FmIj9qrO4lP9"
   },
   "outputs": [],
   "source": [
    "\n",
    "def condenseFrame2(frame):\n",
    "    mol_pos = []\n",
    "    edge_list = np.array([[ 0,  1,  0,  5,  0,  6,  1,  2,  1, 11,  2,  3,  2, 12,  3,  4, 3, 10,  4,  5,  4, 13,  5, 14,  6,  7,  6, 15,  7,  8,  7,  9, 9, 16,  9, 17,  9, 18, 10, 19],\n",
    "                          [ 1,  0,  5,  0,  6,  0,  2,  1, 11,  1,  3,  2, 12,  2,  4,  3, 10,  3,  5,  4, 13,  4, 14,  5,  7,  6, 15,  6,  8,  7,  9,  7, 16,  9, 17,  9, 18,  9, 19, 10]])\n",
    "\n",
    "\n",
    "\n",
    "    for mol_no,res in enumerate(frame.top.residues):\n",
    "        pos = []\n",
    "        for atom in res.atoms:\n",
    "            pos.append(frame.xyz[0][atom.index])\n",
    "        pos = np.array(pos)\n",
    "        avg_pos = np.mean(pos,axis=0)\n",
    "\n",
    "        pos = pos - pos[9]\n",
    "\n",
    "        atomic_nums = np.array([[atom.element.atomic_number for atom in res.atoms]]).T\n",
    "        vdwr = np.array([[atom.element.radius for atom in res.atoms]]).T\n",
    "        node_features = np.concatenate((pos,vdwr,atomic_nums),axis=1)\n",
    "        graph = data.Data(x=torch.from_numpy(node_features),edge_index=torch.from_numpy(edge_list)).to(\"cuda\")\n",
    "\n",
    "        encoded = model_stage1.encode(graph.x,graph.edge_index)\n",
    "\n",
    "        model_out = np.mean(encoded[0].detach().cpu().numpy(),axis=0)\n",
    "        feature = np.concatenate((model_out,avg_pos))\n",
    "            \n",
    "        mol_pos.append(feature)\n",
    "        \n",
    "    mol_pos = np.array(mol_pos)\n",
    "    \n",
    "    return mol_pos\n",
    "\n",
    "def get_graph(frame,mol_id,n_neigh,str_type):\n",
    "    neigs = getNClosest(frame,mol_id,n_neigh)\n",
    "\n",
    "    to_list = []\n",
    "    from_list = []\n",
    "    for mols_id in range(1,1+len(neigs)):\n",
    "        to_list.append(mols_id)\n",
    "        from_list.append(0)\n",
    "        \n",
    "        to_list.append(0)\n",
    "        from_list.append(mols_id)\n",
    "    \n",
    "    \n",
    "    edge_list = np.array([to_list,from_list])\n",
    "    features = np.concatenate((np.array([frame[mol_id]]),np.array(frame[neigs])),axis=0)\n",
    "    \n",
    "    if(str_type == \"cry\"):\n",
    "        graph = data.Data(x=torch.from_numpy(features),edge_index=torch.from_numpy(edge_list),y=torch.tensor([1]))\n",
    "    elif (str_type == \"melt\"):\n",
    "        graph = data.Data(x=torch.from_numpy(features),edge_index=torch.from_numpy(edge_list),y=torch.tensor([0]))\n",
    "        \n",
    "    return graph\n",
    "\n",
    "\n",
    "def get_graphs(frames,str_type):\n",
    "    graphs = []\n",
    "    for frame in tqdm(frames):\n",
    "        for mol_id in range(len(frame)):\n",
    "#             frame_recon = changeFrame(frame,mol_id)\n",
    "            graphs.append(get_graph(frame,mol_id,n_neigh,str_type))\n",
    "    return graphs\n",
    "\n",
    "def condenseAllFrames(frames):\n",
    "    \"\"\"\n",
    "    Condenses all frames in a trajectory\n",
    "    \"\"\"\n",
    "    condensed_frames = []\n",
    "    for frame in tqdm(frames):\n",
    "        condensed_frames.append(condenseFrame2(frame))\n",
    "    return np.array(condensed_frames)\n",
    "\n",
    "def getNClosest(frame,mol_id,n):\n",
    "    \"\"\" Returns the n closest molecules to the given molecule. \"\"\"\n",
    "    frame = frame[:,-3:]\n",
    "    coord = frame[mol_id]\n",
    "    dists = np.linalg.norm(frame-coord,axis=1)\n",
    "    return np.argsort(dists)[1:n+1]\n",
    "\n",
    "\n",
    "\n"
   ]
  },
  {
   "cell_type": "code",
   "execution_count": 12,
   "metadata": {},
   "outputs": [],
   "source": [
    "def pad(graphs):\n",
    "    max_nodes = 0\n",
    "    for graph in graphs:\n",
    "        max_nodes = max(max_nodes,graph.x.shape[0])\n",
    "    \n",
    "    padded =[]\n",
    "    for graph in graphs:\n",
    "        num_features = graph.num_features\n",
    "        x = graph.x\n",
    "        pad = torch.tensor([[0]*num_features] * (max_nodes-x.shape[0]))\n",
    "        graph.x = torch.concatenate((x,pad))\n",
    "    \n",
    "    return graphs\n"
   ]
  },
  {
   "cell_type": "code",
   "execution_count": 13,
   "metadata": {},
   "outputs": [],
   "source": [
    "def condenseFrame_same_res_id(f):\n",
    "    \"\"\"takes mdtraj frame object as input works even if all molecules have same residue ids\n",
    "    (divides based on number of atoms in each molecule) \"\"\"\n",
    "    n_atoms = 20\n",
    "    xyz = f.xyz[0]\n",
    "    r = (np.random.rand(xyz.shape[0],xyz.shape[1]) - 0.5)*0.5\n",
    "    xyz = xyz + r\n",
    "    n_parts = xyz.shape[0]//n_atoms\n",
    "    mols_pos = np.array(np.array_split(xyz,n_parts))\n",
    "\n",
    "    edge_list = np.array([[ 0,  1,  0,  5,  0,  6,  1,  2,  1, 11,  2,  3,  2, 12,  3,  4, 3, 10,  4,  5,  4, 13,  5, 14,  6,  7,  6, 15,  7,  8,  7,  9, 9, 16,  9, 17,  9, 18, 10, 19],\n",
    "                          [ 1,  0,  5,  0,  6,  0,  2,  1, 11,  1,  3,  2, 12,  2,  4,  3, 10,  3,  5,  4, 13,  4, 14,  5,  7,  6, 15,  6,  8,  7,  9,  7, 16,  9, 17,  9, 18,  9, 19, 10]])\n",
    "\n",
    "\n",
    "\n",
    "    atomic_nums =   [[6],[6],[6],[6],[6],[6],[7],[6],[8],[6],[8],[1],[1],[1],[1],[1],[1],[1],[1],[1]]\n",
    "    vdwr = [[0.17 ],[0.17 ],[0.17 ],[0.17 ],[0.17 ],[0.17 ],[0.155],[0.17 ],[0.152],[0.17 ],[0.152],[0.12 ],[0.12 ],[0.12 ],[0.12 ],[0.12 ],[0.12 ],[0.12 ],[0.12 ],[0.12 ]]\n",
    "\n",
    "    condensed = []\n",
    "    for mol_pos in mols_pos:\n",
    "        avg_pos = np.mean(mol_pos,axis=0)\n",
    "        recentered = mol_pos - mol_pos[9]\n",
    "        node_features = np.concatenate((recentered,vdwr,atomic_nums),axis=1)\n",
    "        graph = data.Data(x=torch.from_numpy(node_features),edge_index=torch.from_numpy(edge_list)).to(\"cuda\")\n",
    "\n",
    "        encoded = model_stage1.encode(graph.x,graph.edge_index)\n",
    "\n",
    "        model_out = np.mean(encoded[0].detach().cpu().numpy(),axis=0)\n",
    "        feature = np.concatenate((model_out,avg_pos))\n",
    "\n",
    "        condensed.append(feature)\n",
    "    condensed = np.array(condensed)\n",
    "    return condensed\n",
    "def condenseAllFrames_same_res_id(frame,n_frames):\n",
    "    \"\"\"\n",
    "    Condenses all frames in a trajectory\n",
    "    \"\"\"\n",
    "    condensed_frames = []\n",
    "    for frame_id in tqdm(range(n_frames)):\n",
    "        cf = condenseFrame_same_res_id(frame)\n",
    "        \n",
    "        condensed_frames.append(cf)\n",
    "        \n",
    "    return np.array(condensed_frames)\n"
   ]
  },
  {
   "cell_type": "code",
   "execution_count": null,
   "metadata": {},
   "outputs": [],
   "source": []
  },
  {
   "cell_type": "code",
   "execution_count": null,
   "metadata": {},
   "outputs": [],
   "source": []
  },
  {
   "cell_type": "code",
   "execution_count": 14,
   "metadata": {
    "colab": {
     "base_uri": "https://localhost:8080/"
    },
    "id": "VbueWOJ5-pRp",
    "outputId": "61d66e4f-15e0-4125-9188-e2c52492ccba"
   },
   "outputs": [],
   "source": [
    "load = True\n",
    "if load:\n",
    "    graphs_cry_cpu = torch.load(f'./graphs/simple/crystal_neigh{n_neigh}.pt')\n",
    "    graphs_melt_cpu = torch.load(f'./graphs/simple/melt_neigh{n_neigh}.pt')\n",
    "else:\n",
    "    all_frames_cry = md.load_xtc(\"../simulation/para_crystal.xtc\", top=\"../simulation/para_crystal.gro\")\n",
    "    all_frames_melt = md.load_xtc(\"../simulation/para_melt.xtc\", top=\"../simulation/para_melt.gro\")\n",
    "    all_frames_cry.xyz = all_frames_cry.xyz*10\n",
    "#     print(all_frames_cry.xyz)\n",
    "    all_frames_melt.xyz = all_frames_melt.xyz*10\n",
    "    all_frames_cry = all_frames_cry\n",
    "    all_frames_melt = all_frames_melt[::50]\n",
    "    global n_frames,n_atoms,n_mols \n",
    "    n_frames = all_frames_cry.xyz.shape[0]\n",
    "    n_atoms = all_frames_cry.topology.residue(0).n_atoms\n",
    "    n_mols = all_frames_cry.topology.n_residues\n",
    "    condensed_crystal = condenseAllFrames(all_frames_cry)\n",
    "#     condensed_crystal = condenseAllFrames_same_res_id(f,n_frames)\n",
    "    condensed_melt = condenseAllFrames(all_frames_melt)\n",
    "    graphs_cry_cpu = get_graphs(condensed_crystal,\"cry\")\n",
    "    graphs_melt_cpu = get_graphs(condensed_melt,\"melt\")\n",
    "#     graphs_cry_cpu = pad(graphs_cry_cpu)\n",
    "#     graphs_melt_cpu = pad(graphs_melt_cpu)\n",
    "    torch.save(graphs_cry_cpu, f'./graphs/simple/crystal_neigh{n_neigh}.pt')\n",
    "    torch.save(graphs_melt_cpu,f'./graphs/simple/melt_neigh{n_neigh}.pt')"
   ]
  },
  {
   "cell_type": "code",
   "execution_count": null,
   "metadata": {},
   "outputs": [],
   "source": []
  },
  {
   "cell_type": "code",
   "execution_count": 15,
   "metadata": {},
   "outputs": [],
   "source": [
    "# max_nodes = 0\n",
    "# min_nodes = 9999\n",
    "# graphs_cry_cpu2 = get_graphs(condensed_crystal,\"cry\")\n",
    "\n",
    "# for graph in graphs_cry_cpu2:\n",
    "#     if(max_nodes < graph.x.shape[0] ):\n",
    "#         max_nodes =  graph.x.shape[0]\n",
    "#         max_graph = graph\n",
    "#     if(min_nodes > graph.x.shape[0]):\n",
    "#         min_nodes = graph.x.shape[0]\n",
    "#         min_graph = graph\n"
   ]
  },
  {
   "cell_type": "code",
   "execution_count": null,
   "metadata": {},
   "outputs": [],
   "source": []
  },
  {
   "cell_type": "code",
   "execution_count": 16,
   "metadata": {},
   "outputs": [],
   "source": [
    "# np.set_printoptions(suppress=True)\n",
    "# torch.set_printoptions(sci_mode=False)\n",
    "# max_graph.x[:,3:],min_graph.x[:,3:]"
   ]
  },
  {
   "cell_type": "code",
   "execution_count": 17,
   "metadata": {
    "id": "tr-2mhVStqXO"
   },
   "outputs": [],
   "source": [
    "def convert_to_adj(edge_index, num_nodes=None):\n",
    "    if num_nodes is None:\n",
    "        num_nodes = edge_index.max() + 1\n",
    "    adj = torch.zeros(num_nodes, num_nodes)\n",
    "    adj[edge_index[0], edge_index[1]] = 1\n",
    "    return adj\n",
    "\n",
    "def convert_to_edge_index(adj):\n",
    "    edge_index = adj.nonzero().t()\n",
    "    return edge_index"
   ]
  },
  {
   "cell_type": "code",
   "execution_count": null,
   "metadata": {},
   "outputs": [],
   "source": []
  },
  {
   "cell_type": "code",
   "execution_count": 18,
   "metadata": {},
   "outputs": [],
   "source": [
    "test_frame = md.load_xtc(\"../simulation/para_crystal.xtc\", top=\"../simulation/para_crystal.gro\",frame=0)"
   ]
  },
  {
   "cell_type": "code",
   "execution_count": 19,
   "metadata": {},
   "outputs": [],
   "source": [
    "cf = condenseFrame2(test_frame)"
   ]
  },
  {
   "cell_type": "code",
   "execution_count": 20,
   "metadata": {},
   "outputs": [],
   "source": [
    "def plotGraph(graph):\n",
    "    plt.figure()\n",
    "    pos = nx.draw(to_networkx(g), with_labels=True, node_size=50)\n",
    "    plt.show()"
   ]
  },
  {
   "cell_type": "code",
   "execution_count": 21,
   "metadata": {},
   "outputs": [],
   "source": [
    "def plot3D(graph):\n",
    "    %matplotlib widget\n",
    "\n",
    "    from mpl_toolkits import mplot3d\n",
    "    pos = graph.x[:,-3:]\n",
    "\n",
    "    ax = plt.axes(projection =\"3d\")\n",
    "    x = pos[:,0]\n",
    "    y = pos[:,1]\n",
    "    z = pos[:,2]\n",
    "    ax.scatter3D(x, y, z)\n",
    "    plt.show()"
   ]
  },
  {
   "cell_type": "code",
   "execution_count": 22,
   "metadata": {
    "colab": {
     "base_uri": "https://localhost:8080/",
     "height": 516
    },
    "id": "GlrZSVdEtqXQ",
    "outputId": "6ea80e9c-1f07-494c-fc03-784158b1157f"
   },
   "outputs": [
    {
     "name": "stderr",
     "output_type": "stream",
     "text": [
      "/home2/naval.s/anaconda3/envs/GAENN/lib/python3.7/site-packages/matplotlib/__init__.py:941: MatplotlibDeprecationWarning: nbagg.transparent is deprecated and ignored. Use figure.facecolor instead.\n",
      "  mplDeprecation)\n"
     ]
    },
    {
     "data": {
      "application/vnd.jupyter.widget-view+json": {
       "model_id": "5c80032f44084eb6869aae015666ac96",
       "version_major": 2,
       "version_minor": 0
      },
      "image/png": "[encoded data removed]",
      "text/html": [
       "\n",
       "            <div style=\"display: inline-block;\">\n",
       "                <div class=\"jupyter-widgets widget-label\" style=\"text-align: center;\">\n",
       "                    Figure\n",
       "                </div>\n",
       "                <img src='data:image/png;base64,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' width=640.0/>\n",
       "            </div>\n",
       "        "
      ],
      "text/plain": [
       "Canvas(toolbar=Toolbar(toolitems=[('Home', 'Reset original view', 'home', 'home'), ('Back', 'Back to  previous…"
      ]
     },
     "metadata": {},
     "output_type": "display_data"
    }
   ],
   "source": [
    "# %matplotlib widget\n",
    "\n",
    "g = get_graph(cf,10,n_neigh,\"cry\")\n",
    "plot3D(g)"
   ]
  },
  {
   "cell_type": "code",
   "execution_count": 23,
   "metadata": {
    "id": "fEnvDV-1tqXR"
   },
   "outputs": [],
   "source": [
    "graphs_cpu = graphs_cry_cpu + graphs_melt_cpu"
   ]
  },
  {
   "cell_type": "code",
   "execution_count": 24,
   "metadata": {
    "colab": {
     "base_uri": "https://localhost:8080/"
    },
    "id": "j9n5VhXx-VWr",
    "outputId": "e086f33b-c21d-4752-a82c-e0499fe774e9"
   },
   "outputs": [
    {
     "name": "stdout",
     "output_type": "stream",
     "text": [
      "96192\n",
      "87264\n"
     ]
    }
   ],
   "source": [
    "print(len(graphs_cry_cpu))\n",
    "print(len(graphs_melt_cpu))"
   ]
  },
  {
   "cell_type": "code",
   "execution_count": 25,
   "metadata": {
    "id": "8ed8RTvytqXS"
   },
   "outputs": [],
   "source": [
    "# shuffle the graphs\n",
    "np.random.shuffle(graphs_cpu)"
   ]
  },
  {
   "cell_type": "markdown",
   "metadata": {
    "id": "Wh0GP82HtqXT"
   },
   "source": [
    "## model"
   ]
  },
  {
   "cell_type": "code",
   "execution_count": 26,
   "metadata": {
    "id": "j01Wc50ttqXW"
   },
   "outputs": [],
   "source": [
    "class GNN(torch.nn.Module):\n",
    "    def __init__(self, feature_size):\n",
    "        super(GNN, self).__init__()\n",
    "        num_classes = 2\n",
    "        embedding_size = 1024\n",
    "\n",
    "        # GNN layers\n",
    "        self.conv1 = GATConv(feature_size, embedding_size, heads=3, dropout=0.3)\n",
    "        self.head_transform1 = Linear(embedding_size*3, embedding_size)\n",
    "        self.pool1 = TopKPooling(embedding_size, ratio=0.8)\n",
    "        self.conv2 = GATConv(embedding_size, embedding_size, heads=3, dropout=0.3)\n",
    "        self.head_transform2 = Linear(embedding_size*3, embedding_size)\n",
    "        self.pool2 = TopKPooling(embedding_size, ratio=0.8)\n",
    "        self.conv3 = GATConv(embedding_size, embedding_size, heads=3, dropout=0.3)\n",
    "        self.head_transform3 = Linear(embedding_size*3, embedding_size)\n",
    "        self.pool3 = TopKPooling(embedding_size, ratio=0.5)\n",
    "\n",
    "        # Linear layers\n",
    "        self.linear1 = Linear(embedding_size*2, 1024)\n",
    "        self.linear2 = Linear(1024, num_classes)\n",
    "\n",
    "    def forward(self, x, edge_index, batch_index):\n",
    "        # First block\n",
    "        x = self.conv1(x, edge_index)\n",
    "        x = self.head_transform1(x)\n",
    "\n",
    "        x, edge_index, edge_attr, batch_index, _, _ = self.pool1(x,\n",
    "                                                        edge_index,\n",
    "                                                        None,\n",
    "                                                        batch_index)\n",
    "        x1 = torch.cat([gmp(x, batch_index), gap(x, batch_index)], dim=1)\n",
    "        # print(x1)\n",
    "\n",
    "        # Second block\n",
    "        x = self.conv2(x, edge_index)\n",
    "        x = self.head_transform2(x)\n",
    "        x, edge_index, edge_attr, batch_index, _, _ = self.pool2(x,\n",
    "                                                        edge_index,\n",
    "                                                        None,\n",
    "                                                        batch_index)\n",
    "        x2 = torch.cat([gmp(x, batch_index), gap(x, batch_index)], dim=1)\n",
    "        # print(x2)\n",
    "\n",
    "        # Third block\n",
    "        x = self.conv3(x, edge_index)\n",
    "        x = self.head_transform3(x)\n",
    "        x, edge_index, edge_attr, batch_index, _, _ = self.pool3(x,\n",
    "                                                        edge_index,\n",
    "                                                        None,\n",
    "                                                        batch_index)\n",
    "        x3 = torch.cat([gmp(x, batch_index), gap(x, batch_index)], dim=1)\n",
    "        # print(x2)\n",
    "\n",
    "        # Concat pooled vectors\n",
    "        x = x1 + x2 + x3\n",
    "\n",
    "        # Output block\n",
    "        x = self.linear1(x).relu()\n",
    "        x = F.dropout(x, p=0.2, training=self.training)\n",
    "        x = self.linear2(x)\n",
    "        x = torch.sigmoid(x)\n",
    "        return x"
   ]
  },
  {
   "cell_type": "code",
   "execution_count": 27,
   "metadata": {},
   "outputs": [],
   "source": [
    "class GNN_dense(torch.nn.Module):\n",
    "    def __init__(self, feature_size,n_mols):\n",
    "        super(GNN_dense, self).__init__()\n",
    "        num_classes = 2\n",
    "        embedding_size1 = 32\n",
    "        embedding_size2 = 16\n",
    "        linear_size1 = 128\n",
    "        linear_size2 = 64\n",
    "        self.feature_size = feature_size\n",
    "        self.n_mols = n_mols\n",
    "        self.batch_size = 64\n",
    "\n",
    "        # GNN layers\n",
    "        self.conv1 = GATConv(feature_size, embedding_size1, heads=6, dropout=0.1)\n",
    "        self.head_transform1 = Linear(embedding_size1*6, embedding_size1)\n",
    "\n",
    "        self.conv2 = GATConv(embedding_size1, embedding_size2, heads=1, dropout=0.1)\n",
    "\n",
    "\n",
    "        # Linear layers\n",
    "        self.linear1 = Linear(self.n_mols * embedding_size2, linear_size1)\n",
    "        self.linear2 = Linear(linear_size1, linear_size2)\n",
    "        self.linear3 = Linear(linear_size2, num_classes)\n",
    "\n",
    "    def forward(self, x, edge_index):\n",
    "        \"\"\"\n",
    "        \"\"\"\n",
    "        self.batch_size = x.shape[0]//self.n_mols\n",
    "        \n",
    "        # in x.shape = (batch*n_mols,n_features)\n",
    "        # First block\n",
    "        x = self.conv1(x, edge_index)                  # x.shape = (batch*n_mols,embedding_size1*n_heads1)\n",
    "        x = self.head_transform1(x)                    # x.shape = (batch*n_mols,embedding_size1)\n",
    "        \n",
    "        # Second block\n",
    "        x = self.conv2(x, edge_index)                  # x.shape = (batch*n_mols,embedding_size2)\n",
    "\n",
    "        # Reshaping\n",
    "        x = x.reshape(self.batch_size,self.n_mols,-1)  #  x.shape = (batch,n_mols,embedding_size2)\n",
    "        x = x.reshape(self.batch_size,-1)              #  x.shape = (batch,n_mols*embedding_size2)\n",
    "        \n",
    "        #output block\n",
    "        x = self.linear1(x)                            # x.shape = (batch,linear_size1)\n",
    "        x = F.leaky_relu(x)\n",
    "\n",
    "        x = F.dropout(x, p=0.2, training=self.training)\n",
    "        \n",
    "        x = self.linear2(x)                            # x.shape = (batch,linear_size2)\n",
    "        x = F.leaky_relu(x)\n",
    "\n",
    "        x = self.linear3(x)                            # x.shape = (batch,num_classes)\n",
    "        x = F.sigmoid(x)\n",
    "        return x"
   ]
  },
  {
   "cell_type": "code",
   "execution_count": 28,
   "metadata": {
    "id": "-7sgqlDvtqXZ"
   },
   "outputs": [],
   "source": [
    "import os\n",
    "in_channels = graphs_cpu[0].num_features\n",
    "out_channels = 2\n",
    "lr = 1e-4\n",
    "n_epochs = 400\n",
    "batch_size=64\n",
    "test_train_split = 0.8\n",
    "model_name = \"LOCAL_Classifier.pt\"\n",
    "model_loaded = False\n",
    "force_train = True\n",
    "device = torch.device('cuda' if torch.cuda.is_available() else 'cpu')\n",
    "if os.path.exists(\"./\"+model_name) and not force_train:\n",
    "    model = torch.load(\"./\"+model_name)\n",
    "    model_loaded = True\n",
    "else:\n",
    "    model = GNN_dense(in_channels,n_neigh+1)\n",
    "\n",
    "model = model.to(device)\n",
    "# optimizer = torch.optim.SGD(model.parameters(), lr=0.1, momentum=0.9)\n",
    "\n",
    "optimizer = torch.optim.Adam(model.parameters(), lr=lr)\n",
    "scheduler = lr_scheduler.StepLR(optimizer, step_size=300, gamma=0.5)\n"
   ]
  },
  {
   "cell_type": "code",
   "execution_count": 29,
   "metadata": {
    "id": "wYX_UypGy8ev"
   },
   "outputs": [
    {
     "name": "stderr",
     "output_type": "stream",
     "text": [
      "100%|██████████| 183456/183456 [00:14<00:00, 12685.34it/s]\n"
     ]
    }
   ],
   "source": [
    "graphs_device = []\n",
    "for graph in tqdm(graphs_cpu):\n",
    "    graphs_device.append(graph.to(device))"
   ]
  },
  {
   "cell_type": "code",
   "execution_count": 30,
   "metadata": {
    "id": "qY27ZDc1tqXa"
   },
   "outputs": [],
   "source": [
    "graphs = graphs_device\n",
    "total_graphs = len(graphs)"
   ]
  },
  {
   "cell_type": "code",
   "execution_count": 31,
   "metadata": {
    "colab": {
     "base_uri": "https://localhost:8080/"
    },
    "id": "-OVNg4DitqXa",
    "outputId": "e2c214b8-c21b-45eb-e1aa-52ae62fb3a69"
   },
   "outputs": [
    {
     "name": "stdout",
     "output_type": "stream",
     "text": [
      "Using: cuda\n",
      "total_graphs: 183456\n",
      "batch Size: 64\n",
      "number of batches: 2866\n",
      "Neighbours: 15\n",
      "Model\n",
      " GNN_dense(\n",
      "  (conv1): GATConv(6, 32, heads=6)\n",
      "  (head_transform1): Linear(in_features=192, out_features=32, bias=True)\n",
      "  (conv2): GATConv(32, 16, heads=1)\n",
      "  (linear1): Linear(in_features=256, out_features=128, bias=True)\n",
      "  (linear2): Linear(in_features=128, out_features=64, bias=True)\n",
      "  (linear3): Linear(in_features=64, out_features=2, bias=True)\n",
      ")\n"
     ]
    }
   ],
   "source": [
    "print(\"Using:\",device )\n",
    "print(\"total_graphs:\", total_graphs)\n",
    "print(\"batch Size:\" , batch_size)\n",
    "print(\"number of batches:\",total_graphs//batch_size)\n",
    "print(\"Neighbours:\",n_neigh)\n",
    "print(\"Model\\n\",model)"
   ]
  },
  {
   "cell_type": "code",
   "execution_count": 32,
   "metadata": {
    "id": "5XYdX_zktqXb"
   },
   "outputs": [],
   "source": [
    "split = int(test_train_split * total_graphs)\n",
    "\n",
    "train_loader = DataLoader(graphs[:split], batch_size=batch_size, shuffle=True)\n",
    "test_loader = DataLoader(graphs[split:], batch_size=batch_size, shuffle=True)"
   ]
  },
  {
   "cell_type": "code",
   "execution_count": 33,
   "metadata": {
    "id": "_FENg5gatqXb"
   },
   "outputs": [],
   "source": [
    "cross_entropy_loss = torch.nn.CrossEntropyLoss()\n",
    "MSE_loss = torch.nn.MSELoss()\n",
    "\n",
    "def train():\n",
    "    model.train()\n",
    "    model.zero_grad()\n",
    "    model.float()\n",
    "    all_loss_cross = 0\n",
    "    all_loss_mse = 0\n",
    "    for data in train_loader:\n",
    "        optimizer.zero_grad()\n",
    "        data = data\n",
    "        pred = model(data.x.float(),data.edge_index)\n",
    "\n",
    "        labels = F.one_hot(data.y,num_classes = 2).float().to(device)\n",
    "#         labels = data.y.to(device).float()\n",
    "    \n",
    "        loss_cross = torch.sqrt(cross_entropy_loss(pred.float(), labels))\n",
    "#         loss_cross = 0\n",
    "        loss_mse = MSE_loss(pred.float(),labels)\n",
    "\n",
    "#         loss_cross.backward()\n",
    "        loss_mse.backward()\n",
    "        all_loss_cross += float(loss_cross)\n",
    "        all_loss_mse += float(loss_mse)\n",
    "        optimizer.step()\n",
    "\n",
    "\n",
    "    return all_loss_cross / len(train_loader), all_loss_mse/len(train_loader)"
   ]
  },
  {
   "cell_type": "code",
   "execution_count": 34,
   "metadata": {
    "id": "8Fdwjem1tqXc"
   },
   "outputs": [],
   "source": [
    "def test():\n",
    "    model.eval()\n",
    "    model.zero_grad()\n",
    "    model.float()\n",
    "    all_loss_cross = 0\n",
    "    all_loss_mse = 0\n",
    "    for data in test_loader:\n",
    "        optimizer.zero_grad()\n",
    "        pred = model(data.x.float(),data.edge_index)\n",
    "        labels = F.one_hot(data.y,num_classes = 2).float().to(device)\n",
    "#         labels = data.y.to(device).float()\n",
    "\n",
    "        loss_cross = torch.sqrt(cross_entropy_loss(pred.float(), labels))\n",
    "        loss_mse = MSE_loss(pred.float(),labels)\n",
    "#         loss_cross = 0\n",
    "\n",
    "        all_loss_cross += float(loss_cross)\n",
    "        all_loss_mse += float(loss_mse)\n",
    "\n",
    "\n",
    "    return all_loss_cross / len(test_loader), all_loss_mse/len(test_loader)"
   ]
  },
  {
   "cell_type": "code",
   "execution_count": 35,
   "metadata": {
    "colab": {
     "base_uri": "https://localhost:8080/",
     "height": 1000
    },
    "id": "xBsWo6CbtqXd",
    "outputId": "db343917-cfed-406b-9920-e6206860fe2d"
   },
   "outputs": [
    {
     "name": "stderr",
     "output_type": "stream",
     "text": [
      "/home2/naval.s/anaconda3/envs/GAENN/lib/python3.7/site-packages/torch/nn/functional.py:1967: UserWarning: nn.functional.sigmoid is deprecated. Use torch.sigmoid instead.\n",
      "  warnings.warn(\"nn.functional.sigmoid is deprecated. Use torch.sigmoid instead.\")\n"
     ]
    },
    {
     "name": "stdout",
     "output_type": "stream",
     "text": [
      "Epoch: 001\n",
      "\tTrain:\tEntropy Loss: 0.6669 \tMSE Loss: 0.0865\n",
      "\tTest: \tEntropy  Loss: 0.5671 \tMSE Loss: 0.0028\n",
      "Epoch: 002\n",
      "\tTrain:\tEntropy Loss: 0.5655 \tMSE Loss: 0.0034\n",
      "\tTest: \tEntropy  Loss: 0.5617 \tMSE Loss: 0.0008\n",
      "Epoch: 003\n",
      "\tTrain:\tEntropy Loss: 0.5627 \tMSE Loss: 0.0019\n",
      "\tTest: \tEntropy  Loss: 0.5620 \tMSE Loss: 0.0012\n",
      "Epoch: 004\n",
      "\tTrain:\tEntropy Loss: 0.5614 \tMSE Loss: 0.0011\n",
      "\tTest: \tEntropy  Loss: 0.5599 \tMSE Loss: 0.0000\n",
      "Epoch: 005\n",
      "\tTrain:\tEntropy Loss: 0.5610 \tMSE Loss: 0.0008\n",
      "\tTest: \tEntropy  Loss: 0.5598 \tMSE Loss: 0.0000\n",
      "Epoch: 006\n",
      "\tTrain:\tEntropy Loss: 0.5613 \tMSE Loss: 0.0013\n",
      "\tTest: \tEntropy  Loss: 0.5598 \tMSE Loss: 0.0000\n",
      "Epoch: 007\n",
      "\tTrain:\tEntropy Loss: 0.5610 \tMSE Loss: 0.0011\n",
      "\tTest: \tEntropy  Loss: 0.5605 \tMSE Loss: 0.0003\n",
      "Epoch: 008\n",
      "\tTrain:\tEntropy Loss: 0.5604 \tMSE Loss: 0.0005\n",
      "\tTest: \tEntropy  Loss: 0.5597 \tMSE Loss: 0.0000\n",
      "Epoch: 009\n",
      "\tTrain:\tEntropy Loss: 0.5607 \tMSE Loss: 0.0009\n",
      "\tTest: \tEntropy  Loss: 0.5597 \tMSE Loss: 0.0000\n",
      "Epoch: 010\n",
      "\tTrain:\tEntropy Loss: 0.5606 \tMSE Loss: 0.0007\n",
      "\tTest: \tEntropy  Loss: 0.5597 \tMSE Loss: 0.0000\n",
      "Epoch: 011\n",
      "\tTrain:\tEntropy Loss: 0.5605 \tMSE Loss: 0.0006\n",
      "\tTest: \tEntropy  Loss: 0.5598 \tMSE Loss: 0.0000\n",
      "Epoch: 012\n",
      "\tTrain:\tEntropy Loss: 0.5605 \tMSE Loss: 0.0006\n",
      "\tTest: \tEntropy  Loss: 0.5597 \tMSE Loss: 0.0000\n",
      "Epoch: 013\n",
      "\tTrain:\tEntropy Loss: 0.5599 \tMSE Loss: 0.0002\n",
      "\tTest: \tEntropy  Loss: 0.5611 \tMSE Loss: 0.0009\n",
      "Epoch: 014\n",
      "\tTrain:\tEntropy Loss: 0.5603 \tMSE Loss: 0.0005\n",
      "\tTest: \tEntropy  Loss: 0.5597 \tMSE Loss: 0.0000\n",
      "Epoch: 015\n",
      "\tTrain:\tEntropy Loss: 0.5603 \tMSE Loss: 0.0005\n",
      "\tTest: \tEntropy  Loss: 0.5597 \tMSE Loss: 0.0000\n",
      "Epoch: 016\n",
      "\tTrain:\tEntropy Loss: 0.5602 \tMSE Loss: 0.0004\n",
      "\tTest: \tEntropy  Loss: 0.5597 \tMSE Loss: 0.0000\n",
      "Epoch: 017\n",
      "\tTrain:\tEntropy Loss: 0.5600 \tMSE Loss: 0.0003\n",
      "\tTest: \tEntropy  Loss: 0.5598 \tMSE Loss: 0.0000\n",
      "Epoch: 018\n",
      "\tTrain:\tEntropy Loss: 0.5601 \tMSE Loss: 0.0003\n",
      "\tTest: \tEntropy  Loss: 0.5597 \tMSE Loss: 0.0000\n",
      "Epoch: 019\n",
      "\tTrain:\tEntropy Loss: 0.5605 \tMSE Loss: 0.0007\n",
      "\tTest: \tEntropy  Loss: 0.5597 \tMSE Loss: 0.0000\n",
      "Epoch: 020\n",
      "\tTrain:\tEntropy Loss: 0.5599 \tMSE Loss: 0.0002\n",
      "\tTest: \tEntropy  Loss: 0.5597 \tMSE Loss: 0.0000\n",
      "Epoch: 021\n",
      "\tTrain:\tEntropy Loss: 0.5603 \tMSE Loss: 0.0005\n",
      "\tTest: \tEntropy  Loss: 0.5597 \tMSE Loss: 0.0000\n",
      "Epoch: 022\n",
      "\tTrain:\tEntropy Loss: 0.5598 \tMSE Loss: 0.0001\n",
      "\tTest: \tEntropy  Loss: 0.5597 \tMSE Loss: 0.0000\n",
      "Epoch: 023\n",
      "\tTrain:\tEntropy Loss: 0.5603 \tMSE Loss: 0.0005\n",
      "\tTest: \tEntropy  Loss: 0.5597 \tMSE Loss: 0.0000\n",
      "Epoch: 024\n",
      "\tTrain:\tEntropy Loss: 0.5599 \tMSE Loss: 0.0002\n",
      "\tTest: \tEntropy  Loss: 0.5597 \tMSE Loss: 0.0000\n",
      "Epoch: 025\n",
      "\tTrain:\tEntropy Loss: 0.5598 \tMSE Loss: 0.0001\n",
      "\tTest: \tEntropy  Loss: 0.5598 \tMSE Loss: 0.0001\n",
      "Epoch: 026\n",
      "\tTrain:\tEntropy Loss: 0.5600 \tMSE Loss: 0.0002\n",
      "\tTest: \tEntropy  Loss: 0.5597 \tMSE Loss: 0.0000\n",
      "Epoch: 027\n",
      "\tTrain:\tEntropy Loss: 0.5598 \tMSE Loss: 0.0001\n",
      "\tTest: \tEntropy  Loss: 0.5597 \tMSE Loss: 0.0000\n",
      "Epoch: 028\n",
      "\tTrain:\tEntropy Loss: 0.5600 \tMSE Loss: 0.0002\n",
      "\tTest: \tEntropy  Loss: 0.5597 \tMSE Loss: 0.0000\n",
      "Epoch: 029\n",
      "\tTrain:\tEntropy Loss: 0.5598 \tMSE Loss: 0.0000\n",
      "\tTest: \tEntropy  Loss: 0.5597 \tMSE Loss: 0.0000\n",
      "Epoch: 030\n",
      "\tTrain:\tEntropy Loss: 0.5599 \tMSE Loss: 0.0002\n",
      "\tTest: \tEntropy  Loss: 0.5597 \tMSE Loss: 0.0000\n",
      "Epoch: 031\n",
      "\tTrain:\tEntropy Loss: 0.5599 \tMSE Loss: 0.0002\n",
      "\tTest: \tEntropy  Loss: 0.5597 \tMSE Loss: 0.0000\n"
     ]
    },
    {
     "ename": "KeyboardInterrupt",
     "evalue": "",
     "output_type": "error",
     "traceback": [
      "\u001b[0;31m---------------------------------------------------------------------------\u001b[0m",
      "\u001b[0;31mKeyboardInterrupt\u001b[0m                         Traceback (most recent call last)",
      "\u001b[0;32m/tmp/ipykernel_1252/2852639073.py\u001b[0m in \u001b[0;36m<module>\u001b[0;34m\u001b[0m\n\u001b[1;32m      7\u001b[0m     \u001b[0;32mfor\u001b[0m \u001b[0mepoch\u001b[0m \u001b[0;32min\u001b[0m \u001b[0mrange\u001b[0m\u001b[0;34m(\u001b[0m\u001b[0;36m1\u001b[0m\u001b[0;34m,\u001b[0m \u001b[0mn_epochs\u001b[0m \u001b[0;34m+\u001b[0m \u001b[0;36m1\u001b[0m\u001b[0;34m)\u001b[0m\u001b[0;34m:\u001b[0m\u001b[0;34m\u001b[0m\u001b[0;34m\u001b[0m\u001b[0m\n\u001b[1;32m      8\u001b[0m \u001b[0;34m\u001b[0m\u001b[0m\n\u001b[0;32m----> 9\u001b[0;31m         \u001b[0mtrain_loss_cross\u001b[0m\u001b[0;34m,\u001b[0m\u001b[0mtrain_loss_mse\u001b[0m \u001b[0;34m=\u001b[0m \u001b[0mtrain\u001b[0m\u001b[0;34m(\u001b[0m\u001b[0;34m)\u001b[0m\u001b[0;34m\u001b[0m\u001b[0;34m\u001b[0m\u001b[0m\n\u001b[0m\u001b[1;32m     10\u001b[0m         \u001b[0mtest_loss_cross\u001b[0m\u001b[0;34m,\u001b[0m\u001b[0mtest_loss_mse\u001b[0m \u001b[0;34m=\u001b[0m \u001b[0mtest\u001b[0m\u001b[0;34m(\u001b[0m\u001b[0;34m)\u001b[0m\u001b[0;34m\u001b[0m\u001b[0;34m\u001b[0m\u001b[0m\n\u001b[1;32m     11\u001b[0m \u001b[0;34m\u001b[0m\u001b[0m\n",
      "\u001b[0;32m/tmp/ipykernel_1252/600905785.py\u001b[0m in \u001b[0;36mtrain\u001b[0;34m()\u001b[0m\n\u001b[1;32m     11\u001b[0m         \u001b[0moptimizer\u001b[0m\u001b[0;34m.\u001b[0m\u001b[0mzero_grad\u001b[0m\u001b[0;34m(\u001b[0m\u001b[0;34m)\u001b[0m\u001b[0;34m\u001b[0m\u001b[0;34m\u001b[0m\u001b[0m\n\u001b[1;32m     12\u001b[0m         \u001b[0mdata\u001b[0m \u001b[0;34m=\u001b[0m \u001b[0mdata\u001b[0m\u001b[0;34m\u001b[0m\u001b[0;34m\u001b[0m\u001b[0m\n\u001b[0;32m---> 13\u001b[0;31m         \u001b[0mpred\u001b[0m \u001b[0;34m=\u001b[0m \u001b[0mmodel\u001b[0m\u001b[0;34m(\u001b[0m\u001b[0mdata\u001b[0m\u001b[0;34m.\u001b[0m\u001b[0mx\u001b[0m\u001b[0;34m.\u001b[0m\u001b[0mfloat\u001b[0m\u001b[0;34m(\u001b[0m\u001b[0;34m)\u001b[0m\u001b[0;34m,\u001b[0m\u001b[0mdata\u001b[0m\u001b[0;34m.\u001b[0m\u001b[0medge_index\u001b[0m\u001b[0;34m)\u001b[0m\u001b[0;34m\u001b[0m\u001b[0;34m\u001b[0m\u001b[0m\n\u001b[0m\u001b[1;32m     14\u001b[0m \u001b[0;34m\u001b[0m\u001b[0m\n\u001b[1;32m     15\u001b[0m         \u001b[0mlabels\u001b[0m \u001b[0;34m=\u001b[0m \u001b[0mF\u001b[0m\u001b[0;34m.\u001b[0m\u001b[0mone_hot\u001b[0m\u001b[0;34m(\u001b[0m\u001b[0mdata\u001b[0m\u001b[0;34m.\u001b[0m\u001b[0my\u001b[0m\u001b[0;34m,\u001b[0m\u001b[0mnum_classes\u001b[0m \u001b[0;34m=\u001b[0m \u001b[0;36m2\u001b[0m\u001b[0;34m)\u001b[0m\u001b[0;34m.\u001b[0m\u001b[0mfloat\u001b[0m\u001b[0;34m(\u001b[0m\u001b[0;34m)\u001b[0m\u001b[0;34m.\u001b[0m\u001b[0mto\u001b[0m\u001b[0;34m(\u001b[0m\u001b[0mdevice\u001b[0m\u001b[0;34m)\u001b[0m\u001b[0;34m\u001b[0m\u001b[0;34m\u001b[0m\u001b[0m\n",
      "\u001b[0;32m~/anaconda3/envs/GAENN/lib/python3.7/site-packages/torch/nn/modules/module.py\u001b[0m in \u001b[0;36m_call_impl\u001b[0;34m(self, *input, **kwargs)\u001b[0m\n\u001b[1;32m   1192\u001b[0m         if not (self._backward_hooks or self._forward_hooks or self._forward_pre_hooks or _global_backward_hooks\n\u001b[1;32m   1193\u001b[0m                 or _global_forward_hooks or _global_forward_pre_hooks):\n\u001b[0;32m-> 1194\u001b[0;31m             \u001b[0;32mreturn\u001b[0m \u001b[0mforward_call\u001b[0m\u001b[0;34m(\u001b[0m\u001b[0;34m*\u001b[0m\u001b[0minput\u001b[0m\u001b[0;34m,\u001b[0m \u001b[0;34m**\u001b[0m\u001b[0mkwargs\u001b[0m\u001b[0;34m)\u001b[0m\u001b[0;34m\u001b[0m\u001b[0;34m\u001b[0m\u001b[0m\n\u001b[0m\u001b[1;32m   1195\u001b[0m         \u001b[0;31m# Do not call functions when jit is used\u001b[0m\u001b[0;34m\u001b[0m\u001b[0;34m\u001b[0m\u001b[0;34m\u001b[0m\u001b[0m\n\u001b[1;32m   1196\u001b[0m         \u001b[0mfull_backward_hooks\u001b[0m\u001b[0;34m,\u001b[0m \u001b[0mnon_full_backward_hooks\u001b[0m \u001b[0;34m=\u001b[0m \u001b[0;34m[\u001b[0m\u001b[0;34m]\u001b[0m\u001b[0;34m,\u001b[0m \u001b[0;34m[\u001b[0m\u001b[0;34m]\u001b[0m\u001b[0;34m\u001b[0m\u001b[0;34m\u001b[0m\u001b[0m\n",
      "\u001b[0;32m/tmp/ipykernel_1252/439774715.py\u001b[0m in \u001b[0;36mforward\u001b[0;34m(self, x, edge_index)\u001b[0m\n\u001b[1;32m     34\u001b[0m \u001b[0;34m\u001b[0m\u001b[0m\n\u001b[1;32m     35\u001b[0m         \u001b[0;31m# Second block\u001b[0m\u001b[0;34m\u001b[0m\u001b[0;34m\u001b[0m\u001b[0;34m\u001b[0m\u001b[0m\n\u001b[0;32m---> 36\u001b[0;31m         \u001b[0mx\u001b[0m \u001b[0;34m=\u001b[0m \u001b[0mself\u001b[0m\u001b[0;34m.\u001b[0m\u001b[0mconv2\u001b[0m\u001b[0;34m(\u001b[0m\u001b[0mx\u001b[0m\u001b[0;34m,\u001b[0m \u001b[0medge_index\u001b[0m\u001b[0;34m)\u001b[0m                  \u001b[0;31m# x.shape = (batch*n_mols,embedding_size2)\u001b[0m\u001b[0;34m\u001b[0m\u001b[0;34m\u001b[0m\u001b[0m\n\u001b[0m\u001b[1;32m     37\u001b[0m \u001b[0;34m\u001b[0m\u001b[0m\n\u001b[1;32m     38\u001b[0m         \u001b[0;31m# Reshaping\u001b[0m\u001b[0;34m\u001b[0m\u001b[0;34m\u001b[0m\u001b[0;34m\u001b[0m\u001b[0m\n",
      "\u001b[0;32m~/anaconda3/envs/GAENN/lib/python3.7/site-packages/torch/nn/modules/module.py\u001b[0m in \u001b[0;36m_call_impl\u001b[0;34m(self, *input, **kwargs)\u001b[0m\n\u001b[1;32m   1192\u001b[0m         if not (self._backward_hooks or self._forward_hooks or self._forward_pre_hooks or _global_backward_hooks\n\u001b[1;32m   1193\u001b[0m                 or _global_forward_hooks or _global_forward_pre_hooks):\n\u001b[0;32m-> 1194\u001b[0;31m             \u001b[0;32mreturn\u001b[0m \u001b[0mforward_call\u001b[0m\u001b[0;34m(\u001b[0m\u001b[0;34m*\u001b[0m\u001b[0minput\u001b[0m\u001b[0;34m,\u001b[0m \u001b[0;34m**\u001b[0m\u001b[0mkwargs\u001b[0m\u001b[0;34m)\u001b[0m\u001b[0;34m\u001b[0m\u001b[0;34m\u001b[0m\u001b[0m\n\u001b[0m\u001b[1;32m   1195\u001b[0m         \u001b[0;31m# Do not call functions when jit is used\u001b[0m\u001b[0;34m\u001b[0m\u001b[0;34m\u001b[0m\u001b[0;34m\u001b[0m\u001b[0m\n\u001b[1;32m   1196\u001b[0m         \u001b[0mfull_backward_hooks\u001b[0m\u001b[0;34m,\u001b[0m \u001b[0mnon_full_backward_hooks\u001b[0m \u001b[0;34m=\u001b[0m \u001b[0;34m[\u001b[0m\u001b[0;34m]\u001b[0m\u001b[0;34m,\u001b[0m \u001b[0;34m[\u001b[0m\u001b[0;34m]\u001b[0m\u001b[0;34m\u001b[0m\u001b[0;34m\u001b[0m\u001b[0m\n",
      "\u001b[0;32m~/anaconda3/envs/GAENN/lib/python3.7/site-packages/torch_geometric/nn/conv/gat_conv.py\u001b[0m in \u001b[0;36mforward\u001b[0;34m(self, x, edge_index, edge_attr, size, return_attention_weights)\u001b[0m\n\u001b[1;32m    250\u001b[0m \u001b[0;34m\u001b[0m\u001b[0m\n\u001b[1;32m    251\u001b[0m         \u001b[0;31m# edge_updater_type: (alpha: OptPairTensor, edge_attr: OptTensor)\u001b[0m\u001b[0;34m\u001b[0m\u001b[0;34m\u001b[0m\u001b[0;34m\u001b[0m\u001b[0m\n\u001b[0;32m--> 252\u001b[0;31m         \u001b[0malpha\u001b[0m \u001b[0;34m=\u001b[0m \u001b[0mself\u001b[0m\u001b[0;34m.\u001b[0m\u001b[0medge_updater\u001b[0m\u001b[0;34m(\u001b[0m\u001b[0medge_index\u001b[0m\u001b[0;34m,\u001b[0m \u001b[0malpha\u001b[0m\u001b[0;34m=\u001b[0m\u001b[0malpha\u001b[0m\u001b[0;34m,\u001b[0m \u001b[0medge_attr\u001b[0m\u001b[0;34m=\u001b[0m\u001b[0medge_attr\u001b[0m\u001b[0;34m)\u001b[0m\u001b[0;34m\u001b[0m\u001b[0;34m\u001b[0m\u001b[0m\n\u001b[0m\u001b[1;32m    253\u001b[0m \u001b[0;34m\u001b[0m\u001b[0m\n\u001b[1;32m    254\u001b[0m         \u001b[0;31m# propagate_type: (x: OptPairTensor, alpha: Tensor)\u001b[0m\u001b[0;34m\u001b[0m\u001b[0;34m\u001b[0m\u001b[0;34m\u001b[0m\u001b[0m\n",
      "\u001b[0;32m~/anaconda3/envs/GAENN/lib/python3.7/site-packages/torch_geometric/nn/conv/message_passing.py\u001b[0m in \u001b[0;36medge_updater\u001b[0;34m(self, edge_index, **kwargs)\u001b[0m\n\u001b[1;32m    529\u001b[0m \u001b[0;34m\u001b[0m\u001b[0m\n\u001b[1;32m    530\u001b[0m         \u001b[0medge_kwargs\u001b[0m \u001b[0;34m=\u001b[0m \u001b[0mself\u001b[0m\u001b[0;34m.\u001b[0m\u001b[0minspector\u001b[0m\u001b[0;34m.\u001b[0m\u001b[0mdistribute\u001b[0m\u001b[0;34m(\u001b[0m\u001b[0;34m'edge_update'\u001b[0m\u001b[0;34m,\u001b[0m \u001b[0mcoll_dict\u001b[0m\u001b[0;34m)\u001b[0m\u001b[0;34m\u001b[0m\u001b[0;34m\u001b[0m\u001b[0m\n\u001b[0;32m--> 531\u001b[0;31m         \u001b[0mout\u001b[0m \u001b[0;34m=\u001b[0m \u001b[0mself\u001b[0m\u001b[0;34m.\u001b[0m\u001b[0medge_update\u001b[0m\u001b[0;34m(\u001b[0m\u001b[0;34m**\u001b[0m\u001b[0medge_kwargs\u001b[0m\u001b[0;34m)\u001b[0m\u001b[0;34m\u001b[0m\u001b[0;34m\u001b[0m\u001b[0m\n\u001b[0m\u001b[1;32m    532\u001b[0m \u001b[0;34m\u001b[0m\u001b[0m\n\u001b[1;32m    533\u001b[0m         \u001b[0;32mfor\u001b[0m \u001b[0mhook\u001b[0m \u001b[0;32min\u001b[0m \u001b[0mself\u001b[0m\u001b[0;34m.\u001b[0m\u001b[0m_edge_update_forward_hooks\u001b[0m\u001b[0;34m.\u001b[0m\u001b[0mvalues\u001b[0m\u001b[0;34m(\u001b[0m\u001b[0;34m)\u001b[0m\u001b[0;34m:\u001b[0m\u001b[0;34m\u001b[0m\u001b[0;34m\u001b[0m\u001b[0m\n",
      "\u001b[0;32m~/anaconda3/envs/GAENN/lib/python3.7/site-packages/torch_geometric/nn/conv/gat_conv.py\u001b[0m in \u001b[0;36medge_update\u001b[0;34m(self, alpha_j, alpha_i, edge_attr, index, ptr, size_i)\u001b[0m\n\u001b[1;32m    292\u001b[0m             \u001b[0malpha\u001b[0m \u001b[0;34m=\u001b[0m \u001b[0malpha\u001b[0m \u001b[0;34m+\u001b[0m \u001b[0malpha_edge\u001b[0m\u001b[0;34m\u001b[0m\u001b[0;34m\u001b[0m\u001b[0m\n\u001b[1;32m    293\u001b[0m \u001b[0;34m\u001b[0m\u001b[0m\n\u001b[0;32m--> 294\u001b[0;31m         \u001b[0malpha\u001b[0m \u001b[0;34m=\u001b[0m \u001b[0mF\u001b[0m\u001b[0;34m.\u001b[0m\u001b[0mleaky_relu\u001b[0m\u001b[0;34m(\u001b[0m\u001b[0malpha\u001b[0m\u001b[0;34m,\u001b[0m \u001b[0mself\u001b[0m\u001b[0;34m.\u001b[0m\u001b[0mnegative_slope\u001b[0m\u001b[0;34m)\u001b[0m\u001b[0;34m\u001b[0m\u001b[0;34m\u001b[0m\u001b[0m\n\u001b[0m\u001b[1;32m    295\u001b[0m         \u001b[0malpha\u001b[0m \u001b[0;34m=\u001b[0m \u001b[0msoftmax\u001b[0m\u001b[0;34m(\u001b[0m\u001b[0malpha\u001b[0m\u001b[0;34m,\u001b[0m \u001b[0mindex\u001b[0m\u001b[0;34m,\u001b[0m \u001b[0mptr\u001b[0m\u001b[0;34m,\u001b[0m \u001b[0msize_i\u001b[0m\u001b[0;34m)\u001b[0m\u001b[0;34m\u001b[0m\u001b[0;34m\u001b[0m\u001b[0m\n\u001b[1;32m    296\u001b[0m         \u001b[0malpha\u001b[0m \u001b[0;34m=\u001b[0m \u001b[0mF\u001b[0m\u001b[0;34m.\u001b[0m\u001b[0mdropout\u001b[0m\u001b[0;34m(\u001b[0m\u001b[0malpha\u001b[0m\u001b[0;34m,\u001b[0m \u001b[0mp\u001b[0m\u001b[0;34m=\u001b[0m\u001b[0mself\u001b[0m\u001b[0;34m.\u001b[0m\u001b[0mdropout\u001b[0m\u001b[0;34m,\u001b[0m \u001b[0mtraining\u001b[0m\u001b[0;34m=\u001b[0m\u001b[0mself\u001b[0m\u001b[0;34m.\u001b[0m\u001b[0mtraining\u001b[0m\u001b[0;34m)\u001b[0m\u001b[0;34m\u001b[0m\u001b[0;34m\u001b[0m\u001b[0m\n",
      "\u001b[0;32m~/anaconda3/envs/GAENN/lib/python3.7/site-packages/torch/nn/functional.py\u001b[0m in \u001b[0;36mleaky_relu\u001b[0;34m(input, negative_slope, inplace)\u001b[0m\n\u001b[1;32m   1630\u001b[0m         \u001b[0mresult\u001b[0m \u001b[0;34m=\u001b[0m \u001b[0mtorch\u001b[0m\u001b[0;34m.\u001b[0m\u001b[0m_C\u001b[0m\u001b[0;34m.\u001b[0m\u001b[0m_nn\u001b[0m\u001b[0;34m.\u001b[0m\u001b[0mleaky_relu_\u001b[0m\u001b[0;34m(\u001b[0m\u001b[0minput\u001b[0m\u001b[0;34m,\u001b[0m \u001b[0mnegative_slope\u001b[0m\u001b[0;34m)\u001b[0m\u001b[0;34m\u001b[0m\u001b[0;34m\u001b[0m\u001b[0m\n\u001b[1;32m   1631\u001b[0m     \u001b[0;32melse\u001b[0m\u001b[0;34m:\u001b[0m\u001b[0;34m\u001b[0m\u001b[0;34m\u001b[0m\u001b[0m\n\u001b[0;32m-> 1632\u001b[0;31m         \u001b[0mresult\u001b[0m \u001b[0;34m=\u001b[0m \u001b[0mtorch\u001b[0m\u001b[0;34m.\u001b[0m\u001b[0m_C\u001b[0m\u001b[0;34m.\u001b[0m\u001b[0m_nn\u001b[0m\u001b[0;34m.\u001b[0m\u001b[0mleaky_relu\u001b[0m\u001b[0;34m(\u001b[0m\u001b[0minput\u001b[0m\u001b[0;34m,\u001b[0m \u001b[0mnegative_slope\u001b[0m\u001b[0;34m)\u001b[0m\u001b[0;34m\u001b[0m\u001b[0;34m\u001b[0m\u001b[0m\n\u001b[0m\u001b[1;32m   1633\u001b[0m     \u001b[0;32mreturn\u001b[0m \u001b[0mresult\u001b[0m\u001b[0;34m\u001b[0m\u001b[0;34m\u001b[0m\u001b[0m\n\u001b[1;32m   1634\u001b[0m \u001b[0;34m\u001b[0m\u001b[0m\n",
      "\u001b[0;31mKeyboardInterrupt\u001b[0m: "
     ]
    }
   ],
   "source": [
    "train_losses = []\n",
    "test_losses = []\n",
    "\n",
    "if model_loaded:\n",
    "    print(\"Pretrained Model Loaded, no training required\")\n",
    "else:\n",
    "    for epoch in range(1, n_epochs + 1):\n",
    "\n",
    "        train_loss_cross,train_loss_mse = train()\n",
    "        test_loss_cross,test_loss_mse = test()\n",
    "\n",
    "        print(f\"Epoch: {epoch:03d}\")\n",
    "        print(f'\\tTrain:\\tEntropy Loss: {train_loss_cross:.4f} \\tMSE Loss: {train_loss_mse:.4f}')\n",
    "        print(f'\\tTest: \\tEntropy  Loss: {test_loss_cross:.4f} \\tMSE Loss: {test_loss_mse:.4f}')\n",
    "\n",
    "        train_losses.append([train_loss_cross,train_loss_mse]);\n",
    "        test_losses.append([test_loss_cross,test_loss_mse]);\n",
    "\n",
    "        scheduler.step()\n",
    "    torch.save(model,\"./\"+model_name)"
   ]
  },
  {
   "cell_type": "code",
   "execution_count": 47,
   "metadata": {
    "id": "3im6roawtqXd"
   },
   "outputs": [
    {
     "data": {
      "application/vnd.jupyter.widget-view+json": {
       "model_id": "97a6b88cb4e743a2a4556cf8a3c244b1",
       "version_major": 2,
       "version_minor": 0
      },
      "image/png": "[encoded data removed]",
      "text/html": [
       "\n",
       "            <div style=\"display: inline-block;\">\n",
       "                <div class=\"jupyter-widgets widget-label\" style=\"text-align: center;\">\n",
       "                    Figure\n",
       "                </div>\n",
       "                <img src='data:image/png;base64,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' width=640.0/>\n",
       "            </div>\n",
       "        "
      ],
      "text/plain": [
       "Canvas(toolbar=Toolbar(toolitems=[('Home', 'Reset original view', 'home', 'home'), ('Back', 'Back to  previous…"
      ]
     },
     "metadata": {},
     "output_type": "display_data"
    }
   ],
   "source": [
    "if not model_loaded:\n",
    "    plt.figure()\n",
    "    plt.plot(test_losses, label='Total Test Loss')\n",
    "    plt.plot(train_losses, label='Total Train Loss')\n",
    "    plt.legend()\n",
    "    plt.title('Total Loss')\n",
    "    plt.show()"
   ]
  },
  {
   "cell_type": "code",
   "execution_count": 39,
   "metadata": {
    "id": "EIHppipktqXe"
   },
   "outputs": [
    {
     "name": "stderr",
     "output_type": "stream",
     "text": [
      "100%|██████████| 873/873 [00:02<00:00, 346.09it/s]\n"
     ]
    }
   ],
   "source": [
    "test_loader_melt = DataLoader(graphs_melt_cpu[::100], batch_size=1)\n",
    "pred_melt=[]\n",
    "for data in tqdm(test_loader_melt):\n",
    "    model.eval()\n",
    "    data = data.to(device)\n",
    "    pred = model(data.x.float(),data.edge_index)\n",
    "    pred_melt.append(pred.cpu().detach().numpy())\n",
    "pred_melt = np.array(pred_melt)\n"
   ]
  },
  {
   "cell_type": "code",
   "execution_count": 41,
   "metadata": {
    "id": "c5PkeqtVtqXf"
   },
   "outputs": [
    {
     "name": "stderr",
     "output_type": "stream",
     "text": [
      "100%|██████████| 962/962 [00:02<00:00, 346.85it/s]\n"
     ]
    }
   ],
   "source": [
    "test_loader_cry = DataLoader(graphs_cry_cpu[::100], batch_size=1)\n",
    "pred_cry=[]\n",
    "for data in tqdm(test_loader_cry):\n",
    "    model.eval()\n",
    "    data = data.to(device)\n",
    "    pred = model(data.x.float(),data.edge_index)\n",
    "    pred_cry.append(pred.cpu().detach().numpy())\n",
    "\n",
    "pred_cry = np.array(pred_cry)\n"
   ]
  },
  {
   "cell_type": "code",
   "execution_count": 45,
   "metadata": {
    "id": "WxJ7ivCwgNaX"
   },
   "outputs": [
    {
     "data": {
      "text/plain": [
       "(array([[[1.0000000e+00, 2.5291089e-13]],\n",
       " \n",
       "        [[1.0000000e+00, 1.4601428e-19]],\n",
       " \n",
       "        [[1.0000000e+00, 3.2019649e-08]],\n",
       " \n",
       "        ...,\n",
       " \n",
       "        [[1.0000000e+00, 9.4337721e-13]],\n",
       " \n",
       "        [[1.0000000e+00, 6.4583278e-10]],\n",
       " \n",
       "        [[9.9999988e-01, 7.9394034e-08]]], dtype=float32),\n",
       " array([[[5.54802523e-11, 1.00000000e+00]],\n",
       " \n",
       "        [[1.82865476e-11, 1.00000000e+00]],\n",
       " \n",
       "        [[1.70041687e-07, 9.99999881e-01]],\n",
       " \n",
       "        ...,\n",
       " \n",
       "        [[9.51028427e-13, 1.00000000e+00]],\n",
       " \n",
       "        [[4.15164620e-13, 1.00000000e+00]],\n",
       " \n",
       "        [[1.03429706e-07, 9.99999881e-01]]], dtype=float32))"
      ]
     },
     "execution_count": 45,
     "metadata": {},
     "output_type": "execute_result"
    }
   ],
   "source": [
    "from sklearn.metrics import confusion_matrix, ConfusionMatrixDisplay\n",
    "\n",
    "y_test = test_loader_melt\n",
    "cm = confusion_matrix(y_test, predictions)\n",
    "ConfusionMatrixDisplay(cm).plot()\n"
   ]
  },
  {
   "cell_type": "code",
   "execution_count": 44,
   "metadata": {
    "id": "HBv9kugXtqXf"
   },
   "outputs": [
    {
     "ename": "IndexError",
     "evalue": "index 1 is out of bounds for axis 1 with size 1",
     "output_type": "error",
     "traceback": [
      "\u001b[0;31m---------------------------------------------------------------------------\u001b[0m",
      "\u001b[0;31mIndexError\u001b[0m                                Traceback (most recent call last)",
      "\u001b[0;32m/tmp/ipykernel_1252/104709920.py\u001b[0m in \u001b[0;36m<module>\u001b[0;34m\u001b[0m\n\u001b[1;32m      5\u001b[0m \u001b[0mdata_cry\u001b[0m \u001b[0;34m=\u001b[0m \u001b[0mpred_cry\u001b[0m\u001b[0;34m\u001b[0m\u001b[0;34m\u001b[0m\u001b[0m\n\u001b[1;32m      6\u001b[0m \u001b[0;34m\u001b[0m\u001b[0m\n\u001b[0;32m----> 7\u001b[0;31m \u001b[0mplt\u001b[0m\u001b[0;34m.\u001b[0m\u001b[0mscatter\u001b[0m\u001b[0;34m(\u001b[0m\u001b[0mdata_melt\u001b[0m\u001b[0;34m[\u001b[0m\u001b[0;34m:\u001b[0m\u001b[0;34m,\u001b[0m\u001b[0;36m0\u001b[0m\u001b[0;34m]\u001b[0m\u001b[0;34m,\u001b[0m\u001b[0mdata_melt\u001b[0m\u001b[0;34m[\u001b[0m\u001b[0;34m:\u001b[0m\u001b[0;34m,\u001b[0m\u001b[0;36m1\u001b[0m\u001b[0;34m]\u001b[0m\u001b[0;34m,\u001b[0m\u001b[0mc\u001b[0m\u001b[0;34m=\u001b[0m\u001b[0;34m\"r\"\u001b[0m\u001b[0;34m,\u001b[0m\u001b[0mlabel\u001b[0m\u001b[0;34m=\u001b[0m\u001b[0;34m\"melt\"\u001b[0m\u001b[0;34m)\u001b[0m\u001b[0;34m\u001b[0m\u001b[0;34m\u001b[0m\u001b[0m\n\u001b[0m\u001b[1;32m      8\u001b[0m \u001b[0mplt\u001b[0m\u001b[0;34m.\u001b[0m\u001b[0mscatter\u001b[0m\u001b[0;34m(\u001b[0m\u001b[0mdata_cry\u001b[0m\u001b[0;34m[\u001b[0m\u001b[0;34m:\u001b[0m\u001b[0;34m,\u001b[0m\u001b[0;36m0\u001b[0m\u001b[0;34m]\u001b[0m\u001b[0;34m,\u001b[0m\u001b[0mdata_cry\u001b[0m\u001b[0;34m[\u001b[0m\u001b[0;34m:\u001b[0m\u001b[0;34m,\u001b[0m\u001b[0;36m1\u001b[0m\u001b[0;34m]\u001b[0m\u001b[0;34m,\u001b[0m\u001b[0mc\u001b[0m\u001b[0;34m=\u001b[0m\u001b[0;34m\"b\"\u001b[0m\u001b[0;34m,\u001b[0m\u001b[0mlabel\u001b[0m\u001b[0;34m=\u001b[0m\u001b[0;34m\"crystal\"\u001b[0m\u001b[0;34m)\u001b[0m\u001b[0;34m\u001b[0m\u001b[0;34m\u001b[0m\u001b[0m\n\u001b[1;32m      9\u001b[0m \u001b[0mplt\u001b[0m\u001b[0;34m.\u001b[0m\u001b[0mlegend\u001b[0m\u001b[0;34m(\u001b[0m\u001b[0;34m)\u001b[0m\u001b[0;34m\u001b[0m\u001b[0;34m\u001b[0m\u001b[0m\n",
      "\u001b[0;31mIndexError\u001b[0m: index 1 is out of bounds for axis 1 with size 1"
     ]
    },
    {
     "data": {
      "application/vnd.jupyter.widget-view+json": {
       "model_id": "ed7a632ba2fb492eb2c9af5629c3e35b",
       "version_major": 2,
       "version_minor": 0
      },
      "image/png": "[encoded data removed]",
      "text/html": [
       "\n",
       "            <div style=\"display: inline-block;\">\n",
       "                <div class=\"jupyter-widgets widget-label\" style=\"text-align: center;\">\n",
       "                    Figure\n",
       "                </div>\n",
       "                <img src='data:image/png;base64,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' width=1500.0/>\n",
       "            </div>\n",
       "        "
      ],
      "text/plain": [
       "Canvas(toolbar=Toolbar(toolitems=[('Home', 'Reset original view', 'home', 'home'), ('Back', 'Back to  previous…"
      ]
     },
     "metadata": {},
     "output_type": "display_data"
    }
   ],
   "source": [
    "# %matplotlib widget\n",
    "\n",
    "fig = plt.figure(figsize=(15,4))\n",
    "data_melt = pred_melt\n",
    "data_cry = pred_cry\n",
    "\n",
    "plt.scatter(data_melt[:,0],data_melt[:,1],c=\"r\",label=\"melt\")\n",
    "plt.scatter(data_cry[:,0],data_cry[:,1],c=\"b\",label=\"crystal\")\n",
    "plt.legend()\n",
    "plt.show()"
   ]
  },
  {
   "cell_type": "code",
   "execution_count": null,
   "metadata": {
    "id": "UcyDMFTgtqXg"
   },
   "outputs": [],
   "source": [
    "n_sample = 1000\n",
    "n_class = 2\n",
    "n_1 = 1000\n",
    "n_2 = 1000"
   ]
  },
  {
   "cell_type": "code",
   "execution_count": null,
   "metadata": {},
   "outputs": [],
   "source": []
  }
 ],
 "metadata": {
  "accelerator": "GPU",
  "colab": {
   "gpuType": "T4",
   "provenance": []
  },
  "kernelspec": {
   "display_name": "Python 3 (ipykernel)",
   "language": "python",
   "name": "python3"
  },
  "language_info": {
   "codemirror_mode": {
    "name": "ipython",
    "version": 3
   },
   "file_extension": ".py",
   "mimetype": "text/x-python",
   "name": "python",
   "nbconvert_exporter": "python",
   "pygments_lexer": "ipython3",
   "version": "3.11.4"
  },
  "vscode": {
   "interpreter": {
    "hash": "80a33ba5fbbc6f374c4c23ec54f7c94fc3dd605e2ab2c49345e5901997a9893b"
   }
  },
  "widgets": {
   "application/vnd.jupyter.widget-state+json": {
    "53891150d6cf43b18e61ee33a7bc07be": {
     "model_module": "nglview-js-widgets",
     "model_module_version": "3.0.6",
     "model_name": "ColormakerRegistryModel",
     "state": {
      "_dom_classes": [],
      "_model_module": "nglview-js-widgets",
      "_model_module_version": "3.0.6",
      "_model_name": "ColormakerRegistryModel",
      "_msg_ar": [],
      "_msg_q": [],
      "_ready": false,
      "_view_count": null,
      "_view_module": "nglview-js-widgets",
      "_view_module_version": "3.0.6",
      "_view_name": "ColormakerRegistryView",
      "layout": "IPY_MODEL_81665ab1836a4b15a3c6e0bddd134f10"
     }
    }
   }
  }
 },
 "nbformat": 4,
 "nbformat_minor": 1
}
