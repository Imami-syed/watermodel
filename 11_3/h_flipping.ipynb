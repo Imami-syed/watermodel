{
 "cells": [
  {
   "cell_type": "code",
   "execution_count": 23,
   "metadata": {},
   "outputs": [],
   "source": [
    "# Importing the libraries and functions from model.py file\n",
    "from model import *"
   ]
  },
  {
   "cell_type": "code",
   "execution_count": 24,
   "metadata": {
    "id": "LGVGTD4dPaQG"
   },
   "outputs": [],
   "source": [
    "# load water molecules and frames from xtc file and gro file\n",
    "all_frames = md.load_xtc(\"../10_7/singlesim/it50k/eql2.xtc\",top=\"../10_7/singlesim/it50k/conf.gro\")\n"
   ]
  },
  {
   "cell_type": "code",
   "execution_count": 25,
   "metadata": {
    "colab": {
     "base_uri": "https://localhost:8080/",
     "height": 317,
     "referenced_widgets": [
      "b3e2e11d45734b7d9224fb987459470b",
      "83451c0f082c4aa888b1dd14e9c775bf",
      "174bcfbaa57647a791816ea2f5f95aba",
      "1dbdb82571c54cdd93dc2852bfff8d40",
      "8cb134fe0b18494bbefe6c95adc7d14e",
      "65d323feef3b4d44a7846a7c208946f1",
      "1ccf61fe60854532adca37efa0ce3d8c",
      "e8f4eabea82a4f928fa75a55769ed112",
      "51f160dd2cbe413ca4340f08c1c556c6",
      "f25cd88e94d7471fba0524c195300dbd",
      "f7e90ca6eca44a02aa7dbd7c721963d2",
      "d0b06dda6324492e96af92e3aeea444b",
      "c842ad6e08ac425eade8ae91843af6cf"
     ]
    },
    "id": "LfhgrqRRuEAv",
    "outputId": "82b81f8f-849f-4a0e-e6ef-549b93adb26c"
   },
   "outputs": [],
   "source": [
    "# Extracting the first frame from the xtc file\n",
    "molecule = all_frames[0]\n",
    "atomic_nums = [atom.element.atomic_number for atom in molecule.top.atoms] \n",
    "water = Atoms(positions= molecule.xyz[0], numbers=atomic_nums)"
   ]
  },
  {
   "cell_type": "code",
   "execution_count": 26,
   "metadata": {},
   "outputs": [
    {
     "name": "stderr",
     "output_type": "stream",
     "text": [
      "100%|██████████| 50001/50001 [00:02<00:00, 22497.72it/s]\n"
     ]
    }
   ],
   "source": [
    "# Calculating the feature matrix for each frame in the xtc file\n",
    "frames = all_frames\n",
    "features = []\n",
    "for molecule in tqdm(frames):\n",
    "    atomic_nums = np.array([[atom.element.atomic_number for atom in molecule.top.atoms]]).T\n",
    "    vdwr = np.array([[atom.element.radius for atom in molecule.top.atoms]]).T\n",
    "    mass = np.array([[atom.element.mass for atom in molecule.top.atoms]]).T\n",
    "    positions = molecule.xyz[0]*10\n",
    "    \n",
    "    # positions = positions - positions[0]\n",
    "    \n",
    "    node_features = np.concatenate((positions,vdwr,atomic_nums),axis=1)\n",
    "    features.append(node_features)\n",
    "    \n",
    "features = np.array(features)"
   ]
  },
  {
   "cell_type": "code",
   "execution_count": 27,
   "metadata": {
    "colab": {
     "base_uri": "https://localhost:8080/"
    },
    "id": "Wsal5pY3rTDA",
    "outputId": "c52d834d-061e-4913-c825-e9ab07d2ecfb"
   },
   "outputs": [
    {
     "name": "stdout",
     "output_type": "stream",
     "text": [
      "Node Features:\n",
      " [[13.46083832 12.57285213 13.48372459  0.152       8.        ]\n",
      " [13.04025745 13.2220211  14.04757309  0.12        1.        ]\n",
      " [12.84028053 12.43922329 12.76728725  0.12        1.        ]\n",
      " [13.34977245 12.62784863 13.46744633  0.          0.        ]]\n"
     ]
    }
   ],
   "source": [
    "# Printing node features for testing purposes\n",
    "print(\"Node Features:\\n\",features[10])"
   ]
  },
  {
   "cell_type": "code",
   "execution_count": 46,
   "metadata": {},
   "outputs": [
    {
     "name": "stdout",
     "output_type": "stream",
     "text": [
      "<mdtraj.Trajectory with 1 frames, 4 atoms, 1 residues, and unitcells>\n"
     ]
    }
   ],
   "source": [
    "for ine in all_frames[0]:\n",
    "    print(ine)"
   ]
  },
  {
   "cell_type": "code",
   "execution_count": 47,
   "metadata": {
    "id": "VQ0Tk6jn_Eug"
   },
   "outputs": [],
   "source": [
    "# creating edge list for the graph nodes\n",
    "from_list = []\n",
    "to_list = []\n",
    "for edge in all_frames.topology.bonds:\n",
    "    from_list.append(edge.atom1.index)\n",
    "    to_list.append(edge.atom2.index)\n",
    "    from_list.append(edge.atom2.index)\n",
    "    to_list.append(edge.atom1.index)\n",
    "\n",
    "edge_list = np.array([from_list,to_list])"
   ]
  },
  {
   "cell_type": "code",
   "execution_count": 48,
   "metadata": {},
   "outputs": [
    {
     "data": {
      "text/plain": [
       "array([[0, 1, 0, 2],\n",
       "       [1, 0, 2, 0]])"
      ]
     },
     "execution_count": 48,
     "metadata": {},
     "output_type": "execute_result"
    }
   ],
   "source": [
    "edge_list"
   ]
  },
  {
   "cell_type": "code",
   "execution_count": 29,
   "metadata": {},
   "outputs": [
    {
     "name": "stderr",
     "output_type": "stream",
     "text": [
      "100%|██████████| 50001/50001 [00:01<00:00, 41314.14it/s]\n"
     ]
    }
   ],
   "source": [
    "# appending graphs to a list\n",
    "graphs=[]\n",
    "for node_feature in tqdm(features):\n",
    "    graph = data.Data(x=torch.from_numpy(node_feature),edge_index=torch.from_numpy(edge_list))\n",
    "    graphs.append(graph)\n",
    "    "
   ]
  },
  {
   "cell_type": "code",
   "execution_count": 30,
   "metadata": {},
   "outputs": [
    {
     "name": "stdout",
     "output_type": "stream",
     "text": [
      "Data(x=[4, 5], edge_index=[2, 4])\n"
     ]
    }
   ],
   "source": [
    "print(graphs[0]) \n",
    "# features per node positions and vanderwaals radius and atomic number\n",
    "# edge index is the edge list of the graph"
   ]
  },
  {
   "cell_type": "code",
   "execution_count": 31,
   "metadata": {},
   "outputs": [
    {
     "data": {
      "image/png": "[encoded data removed]",
      "text/plain": [
       "<Figure size 640x480 with 1 Axes>"
      ]
     },
     "metadata": {},
     "output_type": "display_data"
    }
   ],
   "source": [
    "# Visualizing the graph network\n",
    "vis = to_networkx(graphs[0])\n",
    "nx.draw_networkx(vis, with_labels=True)\n"
   ]
  },
  {
   "cell_type": "code",
   "execution_count": 32,
   "metadata": {},
   "outputs": [
    {
     "name": "stderr",
     "output_type": "stream",
     "text": [
      "100%|██████████| 50001/50001 [00:00<00:00, 113297.10it/s]\n"
     ]
    }
   ],
   "source": [
    "# using cuda if available\n",
    "# and moving the graphs to the device\n",
    "# using whichever is available\n",
    "device = torch.device('cuda' if torch.cuda.is_available() else 'cpu')\n",
    "graphs_device = []\n",
    "for graph in tqdm(graphs):\n",
    "    graphs_device.append(graph.to(device))"
   ]
  },
  {
   "cell_type": "code",
   "execution_count": 33,
   "metadata": {
    "id": "vu-V-Dsc1D_B"
   },
   "outputs": [],
   "source": [
    "import os\n",
    "in_channels = graph.num_features\n",
    "out_channels = 3\n",
    "n_atoms = 4\n",
    "lr = 1e-3\n",
    "n_epochs = 100\n",
    "batch_size=256\n",
    "test_train_split = 0.8\n",
    "model_name = \"Intra.pt\"\n",
    "model_loaded = False\n",
    "force_train = True\n",
    "device = torch.device('cuda' if torch.cuda.is_available() else 'cpu')\n",
    "if os.path.exists(\"./models/\"+model_name) and not force_train:\n",
    "    model = torch.load(\"./models/\"+model_name)\n",
    "    model_loaded = True\n",
    "else:\n",
    "    model = VGAE(VariationalGCNEncoder(in_channels, out_channels,batch_size,n_atoms),\n",
    "                VariationalGCNDecoder(out_channels, in_channels,batch_size,n_atoms))\n",
    "    \n",
    "model = model.to(device)\n",
    "optimizer = torch.optim.Adam(model.parameters(), lr=lr)\n",
    "scheduler = lr_scheduler.StepLR(optimizer, step_size=200, gamma=0.5)"
   ]
  },
  {
   "cell_type": "code",
   "execution_count": 34,
   "metadata": {
    "id": "hqwvxYdccl4g"
   },
   "outputs": [],
   "source": [
    "split = int(test_train_split * len(graphs_device))\n",
    "train_loader = DataLoader(graphs_device[:split], batch_size=batch_size,shuffle=True)\n",
    "test_loader = DataLoader(graphs_device[split:], batch_size=batch_size,shuffle=True)"
   ]
  },
  {
   "cell_type": "code",
   "execution_count": 35,
   "metadata": {},
   "outputs": [
    {
     "name": "stdout",
     "output_type": "stream",
     "text": [
      "Using: cpu\n",
      "total_graphs: 50001\n",
      "Graphs in a batch: 256\n",
      "Train Graphs Batches: 157 (Total graphs: 40192)\n",
      "Test Graphs Batches: 40 (Total graphs: 10240)\n",
      "Model Specifics:\n",
      " VGAE(\n",
      "  (encoder): VariationalGCNEncoder(\n",
      "    (conv1): GATConv(5, 15, heads=3)\n",
      "    (head_transform1): Linear(45, 15, bias=True)\n",
      "    (bn1): BatchNorm(15)\n",
      "    (conv2): GCNConv(15, 9)\n",
      "    (bn2): BatchNorm(9)\n",
      "    (linear1): Linear(9, 100, bias=True)\n",
      "    (linear2): Linear(100, 4, bias=True)\n",
      "    (transform): Linear(16, 3, bias=True)\n",
      "    (mu): Linear(3, 3, bias=True)\n",
      "    (logstd): Linear(3, 3, bias=True)\n",
      "  )\n",
      "  (decoder): VariationalGCNDecoder(\n",
      "    (inv_transform): Linear(3, 4, bias=True)\n",
      "    (conv1): GCNConv(1, 9)\n",
      "    (bn1): BatchNorm(9)\n",
      "    (conv2): GCNConv(9, 3)\n",
      "    (bn2): BatchNorm(3)\n",
      "    (conv3): GCNConv(3, 3)\n",
      "    (linear1): Linear(3, 512, bias=True)\n",
      "    (linear2): Linear(512, 128, bias=True)\n",
      "    (linear3): Linear(128, 5, bias=True)\n",
      "  )\n",
      ")\n"
     ]
    }
   ],
   "source": [
    "print(\"Using:\",device )\n",
    "print(\"total_graphs:\", len(graphs_device))\n",
    "print(\"Graphs in a batch:\", batch_size)\n",
    "print(\"Train Graphs Batches:\",len(train_loader),f\"(Total graphs: {len(train_loader)*batch_size})\")\n",
    "print(\"Test Graphs Batches:\",len(test_loader),f\"(Total graphs: {len(test_loader)*batch_size})\")\n",
    "print(\"Model Specifics:\\n\",model)"
   ]
  },
  {
   "cell_type": "code",
   "execution_count": 36,
   "metadata": {
    "id": "PSlEaKJOczEn"
   },
   "outputs": [],
   "source": [
    "lossFxn = torch.nn.MSELoss()\n",
    "def train():\n",
    "    model.train()\n",
    "    model.double()\n",
    "    loss_all = 0\n",
    "    feature_loss_all = 0\n",
    "    edge_loss_all = 0\n",
    "    position_loss_all = 0\n",
    "\n",
    "    for data in train_loader:\n",
    "        optimizer.zero_grad()\n",
    "        z,encoded_edge_index = model.encode(data.x, data.edge_index)\n",
    "        decoded_x, decoded_edge_index = model.decode(z, encoded_edge_index)\n",
    "        \n",
    "        heavy_indices = torch.where(data.x[:,4] > torch.tensor([1]).to(device))\n",
    "     \n",
    "        \n",
    "        decoded_pos = decoded_x[:,:3]\n",
    "        decoded_features = decoded_x[:,3:]\n",
    "        orignal_pos = data.x[:,:3]\n",
    "        orignal_features = data.x[:,3:]\n",
    "\n",
    "\n",
    "        positionLoss = lossFxn(decoded_pos[heavy_indices], orignal_pos[heavy_indices])\n",
    "        FeatureLoss = lossFxn(decoded_features[heavy_indices], orignal_features[heavy_indices])\n",
    "        loss = lossFxn(decoded_x[heavy_indices], data.x[heavy_indices])\n",
    "        EdgeLoss = lossFxn(decoded_edge_index.float(), data.edge_index)\n",
    "\n",
    "\n",
    "        loss_all +=  float(loss)\n",
    "        feature_loss_all += float(FeatureLoss)\n",
    "        edge_loss_all += float(EdgeLoss)\n",
    "        position_loss_all += float(positionLoss)\n",
    "\n",
    "#         positionLoss.backward()\n",
    "        loss.backward()\n",
    "        optimizer.step()\n",
    "\n",
    "    return loss_all / len(train_loader), feature_loss_all / len(train_loader), edge_loss_all / len(train_loader) ,position_loss_all / len(train_loader)"
   ]
  },
  {
   "cell_type": "code",
   "execution_count": 37,
   "metadata": {},
   "outputs": [],
   "source": [
    "lossFxn = torch.nn.MSELoss()\n",
    "def test():\n",
    "    model.eval()\n",
    "    model.double()\n",
    "    \n",
    "    loss_all = 0\n",
    "    feature_loss_all = 0\n",
    "    edge_loss_all = 0\n",
    "    position_loss_all = 0\n",
    "\n",
    "    for data in test_loader:\n",
    "        optimizer.zero_grad()\n",
    "        z,encoded_edge_index = model.encode(data.x, data.edge_index)\n",
    "        decoded_x, decoded_edge_index = model.decode(z, encoded_edge_index)\n",
    "\n",
    "        decoded_pos = decoded_x[:,:3]\n",
    "        decoded_features = decoded_x[:,3:]\n",
    "        orignal_pos = data.x[:,:3]\n",
    "        orignal_features = data.x[:,3:]\n",
    "        \n",
    "        \n",
    "        heavy_indices = torch.where(data.x[:,4] > torch.tensor([1]).to(device))\n",
    "   \n",
    "        \n",
    "        positionLoss = lossFxn(decoded_pos[heavy_indices], orignal_pos[heavy_indices])\n",
    "        FeatureLoss = lossFxn(decoded_features[heavy_indices], orignal_features[heavy_indices])\n",
    "        loss = lossFxn(decoded_x[heavy_indices], data.x[heavy_indices])\n",
    "\n",
    "        EdgeLoss = lossFxn(decoded_edge_index.float(), data.edge_index)\n",
    "        \n",
    "        \n",
    "        loss_all +=  float(loss)\n",
    "        feature_loss_all += float(FeatureLoss)\n",
    "        edge_loss_all += float(EdgeLoss)\n",
    "        position_loss_all += float(positionLoss)\n",
    "\n",
    "\n",
    "\n",
    "    return loss_all / len(test_loader), feature_loss_all / len(test_loader), edge_loss_all / len(test_loader), position_loss_all / len(test_loader)"
   ]
  },
  {
   "cell_type": "code",
   "execution_count": 38,
   "metadata": {
    "colab": {
     "base_uri": "https://localhost:8080/"
    },
    "id": "X9117KpSc9uP",
    "outputId": "eae0f70e-c05e-42fe-a20c-477e5cab54fe"
   },
   "outputs": [
    {
     "name": "stdout",
     "output_type": "stream",
     "text": [
      "Epoch: 001\n",
      "\tTrain:\tTotal Loss: 11.0655, Feature Loss: 2.9470, Position Loss: 16.4778, LR: 0.001000\n",
      "\tTest: \tTotal Loss: 1.4023, Feature Loss: 0.0135, Position Loss: 2.3282, LR: 0.001000\n",
      "Epoch: 002\n",
      "\tTrain:\tTotal Loss: 0.9805, Feature Loss: 0.0283, Position Loss: 1.6153, LR: 0.001000\n",
      "\tTest: \tTotal Loss: 0.0293, Feature Loss: 0.0146, Position Loss: 0.0391, LR: 0.001000\n",
      "Epoch: 003\n",
      "\tTrain:\tTotal Loss: 0.0633, Feature Loss: 0.0044, Position Loss: 0.1026, LR: 0.001000\n",
      "\tTest: \tTotal Loss: 0.1700, Feature Loss: 0.0008, Position Loss: 0.2828, LR: 0.001000\n",
      "Epoch: 004\n",
      "\tTrain:\tTotal Loss: 0.0374, Feature Loss: 0.0008, Position Loss: 0.0618, LR: 0.001000\n",
      "\tTest: \tTotal Loss: 0.1103, Feature Loss: 0.0003, Position Loss: 0.1836, LR: 0.001000\n",
      "Epoch: 005\n",
      "\tTrain:\tTotal Loss: 0.0257, Feature Loss: 0.0004, Position Loss: 0.0426, LR: 0.001000\n",
      "\tTest: \tTotal Loss: 0.0469, Feature Loss: 0.0002, Position Loss: 0.0780, LR: 0.001000\n",
      "Epoch: 006\n",
      "\tTrain:\tTotal Loss: 0.0261, Feature Loss: 0.0002, Position Loss: 0.0433, LR: 0.001000\n",
      "\tTest: \tTotal Loss: 0.0034, Feature Loss: 0.0002, Position Loss: 0.0056, LR: 0.001000\n",
      "Epoch: 007\n",
      "\tTrain:\tTotal Loss: 0.0403, Feature Loss: 0.0006, Position Loss: 0.0667, LR: 0.001000\n",
      "\tTest: \tTotal Loss: 0.0050, Feature Loss: 0.0002, Position Loss: 0.0083, LR: 0.001000\n",
      "Epoch: 008\n",
      "\tTrain:\tTotal Loss: 0.0284, Feature Loss: 0.0009, Position Loss: 0.0468, LR: 0.001000\n",
      "\tTest: \tTotal Loss: 0.0502, Feature Loss: 0.0011, Position Loss: 0.0829, LR: 0.001000\n",
      "Epoch: 009\n",
      "\tTrain:\tTotal Loss: 0.0286, Feature Loss: 0.0006, Position Loss: 0.0473, LR: 0.001000\n",
      "\tTest: \tTotal Loss: 0.0071, Feature Loss: 0.0002, Position Loss: 0.0118, LR: 0.001000\n",
      "Epoch: 010\n",
      "\tTrain:\tTotal Loss: 0.0276, Feature Loss: 0.0014, Position Loss: 0.0450, LR: 0.001000\n",
      "\tTest: \tTotal Loss: 0.0067, Feature Loss: 0.0016, Position Loss: 0.0100, LR: 0.001000\n",
      "Epoch: 011\n",
      "\tTrain:\tTotal Loss: 0.0251, Feature Loss: 0.0012, Position Loss: 0.0410, LR: 0.001000\n",
      "\tTest: \tTotal Loss: 0.0032, Feature Loss: 0.0001, Position Loss: 0.0053, LR: 0.001000\n",
      "Epoch: 012\n",
      "\tTrain:\tTotal Loss: 0.0280, Feature Loss: 0.0018, Position Loss: 0.0455, LR: 0.001000\n",
      "\tTest: \tTotal Loss: 0.0453, Feature Loss: 0.0010, Position Loss: 0.0748, LR: 0.001000\n",
      "Epoch: 013\n",
      "\tTrain:\tTotal Loss: 0.0324, Feature Loss: 0.0038, Position Loss: 0.0515, LR: 0.001000\n",
      "\tTest: \tTotal Loss: 0.0041, Feature Loss: 0.0001, Position Loss: 0.0068, LR: 0.001000\n",
      "Epoch: 014\n",
      "\tTrain:\tTotal Loss: 0.0318, Feature Loss: 0.0025, Position Loss: 0.0513, LR: 0.001000\n",
      "\tTest: \tTotal Loss: 0.0135, Feature Loss: 0.0064, Position Loss: 0.0182, LR: 0.001000\n",
      "Epoch: 015\n",
      "\tTrain:\tTotal Loss: 0.0312, Feature Loss: 0.0036, Position Loss: 0.0496, LR: 0.001000\n",
      "\tTest: \tTotal Loss: 0.0073, Feature Loss: 0.0002, Position Loss: 0.0121, LR: 0.001000\n",
      "Epoch: 016\n",
      "\tTrain:\tTotal Loss: 0.0276, Feature Loss: 0.0027, Position Loss: 0.0442, LR: 0.001000\n",
      "\tTest: \tTotal Loss: 0.0530, Feature Loss: 0.0020, Position Loss: 0.0869, LR: 0.001000\n",
      "Epoch: 017\n",
      "\tTrain:\tTotal Loss: 0.0289, Feature Loss: 0.0026, Position Loss: 0.0464, LR: 0.001000\n",
      "\tTest: \tTotal Loss: 0.0423, Feature Loss: 0.0018, Position Loss: 0.0694, LR: 0.001000\n",
      "Epoch: 018\n",
      "\tTrain:\tTotal Loss: 0.0695, Feature Loss: 0.0202, Position Loss: 0.1024, LR: 0.001000\n",
      "\tTest: \tTotal Loss: 0.1961, Feature Loss: 0.0168, Position Loss: 0.3156, LR: 0.001000\n",
      "Epoch: 019\n",
      "\tTrain:\tTotal Loss: 0.0311, Feature Loss: 0.0051, Position Loss: 0.0485, LR: 0.001000\n",
      "\tTest: \tTotal Loss: 0.0049, Feature Loss: 0.0008, Position Loss: 0.0076, LR: 0.001000\n",
      "Epoch: 020\n",
      "\tTrain:\tTotal Loss: 0.0347, Feature Loss: 0.0056, Position Loss: 0.0541, LR: 0.001000\n",
      "\tTest: \tTotal Loss: 0.0140, Feature Loss: 0.0207, Position Loss: 0.0096, LR: 0.001000\n",
      "Epoch: 021\n",
      "\tTrain:\tTotal Loss: 0.0373, Feature Loss: 0.0086, Position Loss: 0.0563, LR: 0.001000\n",
      "\tTest: \tTotal Loss: 0.3354, Feature Loss: 0.0290, Position Loss: 0.5396, LR: 0.001000\n",
      "Epoch: 022\n",
      "\tTrain:\tTotal Loss: 0.0457, Feature Loss: 0.0127, Position Loss: 0.0677, LR: 0.001000\n",
      "\tTest: \tTotal Loss: 0.0225, Feature Loss: 0.0126, Position Loss: 0.0291, LR: 0.001000\n",
      "Epoch: 023\n",
      "\tTrain:\tTotal Loss: 0.0406, Feature Loss: 0.0099, Position Loss: 0.0610, LR: 0.001000\n",
      "\tTest: \tTotal Loss: 0.0703, Feature Loss: 0.0205, Position Loss: 0.1035, LR: 0.001000\n",
      "Epoch: 024\n",
      "\tTrain:\tTotal Loss: 0.0422, Feature Loss: 0.0130, Position Loss: 0.0617, LR: 0.001000\n",
      "\tTest: \tTotal Loss: 0.0247, Feature Loss: 0.0223, Position Loss: 0.0264, LR: 0.001000\n",
      "Epoch: 025\n",
      "\tTrain:\tTotal Loss: 0.0482, Feature Loss: 0.0185, Position Loss: 0.0680, LR: 0.001000\n",
      "\tTest: \tTotal Loss: 0.0031, Feature Loss: 0.0009, Position Loss: 0.0046, LR: 0.001000\n",
      "Epoch: 026\n",
      "\tTrain:\tTotal Loss: 0.0346, Feature Loss: 0.0093, Position Loss: 0.0514, LR: 0.001000\n",
      "\tTest: \tTotal Loss: 0.0190, Feature Loss: 0.0002, Position Loss: 0.0316, LR: 0.001000\n",
      "Epoch: 027\n",
      "\tTrain:\tTotal Loss: 0.0414, Feature Loss: 0.0082, Position Loss: 0.0635, LR: 0.001000\n",
      "\tTest: \tTotal Loss: 0.0600, Feature Loss: 0.0002, Position Loss: 0.0998, LR: 0.001000\n",
      "Epoch: 028\n",
      "\tTrain:\tTotal Loss: 0.0283, Feature Loss: 0.0071, Position Loss: 0.0424, LR: 0.001000\n",
      "\tTest: \tTotal Loss: 0.0140, Feature Loss: 0.0001, Position Loss: 0.0233, LR: 0.001000\n",
      "Epoch: 029\n",
      "\tTrain:\tTotal Loss: 0.0376, Feature Loss: 0.0099, Position Loss: 0.0560, LR: 0.001000\n",
      "\tTest: \tTotal Loss: 0.0229, Feature Loss: 0.0033, Position Loss: 0.0360, LR: 0.001000\n",
      "Epoch: 030\n",
      "\tTrain:\tTotal Loss: 0.0264, Feature Loss: 0.0047, Position Loss: 0.0409, LR: 0.001000\n",
      "\tTest: \tTotal Loss: 0.0027, Feature Loss: 0.0025, Position Loss: 0.0029, LR: 0.001000\n",
      "Epoch: 031\n",
      "\tTrain:\tTotal Loss: 0.0210, Feature Loss: 0.0027, Position Loss: 0.0332, LR: 0.001000\n",
      "\tTest: \tTotal Loss: 0.0121, Feature Loss: 0.0042, Position Loss: 0.0174, LR: 0.001000\n",
      "Epoch: 032\n",
      "\tTrain:\tTotal Loss: 0.0267, Feature Loss: 0.0055, Position Loss: 0.0409, LR: 0.001000\n",
      "\tTest: \tTotal Loss: 0.0091, Feature Loss: 0.0040, Position Loss: 0.0125, LR: 0.001000\n",
      "Epoch: 033\n",
      "\tTrain:\tTotal Loss: 0.0294, Feature Loss: 0.0060, Position Loss: 0.0450, LR: 0.001000\n",
      "\tTest: \tTotal Loss: 0.0261, Feature Loss: 0.0004, Position Loss: 0.0433, LR: 0.001000\n",
      "Epoch: 034\n",
      "\tTrain:\tTotal Loss: 0.0387, Feature Loss: 0.0102, Position Loss: 0.0578, LR: 0.001000\n",
      "\tTest: \tTotal Loss: 0.0982, Feature Loss: 0.0401, Position Loss: 0.1369, LR: 0.001000\n",
      "Epoch: 035\n",
      "\tTrain:\tTotal Loss: 0.0380, Feature Loss: 0.0099, Position Loss: 0.0567, LR: 0.001000\n",
      "\tTest: \tTotal Loss: 0.0050, Feature Loss: 0.0047, Position Loss: 0.0052, LR: 0.001000\n",
      "Epoch: 036\n",
      "\tTrain:\tTotal Loss: 0.0343, Feature Loss: 0.0056, Position Loss: 0.0535, LR: 0.001000\n",
      "\tTest: \tTotal Loss: 0.0327, Feature Loss: 0.0048, Position Loss: 0.0513, LR: 0.001000\n",
      "Epoch: 037\n",
      "\tTrain:\tTotal Loss: 0.0335, Feature Loss: 0.0074, Position Loss: 0.0509, LR: 0.001000\n",
      "\tTest: \tTotal Loss: 0.0141, Feature Loss: 0.0001, Position Loss: 0.0235, LR: 0.001000\n",
      "Epoch: 038\n",
      "\tTrain:\tTotal Loss: 0.0370, Feature Loss: 0.0106, Position Loss: 0.0546, LR: 0.001000\n",
      "\tTest: \tTotal Loss: 0.0054, Feature Loss: 0.0050, Position Loss: 0.0057, LR: 0.001000\n",
      "Epoch: 039\n",
      "\tTrain:\tTotal Loss: 0.0302, Feature Loss: 0.0098, Position Loss: 0.0439, LR: 0.001000\n",
      "\tTest: \tTotal Loss: 0.0160, Feature Loss: 0.0013, Position Loss: 0.0258, LR: 0.001000\n",
      "Epoch: 040\n",
      "\tTrain:\tTotal Loss: 0.0266, Feature Loss: 0.0053, Position Loss: 0.0408, LR: 0.001000\n",
      "\tTest: \tTotal Loss: 0.0092, Feature Loss: 0.0003, Position Loss: 0.0152, LR: 0.001000\n",
      "Epoch: 041\n",
      "\tTrain:\tTotal Loss: 0.0385, Feature Loss: 0.0130, Position Loss: 0.0555, LR: 0.001000\n",
      "\tTest: \tTotal Loss: 0.0249, Feature Loss: 0.0021, Position Loss: 0.0402, LR: 0.001000\n",
      "Epoch: 042\n",
      "\tTrain:\tTotal Loss: 0.0211, Feature Loss: 0.0049, Position Loss: 0.0318, LR: 0.001000\n",
      "\tTest: \tTotal Loss: 0.0019, Feature Loss: 0.0015, Position Loss: 0.0022, LR: 0.001000\n",
      "Epoch: 043\n",
      "\tTrain:\tTotal Loss: 0.0322, Feature Loss: 0.0054, Position Loss: 0.0500, LR: 0.001000\n",
      "\tTest: \tTotal Loss: 0.0762, Feature Loss: 0.0108, Position Loss: 0.1198, LR: 0.001000\n",
      "Epoch: 044\n",
      "\tTrain:\tTotal Loss: 0.0296, Feature Loss: 0.0070, Position Loss: 0.0446, LR: 0.001000\n",
      "\tTest: \tTotal Loss: 0.0110, Feature Loss: 0.0198, Position Loss: 0.0051, LR: 0.001000\n",
      "Epoch: 045\n",
      "\tTrain:\tTotal Loss: 0.0292, Feature Loss: 0.0060, Position Loss: 0.0446, LR: 0.001000\n",
      "\tTest: \tTotal Loss: 0.0054, Feature Loss: 0.0017, Position Loss: 0.0079, LR: 0.001000\n",
      "Epoch: 046\n",
      "\tTrain:\tTotal Loss: 0.0381, Feature Loss: 0.0089, Position Loss: 0.0575, LR: 0.001000\n",
      "\tTest: \tTotal Loss: 0.0297, Feature Loss: 0.0003, Position Loss: 0.0492, LR: 0.001000\n",
      "Epoch: 047\n",
      "\tTrain:\tTotal Loss: 0.0450, Feature Loss: 0.0095, Position Loss: 0.0686, LR: 0.001000\n",
      "\tTest: \tTotal Loss: 0.0460, Feature Loss: 0.0067, Position Loss: 0.0722, LR: 0.001000\n",
      "Epoch: 048\n",
      "\tTrain:\tTotal Loss: 0.0268, Feature Loss: 0.0063, Position Loss: 0.0404, LR: 0.001000\n",
      "\tTest: \tTotal Loss: 0.0057, Feature Loss: 0.0019, Position Loss: 0.0082, LR: 0.001000\n",
      "Epoch: 049\n",
      "\tTrain:\tTotal Loss: 0.0318, Feature Loss: 0.0058, Position Loss: 0.0492, LR: 0.001000\n",
      "\tTest: \tTotal Loss: 0.0126, Feature Loss: 0.0029, Position Loss: 0.0191, LR: 0.001000\n",
      "Epoch: 050\n",
      "\tTrain:\tTotal Loss: 0.0332, Feature Loss: 0.0061, Position Loss: 0.0513, LR: 0.001000\n",
      "\tTest: \tTotal Loss: 0.0078, Feature Loss: 0.0120, Position Loss: 0.0049, LR: 0.001000\n",
      "Epoch: 051\n",
      "\tTrain:\tTotal Loss: 0.0327, Feature Loss: 0.0086, Position Loss: 0.0488, LR: 0.001000\n",
      "\tTest: \tTotal Loss: 0.0629, Feature Loss: 0.0010, Position Loss: 0.1042, LR: 0.001000\n",
      "Epoch: 052\n",
      "\tTrain:\tTotal Loss: 0.0455, Feature Loss: 0.0119, Position Loss: 0.0679, LR: 0.001000\n",
      "\tTest: \tTotal Loss: 0.0149, Feature Loss: 0.0001, Position Loss: 0.0248, LR: 0.001000\n",
      "Epoch: 053\n",
      "\tTrain:\tTotal Loss: 0.0239, Feature Loss: 0.0037, Position Loss: 0.0374, LR: 0.001000\n",
      "\tTest: \tTotal Loss: 0.0116, Feature Loss: 0.0003, Position Loss: 0.0190, LR: 0.001000\n",
      "Epoch: 054\n",
      "\tTrain:\tTotal Loss: 0.0250, Feature Loss: 0.0041, Position Loss: 0.0389, LR: 0.001000\n",
      "\tTest: \tTotal Loss: 0.0049, Feature Loss: 0.0014, Position Loss: 0.0072, LR: 0.001000\n",
      "Epoch: 055\n",
      "\tTrain:\tTotal Loss: 0.0340, Feature Loss: 0.0093, Position Loss: 0.0505, LR: 0.001000\n",
      "\tTest: \tTotal Loss: 0.0717, Feature Loss: 0.0024, Position Loss: 0.1180, LR: 0.001000\n",
      "Epoch: 056\n",
      "\tTrain:\tTotal Loss: 0.0367, Feature Loss: 0.0116, Position Loss: 0.0533, LR: 0.001000\n",
      "\tTest: \tTotal Loss: 0.0228, Feature Loss: 0.0113, Position Loss: 0.0305, LR: 0.001000\n",
      "Epoch: 057\n",
      "\tTrain:\tTotal Loss: 0.0269, Feature Loss: 0.0114, Position Loss: 0.0373, LR: 0.001000\n",
      "\tTest: \tTotal Loss: 0.0070, Feature Loss: 0.0016, Position Loss: 0.0106, LR: 0.001000\n",
      "Epoch: 058\n",
      "\tTrain:\tTotal Loss: 0.0356, Feature Loss: 0.0084, Position Loss: 0.0538, LR: 0.001000\n",
      "\tTest: \tTotal Loss: 0.0036, Feature Loss: 0.0013, Position Loss: 0.0051, LR: 0.001000\n",
      "Epoch: 059\n",
      "\tTrain:\tTotal Loss: 0.0205, Feature Loss: 0.0039, Position Loss: 0.0316, LR: 0.001000\n",
      "\tTest: \tTotal Loss: 0.0015, Feature Loss: 0.0001, Position Loss: 0.0025, LR: 0.001000\n",
      "Epoch: 060\n",
      "\tTrain:\tTotal Loss: 0.0259, Feature Loss: 0.0061, Position Loss: 0.0391, LR: 0.001000\n",
      "\tTest: \tTotal Loss: 0.0150, Feature Loss: 0.0082, Position Loss: 0.0195, LR: 0.001000\n",
      "Epoch: 061\n",
      "\tTrain:\tTotal Loss: 0.0355, Feature Loss: 0.0069, Position Loss: 0.0546, LR: 0.001000\n",
      "\tTest: \tTotal Loss: 0.0097, Feature Loss: 0.0028, Position Loss: 0.0143, LR: 0.001000\n",
      "Epoch: 062\n",
      "\tTrain:\tTotal Loss: 0.0296, Feature Loss: 0.0055, Position Loss: 0.0457, LR: 0.001000\n",
      "\tTest: \tTotal Loss: 0.0187, Feature Loss: 0.0001, Position Loss: 0.0311, LR: 0.001000\n",
      "Epoch: 063\n",
      "\tTrain:\tTotal Loss: 0.0337, Feature Loss: 0.0064, Position Loss: 0.0520, LR: 0.001000\n",
      "\tTest: \tTotal Loss: 0.0343, Feature Loss: 0.0045, Position Loss: 0.0543, LR: 0.001000\n",
      "Epoch: 064\n",
      "\tTrain:\tTotal Loss: 0.0301, Feature Loss: 0.0070, Position Loss: 0.0455, LR: 0.001000\n",
      "\tTest: \tTotal Loss: 0.0061, Feature Loss: 0.0094, Position Loss: 0.0039, LR: 0.001000\n",
      "Epoch: 065\n",
      "\tTrain:\tTotal Loss: 0.0429, Feature Loss: 0.0121, Position Loss: 0.0635, LR: 0.001000\n",
      "\tTest: \tTotal Loss: 0.0675, Feature Loss: 0.0756, Position Loss: 0.0621, LR: 0.001000\n",
      "Epoch: 066\n",
      "\tTrain:\tTotal Loss: 0.0354, Feature Loss: 0.0096, Position Loss: 0.0526, LR: 0.001000\n",
      "\tTest: \tTotal Loss: 0.1355, Feature Loss: 0.0139, Position Loss: 0.2165, LR: 0.001000\n",
      "Epoch: 067\n",
      "\tTrain:\tTotal Loss: 0.0247, Feature Loss: 0.0060, Position Loss: 0.0372, LR: 0.001000\n",
      "\tTest: \tTotal Loss: 0.0145, Feature Loss: 0.0007, Position Loss: 0.0237, LR: 0.001000\n",
      "Epoch: 068\n",
      "\tTrain:\tTotal Loss: 0.0313, Feature Loss: 0.0078, Position Loss: 0.0470, LR: 0.001000\n",
      "\tTest: \tTotal Loss: 0.0054, Feature Loss: 0.0017, Position Loss: 0.0078, LR: 0.001000\n",
      "Epoch: 069\n",
      "\tTrain:\tTotal Loss: 0.0329, Feature Loss: 0.0105, Position Loss: 0.0477, LR: 0.001000\n",
      "\tTest: \tTotal Loss: 0.0068, Feature Loss: 0.0002, Position Loss: 0.0111, LR: 0.001000\n",
      "Epoch: 070\n",
      "\tTrain:\tTotal Loss: 0.0286, Feature Loss: 0.0065, Position Loss: 0.0434, LR: 0.001000\n",
      "\tTest: \tTotal Loss: 0.0040, Feature Loss: 0.0014, Position Loss: 0.0057, LR: 0.001000\n",
      "Epoch: 071\n",
      "\tTrain:\tTotal Loss: 0.0325, Feature Loss: 0.0071, Position Loss: 0.0494, LR: 0.001000\n",
      "\tTest: \tTotal Loss: 0.0322, Feature Loss: 0.0087, Position Loss: 0.0478, LR: 0.001000\n",
      "Epoch: 072\n",
      "\tTrain:\tTotal Loss: 0.0262, Feature Loss: 0.0063, Position Loss: 0.0395, LR: 0.001000\n",
      "\tTest: \tTotal Loss: 0.0150, Feature Loss: 0.0239, Position Loss: 0.0091, LR: 0.001000\n",
      "Epoch: 073\n",
      "\tTrain:\tTotal Loss: 0.0273, Feature Loss: 0.0075, Position Loss: 0.0404, LR: 0.001000\n",
      "\tTest: \tTotal Loss: 0.0042, Feature Loss: 0.0030, Position Loss: 0.0050, LR: 0.001000\n",
      "Epoch: 074\n",
      "\tTrain:\tTotal Loss: 0.0331, Feature Loss: 0.0103, Position Loss: 0.0483, LR: 0.001000\n",
      "\tTest: \tTotal Loss: 0.0491, Feature Loss: 0.0416, Position Loss: 0.0540, LR: 0.001000\n",
      "Epoch: 075\n",
      "\tTrain:\tTotal Loss: 0.0321, Feature Loss: 0.0088, Position Loss: 0.0476, LR: 0.001000\n",
      "\tTest: \tTotal Loss: 0.0174, Feature Loss: 0.0064, Position Loss: 0.0247, LR: 0.001000\n",
      "Epoch: 076\n",
      "\tTrain:\tTotal Loss: 0.0314, Feature Loss: 0.0074, Position Loss: 0.0473, LR: 0.001000\n",
      "\tTest: \tTotal Loss: 0.0435, Feature Loss: 0.0196, Position Loss: 0.0594, LR: 0.001000\n",
      "Epoch: 077\n",
      "\tTrain:\tTotal Loss: 0.0363, Feature Loss: 0.0079, Position Loss: 0.0552, LR: 0.001000\n",
      "\tTest: \tTotal Loss: 0.0101, Feature Loss: 0.0002, Position Loss: 0.0167, LR: 0.001000\n",
      "Epoch: 078\n",
      "\tTrain:\tTotal Loss: 0.0249, Feature Loss: 0.0047, Position Loss: 0.0384, LR: 0.001000\n",
      "\tTest: \tTotal Loss: 0.0043, Feature Loss: 0.0058, Position Loss: 0.0033, LR: 0.001000\n",
      "Epoch: 079\n",
      "\tTrain:\tTotal Loss: 0.0269, Feature Loss: 0.0062, Position Loss: 0.0408, LR: 0.001000\n",
      "\tTest: \tTotal Loss: 0.0102, Feature Loss: 0.0020, Position Loss: 0.0156, LR: 0.001000\n",
      "Epoch: 080\n",
      "\tTrain:\tTotal Loss: 0.0293, Feature Loss: 0.0039, Position Loss: 0.0462, LR: 0.001000\n",
      "\tTest: \tTotal Loss: 0.0313, Feature Loss: 0.0026, Position Loss: 0.0504, LR: 0.001000\n",
      "Epoch: 081\n",
      "\tTrain:\tTotal Loss: 0.0401, Feature Loss: 0.0143, Position Loss: 0.0574, LR: 0.001000\n",
      "\tTest: \tTotal Loss: 0.0158, Feature Loss: 0.0027, Position Loss: 0.0246, LR: 0.001000\n",
      "Epoch: 082\n",
      "\tTrain:\tTotal Loss: 0.0402, Feature Loss: 0.0108, Position Loss: 0.0597, LR: 0.001000\n",
      "\tTest: \tTotal Loss: 0.0089, Feature Loss: 0.0042, Position Loss: 0.0120, LR: 0.001000\n",
      "Epoch: 083\n",
      "\tTrain:\tTotal Loss: 0.0251, Feature Loss: 0.0035, Position Loss: 0.0395, LR: 0.001000\n",
      "\tTest: \tTotal Loss: 0.0124, Feature Loss: 0.0036, Position Loss: 0.0182, LR: 0.001000\n",
      "Epoch: 084\n",
      "\tTrain:\tTotal Loss: 0.0200, Feature Loss: 0.0029, Position Loss: 0.0315, LR: 0.001000\n",
      "\tTest: \tTotal Loss: 0.0075, Feature Loss: 0.0001, Position Loss: 0.0124, LR: 0.001000\n",
      "Epoch: 085\n",
      "\tTrain:\tTotal Loss: 0.0385, Feature Loss: 0.0100, Position Loss: 0.0575, LR: 0.001000\n",
      "\tTest: \tTotal Loss: 0.0298, Feature Loss: 0.0083, Position Loss: 0.0442, LR: 0.001000\n",
      "Epoch: 086\n",
      "\tTrain:\tTotal Loss: 0.0271, Feature Loss: 0.0060, Position Loss: 0.0411, LR: 0.001000\n",
      "\tTest: \tTotal Loss: 0.0283, Feature Loss: 0.0006, Position Loss: 0.0467, LR: 0.001000\n",
      "Epoch: 087\n",
      "\tTrain:\tTotal Loss: 0.0315, Feature Loss: 0.0085, Position Loss: 0.0468, LR: 0.001000\n",
      "\tTest: \tTotal Loss: 0.0804, Feature Loss: 0.0049, Position Loss: 0.1308, LR: 0.001000\n",
      "Epoch: 088\n",
      "\tTrain:\tTotal Loss: 0.0268, Feature Loss: 0.0054, Position Loss: 0.0410, LR: 0.001000\n",
      "\tTest: \tTotal Loss: 0.0071, Feature Loss: 0.0067, Position Loss: 0.0073, LR: 0.001000\n",
      "Epoch: 089\n",
      "\tTrain:\tTotal Loss: 0.0251, Feature Loss: 0.0056, Position Loss: 0.0381, LR: 0.001000\n",
      "\tTest: \tTotal Loss: 0.0043, Feature Loss: 0.0008, Position Loss: 0.0066, LR: 0.001000\n",
      "Epoch: 090\n",
      "\tTrain:\tTotal Loss: 0.0248, Feature Loss: 0.0039, Position Loss: 0.0388, LR: 0.001000\n",
      "\tTest: \tTotal Loss: 0.0062, Feature Loss: 0.0122, Position Loss: 0.0022, LR: 0.001000\n",
      "Epoch: 091\n",
      "\tTrain:\tTotal Loss: 0.0208, Feature Loss: 0.0033, Position Loss: 0.0325, LR: 0.001000\n",
      "\tTest: \tTotal Loss: 0.0027, Feature Loss: 0.0016, Position Loss: 0.0034, LR: 0.001000\n",
      "Epoch: 092\n",
      "\tTrain:\tTotal Loss: 0.0235, Feature Loss: 0.0048, Position Loss: 0.0359, LR: 0.001000\n",
      "\tTest: \tTotal Loss: 0.0651, Feature Loss: 0.0156, Position Loss: 0.0981, LR: 0.001000\n",
      "Epoch: 093\n",
      "\tTrain:\tTotal Loss: 0.0306, Feature Loss: 0.0100, Position Loss: 0.0444, LR: 0.001000\n",
      "\tTest: \tTotal Loss: 0.0212, Feature Loss: 0.0053, Position Loss: 0.0317, LR: 0.001000\n",
      "Epoch: 094\n",
      "\tTrain:\tTotal Loss: 0.0291, Feature Loss: 0.0042, Position Loss: 0.0457, LR: 0.001000\n",
      "\tTest: \tTotal Loss: 0.0143, Feature Loss: 0.0101, Position Loss: 0.0170, LR: 0.001000\n",
      "Epoch: 095\n",
      "\tTrain:\tTotal Loss: 0.0276, Feature Loss: 0.0070, Position Loss: 0.0413, LR: 0.001000\n",
      "\tTest: \tTotal Loss: 0.0293, Feature Loss: 0.0010, Position Loss: 0.0482, LR: 0.001000\n",
      "Epoch: 096\n",
      "\tTrain:\tTotal Loss: 0.0275, Feature Loss: 0.0070, Position Loss: 0.0411, LR: 0.001000\n",
      "\tTest: \tTotal Loss: 0.0046, Feature Loss: 0.0004, Position Loss: 0.0074, LR: 0.001000\n",
      "Epoch: 097\n",
      "\tTrain:\tTotal Loss: 0.0274, Feature Loss: 0.0069, Position Loss: 0.0411, LR: 0.001000\n",
      "\tTest: \tTotal Loss: 0.0191, Feature Loss: 0.0327, Position Loss: 0.0100, LR: 0.001000\n",
      "Epoch: 098\n",
      "\tTrain:\tTotal Loss: 0.0241, Feature Loss: 0.0057, Position Loss: 0.0364, LR: 0.001000\n",
      "\tTest: \tTotal Loss: 0.0225, Feature Loss: 0.0128, Position Loss: 0.0290, LR: 0.001000\n",
      "Epoch: 099\n",
      "\tTrain:\tTotal Loss: 0.0308, Feature Loss: 0.0134, Position Loss: 0.0424, LR: 0.001000\n",
      "\tTest: \tTotal Loss: 0.0318, Feature Loss: 0.0083, Position Loss: 0.0475, LR: 0.001000\n",
      "Epoch: 100\n",
      "\tTrain:\tTotal Loss: 0.0419, Feature Loss: 0.0087, Position Loss: 0.0640, LR: 0.001000\n",
      "\tTest: \tTotal Loss: 0.0015, Feature Loss: 0.0001, Position Loss: 0.0025, LR: 0.001000\n"
     ]
    }
   ],
   "source": [
    "train_total_losses = []\n",
    "train_feature_losses = []\n",
    "train_edge_losses = []\n",
    "train_position_losses = []\n",
    "\n",
    "test_total_losses = []\n",
    "test_feature_losses = []\n",
    "test_edge_losses = []\n",
    "test_position_losses = []\n",
    "\n",
    "early_stopper = EarlyStopper(patience=3, min_delta=10)\n",
    "\n",
    "\n",
    "if model_loaded:        \n",
    "    print(\"Pretrained Model Loaded, no training required\")\n",
    "else:\n",
    "    for epoch in range(1, n_epochs + 1):\n",
    "        train_total_loss, train_feature_loss, train_edge_loss,train_position_loss = train()\n",
    "        test_total_loss, test_feature_loss, test_edge_loss,test_position_loss = test()\n",
    "        \n",
    "        print(f\"Epoch: {epoch:03d}\")\n",
    "        print(f'\\tTrain:\\tTotal Loss: {train_total_loss:.4f}, Feature Loss: {train_feature_loss:.4f}, Position Loss: {train_position_loss:.4f}, LR: {scheduler.get_last_lr()[0]:.6f}')\n",
    "        print(f'\\tTest: \\tTotal Loss: {test_total_loss:.4f}, Feature Loss: {test_feature_loss:.4f}, Position Loss: {test_position_loss:.4f}, LR: {scheduler.get_last_lr()[0]:.6f}')\n",
    "        \n",
    "        if(early_stopper.early_stop(test_total_loss)):\n",
    "            print(\"Early Stopping\")\n",
    "            break\n",
    "\n",
    "        train_total_losses.append(train_total_loss)\n",
    "        train_feature_losses.append(train_feature_loss)\n",
    "        train_edge_losses.append(train_edge_loss)\n",
    "        train_position_losses.append(train_position_loss)\n",
    "\n",
    "        test_total_losses.append(test_total_loss)\n",
    "        test_feature_losses.append(test_feature_loss)\n",
    "        test_edge_losses.append(test_edge_loss)\n",
    "        test_position_losses.append(test_position_loss)\n",
    "        \n",
    "        scheduler.step()\n",
    "\n",
    "    torch.save(model,\"./models/\"+model_name)"
   ]
  },
  {
   "cell_type": "code",
   "execution_count": 39,
   "metadata": {},
   "outputs": [
    {
     "data": {
      "image/png": "[encoded data removed]",
      "text/plain": [
       "<Figure size 640x480 with 1 Axes>"
      ]
     },
     "metadata": {},
     "output_type": "display_data"
    }
   ],
   "source": [
    "plt.plot(test_total_losses,label=\"test\")\n",
    "plt.xlabel(\"Epochs\")\n",
    "plt.ylabel(\"Total Loss\")\n",
    "plt.legend()\n",
    "plt.title(\"Total Loss\")\n",
    "plt.savefig(\"./plots/\"+model_name+\"_total_loss.png\")\n",
    "plt.show()\n"
   ]
  },
  {
   "cell_type": "code",
   "execution_count": 40,
   "metadata": {},
   "outputs": [
    {
     "data": {
      "image/png": "[encoded data removed]",
      "text/plain": [
       "<Figure size 640x480 with 1 Axes>"
      ]
     },
     "metadata": {},
     "output_type": "display_data"
    }
   ],
   "source": [
    "# train vs test feature loss\n",
    "\n",
    "plt.plot(test_feature_losses,label=\"test\")\n",
    "plt.xlabel(\"Epochs\")\n",
    "plt.ylabel(\"Feature Loss\")\n",
    "plt.legend()\n",
    "plt.title(\"Feature Loss\")\n",
    "plt.savefig(\"./plots/\"+model_name+\"_feature_loss.png\")\n",
    "plt.show()\n"
   ]
  },
  {
   "cell_type": "code",
   "execution_count": 41,
   "metadata": {},
   "outputs": [
    {
     "data": {
      "image/png": "[encoded data removed]",
      "text/plain": [
       "<Figure size 640x480 with 1 Axes>"
      ]
     },
     "metadata": {},
     "output_type": "display_data"
    }
   ],
   "source": [
    "# train vs test position loss\n",
    "# plt.plot(train_position_losses,label=\"train\")\n",
    "plt.plot(test_position_losses,label=\"test\")\n",
    "plt.xlabel(\"Epochs\")\n",
    "plt.ylabel(\"Position Loss\")\n",
    "plt.legend()\n",
    "plt.title(\"Position Loss\")\n",
    "plt.savefig(\"./plots/\"+model_name+\"_position_loss.png\")\n",
    "plt.show()\n"
   ]
  },
  {
   "cell_type": "code",
   "execution_count": 42,
   "metadata": {
    "colab": {
     "base_uri": "https://localhost:8080/"
    },
    "id": "Qh1tn4jHZzNy",
    "outputId": "baaf7ea4-07e8-41bd-aac6-9575569172ac"
   },
   "outputs": [
    {
     "name": "stdout",
     "output_type": "stream",
     "text": [
      "Average Error without hydrogen -  0.0006241217660418004\n",
      "Average Error with hydrogen -  8.225388893251303\n"
     ]
    }
   ],
   "source": [
    "from torch.functional import F\n",
    "\n",
    "avg1 = 0\n",
    "avg2 = 0\n",
    "\n",
    "embeddings = []\n",
    "input_feature = []\n",
    "decoded_feature = []\n",
    "\n",
    "for ind in range(len(test_loader)):\n",
    "    test_graph = test_loader.dataset[ind]\n",
    "\n",
    "    model.double()\n",
    "    z,encoded_edge_index = model.encode(test_graph.x,test_graph.edge_index)\n",
    "    decoded_x,decoded_edge_index = model.decode(z,encoded_edge_index)\n",
    "    heavy_indices = torch.where(test_graph.x[:,4] > torch.tensor([1]).to(device))\n",
    "\n",
    "    embeddings.append(z)\n",
    "    decoded_feature.append(decoded_x)\n",
    "    input_feature.append(test_graph.x)\n",
    "    \n",
    "    Error_wo_s = F.mse_loss(decoded_x[heavy_indices], test_graph.x[heavy_indices]).detach().cpu().numpy()\n",
    "    # heavy indices here are the indices of the heavy atoms in the graph that is the atoms that are not hydrogen\n",
    "    # write a function to calculate the error including the hydrogen atoms\n",
    "    Error_w_s = F.mse_loss(decoded_x, test_graph.x).detach().cpu().numpy()\n",
    "\n",
    "\n",
    "    avg1 += Error_wo_s\n",
    "    avg2 += Error_w_s\n",
    "\n",
    "print(\"Average Error without hydrogen - \", avg1/len(test_loader))\n",
    "print(\"Average Error with hydrogen - \", avg2/len(test_loader))\n",
    "\n"
   ]
  },
  {
   "cell_type": "code",
   "execution_count": 43,
   "metadata": {},
   "outputs": [
    {
     "name": "stdout",
     "output_type": "stream",
     "text": [
      "tensor([[10.8004,  9.9265, 10.7918,  0.1505,  8.0105]], dtype=torch.float64,\n",
      "       grad_fn=<IndexBackward0>) tensor([[10.7963,  9.9279, 10.7336,  0.1520,  8.0000]], dtype=torch.float64)\n"
     ]
    },
    {
     "data": {
      "text/plain": [
       "(tensor([[10.8004,  9.9265, 10.7918,  0.1505,  8.0105],\n",
       "         [10.7760,  9.9038, 10.7674,  0.1503,  8.0106],\n",
       "         [10.7484,  9.8787, 10.7399,  0.1502,  8.0101],\n",
       "         [11.1163, 10.2148, 11.1069,  0.1502,  8.0111]], dtype=torch.float64,\n",
       "        grad_fn=<LeakyReluBackward0>),\n",
       " tensor([[10.7963,  9.9279, 10.7336,  0.1520,  8.0000],\n",
       "         [10.5830,  9.0389, 10.4501,  0.1200,  1.0000],\n",
       "         [10.1523, 10.1238, 11.4141,  0.1200,  1.0000],\n",
       "         [10.7049,  9.8540, 10.7760,  0.0000,  0.0000]], dtype=torch.float64))"
      ]
     },
     "execution_count": 43,
     "metadata": {},
     "output_type": "execute_result"
    }
   ],
   "source": [
    "np.set_printoptions(suppress=True)\n",
    "heavy_indices = torch.where(input_feature[0][:,4] > torch.tensor([1]).to(device))\n",
    "heavy_indices\n",
    "print(decoded_feature[0][heavy_indices],input_feature[0][heavy_indices])\n",
    "# tried to print the decoded feature and the input feature for the first graph in the test loader\n",
    "# only the heavy atoms are printed\n",
    "# now we need to print the hydrogen atoms as well\n",
    "# we have the indices of the hydrogen atoms in the heavy indices variable\n",
    "\n",
    "decoded_feature[0],input_feature[0]"
   ]
  },
  {
   "cell_type": "code",
   "execution_count": 44,
   "metadata": {
    "colab": {
     "base_uri": "https://localhost:8080/",
     "height": 516
    },
    "id": "YdJKGevGm0sr",
    "outputId": "476d0e1c-deb3-41e1-a68a-e71d58f173df"
   },
   "outputs": [
    {
     "data": {
      "image/png": "[encoded data removed]",
      "text/plain": [
       "<Figure size 640x480 with 1 Axes>"
      ]
     },
     "metadata": {},
     "output_type": "display_data"
    }
   ],
   "source": [
    "add_self_loops=False\n",
    "adj_binary = convert_to_adj(decoded_edge_index, num_nodes=decoded_x.shape[0])\n",
    "indices = torch.where(adj_binary)\n",
    "G = nx.Graph()\n",
    "if not add_self_loops:\n",
    "    edges = [(i, j) for i, j in zip(indices[0].tolist(), indices[1].tolist()) if i != j]\n",
    "    G.add_edges_from(edges)\n",
    "else:\n",
    "    G.add_edges_from(zip(indices[0].tolist(), indices[1].tolist()))\n",
    "nx.draw_networkx(G)\n",
    "plt.show()\n"
   ]
  },
  {
   "cell_type": "markdown",
   "metadata": {
    "id": "QQZK2tNWrgPu"
   },
   "source": []
  }
 ],
 "metadata": {
  "colab": {
   "provenance": []
  },
  "kernelspec": {
   "display_name": "Python 3 (ipykernel)",
   "language": "python",
   "name": "python3"
  },
  "language_info": {
   "codemirror_mode": {
    "name": "ipython",
    "version": 3
   },
   "file_extension": ".py",
   "mimetype": "text/x-python",
   "name": "python",
   "nbconvert_exporter": "python",
   "pygments_lexer": "ipython3",
   "version": "3.11.4"
  },
  "vscode": {
   "interpreter": {
    "hash": "1f9761786ac07e4eab4386916b2ac1a9951f01c213aa09aceac38efe2713e05d"
   }
  },
  "widgets": {
   "application/vnd.jupyter.widget-state+json": {
    "174bcfbaa57647a791816ea2f5f95aba": {
     "model_module": "@jupyter-widgets/controls",
     "model_module_version": "1.5.0",
     "model_name": "ButtonModel",
     "state": {
      "_dom_classes": [],
      "_model_module": "@jupyter-widgets/controls",
      "_model_module_version": "1.5.0",
      "_model_name": "ButtonModel",
      "_view_count": null,
      "_view_module": "@jupyter-widgets/controls",
      "_view_module_version": "1.5.0",
      "_view_name": "ButtonView",
      "button_style": "",
      "description": "",
      "disabled": false,
      "icon": "compress",
      "layout": "IPY_MODEL_f7e90ca6eca44a02aa7dbd7c721963d2",
      "style": "IPY_MODEL_d0b06dda6324492e96af92e3aeea444b",
      "tooltip": ""
     }
    },
    "1ccf61fe60854532adca37efa0ce3d8c": {
     "model_module": "@jupyter-widgets/base",
     "model_module_version": "1.2.0",
     "model_name": "LayoutModel",
     "state": {
      "_model_module": "@jupyter-widgets/base",
      "_model_module_version": "1.2.0",
      "_model_name": "LayoutModel",
      "_view_count": null,
      "_view_module": "@jupyter-widgets/base",
      "_view_module_version": "1.2.0",
      "_view_name": "LayoutView",
      "align_content": null,
      "align_items": null,
      "align_self": null,
      "border": null,
      "bottom": null,
      "display": null,
      "flex": null,
      "flex_flow": null,
      "grid_area": null,
      "grid_auto_columns": null,
      "grid_auto_flow": null,
      "grid_auto_rows": null,
      "grid_column": null,
      "grid_gap": null,
      "grid_row": null,
      "grid_template_areas": null,
      "grid_template_columns": null,
      "grid_template_rows": null,
      "height": null,
      "justify_content": null,
      "justify_items": null,
      "left": null,
      "margin": null,
      "max_height": null,
      "max_width": null,
      "min_height": null,
      "min_width": null,
      "object_fit": null,
      "object_position": null,
      "order": null,
      "overflow": null,
      "overflow_x": null,
      "overflow_y": null,
      "padding": null,
      "right": null,
      "top": null,
      "visibility": null,
      "width": null
     }
    },
    "1dbdb82571c54cdd93dc2852bfff8d40": {
     "model_module": "@jupyter-widgets/controls",
     "model_module_version": "1.5.0",
     "model_name": "HBoxModel",
     "state": {
      "_dom_classes": [],
      "_model_module": "@jupyter-widgets/controls",
      "_model_module_version": "1.5.0",
      "_model_name": "HBoxModel",
      "_view_count": null,
      "_view_module": "@jupyter-widgets/controls",
      "_view_module_version": "1.5.0",
      "_view_name": "HBoxView",
      "box_style": "",
      "children": [
       "IPY_MODEL_51f160dd2cbe413ca4340f08c1c556c6",
       "IPY_MODEL_f25cd88e94d7471fba0524c195300dbd"
      ],
      "layout": "IPY_MODEL_c842ad6e08ac425eade8ae91843af6cf"
     }
    },
    "51f160dd2cbe413ca4340f08c1c556c6": {
     "model_module": "@jupyter-widgets/controls",
     "model_module_version": "1.5.0",
     "model_name": "PlayModel",
     "state": {
      "_dom_classes": [],
      "_model_module": "@jupyter-widgets/controls",
      "_model_module_version": "1.5.0",
      "_model_name": "PlayModel",
      "_playing": false,
      "_repeat": false,
      "_view_count": null,
      "_view_module": "@jupyter-widgets/controls",
      "_view_module_version": "1.5.0",
      "_view_name": "PlayView",
      "description": "",
      "description_tooltip": null,
      "disabled": false,
      "interval": 100,
      "layout": "IPY_MODEL_8cb134fe0b18494bbefe6c95adc7d14e",
      "max": 0,
      "min": 0,
      "show_repeat": true,
      "step": 1,
      "style": "IPY_MODEL_65d323feef3b4d44a7846a7c208946f1",
      "value": 0
     }
    },
    "65d323feef3b4d44a7846a7c208946f1": {
     "model_module": "@jupyter-widgets/controls",
     "model_module_version": "1.5.0",
     "model_name": "DescriptionStyleModel",
     "state": {
      "_model_module": "@jupyter-widgets/controls",
      "_model_module_version": "1.5.0",
      "_model_name": "DescriptionStyleModel",
      "_view_count": null,
      "_view_module": "@jupyter-widgets/base",
      "_view_module_version": "1.2.0",
      "_view_name": "StyleView",
      "description_width": ""
     }
    },
    "83451c0f082c4aa888b1dd14e9c775bf": {
     "model_module": "@jupyter-widgets/base",
     "model_module_version": "1.2.0",
     "model_name": "LayoutModel",
     "state": {
      "_model_module": "@jupyter-widgets/base",
      "_model_module_version": "1.2.0",
      "_model_name": "LayoutModel",
      "_view_count": null,
      "_view_module": "@jupyter-widgets/base",
      "_view_module_version": "1.2.0",
      "_view_name": "LayoutView",
      "align_content": null,
      "align_items": null,
      "align_self": null,
      "border": null,
      "bottom": null,
      "display": null,
      "flex": null,
      "flex_flow": null,
      "grid_area": null,
      "grid_auto_columns": null,
      "grid_auto_flow": null,
      "grid_auto_rows": null,
      "grid_column": null,
      "grid_gap": null,
      "grid_row": null,
      "grid_template_areas": null,
      "grid_template_columns": null,
      "grid_template_rows": null,
      "height": null,
      "justify_content": null,
      "justify_items": null,
      "left": null,
      "margin": null,
      "max_height": null,
      "max_width": null,
      "min_height": null,
      "min_width": null,
      "object_fit": null,
      "object_position": null,
      "order": null,
      "overflow": null,
      "overflow_x": null,
      "overflow_y": null,
      "padding": null,
      "right": null,
      "top": null,
      "visibility": null,
      "width": null
     }
    },
    "8cb134fe0b18494bbefe6c95adc7d14e": {
     "model_module": "@jupyter-widgets/base",
     "model_module_version": "1.2.0",
     "model_name": "LayoutModel",
     "state": {
      "_model_module": "@jupyter-widgets/base",
      "_model_module_version": "1.2.0",
      "_model_name": "LayoutModel",
      "_view_count": null,
      "_view_module": "@jupyter-widgets/base",
      "_view_module_version": "1.2.0",
      "_view_name": "LayoutView",
      "align_content": null,
      "align_items": null,
      "align_self": null,
      "border": null,
      "bottom": null,
      "display": null,
      "flex": null,
      "flex_flow": null,
      "grid_area": null,
      "grid_auto_columns": null,
      "grid_auto_flow": null,
      "grid_auto_rows": null,
      "grid_column": null,
      "grid_gap": null,
      "grid_row": null,
      "grid_template_areas": null,
      "grid_template_columns": null,
      "grid_template_rows": null,
      "height": null,
      "justify_content": null,
      "justify_items": null,
      "left": null,
      "margin": null,
      "max_height": null,
      "max_width": null,
      "min_height": null,
      "min_width": null,
      "object_fit": null,
      "object_position": null,
      "order": null,
      "overflow": null,
      "overflow_x": null,
      "overflow_y": null,
      "padding": null,
      "right": null,
      "top": null,
      "visibility": null,
      "width": null
     }
    },
    "b3e2e11d45734b7d9224fb987459470b": {
     "model_module": "nglview-js-widgets",
     "model_module_version": "3.0.1",
     "model_name": "NGLModel",
     "state": {
      "_camera_orientation": [
       -10.103352365027183,
       6.385389408422379,
       -0.592550746983955,
       0,
       3.959195270940704,
       5.341158002393939,
       -9.949816445385695,
       0,
       -5.0447088212804285,
       -8.596561905384883,
       -6.622090275149148,
       0,
       -1.7100000381469727,
       -0.8059999942779541,
       -0.2979999780654907,
       1
      ],
      "_camera_str": "orthographic",
      "_dom_classes": [],
      "_gui_theme": null,
      "_ibtn_fullscreen": "IPY_MODEL_174bcfbaa57647a791816ea2f5f95aba",
      "_igui": null,
      "_iplayer": "IPY_MODEL_1dbdb82571c54cdd93dc2852bfff8d40",
      "_model_module": "nglview-js-widgets",
      "_model_module_version": "3.0.1",
      "_model_name": "NGLModel",
      "_ngl_color_dict": {},
      "_ngl_coordinate_resource": {},
      "_ngl_full_stage_parameters": {
       "ambientColor": 14540253,
       "ambientIntensity": 0.2,
       "backgroundColor": "white",
       "cameraEyeSep": 0.3,
       "cameraFov": 40,
       "cameraType": "perspective",
       "clipDist": 10,
       "clipFar": 100,
       "clipNear": 0,
       "fogFar": 100,
       "fogNear": 50,
       "hoverTimeout": 0,
       "impostor": true,
       "lightColor": 14540253,
       "lightIntensity": 1,
       "mousePreset": "default",
       "panSpeed": 1,
       "quality": "medium",
       "rotateSpeed": 2,
       "sampleLevel": 0,
       "tooltip": true,
       "workerDefault": true,
       "zoomSpeed": 1.2
      },
      "_ngl_msg_archive": [
       {
        "args": [
         {
          "binary": false,
          "data": "MODEL     1\nATOM      1    O MOL     1       1.736   0.839   0.257  1.00  0.00           O  \nATOM      2    H MOL     1       1.777   0.781   0.322  1.00  0.00           H  \nATOM      3    H MOL     1       1.643   0.831   0.274  1.00  0.00           H  \nATOM      4    X MOL     1       1.730   0.831   0.267  1.00  0.00           X  \nENDMDL\n",
          "type": "blob"
         }
        ],
        "kwargs": {
         "defaultRepresentation": true,
         "ext": "pdb"
        },
        "methodName": "loadFile",
        "reconstruc_color_scheme": false,
        "target": "Stage",
        "type": "call_method"
       }
      ],
      "_ngl_original_stage_parameters": {
       "ambientColor": 14540253,
       "ambientIntensity": 0.2,
       "backgroundColor": "white",
       "cameraEyeSep": 0.3,
       "cameraFov": 40,
       "cameraType": "perspective",
       "clipDist": 10,
       "clipFar": 100,
       "clipNear": 0,
       "fogFar": 100,
       "fogNear": 50,
       "hoverTimeout": 0,
       "impostor": true,
       "lightColor": 14540253,
       "lightIntensity": 1,
       "mousePreset": "default",
       "panSpeed": 1,
       "quality": "medium",
       "rotateSpeed": 2,
       "sampleLevel": 0,
       "tooltip": true,
       "workerDefault": true,
       "zoomSpeed": 1.2
      },
      "_ngl_repr_dict": {
       "0": {
        "0": {
         "params": {
          "aspectRatio": 1.5,
          "assembly": "default",
          "bondScale": 0.3,
          "bondSpacing": 0.75,
          "clipCenter": {
           "x": 0,
           "y": 0,
           "z": 0
          },
          "clipNear": 0,
          "clipRadius": 0,
          "colorMode": "hcl",
          "colorReverse": false,
          "colorScale": "",
          "colorScheme": "element",
          "colorValue": 9474192,
          "cylinderOnly": false,
          "defaultAssembly": "",
          "depthWrite": true,
          "diffuse": 16777215,
          "diffuseInterior": false,
          "disableImpostor": false,
          "disablePicking": false,
          "flatShaded": false,
          "interiorColor": 2236962,
          "interiorDarkening": 0,
          "lazy": false,
          "lineOnly": false,
          "linewidth": 2,
          "matrix": {
           "elements": [
            1,
            0,
            0,
            0,
            0,
            1,
            0,
            0,
            0,
            0,
            1,
            0,
            0,
            0,
            0,
            1
           ]
          },
          "metalness": 0,
          "multipleBond": "off",
          "opacity": 1,
          "openEnded": true,
          "quality": "high",
          "radialSegments": 20,
          "radiusData": {},
          "radiusScale": 2,
          "radiusSize": 0.15,
          "radiusType": "size",
          "roughness": 0.4,
          "sele": "",
          "side": "double",
          "sphereDetail": 2,
          "useInteriorColor": true,
          "visible": true,
          "wireframe": false
         },
         "type": "ball+stick"
        }
       },
       "1": {
        "0": {
         "params": {
          "aspectRatio": 1.5,
          "assembly": "default",
          "bondScale": 0.3,
          "bondSpacing": 0.75,
          "clipCenter": {
           "x": 0,
           "y": 0,
           "z": 0
          },
          "clipNear": 0,
          "clipRadius": 0,
          "colorMode": "hcl",
          "colorReverse": false,
          "colorScale": "",
          "colorScheme": "element",
          "colorValue": 9474192,
          "cylinderOnly": false,
          "defaultAssembly": "",
          "depthWrite": true,
          "diffuse": 16777215,
          "diffuseInterior": false,
          "disableImpostor": false,
          "disablePicking": false,
          "flatShaded": false,
          "interiorColor": 2236962,
          "interiorDarkening": 0,
          "lazy": false,
          "lineOnly": false,
          "linewidth": 2,
          "matrix": {
           "elements": [
            1,
            0,
            0,
            0,
            0,
            1,
            0,
            0,
            0,
            0,
            1,
            0,
            0,
            0,
            0,
            1
           ]
          },
          "metalness": 0,
          "multipleBond": "off",
          "opacity": 1,
          "openEnded": true,
          "quality": "high",
          "radialSegments": 20,
          "radiusData": {},
          "radiusScale": 2,
          "radiusSize": 0.15,
          "radiusType": "size",
          "roughness": 0.4,
          "sele": "",
          "side": "double",
          "sphereDetail": 2,
          "useInteriorColor": true,
          "visible": true,
          "wireframe": false
         },
         "type": "ball+stick"
        }
       }
      },
      "_ngl_serialize": false,
      "_ngl_version": "2.0.0-dev.36",
      "_ngl_view_id": [
       "5FF00EC2-ABC3-45F3-A902-138379E769E1"
      ],
      "_player_dict": {},
      "_scene_position": {},
      "_scene_rotation": {},
      "_synced_model_ids": [],
      "_synced_repr_model_ids": [],
      "_view_count": null,
      "_view_height": "",
      "_view_module": "nglview-js-widgets",
      "_view_module_version": "3.0.1",
      "_view_name": "NGLView",
      "_view_width": "",
      "background": "white",
      "frame": 0,
      "gui_style": null,
      "layout": "IPY_MODEL_83451c0f082c4aa888b1dd14e9c775bf",
      "max_frame": 0,
      "n_components": 2,
      "picked": {}
     }
    },
    "c842ad6e08ac425eade8ae91843af6cf": {
     "model_module": "@jupyter-widgets/base",
     "model_module_version": "1.2.0",
     "model_name": "LayoutModel",
     "state": {
      "_model_module": "@jupyter-widgets/base",
      "_model_module_version": "1.2.0",
      "_model_name": "LayoutModel",
      "_view_count": null,
      "_view_module": "@jupyter-widgets/base",
      "_view_module_version": "1.2.0",
      "_view_name": "LayoutView",
      "align_content": null,
      "align_items": null,
      "align_self": null,
      "border": null,
      "bottom": null,
      "display": null,
      "flex": null,
      "flex_flow": null,
      "grid_area": null,
      "grid_auto_columns": null,
      "grid_auto_flow": null,
      "grid_auto_rows": null,
      "grid_column": null,
      "grid_gap": null,
      "grid_row": null,
      "grid_template_areas": null,
      "grid_template_columns": null,
      "grid_template_rows": null,
      "height": null,
      "justify_content": null,
      "justify_items": null,
      "left": null,
      "margin": null,
      "max_height": null,
      "max_width": null,
      "min_height": null,
      "min_width": null,
      "object_fit": null,
      "object_position": null,
      "order": null,
      "overflow": null,
      "overflow_x": null,
      "overflow_y": null,
      "padding": null,
      "right": null,
      "top": null,
      "visibility": null,
      "width": null
     }
    },
    "d0b06dda6324492e96af92e3aeea444b": {
     "model_module": "@jupyter-widgets/controls",
     "model_module_version": "1.5.0",
     "model_name": "ButtonStyleModel",
     "state": {
      "_model_module": "@jupyter-widgets/controls",
      "_model_module_version": "1.5.0",
      "_model_name": "ButtonStyleModel",
      "_view_count": null,
      "_view_module": "@jupyter-widgets/base",
      "_view_module_version": "1.2.0",
      "_view_name": "StyleView",
      "button_color": null,
      "font_weight": ""
     }
    },
    "e8f4eabea82a4f928fa75a55769ed112": {
     "model_module": "@jupyter-widgets/controls",
     "model_module_version": "1.5.0",
     "model_name": "SliderStyleModel",
     "state": {
      "_model_module": "@jupyter-widgets/controls",
      "_model_module_version": "1.5.0",
      "_model_name": "SliderStyleModel",
      "_view_count": null,
      "_view_module": "@jupyter-widgets/base",
      "_view_module_version": "1.2.0",
      "_view_name": "StyleView",
      "description_width": "",
      "handle_color": null
     }
    },
    "f25cd88e94d7471fba0524c195300dbd": {
     "model_module": "@jupyter-widgets/controls",
     "model_module_version": "1.5.0",
     "model_name": "IntSliderModel",
     "state": {
      "_dom_classes": [],
      "_model_module": "@jupyter-widgets/controls",
      "_model_module_version": "1.5.0",
      "_model_name": "IntSliderModel",
      "_view_count": null,
      "_view_module": "@jupyter-widgets/controls",
      "_view_module_version": "1.5.0",
      "_view_name": "IntSliderView",
      "continuous_update": true,
      "description": "",
      "description_tooltip": null,
      "disabled": false,
      "layout": "IPY_MODEL_1ccf61fe60854532adca37efa0ce3d8c",
      "max": 0,
      "min": 0,
      "orientation": "horizontal",
      "readout": true,
      "readout_format": "d",
      "step": 1,
      "style": "IPY_MODEL_e8f4eabea82a4f928fa75a55769ed112",
      "value": 0
     }
    },
    "f7e90ca6eca44a02aa7dbd7c721963d2": {
     "model_module": "@jupyter-widgets/base",
     "model_module_version": "1.2.0",
     "model_name": "LayoutModel",
     "state": {
      "_model_module": "@jupyter-widgets/base",
      "_model_module_version": "1.2.0",
      "_model_name": "LayoutModel",
      "_view_count": null,
      "_view_module": "@jupyter-widgets/base",
      "_view_module_version": "1.2.0",
      "_view_name": "LayoutView",
      "align_content": null,
      "align_items": null,
      "align_self": null,
      "border": null,
      "bottom": null,
      "display": null,
      "flex": null,
      "flex_flow": null,
      "grid_area": null,
      "grid_auto_columns": null,
      "grid_auto_flow": null,
      "grid_auto_rows": null,
      "grid_column": null,
      "grid_gap": null,
      "grid_row": null,
      "grid_template_areas": null,
      "grid_template_columns": null,
      "grid_template_rows": null,
      "height": null,
      "justify_content": null,
      "justify_items": null,
      "left": null,
      "margin": null,
      "max_height": null,
      "max_width": null,
      "min_height": null,
      "min_width": null,
      "object_fit": null,
      "object_position": null,
      "order": null,
      "overflow": null,
      "overflow_x": null,
      "overflow_y": null,
      "padding": null,
      "right": null,
      "top": null,
      "visibility": null,
      "width": "34px"
     }
    }
   }
  }
 },
 "nbformat": 4,
 "nbformat_minor": 1
}
