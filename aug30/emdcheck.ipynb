{
 "cells": [
  {
   "cell_type": "code",
   "execution_count": 8,
   "metadata": {},
   "outputs": [],
   "source": [
    "import mdtraj as md\n",
    "from ase import Atoms\n",
    "import nglview as nv\n",
    "import networkx as nx\n",
    "\n",
    "import torch\n",
    "import torch_geometric.transforms as T\n",
    "from torch_geometric.loader import DataLoader\n",
    "from torch_geometric.nn import GCNConv, SAGPooling, InnerProductDecoder\n",
    "import torch_geometric.data as data\n",
    "from torch_geometric.utils.convert import to_networkx\n",
    "\n",
    "import numpy as np\n",
    "import matplotlib.pyplot as plt\n",
    "from PyEMD import EMD\n",
    "import emd\n"
   ]
  },
  {
   "cell_type": "code",
   "execution_count": 9,
   "metadata": {},
   "outputs": [],
   "source": [
    "emd=EMD()"
   ]
  },
  {
   "cell_type": "code",
   "execution_count": 10,
   "metadata": {},
   "outputs": [],
   "source": [
    "from PyEMD import EMD\n",
    "import emd\n",
    "emd=EMD()"
   ]
  },
  {
   "cell_type": "code",
   "execution_count": 11,
   "metadata": {},
   "outputs": [],
   "source": [
    "import torch\n",
    "import torch.nn as nn\n",
    "\n",
    "# import _emd_ext._emd as emd\n",
    "\n",
    "\n",
    "class EMDFunction(torch.autograd.Function):\n",
    "\t@staticmethod\n",
    "\tdef forward(self, xyz1, xyz2):\n",
    "\t\tcost, match = emd.emd_forward(xyz1, xyz2)\n",
    "\t\tself.save_for_backward(xyz1, xyz2, match)\n",
    "\t\treturn cost\n",
    "\n",
    "\n",
    "\t@staticmethod\n",
    "\tdef backward(self, grad_output):\n",
    "\t\txyz1, xyz2, match = self.saved_tensors\n",
    "\t\tgrad_xyz1, grad_xyz2 = emd.emd_backward(xyz1, xyz2, match)\n",
    "\t\treturn grad_xyz1, grad_xyz2\n",
    "\n",
    "\n",
    "\n",
    "\n",
    "class EMDLoss(nn.Module):\n",
    "\t'''\n",
    "\tComputes the (approximate) Earth Mover's Distance between two point sets. \n",
    "\n",
    "\tIMPLEMENTATION LIMITATIONS:\n",
    "\t- Double tensors must have <=11 dimensions\n",
    "\t- Float tensors must have <=23 dimensions\n",
    "\tThis is due to the use of CUDA shared memory in the computation. This shared memory is limited by the hardware to 48kB.\n",
    "\t'''\n",
    "\n",
    "\tdef __init__(self):\n",
    "\t\tsuper(EMDLoss, self).__init__()\n",
    "\n",
    "\tdef forward(self, xyz1, xyz2):\n",
    "\n",
    "\t\tassert xyz1.shape[-1] == xyz2.shape[-1], 'Both point sets must have the same dimensionality'\n",
    "\t\tif xyz1.dtype == torch.float64 and xyz1.shape[-1] > 11:\n",
    "\t\t\terror('Tensors of type double can have a maximum of 11 dimensions')\n",
    "\t\tif xyz1.dtype == torch.float32 and xyz1.shape[-1] > 23:\n",
    "\t\t\terror('Tensors of type float can have a maximum of 23 dimensions')\n",
    "\n",
    "\t\treturn EMDFunction.apply(xyz1, xyz2)"
   ]
  },
  {
   "cell_type": "code",
   "execution_count": 12,
   "metadata": {},
   "outputs": [
    {
     "ename": "AttributeError",
     "evalue": "'EMD' object has no attribute 'emd_forward'",
     "output_type": "error",
     "traceback": [
      "\u001b[0;31m---------------------------------------------------------------------------\u001b[0m",
      "\u001b[0;31mAttributeError\u001b[0m                            Traceback (most recent call last)",
      "Cell \u001b[0;32mIn[12], line 7\u001b[0m\n\u001b[1;32m      4\u001b[0m p1\u001b[39m.\u001b[39mrequires_grad \u001b[39m=\u001b[39m \u001b[39mTrue\u001b[39;00m\n\u001b[1;32m      5\u001b[0m p2\u001b[39m.\u001b[39mrequires_grad \u001b[39m=\u001b[39m \u001b[39mTrue\u001b[39;00m\n\u001b[0;32m----> 7\u001b[0m cost \u001b[39m=\u001b[39m dist(p1, p2)\n\u001b[1;32m     10\u001b[0m \u001b[39mprint\u001b[39m(cost)\n\u001b[1;32m     11\u001b[0m loss \u001b[39m=\u001b[39m torch\u001b[39m.\u001b[39msum(cost)\n",
      "File \u001b[0;32m~/.local/lib/python3.10/site-packages/torch/nn/modules/module.py:1501\u001b[0m, in \u001b[0;36mModule._call_impl\u001b[0;34m(self, *args, **kwargs)\u001b[0m\n\u001b[1;32m   1496\u001b[0m \u001b[39m# If we don't have any hooks, we want to skip the rest of the logic in\u001b[39;00m\n\u001b[1;32m   1497\u001b[0m \u001b[39m# this function, and just call forward.\u001b[39;00m\n\u001b[1;32m   1498\u001b[0m \u001b[39mif\u001b[39;00m \u001b[39mnot\u001b[39;00m (\u001b[39mself\u001b[39m\u001b[39m.\u001b[39m_backward_hooks \u001b[39mor\u001b[39;00m \u001b[39mself\u001b[39m\u001b[39m.\u001b[39m_backward_pre_hooks \u001b[39mor\u001b[39;00m \u001b[39mself\u001b[39m\u001b[39m.\u001b[39m_forward_hooks \u001b[39mor\u001b[39;00m \u001b[39mself\u001b[39m\u001b[39m.\u001b[39m_forward_pre_hooks\n\u001b[1;32m   1499\u001b[0m         \u001b[39mor\u001b[39;00m _global_backward_pre_hooks \u001b[39mor\u001b[39;00m _global_backward_hooks\n\u001b[1;32m   1500\u001b[0m         \u001b[39mor\u001b[39;00m _global_forward_hooks \u001b[39mor\u001b[39;00m _global_forward_pre_hooks):\n\u001b[0;32m-> 1501\u001b[0m     \u001b[39mreturn\u001b[39;00m forward_call(\u001b[39m*\u001b[39;49margs, \u001b[39m*\u001b[39;49m\u001b[39m*\u001b[39;49mkwargs)\n\u001b[1;32m   1502\u001b[0m \u001b[39m# Do not call functions when jit is used\u001b[39;00m\n\u001b[1;32m   1503\u001b[0m full_backward_hooks, non_full_backward_hooks \u001b[39m=\u001b[39m [], []\n",
      "Cell \u001b[0;32mIn[11], line 45\u001b[0m, in \u001b[0;36mEMDLoss.forward\u001b[0;34m(self, xyz1, xyz2)\u001b[0m\n\u001b[1;32m     42\u001b[0m \u001b[39mif\u001b[39;00m xyz1\u001b[39m.\u001b[39mdtype \u001b[39m==\u001b[39m torch\u001b[39m.\u001b[39mfloat32 \u001b[39mand\u001b[39;00m xyz1\u001b[39m.\u001b[39mshape[\u001b[39m-\u001b[39m\u001b[39m1\u001b[39m] \u001b[39m>\u001b[39m \u001b[39m23\u001b[39m:\n\u001b[1;32m     43\u001b[0m \terror(\u001b[39m'\u001b[39m\u001b[39mTensors of type float can have a maximum of 23 dimensions\u001b[39m\u001b[39m'\u001b[39m)\n\u001b[0;32m---> 45\u001b[0m \u001b[39mreturn\u001b[39;00m EMDFunction\u001b[39m.\u001b[39;49mapply(xyz1, xyz2)\n",
      "File \u001b[0;32m~/.local/lib/python3.10/site-packages/torch/autograd/function.py:506\u001b[0m, in \u001b[0;36mFunction.apply\u001b[0;34m(cls, *args, **kwargs)\u001b[0m\n\u001b[1;32m    503\u001b[0m \u001b[39mif\u001b[39;00m \u001b[39mnot\u001b[39;00m torch\u001b[39m.\u001b[39m_C\u001b[39m.\u001b[39m_are_functorch_transforms_active():\n\u001b[1;32m    504\u001b[0m     \u001b[39m# See NOTE: [functorch vjp and autograd interaction]\u001b[39;00m\n\u001b[1;32m    505\u001b[0m     args \u001b[39m=\u001b[39m _functorch\u001b[39m.\u001b[39mutils\u001b[39m.\u001b[39munwrap_dead_wrappers(args)\n\u001b[0;32m--> 506\u001b[0m     \u001b[39mreturn\u001b[39;00m \u001b[39msuper\u001b[39;49m()\u001b[39m.\u001b[39;49mapply(\u001b[39m*\u001b[39;49margs, \u001b[39m*\u001b[39;49m\u001b[39m*\u001b[39;49mkwargs)  \u001b[39m# type: ignore[misc]\u001b[39;00m\n\u001b[1;32m    508\u001b[0m \u001b[39mif\u001b[39;00m \u001b[39mcls\u001b[39m\u001b[39m.\u001b[39msetup_context \u001b[39m==\u001b[39m _SingleLevelFunction\u001b[39m.\u001b[39msetup_context:\n\u001b[1;32m    509\u001b[0m     \u001b[39mraise\u001b[39;00m \u001b[39mRuntimeError\u001b[39;00m(\n\u001b[1;32m    510\u001b[0m         \u001b[39m'\u001b[39m\u001b[39mIn order to use an autograd.Function with functorch transforms \u001b[39m\u001b[39m'\u001b[39m\n\u001b[1;32m    511\u001b[0m         \u001b[39m'\u001b[39m\u001b[39m(vmap, grad, jvp, jacrev, ...), it must override the setup_context \u001b[39m\u001b[39m'\u001b[39m\n\u001b[1;32m    512\u001b[0m         \u001b[39m'\u001b[39m\u001b[39mstaticmethod. For more details, please see \u001b[39m\u001b[39m'\u001b[39m\n\u001b[1;32m    513\u001b[0m         \u001b[39m'\u001b[39m\u001b[39mhttps://pytorch.org/docs/master/notes/extending.func.html\u001b[39m\u001b[39m'\u001b[39m)\n",
      "Cell \u001b[0;32mIn[11], line 10\u001b[0m, in \u001b[0;36mEMDFunction.forward\u001b[0;34m(self, xyz1, xyz2)\u001b[0m\n\u001b[1;32m      8\u001b[0m \u001b[39m@staticmethod\u001b[39m\n\u001b[1;32m      9\u001b[0m \u001b[39mdef\u001b[39;00m \u001b[39mforward\u001b[39m(\u001b[39mself\u001b[39m, xyz1, xyz2):\n\u001b[0;32m---> 10\u001b[0m \tcost, match \u001b[39m=\u001b[39m emd\u001b[39m.\u001b[39;49memd_forward(xyz1, xyz2)\n\u001b[1;32m     11\u001b[0m \t\u001b[39mself\u001b[39m\u001b[39m.\u001b[39msave_for_backward(xyz1, xyz2, match)\n\u001b[1;32m     12\u001b[0m \t\u001b[39mreturn\u001b[39;00m cost\n",
      "\u001b[0;31mAttributeError\u001b[0m: 'EMD' object has no attribute 'emd_forward'"
     ]
    }
   ],
   "source": [
    "dist=EMDLoss()\n",
    "p1 = torch.rand(1,5,3).cuda().double()\n",
    "p2 = torch.rand(1,10,3).cuda().double()\n",
    "p1.requires_grad = True\n",
    "p2.requires_grad = True\n",
    "\n",
    "cost = dist(p1, p2)\n",
    "\n",
    "\n",
    "print(cost)\n",
    "loss = torch.sum(cost)\n",
    "print(loss)\n",
    "loss.backward()\n",
    "print(p1.grad)\n",
    "print(p2.grad)\n"
   ]
  },
  {
   "cell_type": "code",
   "execution_count": null,
   "metadata": {},
   "outputs": [],
   "source": []
  }
 ],
 "metadata": {
  "kernelspec": {
   "display_name": "base",
   "language": "python",
   "name": "python3"
  },
  "language_info": {
   "codemirror_mode": {
    "name": "ipython",
    "version": 3
   },
   "file_extension": ".py",
   "mimetype": "text/x-python",
   "name": "python",
   "nbconvert_exporter": "python",
   "pygments_lexer": "ipython3",
   "version": "3.10.9"
  },
  "orig_nbformat": 4
 },
 "nbformat": 4,
 "nbformat_minor": 2
}
