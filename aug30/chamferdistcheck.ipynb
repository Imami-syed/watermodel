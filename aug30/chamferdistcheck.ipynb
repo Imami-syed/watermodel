{
 "cells": [
  {
   "cell_type": "code",
   "execution_count": 2,
   "metadata": {},
   "outputs": [],
   "source": [
    "import torch\n",
    "\n",
    "from chamferdist import ChamferDistance\n",
    "\n",
    "\n"
   ]
  },
  {
   "cell_type": "code",
   "execution_count": 3,
   "metadata": {},
   "outputs": [],
   "source": [
    "\n",
    "# Create two random pointclouds\n",
    "# (Batchsize x Number of points x Number of dims)\n",
    "source_cloud = torch.randn(1, 100, 3).cuda()\n",
    "target_cloud = torch.randn(1, 50, 3).cuda()\n",
    "source_cloud.requires_grad = True"
   ]
  },
  {
   "cell_type": "code",
   "execution_count": 5,
   "metadata": {},
   "outputs": [
    {
     "ename": "RuntimeError",
     "evalue": "Not compiled with GPU support.",
     "output_type": "error",
     "traceback": [
      "\u001b[0;31m---------------------------------------------------------------------------\u001b[0m",
      "\u001b[0;31mRuntimeError\u001b[0m                              Traceback (most recent call last)",
      "Cell \u001b[0;32mIn[5], line 4\u001b[0m\n\u001b[1;32m      2\u001b[0m chamferDist \u001b[39m=\u001b[39m ChamferDistance()\n\u001b[1;32m      3\u001b[0m \u001b[39m# Compute Chamfer distance\u001b[39;00m\n\u001b[0;32m----> 4\u001b[0m dist_forward \u001b[39m=\u001b[39m chamferDist(source_cloud, target_cloud)\n\u001b[1;32m      5\u001b[0m \u001b[39mprint\u001b[39m(\u001b[39m\"\u001b[39m\u001b[39mForward Chamfer distance:\u001b[39m\u001b[39m\"\u001b[39m, dist_forward)\n",
      "File \u001b[0;32m~/.local/lib/python3.10/site-packages/torch/nn/modules/module.py:1501\u001b[0m, in \u001b[0;36mModule._call_impl\u001b[0;34m(self, *args, **kwargs)\u001b[0m\n\u001b[1;32m   1496\u001b[0m \u001b[39m# If we don't have any hooks, we want to skip the rest of the logic in\u001b[39;00m\n\u001b[1;32m   1497\u001b[0m \u001b[39m# this function, and just call forward.\u001b[39;00m\n\u001b[1;32m   1498\u001b[0m \u001b[39mif\u001b[39;00m \u001b[39mnot\u001b[39;00m (\u001b[39mself\u001b[39m\u001b[39m.\u001b[39m_backward_hooks \u001b[39mor\u001b[39;00m \u001b[39mself\u001b[39m\u001b[39m.\u001b[39m_backward_pre_hooks \u001b[39mor\u001b[39;00m \u001b[39mself\u001b[39m\u001b[39m.\u001b[39m_forward_hooks \u001b[39mor\u001b[39;00m \u001b[39mself\u001b[39m\u001b[39m.\u001b[39m_forward_pre_hooks\n\u001b[1;32m   1499\u001b[0m         \u001b[39mor\u001b[39;00m _global_backward_pre_hooks \u001b[39mor\u001b[39;00m _global_backward_hooks\n\u001b[1;32m   1500\u001b[0m         \u001b[39mor\u001b[39;00m _global_forward_hooks \u001b[39mor\u001b[39;00m _global_forward_pre_hooks):\n\u001b[0;32m-> 1501\u001b[0m     \u001b[39mreturn\u001b[39;00m forward_call(\u001b[39m*\u001b[39;49margs, \u001b[39m*\u001b[39;49m\u001b[39m*\u001b[39;49mkwargs)\n\u001b[1;32m   1502\u001b[0m \u001b[39m# Do not call functions when jit is used\u001b[39;00m\n\u001b[1;32m   1503\u001b[0m full_backward_hooks, non_full_backward_hooks \u001b[39m=\u001b[39m [], []\n",
      "File \u001b[0;32m~/.local/lib/python3.10/site-packages/chamferdist/chamfer.py:77\u001b[0m, in \u001b[0;36mChamferDistance.forward\u001b[0;34m(self, source_cloud, target_cloud, bidirectional, reverse, reduction)\u001b[0m\n\u001b[1;32m     74\u001b[0m \u001b[39mif\u001b[39;00m reduction \u001b[39m!=\u001b[39m \u001b[39m\"\u001b[39m\u001b[39msum\u001b[39m\u001b[39m\"\u001b[39m \u001b[39mand\u001b[39;00m reduction \u001b[39m!=\u001b[39m \u001b[39m\"\u001b[39m\u001b[39mmean\u001b[39m\u001b[39m\"\u001b[39m:\n\u001b[1;32m     75\u001b[0m     \u001b[39mraise\u001b[39;00m \u001b[39mValueError\u001b[39;00m(\u001b[39m'\u001b[39m\u001b[39mReduction must either be \u001b[39m\u001b[39m\"\u001b[39m\u001b[39msum\u001b[39m\u001b[39m\"\u001b[39m\u001b[39m or \u001b[39m\u001b[39m\"\u001b[39m\u001b[39mmean\u001b[39m\u001b[39m\"\u001b[39m\u001b[39m.\u001b[39m\u001b[39m'\u001b[39m)\n\u001b[0;32m---> 77\u001b[0m source_nn \u001b[39m=\u001b[39m knn_points(\n\u001b[1;32m     78\u001b[0m     source_cloud,\n\u001b[1;32m     79\u001b[0m     target_cloud,\n\u001b[1;32m     80\u001b[0m     lengths1\u001b[39m=\u001b[39;49mlengths_source,\n\u001b[1;32m     81\u001b[0m     lengths2\u001b[39m=\u001b[39;49mlengths_target,\n\u001b[1;32m     82\u001b[0m     K\u001b[39m=\u001b[39;49m\u001b[39m1\u001b[39;49m,\n\u001b[1;32m     83\u001b[0m )\n\u001b[1;32m     85\u001b[0m target_nn \u001b[39m=\u001b[39m \u001b[39mNone\u001b[39;00m\n\u001b[1;32m     86\u001b[0m \u001b[39mif\u001b[39;00m reverse \u001b[39mor\u001b[39;00m bidirectional:\n",
      "File \u001b[0;32m~/.local/lib/python3.10/site-packages/chamferdist/chamfer.py:266\u001b[0m, in \u001b[0;36mknn_points\u001b[0;34m(p1, p2, lengths1, lengths2, K, version, return_nn, return_sorted)\u001b[0m\n\u001b[1;32m    263\u001b[0m     lengths2 \u001b[39m=\u001b[39m torch\u001b[39m.\u001b[39mfull((p1\u001b[39m.\u001b[39mshape[\u001b[39m0\u001b[39m],), P2, dtype\u001b[39m=\u001b[39mtorch\u001b[39m.\u001b[39mint64, device\u001b[39m=\u001b[39mp1\u001b[39m.\u001b[39mdevice)\n\u001b[1;32m    265\u001b[0m \u001b[39m# pyre-fixme[16]: `_knn_points` has no attribute `apply`.\u001b[39;00m\n\u001b[0;32m--> 266\u001b[0m p1_dists, p1_idx \u001b[39m=\u001b[39m _knn_points\u001b[39m.\u001b[39;49mapply(\n\u001b[1;32m    267\u001b[0m     p1, p2, lengths1, lengths2, K, version, return_sorted\n\u001b[1;32m    268\u001b[0m )\n\u001b[1;32m    270\u001b[0m p2_nn \u001b[39m=\u001b[39m \u001b[39mNone\u001b[39;00m\n\u001b[1;32m    271\u001b[0m \u001b[39mif\u001b[39;00m return_nn:\n",
      "File \u001b[0;32m~/.local/lib/python3.10/site-packages/torch/autograd/function.py:506\u001b[0m, in \u001b[0;36mFunction.apply\u001b[0;34m(cls, *args, **kwargs)\u001b[0m\n\u001b[1;32m    503\u001b[0m \u001b[39mif\u001b[39;00m \u001b[39mnot\u001b[39;00m torch\u001b[39m.\u001b[39m_C\u001b[39m.\u001b[39m_are_functorch_transforms_active():\n\u001b[1;32m    504\u001b[0m     \u001b[39m# See NOTE: [functorch vjp and autograd interaction]\u001b[39;00m\n\u001b[1;32m    505\u001b[0m     args \u001b[39m=\u001b[39m _functorch\u001b[39m.\u001b[39mutils\u001b[39m.\u001b[39munwrap_dead_wrappers(args)\n\u001b[0;32m--> 506\u001b[0m     \u001b[39mreturn\u001b[39;00m \u001b[39msuper\u001b[39;49m()\u001b[39m.\u001b[39;49mapply(\u001b[39m*\u001b[39;49margs, \u001b[39m*\u001b[39;49m\u001b[39m*\u001b[39;49mkwargs)  \u001b[39m# type: ignore[misc]\u001b[39;00m\n\u001b[1;32m    508\u001b[0m \u001b[39mif\u001b[39;00m \u001b[39mcls\u001b[39m\u001b[39m.\u001b[39msetup_context \u001b[39m==\u001b[39m _SingleLevelFunction\u001b[39m.\u001b[39msetup_context:\n\u001b[1;32m    509\u001b[0m     \u001b[39mraise\u001b[39;00m \u001b[39mRuntimeError\u001b[39;00m(\n\u001b[1;32m    510\u001b[0m         \u001b[39m'\u001b[39m\u001b[39mIn order to use an autograd.Function with functorch transforms \u001b[39m\u001b[39m'\u001b[39m\n\u001b[1;32m    511\u001b[0m         \u001b[39m'\u001b[39m\u001b[39m(vmap, grad, jvp, jacrev, ...), it must override the setup_context \u001b[39m\u001b[39m'\u001b[39m\n\u001b[1;32m    512\u001b[0m         \u001b[39m'\u001b[39m\u001b[39mstaticmethod. For more details, please see \u001b[39m\u001b[39m'\u001b[39m\n\u001b[1;32m    513\u001b[0m         \u001b[39m'\u001b[39m\u001b[39mhttps://pytorch.org/docs/master/notes/extending.func.html\u001b[39m\u001b[39m'\u001b[39m)\n",
      "File \u001b[0;32m~/.local/lib/python3.10/site-packages/chamferdist/chamfer.py:162\u001b[0m, in \u001b[0;36m_knn_points.forward\u001b[0;34m(ctx, p1, p2, lengths1, lengths2, K, version, return_sorted)\u001b[0m\n\u001b[1;32m    132\u001b[0m \u001b[39m\u001b[39m\u001b[39m\"\"\"\u001b[39;00m\n\u001b[1;32m    133\u001b[0m \u001b[39mK-Nearest neighbors on point clouds.\u001b[39;00m\n\u001b[1;32m    134\u001b[0m \u001b[39mArgs:\u001b[39;00m\n\u001b[0;32m   (...)\u001b[0m\n\u001b[1;32m    158\u001b[0m \u001b[39m        in p2 has fewer than K points and where a cloud in p1 has fewer than P1 points.\u001b[39;00m\n\u001b[1;32m    159\u001b[0m \u001b[39m\"\"\"\u001b[39;00m\n\u001b[1;32m    161\u001b[0m \u001b[39m# pyre-fixme[16]: Module `pytorch3d` has no attribute `_C`.\u001b[39;00m\n\u001b[0;32m--> 162\u001b[0m idx, dists \u001b[39m=\u001b[39m _C\u001b[39m.\u001b[39;49mknn_points_idx(p1, p2, lengths1, lengths2, K, version)\n\u001b[1;32m    164\u001b[0m \u001b[39m# sort KNN in ascending order if K > 1\u001b[39;00m\n\u001b[1;32m    165\u001b[0m \u001b[39mif\u001b[39;00m K \u001b[39m>\u001b[39m \u001b[39m1\u001b[39m \u001b[39mand\u001b[39;00m return_sorted:\n",
      "\u001b[0;31mRuntimeError\u001b[0m: Not compiled with GPU support."
     ]
    }
   ],
   "source": [
    "\n",
    "# Initialize Chamfer distance module\n",
    "chamferDist = ChamferDistance()\n",
    "# Compute Chamfer distance\n",
    "dist_forward = chamferDist(source_cloud, target_cloud)\n",
    "print(\"Forward Chamfer distance:\", dist_forward)\n"
   ]
  },
  {
   "cell_type": "code",
   "execution_count": null,
   "metadata": {},
   "outputs": [],
   "source": [
    "\n",
    "# Chamfer distance depends on the direction in which it is computed (as the\n",
    "# nearest neighbour varies, in each direction). One can either flip the order\n",
    "# of the arguments, or simply use the \"reverse\" flag.\n",
    "dist_backward = chamferDist(source_cloud, target_cloud, reverse=True)\n",
    "print(\"Backward Chamfer distance:\", dist_backward.detach().cpu().item())\n",
    "# Or, if you rather prefer, flip the order of the arguments.\n",
    "dist_backward = chamferDist(target_cloud, source_cloud)\n",
    "print(\"Backward Chamfer distance:\", dist_backward.detach().cpu().item())\n"
   ]
  },
  {
   "cell_type": "code",
   "execution_count": null,
   "metadata": {},
   "outputs": [],
   "source": [
    "\n",
    "# To get a symmetric measure, the simplest way is to average both the \"forward\"\n",
    "# and \"backward\" distances. This is done by the \"bidirectional\" flag.\n",
    "cdist = 0.5 * chamferDist(source_cloud, target_cloud, bidirectional=True)\n",
    "cdist = 0.5 * chamferDist(target_cloud, source_cloud, bidirectional=True)\n",
    "print(\"Bi-directional Chamfer distance:\", cdist.detach().cpu().item())\n",
    "\n"
   ]
  },
  {
   "cell_type": "code",
   "execution_count": null,
   "metadata": {},
   "outputs": [],
   "source": [
    "# As a sanity check, chamfer distance between a pointcloud and itself must be\n",
    "# zero.\n",
    "dist_self = chamferDist(source_cloud, source_cloud)\n",
    "print(\"Chamfer distance (self):\", dist_self.detach().cpu().item())\n",
    "dist_self = chamferDist(target_cloud, target_cloud)\n",
    "print(\"Chamfer distance (self):\", dist_self.detach().cpu().item())\n",
    "\n"
   ]
  },
  {
   "cell_type": "code",
   "execution_count": null,
   "metadata": {},
   "outputs": [],
   "source": [
    "# Backprop using this loss!\n",
    "cdist.backward()\n",
    "print(\n",
    "    \"Gradient norm wrt bidirectional Chamfer distance:\",\n",
    "    source_cloud.grad.norm().detach().cpu().item(),\n",
    ")"
   ]
  }
 ],
 "metadata": {
  "kernelspec": {
   "display_name": "base",
   "language": "python",
   "name": "python3"
  },
  "language_info": {
   "codemirror_mode": {
    "name": "ipython",
    "version": 3
   },
   "file_extension": ".py",
   "mimetype": "text/x-python",
   "name": "python",
   "nbconvert_exporter": "python",
   "pygments_lexer": "ipython3",
   "version": "3.10.9"
  },
  "orig_nbformat": 4
 },
 "nbformat": 4,
 "nbformat_minor": 2
}
