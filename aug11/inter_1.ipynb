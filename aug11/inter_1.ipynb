{
 "cells": [
  {
   "cell_type": "code",
   "execution_count": 13,
   "metadata": {},
   "outputs": [],
   "source": [
    "import networkx as nx\n",
    "from rdkit import Chem\n",
    "from rdkit.Chem import AllChem\n",
    "from rdkit.Chem import PandasTools\n",
    "import mdtraj as md\n",
    "import nglview as nv\n"
   ]
  },
  {
   "cell_type": "code",
   "execution_count": 16,
   "metadata": {},
   "outputs": [
    {
     "name": "stdout",
     "output_type": "stream",
     "text": [
      "Failed to read molecule 1 from the PDB file.\n",
      "Number of nodes (atoms): 0\n",
      "Number of edges (bonds): 0\n"
     ]
    },
    {
     "name": "stderr",
     "output_type": "stream",
     "text": [
      "[11:08:37] ERROR: Cannot convert 'ATO' to unsigned int on line 4\n",
      "[11:08:37] ERROR: moving to the beginning of the next molecule\n"
     ]
    }
   ],
   "source": [
    "def pdb_to_graph(pdb_file):\n",
    "    # Read the PDB file\n",
    "    suppl = Chem.SDMolSupplier(pdb_file)\n",
    "\n",
    "    # Create a graph\n",
    "    G = nx.Graph()\n",
    "\n",
    "    # Process each molecule in the PDB file\n",
    "    for i, mol in enumerate(suppl):\n",
    "        if mol is None:\n",
    "            print(f\"Failed to read molecule {i + 1} from the PDB file.\")\n",
    "            continue\n",
    "\n",
    "        # Generate 2D coordinates (necessary for generating a graph)\n",
    "        AllChem.Compute2DCoords(mol)\n",
    "\n",
    "        # Add nodes (atoms) to the graph\n",
    "        for atom in mol.GetAtoms():\n",
    "            G.add_node(atom.GetIdx(), atom=atom.GetSymbol(), x=atom.GetProp('_2D_COORD_X'), y=atom.GetProp('_2D_COORD_Y'))\n",
    "\n",
    "        # Add edges (bonds) to the graph\n",
    "        for bond in mol.GetBonds():\n",
    "            start_idx = bond.GetBeginAtomIdx()\n",
    "            end_idx = bond.GetEndAtomIdx()\n",
    "            G.add_edge(start_idx, end_idx, bond_type=str(bond.GetBondType()))\n",
    "\n",
    "    return G\n",
    "\n",
    "# Example usage\n",
    "pdb_file = \"../../simulation/single.pdb\"  # Replace with the actual path to your PDB file\n",
    "try:\n",
    "    graph = pdb_to_graph(pdb_file)\n",
    "    print(\"Number of nodes (atoms):\", graph.number_of_nodes())\n",
    "    print(\"Number of edges (bonds):\", graph.number_of_edges())\n",
    "except Exception as e:\n",
    "    print(\"Error:\", str(e))\n"
   ]
  },
  {
   "cell_type": "code",
   "execution_count": null,
   "metadata": {},
   "outputs": [],
   "source": []
  }
 ],
 "metadata": {
  "kernelspec": {
   "display_name": "Python 3 (ipykernel)",
   "language": "python",
   "name": "python3"
  },
  "language_info": {
   "codemirror_mode": {
    "name": "ipython",
    "version": 3
   },
   "file_extension": ".py",
   "mimetype": "text/x-python",
   "name": "python",
   "nbconvert_exporter": "python",
   "pygments_lexer": "ipython3",
   "version": "3.10.9"
  }
 },
 "nbformat": 4,
 "nbformat_minor": 2
}
