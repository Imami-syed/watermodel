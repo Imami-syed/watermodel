{
 "cells": [
  {
   "cell_type": "code",
   "execution_count": 1,
   "metadata": {},
   "outputs": [
    {
     "data": {
      "application/vnd.jupyter.widget-view+json": {
       "model_id": "0b7d7c3640ab45988b328e19cc1791c6",
       "version_major": 2,
       "version_minor": 0
      },
      "text/plain": []
     },
     "metadata": {},
     "output_type": "display_data"
    }
   ],
   "source": [
    "from stage1 import *"
   ]
  },
  {
   "cell_type": "code",
   "execution_count": 2,
   "metadata": {},
   "outputs": [],
   "source": [
    "nframes,natoms,nmols=(0,0,0)"
   ]
  },
  {
   "cell_type": "code",
   "execution_count": 3,
   "metadata": {},
   "outputs": [],
   "source": [
    "from stage2 import * "
   ]
  },
  {
   "cell_type": "code",
   "execution_count": 4,
   "metadata": {},
   "outputs": [
    {
     "data": {
      "text/plain": [
       "VGAE(\n",
       "  (encoder): VariationalGCNEncoder(\n",
       "    (conv1): GATConv(5, 15, heads=3)\n",
       "    (head_transform1): Linear(45, 15, bias=True)\n",
       "    (bn1): BatchNorm(15)\n",
       "    (conv2): GCNConv(15, 9)\n",
       "    (bn2): BatchNorm(9)\n",
       "    (linear1): Linear(9, 100, bias=True)\n",
       "    (linear2): Linear(100, 4, bias=True)\n",
       "    (transform): Linear(16, 3, bias=True)\n",
       "    (mu): Linear(3, 3, bias=True)\n",
       "    (logstd): Linear(3, 3, bias=True)\n",
       "  )\n",
       "  (decoder): VariationalGCNDecoder(\n",
       "    (inv_transform): Linear(3, 4, bias=True)\n",
       "    (conv1): GCNConv(1, 9)\n",
       "    (bn1): BatchNorm(9)\n",
       "    (conv2): GCNConv(9, 3)\n",
       "    (bn2): BatchNorm(3)\n",
       "    (conv3): GCNConv(3, 3)\n",
       "    (linear1): Linear(3, 512, bias=True)\n",
       "    (linear2): Linear(512, 128, bias=True)\n",
       "    (linear3): Linear(128, 5, bias=True)\n",
       "  )\n",
       ")"
      ]
     },
     "execution_count": 4,
     "metadata": {},
     "output_type": "execute_result"
    }
   ],
   "source": [
    "stage1"
   ]
  },
  {
   "cell_type": "code",
   "execution_count": 5,
   "metadata": {},
   "outputs": [],
   "source": [
    "testframe=md.load_xtc(\"../../xtc_files/50000eql2.xtc\",top=\"../../xtc_files/conf.gro\",frame=0)\n"
   ]
  },
  {
   "cell_type": "code",
   "execution_count": 6,
   "metadata": {},
   "outputs": [],
   "source": [
    "cf=condenseframe(testframe)"
   ]
  },
  {
   "cell_type": "code",
   "execution_count": 7,
   "metadata": {},
   "outputs": [
    {
     "name": "stdout",
     "output_type": "stream",
     "text": [
      "50001 4 592\n"
     ]
    }
   ],
   "source": [
    "meltframes=md.load_xtc(\"../../xtc_files/50000eql2.xtc\",top=\"../../xtc_files/conf.gro\")\n",
    "meltframes.xyz=meltframes.xyz*10\n",
    "global nframes,natoms,nmols \n",
    "nframes = meltframes.xyz.shape[0]\n",
    "natoms = meltframes.topology.residue(0).n_atoms\n",
    "nmols = meltframes.topology.n_residues\n",
    "print (nframes,natoms,nmols)\n",
    "meltframes=meltframes[::1000]"
   ]
  },
  {
   "cell_type": "code",
   "execution_count": 8,
   "metadata": {},
   "outputs": [
    {
     "data": {
      "text/plain": [
       "array([[ 7.84576243e+02, -9.36140506e+01, -1.56635818e+02,\n",
       "         2.28225017e+00,  9.52250063e-01,  1.95350003e+00],\n",
       "       [ 7.79803099e+02, -9.30955292e+01, -1.55628271e+02,\n",
       "         1.36549997e+00,  1.45650005e+00,  2.59900022e+00],\n",
       "       [ 8.75985383e+02, -1.05724399e+02, -1.74737958e+02,\n",
       "         8.33750010e-01,  1.77175009e+00,  7.37500072e-01],\n",
       "       ...,\n",
       "       [ 7.41200941e+02, -8.83453476e+01, -1.47991849e+02,\n",
       "         2.56474996e+00,  1.57500005e+00,  2.47574997e+00],\n",
       "       [ 7.57661722e+02, -9.03470056e+01, -1.51268077e+02,\n",
       "         1.61825013e+00,  1.92200017e+00,  2.49900007e+00],\n",
       "       [ 8.03441321e+02, -9.64539095e+01, -1.60332419e+02,\n",
       "         7.91500092e-01,  2.24175000e+00,  2.16525006e+00]])"
      ]
     },
     "execution_count": 8,
     "metadata": {},
     "output_type": "execute_result"
    }
   ],
   "source": [
    "cf"
   ]
  },
  {
   "cell_type": "code",
   "execution_count": 9,
   "metadata": {},
   "outputs": [
    {
     "name": "stderr",
     "output_type": "stream",
     "text": [
      "100%|██████████| 51/51 [00:37<00:00,  1.37it/s]\n",
      "100%|██████████| 51/51 [00:02<00:00, 24.94it/s]"
     ]
    },
    {
     "name": "stdout",
     "output_type": "stream",
     "text": [
      "30192\n"
     ]
    },
    {
     "name": "stderr",
     "output_type": "stream",
     "text": [
      "\n"
     ]
    }
   ],
   "source": [
    "melt_condensed=condenseAllFrames(meltframes)\n",
    "graphs_melt_cpu=get_graphs(melt_condensed,\"melt\")\n",
    "print(len(graphs_melt_cpu))"
   ]
  },
  {
   "cell_type": "code",
   "execution_count": 10,
   "metadata": {},
   "outputs": [],
   "source": [
    "torch.save(graphs_melt_cpu,f'./graphs/melt_neigh{n_neigh}.pt')"
   ]
  },
  {
   "cell_type": "code",
   "execution_count": 11,
   "metadata": {},
   "outputs": [],
   "source": [
    "g = get_graph(cf,1,n_neigh,\"cry\")"
   ]
  },
  {
   "cell_type": "code",
   "execution_count": 12,
   "metadata": {},
   "outputs": [],
   "source": [
    "graphs_cpu=graphs_melt_cpu\n",
    "np.random.shuffle(graphs_cpu)\n"
   ]
  },
  {
   "cell_type": "code",
   "execution_count": 13,
   "metadata": {},
   "outputs": [],
   "source": [
    "import os\n",
    "in_channels = graphs_cpu[0].num_features\n",
    "out_channels = 5\n",
    "lr = 1e-4\n",
    "n_epochs = 500\n",
    "batch_size=32\n",
    "test_train_split = 0.8\n",
    "model_name = \"Interex1.pt\"\n",
    "model_loaded = False\n",
    "force_train = True\n",
    "device = torch.device('cuda' if torch.cuda.is_available() else 'cpu')\n",
    "\n",
    "if os.path.exists(\"./\"+model_name) and not force_train:\n",
    "    model = torch.load(\"./\"+model_name)\n",
    "    model_loaded = True\n",
    "else:\n",
    "    model = VGAE_S2(VariationalGCNEncoder_S2(in_channels, out_channels,batch_size,n_neigh+1),\n",
    "                    VariationalGCNDecoder_S2(out_channels, in_channels,batch_size,n_neigh+1))\n",
    "\n",
    "model = model.to(device)\n",
    "model = model.double()\n",
    "# optimizer = torch.optim.SGD(model.parameters(), lr=0.1, momentum=0.9)\n",
    "\n",
    "optimizer = torch.optim.Adam(model.parameters(), lr=lr)\n",
    "scheduler = lr_scheduler.StepLR(optimizer, step_size=300, gamma=0.5)\n"
   ]
  },
  {
   "cell_type": "code",
   "execution_count": 14,
   "metadata": {},
   "outputs": [
    {
     "name": "stderr",
     "output_type": "stream",
     "text": [
      "100%|██████████| 30192/30192 [00:01<00:00, 20882.52it/s]\n"
     ]
    }
   ],
   "source": [
    "graphs_device = []\n",
    "for graph in tqdm(graphs_cpu):\n",
    "    graphs_device.append(graph.to(device))"
   ]
  },
  {
   "cell_type": "code",
   "execution_count": 15,
   "metadata": {},
   "outputs": [],
   "source": [
    "graphs = graphs_device\n",
    "total_graphs = len(graphs)\n"
   ]
  },
  {
   "cell_type": "code",
   "execution_count": 16,
   "metadata": {},
   "outputs": [
    {
     "name": "stdout",
     "output_type": "stream",
     "text": [
      "Using: cuda\n",
      "total_graphs: 30192\n",
      "batch Size: 32\n",
      "number of batches: 943\n",
      "Neighbours: 20\n",
      "Model\n",
      " VGAE_S2(\n",
      "  (encoder): VariationalGCNEncoder_S2(\n",
      "    (conv1): GATConv(6, 15, heads=3)\n",
      "    (head_transform1): Linear(45, 15, bias=True)\n",
      "    (bn1): BatchNorm(15)\n",
      "    (conv2): GCNConv(15, 9)\n",
      "    (bn2): BatchNorm(9)\n",
      "    (linear1): Linear(9, 100, bias=True)\n",
      "    (linear2): Linear(100, 4, bias=True)\n",
      "    (transform): Linear(84, 5, bias=True)\n",
      "    (mu): Linear(5, 5, bias=True)\n",
      "    (logstd): Linear(5, 5, bias=True)\n",
      "  )\n",
      "  (decoder): VariationalGCNDecoder_S2(\n",
      "    (inv_transform): Linear(5, 21, bias=True)\n",
      "    (conv1): GCNConv(1, 9)\n",
      "    (bn1): BatchNorm(9)\n",
      "    (conv2): GCNConv(9, 3)\n",
      "    (bn2): BatchNorm(3)\n",
      "    (conv3): GCNConv(3, 3)\n",
      "    (linear1): Linear(3, 512, bias=True)\n",
      "    (linear2): Linear(512, 128, bias=True)\n",
      "    (linear3): Linear(128, 6, bias=True)\n",
      "  )\n",
      ")\n"
     ]
    }
   ],
   "source": [
    "print(\"Using:\",device )\n",
    "print(\"total_graphs:\", total_graphs)\n",
    "print(\"batch Size:\" , batch_size)\n",
    "print(\"number of batches:\",total_graphs//batch_size)\n",
    "print(\"Neighbours:\",n_neigh)\n",
    "print(\"Model\\n\",model)"
   ]
  },
  {
   "cell_type": "code",
   "execution_count": 17,
   "metadata": {},
   "outputs": [],
   "source": [
    "split = int(test_train_split * total_graphs)\n",
    "train_loader = DataLoader(graphs[:split], batch_size=batch_size, shuffle=True)\n",
    "test_loader = DataLoader(graphs[split:], batch_size=batch_size, shuffle=True)"
   ]
  },
  {
   "cell_type": "code",
   "execution_count": 18,
   "metadata": {},
   "outputs": [],
   "source": [
    "cross_entropy_loss = torch.nn.CrossEntropyLoss()\n",
    "MSE_loss = torch.nn.MSELoss()\n",
    "\n",
    "def train():\n",
    "    model.train()\n",
    "    model.zero_grad()\n",
    "    all_loss_mse = 0\n",
    "    for data in train_loader:\n",
    "        optimizer.zero_grad()\n",
    "        z,encoded_edge_index = model.encode(data.x, data.edge_index)\n",
    "        decoded_x, decoded_edge_index = model.decode(z, encoded_edge_index)\n",
    "        loss = MSE_loss(decoded_x, data.x)\n",
    "        loss.backward()\n",
    "        all_loss_mse += float(loss)\n",
    "        optimizer.step()\n",
    "\n",
    "\n",
    "    return all_loss_mse/len(train_loader)"
   ]
  },
  {
   "cell_type": "code",
   "execution_count": 19,
   "metadata": {},
   "outputs": [],
   "source": [
    "def test():\n",
    "    model.eval()\n",
    "    model.zero_grad()\n",
    "    all_loss_mse = 0\n",
    "    for data in test_loader:\n",
    "        optimizer.zero_grad()\n",
    "        z,encoded_edge_index = model.encode(data.x, data.edge_index)\n",
    "        decoded_x, decoded_edge_index = model.decode(z, encoded_edge_index)\n",
    "\n",
    "        loss = MSE_loss(decoded_x, data.x)\n",
    "\n",
    "        all_loss_mse += float(loss)\n",
    "\n",
    "\n",
    "    return all_loss_mse/len(test_loader)"
   ]
  },
  {
   "cell_type": "code",
   "execution_count": 20,
   "metadata": {},
   "outputs": [
    {
     "name": "stdout",
     "output_type": "stream",
     "text": [
      "Epoch: 001\n",
      "\tTrain:\tMSE Loss: 3648.6263\n",
      "\tTest: \tMSE Loss: 3451.9708\n",
      "Epoch: 002\n",
      "\tTrain:\tMSE Loss: 3277.4554\n",
      "\tTest: \tMSE Loss: 3219.1235\n",
      "Epoch: 003\n",
      "\tTrain:\tMSE Loss: 2814.3101\n",
      "\tTest: \tMSE Loss: 2781.8979\n",
      "Epoch: 004\n",
      "\tTrain:\tMSE Loss: 2367.6538\n",
      "\tTest: \tMSE Loss: 2130.1819\n",
      "Epoch: 005\n",
      "\tTrain:\tMSE Loss: 1827.3177\n",
      "\tTest: \tMSE Loss: 1414.6013\n",
      "Epoch: 006\n",
      "\tTrain:\tMSE Loss: 1406.9587\n",
      "\tTest: \tMSE Loss: 1130.9932\n",
      "Epoch: 007\n",
      "\tTrain:\tMSE Loss: 1204.2664\n",
      "\tTest: \tMSE Loss: 1003.2208\n",
      "Epoch: 008\n",
      "\tTrain:\tMSE Loss: 1073.2503\n",
      "\tTest: \tMSE Loss: 928.3691\n",
      "Epoch: 009\n",
      "\tTrain:\tMSE Loss: 979.1834\n",
      "\tTest: \tMSE Loss: 873.2963\n",
      "Epoch: 010\n",
      "\tTrain:\tMSE Loss: 916.2118\n",
      "\tTest: \tMSE Loss: 833.2979\n",
      "Epoch: 011\n",
      "\tTrain:\tMSE Loss: 881.3829\n",
      "\tTest: \tMSE Loss: 813.7564\n",
      "Epoch: 012\n",
      "\tTrain:\tMSE Loss: 848.1043\n",
      "\tTest: \tMSE Loss: 793.9342\n",
      "Epoch: 013\n",
      "\tTrain:\tMSE Loss: 827.9826\n",
      "\tTest: \tMSE Loss: 784.7243\n",
      "Epoch: 014\n",
      "\tTrain:\tMSE Loss: 802.9835\n",
      "\tTest: \tMSE Loss: 765.9553\n",
      "Epoch: 015\n",
      "\tTrain:\tMSE Loss: 788.7234\n",
      "\tTest: \tMSE Loss: 769.2202\n",
      "Epoch: 016\n",
      "\tTrain:\tMSE Loss: 776.1141\n",
      "\tTest: \tMSE Loss: 748.2639\n",
      "Epoch: 017\n",
      "\tTrain:\tMSE Loss: 763.8567\n",
      "\tTest: \tMSE Loss: 827.8208\n",
      "Epoch: 018\n",
      "\tTrain:\tMSE Loss: 755.9020\n",
      "\tTest: \tMSE Loss: 735.0423\n",
      "Epoch: 019\n",
      "\tTrain:\tMSE Loss: 749.7649\n",
      "\tTest: \tMSE Loss: 734.8056\n",
      "Epoch: 020\n",
      "\tTrain:\tMSE Loss: 745.3634\n",
      "\tTest: \tMSE Loss: 726.7893\n",
      "Epoch: 021\n",
      "\tTrain:\tMSE Loss: 739.9151\n",
      "\tTest: \tMSE Loss: 728.7449\n",
      "Epoch: 022\n",
      "\tTrain:\tMSE Loss: 738.8930\n",
      "\tTest: \tMSE Loss: 724.6557\n",
      "Epoch: 023\n",
      "\tTrain:\tMSE Loss: 734.5997\n",
      "\tTest: \tMSE Loss: 720.9673\n",
      "Epoch: 024\n",
      "\tTrain:\tMSE Loss: 731.1774\n",
      "\tTest: \tMSE Loss: 719.7507\n",
      "Epoch: 025\n",
      "\tTrain:\tMSE Loss: 730.2433\n",
      "\tTest: \tMSE Loss: 720.8224\n",
      "Epoch: 026\n",
      "\tTrain:\tMSE Loss: 728.9515\n",
      "\tTest: \tMSE Loss: 719.2223\n",
      "Epoch: 027\n",
      "\tTrain:\tMSE Loss: 726.2977\n",
      "\tTest: \tMSE Loss: 712.4935\n",
      "Epoch: 028\n",
      "\tTrain:\tMSE Loss: 726.5236\n",
      "\tTest: \tMSE Loss: 716.7413\n",
      "Epoch: 029\n",
      "\tTrain:\tMSE Loss: 722.7665\n",
      "\tTest: \tMSE Loss: 711.4630\n",
      "Epoch: 030\n",
      "\tTrain:\tMSE Loss: 722.5764\n",
      "\tTest: \tMSE Loss: 736.9161\n",
      "Epoch: 031\n",
      "\tTrain:\tMSE Loss: 721.5742\n",
      "\tTest: \tMSE Loss: 708.6464\n",
      "Epoch: 032\n",
      "\tTrain:\tMSE Loss: 721.0826\n",
      "\tTest: \tMSE Loss: 732.1014\n",
      "Epoch: 033\n",
      "\tTrain:\tMSE Loss: 719.6768\n",
      "\tTest: \tMSE Loss: 780.3373\n",
      "Epoch: 034\n",
      "\tTrain:\tMSE Loss: 718.6045\n",
      "\tTest: \tMSE Loss: 708.8299\n",
      "Epoch: 035\n",
      "\tTrain:\tMSE Loss: 717.1866\n",
      "\tTest: \tMSE Loss: 705.6597\n",
      "Epoch: 036\n",
      "\tTrain:\tMSE Loss: 716.7324\n",
      "\tTest: \tMSE Loss: 704.6030\n",
      "Epoch: 037\n",
      "\tTrain:\tMSE Loss: 715.0856\n",
      "\tTest: \tMSE Loss: 826.9932\n",
      "Epoch: 038\n",
      "\tTrain:\tMSE Loss: 714.2408\n",
      "\tTest: \tMSE Loss: 702.9090\n",
      "Epoch: 039\n",
      "\tTrain:\tMSE Loss: 711.9449\n",
      "\tTest: \tMSE Loss: 720.7151\n",
      "Epoch: 040\n",
      "\tTrain:\tMSE Loss: 711.8391\n",
      "\tTest: \tMSE Loss: 715.0793\n",
      "Epoch: 041\n",
      "\tTrain:\tMSE Loss: 711.0738\n",
      "\tTest: \tMSE Loss: 699.4709\n",
      "Epoch: 042\n",
      "\tTrain:\tMSE Loss: 709.1408\n",
      "\tTest: \tMSE Loss: 704.9875\n",
      "Epoch: 043\n",
      "\tTrain:\tMSE Loss: 708.4260\n",
      "\tTest: \tMSE Loss: 700.3393\n",
      "Epoch: 044\n",
      "\tTrain:\tMSE Loss: 707.3392\n",
      "\tTest: \tMSE Loss: 713.4347\n",
      "Epoch: 045\n",
      "\tTrain:\tMSE Loss: 707.6669\n",
      "\tTest: \tMSE Loss: 696.3596\n",
      "Epoch: 046\n",
      "\tTrain:\tMSE Loss: 706.3702\n",
      "\tTest: \tMSE Loss: 696.9637\n",
      "Epoch: 047\n",
      "\tTrain:\tMSE Loss: 706.4780\n",
      "\tTest: \tMSE Loss: 729.4080\n",
      "Epoch: 048\n",
      "\tTrain:\tMSE Loss: 705.2648\n",
      "\tTest: \tMSE Loss: 737.9483\n",
      "Epoch: 049\n",
      "\tTrain:\tMSE Loss: 705.6518\n",
      "\tTest: \tMSE Loss: 695.0893\n",
      "Epoch: 050\n",
      "\tTrain:\tMSE Loss: 703.0751\n",
      "\tTest: \tMSE Loss: 694.4294\n",
      "Epoch: 051\n",
      "\tTrain:\tMSE Loss: 703.8545\n",
      "\tTest: \tMSE Loss: 694.7232\n",
      "Epoch: 052\n",
      "\tTrain:\tMSE Loss: 701.8159\n",
      "\tTest: \tMSE Loss: 694.3503\n",
      "Epoch: 053\n",
      "\tTrain:\tMSE Loss: 702.6269\n",
      "\tTest: \tMSE Loss: 692.9074\n",
      "Epoch: 054\n",
      "\tTrain:\tMSE Loss: 701.4879\n",
      "\tTest: \tMSE Loss: 696.4672\n",
      "Epoch: 055\n",
      "\tTrain:\tMSE Loss: 700.6235\n",
      "\tTest: \tMSE Loss: 704.6536\n",
      "Epoch: 056\n",
      "\tTrain:\tMSE Loss: 700.4530\n",
      "\tTest: \tMSE Loss: 722.6386\n",
      "Epoch: 057\n",
      "\tTrain:\tMSE Loss: 699.6732\n",
      "\tTest: \tMSE Loss: 706.1222\n",
      "Epoch: 058\n",
      "\tTrain:\tMSE Loss: 700.1199\n",
      "\tTest: \tMSE Loss: 723.1129\n",
      "Epoch: 059\n",
      "\tTrain:\tMSE Loss: 698.8805\n",
      "\tTest: \tMSE Loss: 692.0525\n",
      "Epoch: 060\n",
      "\tTrain:\tMSE Loss: 698.5478\n",
      "\tTest: \tMSE Loss: 701.0883\n",
      "Epoch: 061\n",
      "\tTrain:\tMSE Loss: 697.4207\n",
      "\tTest: \tMSE Loss: 694.4735\n",
      "Epoch: 062\n",
      "\tTrain:\tMSE Loss: 696.8888\n",
      "\tTest: \tMSE Loss: 695.7544\n",
      "Epoch: 063\n",
      "\tTrain:\tMSE Loss: 696.6835\n",
      "\tTest: \tMSE Loss: 689.0428\n",
      "Epoch: 064\n",
      "\tTrain:\tMSE Loss: 697.2315\n",
      "\tTest: \tMSE Loss: 690.4354\n",
      "Epoch: 065\n",
      "\tTrain:\tMSE Loss: 696.3073\n",
      "\tTest: \tMSE Loss: 734.6230\n",
      "Epoch: 066\n",
      "\tTrain:\tMSE Loss: 696.3055\n",
      "\tTest: \tMSE Loss: 695.7297\n",
      "Epoch: 067\n",
      "\tTrain:\tMSE Loss: 696.0579\n",
      "\tTest: \tMSE Loss: 716.5007\n",
      "Epoch: 068\n",
      "\tTrain:\tMSE Loss: 696.1468\n",
      "\tTest: \tMSE Loss: 698.5238\n",
      "Epoch: 069\n",
      "\tTrain:\tMSE Loss: 695.2785\n",
      "\tTest: \tMSE Loss: 689.5718\n",
      "Epoch: 070\n",
      "\tTrain:\tMSE Loss: 694.9613\n",
      "\tTest: \tMSE Loss: 691.1189\n",
      "Epoch: 071\n",
      "\tTrain:\tMSE Loss: 695.0936\n",
      "\tTest: \tMSE Loss: 692.6757\n",
      "Epoch: 072\n",
      "\tTrain:\tMSE Loss: 694.5728\n",
      "\tTest: \tMSE Loss: 714.8234\n",
      "Epoch: 073\n",
      "\tTrain:\tMSE Loss: 694.8774\n",
      "\tTest: \tMSE Loss: 728.8646\n",
      "Epoch: 074\n",
      "\tTrain:\tMSE Loss: 694.3456\n",
      "\tTest: \tMSE Loss: 728.1787\n",
      "Epoch: 075\n",
      "\tTrain:\tMSE Loss: 694.1168\n",
      "\tTest: \tMSE Loss: 689.6097\n",
      "Epoch: 076\n",
      "\tTrain:\tMSE Loss: 694.1022\n",
      "\tTest: \tMSE Loss: 718.4759\n",
      "Epoch: 077\n",
      "\tTrain:\tMSE Loss: 693.9327\n",
      "\tTest: \tMSE Loss: 689.6288\n",
      "Epoch: 078\n",
      "\tTrain:\tMSE Loss: 694.0128\n",
      "\tTest: \tMSE Loss: 690.3980\n",
      "Epoch: 079\n",
      "\tTrain:\tMSE Loss: 693.3327\n",
      "\tTest: \tMSE Loss: 686.4415\n",
      "Epoch: 080\n",
      "\tTrain:\tMSE Loss: 693.2858\n",
      "\tTest: \tMSE Loss: 699.6671\n",
      "Epoch: 081\n",
      "\tTrain:\tMSE Loss: 692.3416\n",
      "\tTest: \tMSE Loss: 691.7146\n",
      "Epoch: 082\n",
      "\tTrain:\tMSE Loss: 691.8714\n",
      "\tTest: \tMSE Loss: 692.6473\n",
      "Epoch: 083\n",
      "\tTrain:\tMSE Loss: 692.3003\n",
      "\tTest: \tMSE Loss: 687.6535\n",
      "Epoch: 084\n",
      "\tTrain:\tMSE Loss: 691.6021\n",
      "\tTest: \tMSE Loss: 684.6359\n"
     ]
    }
   ],
   "source": [
    "train_losses = []\n",
    "test_losses = []\n",
    "\n",
    "if model_loaded:\n",
    "    print(\"Pretrained Model Loaded, no training required\")\n",
    "else:\n",
    "    for epoch in range(1, n_epochs + 1):\n",
    "\n",
    "        train_loss_mse = train()\n",
    "        test_loss_mse = test()\n",
    "\n",
    "        print(f\"Epoch: {epoch:03d}\")\n",
    "        print(f'\\tTrain:\\tMSE Loss: {train_loss_mse:.4f}')\n",
    "        print(f'\\tTest: \\tMSE Loss: {test_loss_mse:.4f}')\n",
    "\n",
    "        train_losses.append([train_loss_mse]);\n",
    "        test_losses.append([test_loss_mse]);\n",
    "\n",
    "        scheduler.step()\n",
    "    torch.save(model,\"./models/\"+model_name)"
   ]
  },
  {
   "cell_type": "code",
   "execution_count": null,
   "metadata": {},
   "outputs": [
    {
     "data": {
      "image/png": "[encoded data removed]",
      "text/plain": [
       "<Figure size 640x480 with 1 Axes>"
      ]
     },
     "metadata": {},
     "output_type": "display_data"
    }
   ],
   "source": [
    "if not model_loaded:\n",
    "    plt.figure()\n",
    "    plt.plot(test_losses, label='Total Test Loss')\n",
    "    plt.plot(train_losses, label='Total Train Loss')\n",
    "    plt.legend()\n",
    "    plt.title('Total Loss')\n",
    "    plt.show()"
   ]
  },
  {
   "cell_type": "code",
   "execution_count": null,
   "metadata": {},
   "outputs": [
    {
     "data": {
      "image/png": "[encoded data removed]",
      "text/plain": [
       "<Figure size 640x480 with 1 Axes>"
      ]
     },
     "metadata": {},
     "output_type": "display_data"
    }
   ],
   "source": [
    "if not model_loaded:\n",
    "    plt.figure()\n",
    "    # plt.plot(test_losses, label='Total Test Loss')\n",
    "    plt.plot(train_losses, label='Total Train Loss')\n",
    "    plt.legend()\n",
    "    plt.title('Total Loss')\n",
    "    plt.show()"
   ]
  },
  {
   "cell_type": "code",
   "execution_count": null,
   "metadata": {},
   "outputs": [
    {
     "data": {
      "image/png": "[encoded data removed]",
      "text/plain": [
       "<Figure size 640x480 with 1 Axes>"
      ]
     },
     "metadata": {},
     "output_type": "display_data"
    }
   ],
   "source": [
    "if not model_loaded:\n",
    "    plt.figure()\n",
    "    plt.plot(test_losses, label='Total Test Loss')\n",
    "    # plt.plot(train_losses, label='Total Train Loss')\n",
    "    plt.legend()\n",
    "    plt.title('Total Loss')\n",
    "    plt.show()"
   ]
  },
  {
   "cell_type": "code",
   "execution_count": null,
   "metadata": {},
   "outputs": [
    {
     "name": "stdout",
     "output_type": "stream",
     "text": [
      "Average Error 480.01981349439484\n"
     ]
    }
   ],
   "source": [
    "from torch.functional import F\n",
    "\n",
    "avg1 = 0\n",
    "avg2 = 0\n",
    "\n",
    "embeddings = []\n",
    "input_feature = []\n",
    "decoded_feature = []\n",
    "\n",
    "for ind in range(len(test_loader)):\n",
    "    test_graph = test_loader.dataset[ind]\n",
    "\n",
    "    model.double()\n",
    "    z,encoded_edge_index = model.encode(test_graph.x,test_graph.edge_index)\n",
    "    decoded_x,decoded_edge_index = model.decode(z,encoded_edge_index)\n",
    "    heavy_indices = torch.where(test_graph.x[:,4] > torch.tensor([1]).to(device))\n",
    "\n",
    "    embeddings.append(z)\n",
    "    decoded_feature.append(decoded_x)\n",
    "    input_feature.append(test_graph.x)\n",
    "    \n",
    "    Error_wo_s = F.mse_loss(decoded_x[heavy_indices], test_graph.x[heavy_indices]).detach().cpu().numpy()\n",
    "\n",
    "\n",
    "\n",
    "    avg1 += Error_wo_s\n",
    "\n",
    "print(\"Average Error\", avg1/len(test_loader))\n"
   ]
  },
  {
   "cell_type": "code",
   "execution_count": null,
   "metadata": {},
   "outputs": [
    {
     "data": {
      "text/plain": [
       "(tensor([[179.7610, -20.2570, -35.4742,   8.5771,   7.4389,   9.6765],\n",
       "         [170.1104, -19.2292, -34.3640,   8.7725,   7.6922,   9.5724],\n",
       "         [166.6036, -18.8006, -33.6672,   8.8168,   7.7271,   9.6178],\n",
       "         [164.8741, -18.5892, -33.3236,   8.8387,   7.7443,   9.6402],\n",
       "         [158.6197, -17.8247, -32.0808,   8.9179,   7.8066,   9.7212],\n",
       "         [139.3450, -15.4688, -28.2509,   9.1617,   7.9985,   9.9709],\n",
       "         [154.3597, -17.3040, -31.2344,   8.9718,   7.8490,   9.7764],\n",
       "         [196.8947, -22.5030, -39.6861,   8.4336,   7.4255,   9.2254],\n",
       "         [153.4884, -17.1975, -31.0612,   8.9828,   7.8577,   9.7877],\n",
       "         [129.8995, -14.3143, -26.3741,   9.2812,   8.0926,  10.0932],\n",
       "         [105.7762, -11.3647, -21.5795,   9.5859,   8.3330,  10.4047]],\n",
       "        device='cuda:0', dtype=torch.float64, grad_fn=<IndexBackward0>),\n",
       " tensor([[ 1.9595e+02, -2.2529e+01, -3.9455e+01,  1.9700e+00,  2.5250e+00,\n",
       "           2.2938e+01],\n",
       "         [ 1.2559e+02, -1.4399e+01, -2.5723e+01,  4.7425e+00,  3.3025e+00,\n",
       "           2.1875e+01],\n",
       "         [ 3.2952e+01, -3.2739e+00, -8.2272e+00,  3.0200e+00,  3.7300e+00,\n",
       "           2.6018e+01],\n",
       "         [ 2.5449e+01, -2.3025e+00, -6.4168e+00,  5.1375e+00,  3.8025e+00,\n",
       "           2.4618e+01],\n",
       "         [ 3.3784e+02, -3.9484e+01, -6.7722e+01,  1.3750e-01,  2.7800e+00,\n",
       "           1.9292e+01],\n",
       "         [ 1.0971e+02, -1.2564e+01, -2.2776e+01,  3.4300e+00,  5.8250e+00,\n",
       "           2.0480e+01],\n",
       "         [ 3.3060e+01, -3.3133e+00, -7.8446e+00,  1.3900e+00,  6.0300e+00,\n",
       "           2.5703e+01],\n",
       "         [ 2.7494e+02, -3.1729e+01, -5.4948e+01,  3.7300e+00,  1.9600e+00,\n",
       "           1.8272e+01],\n",
       "         [ 2.6683e+00,  6.9166e-01, -2.2427e+00,  1.0850e+00,  7.8550e+00,\n",
       "           2.4018e+01],\n",
       "         [ 1.8643e+02, -2.1361e+01, -3.7821e+01,  9.5500e-01,  6.5125e+00,\n",
       "           1.8940e+01],\n",
       "         [-3.0786e-01,  9.3316e-01, -3.1087e-01,  6.7975e+00,  5.5425e+00,\n",
       "           2.2068e+01]], device='cuda:0', dtype=torch.float64))"
      ]
     },
     "execution_count": 53,
     "metadata": {},
     "output_type": "execute_result"
    }
   ],
   "source": [
    "np.set_printoptions(suppress=True)\n",
    "heavy_indices = torch.where(input_feature[0][:,4] > torch.tensor([1]).to(device))\n",
    "heavy_indices\n",
    "decoded_feature[0][heavy_indices],input_feature[0][heavy_indices]\n",
    "# len(input_feature[0][heavy_indices])"
   ]
  },
  {
   "cell_type": "code",
   "execution_count": null,
   "metadata": {},
   "outputs": [
    {
     "data": {
      "image/png": "[encoded data removed]",
      "text/plain": [
       "<Figure size 640x480 with 1 Axes>"
      ]
     },
     "metadata": {},
     "output_type": "display_data"
    }
   ],
   "source": [
    "add_self_loops=False\n",
    "adj_binary = convert_to_adj(decoded_edge_index, num_nodes=decoded_x.shape[0])\n",
    "indices = torch.where(adj_binary)\n",
    "G = nx.Graph()\n",
    "if not add_self_loops:\n",
    "    edges = [(i, j) for i, j in zip(indices[0].tolist(), indices[1].tolist()) if i != j]\n",
    "    G.add_edges_from(edges)\n",
    "else:\n",
    "    G.add_edges_from(zip(indices[0].tolist(), indices[1].tolist()))\n",
    "nx.draw_networkx(G)\n",
    "plt.show()\n"
   ]
  },
  {
   "cell_type": "code",
   "execution_count": null,
   "metadata": {},
   "outputs": [],
   "source": []
  }
 ],
 "metadata": {
  "kernelspec": {
   "display_name": "3dpytorch",
   "language": "python",
   "name": "python3"
  },
  "language_info": {
   "codemirror_mode": {
    "name": "ipython",
    "version": 3
   },
   "file_extension": ".py",
   "mimetype": "text/x-python",
   "name": "python",
   "nbconvert_exporter": "python",
   "pygments_lexer": "ipython3",
   "version": "3.11.5"
  }
 },
 "nbformat": 4,
 "nbformat_minor": 2
}
