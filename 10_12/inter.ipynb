{
 "cells": [
  {
   "cell_type": "code",
   "execution_count": 1,
   "metadata": {},
   "outputs": [
    {
     "data": {
      "application/vnd.jupyter.widget-view+json": {
       "model_id": "e7cf19372f344dd6877c9c4cb4da6f92",
       "version_major": 2,
       "version_minor": 0
      },
      "text/plain": []
     },
     "metadata": {},
     "output_type": "display_data"
    }
   ],
   "source": [
    "from stage1 import *"
   ]
  },
  {
   "cell_type": "code",
   "execution_count": 2,
   "metadata": {},
   "outputs": [],
   "source": [
    "nframes,natoms,nmols=(0,0,0)"
   ]
  },
  {
   "cell_type": "code",
   "execution_count": 3,
   "metadata": {},
   "outputs": [],
   "source": [
    "from stage2 import * "
   ]
  },
  {
   "cell_type": "code",
   "execution_count": 4,
   "metadata": {},
   "outputs": [
    {
     "data": {
      "text/plain": [
       "VGAE(\n",
       "  (encoder): VariationalGCNEncoder(\n",
       "    (conv1): GATConv(5, 15, heads=3)\n",
       "    (head_transform1): Linear(45, 15, bias=True)\n",
       "    (bn1): BatchNorm(15)\n",
       "    (conv2): GCNConv(15, 9)\n",
       "    (bn2): BatchNorm(9)\n",
       "    (linear1): Linear(9, 100, bias=True)\n",
       "    (linear2): Linear(100, 4, bias=True)\n",
       "    (transform): Linear(16, 3, bias=True)\n",
       "    (mu): Linear(3, 3, bias=True)\n",
       "    (logstd): Linear(3, 3, bias=True)\n",
       "  )\n",
       "  (decoder): VariationalGCNDecoder(\n",
       "    (inv_transform): Linear(3, 4, bias=True)\n",
       "    (conv1): GCNConv(1, 9)\n",
       "    (bn1): BatchNorm(9)\n",
       "    (conv2): GCNConv(9, 3)\n",
       "    (bn2): BatchNorm(3)\n",
       "    (conv3): GCNConv(3, 3)\n",
       "    (linear1): Linear(3, 512, bias=True)\n",
       "    (linear2): Linear(512, 128, bias=True)\n",
       "    (linear3): Linear(128, 5, bias=True)\n",
       "  )\n",
       ")"
      ]
     },
     "execution_count": 4,
     "metadata": {},
     "output_type": "execute_result"
    }
   ],
   "source": [
    "stage1"
   ]
  },
  {
   "cell_type": "code",
   "execution_count": 5,
   "metadata": {},
   "outputs": [
    {
     "ename": "ValueError",
     "evalue": "all the input arrays must have same number of dimensions, but the array at index 0 has 1 dimension(s) and the array at index 1 has 2 dimension(s)",
     "output_type": "error",
     "traceback": [
      "\u001b[0;31m---------------------------------------------------------------------------\u001b[0m",
      "\u001b[0;31mValueError\u001b[0m                                Traceback (most recent call last)",
      "\u001b[1;32m/home/imami/watermodel/10_12/inter.ipynb Cell 5\u001b[0m line \u001b[0;36m2\n\u001b[1;32m      <a href='vscode-notebook-cell:/home/imami/watermodel/10_12/inter.ipynb#W4sZmlsZQ%3D%3D?line=0'>1</a>\u001b[0m testframe\u001b[39m=\u001b[39mmd\u001b[39m.\u001b[39mload_xtc(\u001b[39m\"\u001b[39m\u001b[39m../../xtc_files/50000eql2.xtc\u001b[39m\u001b[39m\"\u001b[39m,top\u001b[39m=\u001b[39m\u001b[39m\"\u001b[39m\u001b[39m../../xtc_files/conf.gro\u001b[39m\u001b[39m\"\u001b[39m,frame\u001b[39m=\u001b[39m\u001b[39m0\u001b[39m)\n\u001b[0;32m----> <a href='vscode-notebook-cell:/home/imami/watermodel/10_12/inter.ipynb#W4sZmlsZQ%3D%3D?line=1'>2</a>\u001b[0m cf\u001b[39m=\u001b[39mcondenseFrame(testframe)\n",
      "File \u001b[0;32m~/watermodel/10_12/stage2.py:17\u001b[0m, in \u001b[0;36mcondenseFrame\u001b[0;34m(frame)\u001b[0m\n\u001b[1;32m     15\u001b[0m atomic_nums \u001b[39m=\u001b[39m np\u001b[39m.\u001b[39marray([[atom\u001b[39m.\u001b[39melement\u001b[39m.\u001b[39matomic_number \u001b[39mfor\u001b[39;00m atom \u001b[39min\u001b[39;00m res\u001b[39m.\u001b[39matoms]])\u001b[39m.\u001b[39mT\n\u001b[1;32m     16\u001b[0m vdwr \u001b[39m=\u001b[39m np\u001b[39m.\u001b[39marray([[atom\u001b[39m.\u001b[39melement\u001b[39m.\u001b[39mradius \u001b[39mfor\u001b[39;00m atom \u001b[39min\u001b[39;00m res\u001b[39m.\u001b[39matoms]])\u001b[39m.\u001b[39mT\n\u001b[0;32m---> 17\u001b[0m node_features \u001b[39m=\u001b[39m np\u001b[39m.\u001b[39;49mconcatenate((pos,vdwr,atomic_nums),axis\u001b[39m=\u001b[39;49m\u001b[39m0\u001b[39;49m)\n\u001b[1;32m     18\u001b[0m graph \u001b[39m=\u001b[39m data\u001b[39m.\u001b[39mData(x\u001b[39m=\u001b[39mtorch\u001b[39m.\u001b[39mfrom_numpy(node_features),edge_index\u001b[39m=\u001b[39mtorch\u001b[39m.\u001b[39mfrom_numpy(edge_list))\u001b[39m.\u001b[39mto(\u001b[39m\"\u001b[39m\u001b[39mcuda\u001b[39m\u001b[39m\"\u001b[39m)\n\u001b[1;32m     19\u001b[0m encoded \u001b[39m=\u001b[39m stage1\u001b[39m.\u001b[39mencode(graph\u001b[39m.\u001b[39mx,graph\u001b[39m.\u001b[39medge_index)\n",
      "\u001b[0;31mValueError\u001b[0m: all the input arrays must have same number of dimensions, but the array at index 0 has 1 dimension(s) and the array at index 1 has 2 dimension(s)"
     ]
    }
   ],
   "source": [
    "testframe=md.load_xtc(\"../../xtc_files/50000eql2.xtc\",top=\"../../xtc_files/conf.gro\",frame=0)\n",
    "cf=condenseFrame(testframe)"
   ]
  },
  {
   "cell_type": "code",
   "execution_count": null,
   "metadata": {},
   "outputs": [],
   "source": [
    "cf"
   ]
  },
  {
   "cell_type": "code",
   "execution_count": 7,
   "metadata": {},
   "outputs": [
    {
     "name": "stdout",
     "output_type": "stream",
     "text": [
      "50001 1 0.25\n"
     ]
    }
   ],
   "source": [
    "meltframes=md.load_xtc(\"../../xtc_files/50000eql2.xtc\",top=\"../../xtc_files/conf.gro\")\n",
    "meltframes.xyz=meltframes.xyz*10\n",
    "global nframes,natoms,nmols \n",
    "nframes=len(meltframes)\n",
    "natoms=len(meltframes[0])\n",
    "nmols=natoms/4\n",
    "print (nframes,natoms,nmols)"
   ]
  },
  {
   "cell_type": "code",
   "execution_count": null,
   "metadata": {},
   "outputs": [],
   "source": [
    "melt_condensed=condenseAllFrames(meltframes)\n",
    "graphs_melt_cpu=get_graphs(melt_condensed,\"melt\")"
   ]
  }
 ],
 "metadata": {
  "kernelspec": {
   "display_name": "3dpytorch",
   "language": "python",
   "name": "python3"
  },
  "language_info": {
   "codemirror_mode": {
    "name": "ipython",
    "version": 3
   },
   "file_extension": ".py",
   "mimetype": "text/x-python",
   "name": "python",
   "nbconvert_exporter": "python",
   "pygments_lexer": "ipython3",
   "version": "3.11.4"
  }
 },
 "nbformat": 4,
 "nbformat_minor": 2
}
