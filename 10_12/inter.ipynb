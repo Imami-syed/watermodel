{
 "cells": [
  {
   "cell_type": "code",
   "execution_count": 1,
   "metadata": {},
   "outputs": [
    {
     "data": {
      "application/vnd.jupyter.widget-view+json": {
       "model_id": "f07bbbac62cb4fd4b42534c611254031",
       "version_major": 2,
       "version_minor": 0
      },
      "text/plain": []
     },
     "metadata": {},
     "output_type": "display_data"
    }
   ],
   "source": [
    "from stage1 import *"
   ]
  },
  {
   "cell_type": "code",
   "execution_count": 2,
   "metadata": {},
   "outputs": [],
   "source": [
    "nframes,natoms,nmols=(0,0,0)"
   ]
  },
  {
   "cell_type": "code",
   "execution_count": null,
   "metadata": {},
   "outputs": [],
   "source": [
    "from stage2 import * "
   ]
  },
  {
   "cell_type": "code",
   "execution_count": null,
   "metadata": {},
   "outputs": [],
   "source": [
    "stage1"
   ]
  },
  {
   "cell_type": "code",
   "execution_count": null,
   "metadata": {},
   "outputs": [],
   "source": [
    "meltframes=md.load_xtc(\"../../xtc_files/50000eql2.xtc\",top=\"../../xtc_files/conf.gro\")\n",
    "meltframes.xyz=meltframes.xyz*10\n",
    "global nframes,natoms,nmols \n",
    "nframes=len(meltframes)\n",
    "natoms=len(meltframes[0])\n",
    "nmols=natoms/4\n",
    "print (nframes,natoms,nmols)"
   ]
  },
  {
   "cell_type": "code",
   "execution_count": null,
   "metadata": {},
   "outputs": [],
   "source": [
    "testframe=md.load_xtc(\"../../xtc_files/50000eql2.xtc\",top=\"../../xtc_files/conf.gro\",frame=0)\n",
    "cf=condenseFrame(testframe)\n"
   ]
  },
  {
   "cell_type": "code",
   "execution_count": null,
   "metadata": {},
   "outputs": [],
   "source": [
    "melt_condensed=condenseAllFrames(meltframes)\n",
    "graphs_melt_cpu=get_graphs(melt_condensed,\"melt\")"
   ]
  }
 ],
 "metadata": {
  "kernelspec": {
   "display_name": "3dpytorch",
   "language": "python",
   "name": "python3"
  },
  "language_info": {
   "codemirror_mode": {
    "name": "ipython",
    "version": 3
   },
   "file_extension": ".py",
   "mimetype": "text/x-python",
   "name": "python",
   "nbconvert_exporter": "python",
   "pygments_lexer": "ipython3",
   "version": "3.11.4"
  }
 },
 "nbformat": 4,
 "nbformat_minor": 2
}
