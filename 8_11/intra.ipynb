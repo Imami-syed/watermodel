{
  "cells": [
    {
      "cell_type": "code",
      "execution_count": 1,
      "metadata": {
        "id": "z6q45sKwPSUb"
      },
      "outputs": [
        {
          "data": {
            "application/vnd.jupyter.widget-view+json": {
              "model_id": "124bfdfe095f4d65afd05d808d4aa6fe",
              "version_major": 2,
              "version_minor": 0
            },
            "text/plain": []
          },
          "metadata": {},
          "output_type": "display_data"
        }
      ],
      "source": [
        "import mdtraj as md\n",
        "from ase import Atoms\n",
        "from nglview import show_ase\n",
        "import networkx as nx\n",
        "\n",
        "import torch\n",
        "import torch_geometric.transforms as T\n",
        "from torch_geometric.loader import DataLoader\n",
        "from torch_geometric.nn import GCNConv, SAGPooling, InnerProductDecoder\n",
        "import torch_geometric.data as data\n",
        "from torch_geometric.utils.convert import to_networkx\n",
        "\n",
        "import numpy as np\n",
        "import matplotlib.pyplot as plt\n"
      ]
    },
    {
      "cell_type": "code",
      "execution_count": 2,
      "metadata": {
        "id": "LGVGTD4dPaQG"
      },
      "outputs": [],
      "source": [
        "# load alanine dipeptide trajectory\n",
        "molecule = md.load_pdb(\"../../simulation/single.pdb\")\n"
      ]
    },
    {
      "cell_type": "code",
      "execution_count": 3,
      "metadata": {
        "colab": {
          "base_uri": "https://localhost:8080/",
          "height": 317,
          "referenced_widgets": [
            "b3e2e11d45734b7d9224fb987459470b",
            "83451c0f082c4aa888b1dd14e9c775bf",
            "174bcfbaa57647a791816ea2f5f95aba",
            "1dbdb82571c54cdd93dc2852bfff8d40",
            "8cb134fe0b18494bbefe6c95adc7d14e",
            "65d323feef3b4d44a7846a7c208946f1",
            "1ccf61fe60854532adca37efa0ce3d8c",
            "e8f4eabea82a4f928fa75a55769ed112",
            "51f160dd2cbe413ca4340f08c1c556c6",
            "f25cd88e94d7471fba0524c195300dbd",
            "f7e90ca6eca44a02aa7dbd7c721963d2",
            "d0b06dda6324492e96af92e3aeea444b",
            "c842ad6e08ac425eade8ae91843af6cf"
          ]
        },
        "id": "LfhgrqRRuEAv",
        "outputId": "82b81f8f-849f-4a0e-e6ef-549b93adb26c"
      },
      "outputs": [
        {
          "data": {
            "application/vnd.jupyter.widget-view+json": {
              "model_id": "0792b7fb68264850b6a4762533eec2c7",
              "version_major": 2,
              "version_minor": 0
            },
            "text/plain": [
              "NGLWidget()"
            ]
          },
          "metadata": {},
          "output_type": "display_data"
        }
      ],
      "source": [
        "atomic_nums = [atom.element.atomic_number for atom in molecule.top.atoms]\n",
        "water = Atoms(positions=molecule.xyz[0], numbers=atomic_nums)\n",
        "show_ase(water)\n"
      ]
    },
    {
      "cell_type": "code",
      "execution_count": 4,
      "metadata": {
        "colab": {
          "base_uri": "https://localhost:8080/"
        },
        "id": "rfFrEF-W5vpx",
        "outputId": "4187ae4a-503a-4cef-ccc1-b5e557719f05"
      },
      "outputs": [
        {
          "name": "stdout",
          "output_type": "stream",
          "text": [
            "Relative positions:\n",
            " [[-0.01795 -0.03465 -0.008  ]\n",
            " [ 0.07775 -0.03465 -0.008  ]\n",
            " [-0.04185  0.05795 -0.008  ]\n",
            " [-0.01795  0.01135  0.024  ]]\n",
            "\n",
            "atomic_numbers:\n",
            " [[8]\n",
            " [1]\n",
            " [1]\n",
            " [0]]\n",
            "\n",
            "Vander wall Radii:\n",
            " [[0.152]\n",
            " [0.12 ]\n",
            " [0.12 ]\n",
            " [0.   ]]\n",
            "\n",
            "Atomic Mass:\n",
            " [[15.99943 ]\n",
            " [ 1.007947]\n",
            " [ 1.007947]\n",
            " [ 0.      ]]\n"
          ]
        }
      ],
      "source": [
        "# Relative position of atoms on one molecule\n",
        "poitions = molecule.xyz[0]\n",
        "com = poitions.mean(axis=0)\n",
        "\n",
        "relative_pos = poitions-com\n",
        "\n",
        "# atomic Number\n",
        "atomic_nums = np.array(\n",
        "    [[atom.element.atomic_number for atom in molecule.top.atoms]]).T\n",
        "\n",
        "# Vander wall Radii\n",
        "vdwr = np.array([[atom.element.radius for atom in molecule.top.atoms]]).T\n",
        "\n",
        "# Atomic Mass\n",
        "mass = np.array([[atom.element.mass for atom in molecule.top.atoms]]).T\n",
        "\n",
        "\n",
        "print(\"Relative positions:\\n\", relative_pos)\n",
        "print(\"\\natomic_numbers:\\n\", atomic_nums)\n",
        "print(\"\\nVander wall Radii:\\n\", vdwr)\n",
        "print(\"\\nAtomic Mass:\\n\", mass)\n"
      ]
    },
    {
      "cell_type": "code",
      "execution_count": 5,
      "metadata": {
        "colab": {
          "base_uri": "https://localhost:8080/"
        },
        "id": "Wsal5pY3rTDA",
        "outputId": "c52d834d-061e-4913-c825-e9ab07d2ecfb"
      },
      "outputs": [
        {
          "name": "stdout",
          "output_type": "stream",
          "text": [
            "Node Features:\n",
            " [[-1.79500002e-02 -3.46500017e-02 -8.00000038e-03  8.00000000e+00\n",
            "   1.52000000e-01  1.59994300e+01]\n",
            " [ 7.77500048e-02 -3.46500017e-02 -8.00000038e-03  1.00000000e+00\n",
            "   1.20000000e-01  1.00794700e+00]\n",
            " [-4.18500006e-02  5.79500012e-02 -8.00000038e-03  1.00000000e+00\n",
            "   1.20000000e-01  1.00794700e+00]\n",
            " [-1.79500002e-02  1.13499984e-02  2.40000002e-02  0.00000000e+00\n",
            "   0.00000000e+00  0.00000000e+00]]\n",
            "\n",
            "Node Features Shape:\n",
            " (4, 6)\n"
          ]
        }
      ],
      "source": [
        "node_features = np.concatenate((relative_pos, atomic_nums, vdwr, mass), axis=1)\n",
        "print(\"Node Features:\\n\", node_features)\n",
        "print(\"\\nNode Features Shape:\\n\", node_features.shape)"
      ]
    },
    {
      "cell_type": "code",
      "execution_count": 6,
      "metadata": {
        "id": "VQ0Tk6jn_Eug"
      },
      "outputs": [],
      "source": [
        "from_list = []\n",
        "to_list = []\n",
        "for edge in molecule.topology.bonds:\n",
        "    from_list.append(edge.atom1.index)\n",
        "    to_list.append(edge.atom2.index)\n",
        "    from_list.append(edge.atom2.index)\n",
        "    to_list.append(edge.atom1.index)\n",
        "\n",
        "edge_list = np.array([from_list, to_list])\n"
      ]
    },
    {
      "cell_type": "code",
      "execution_count": 7,
      "metadata": {
        "id": "gXcyMUA1BYUl"
      },
      "outputs": [],
      "source": [
        "graph = data.Data(x=torch.from_numpy(node_features),\n",
        "                  edge_index=torch.from_numpy(edge_list))\n"
      ]
    },
    {
      "cell_type": "code",
      "execution_count": 8,
      "metadata": {
        "colab": {
          "base_uri": "https://localhost:8080/"
        },
        "id": "bNnmkgsHevMj",
        "outputId": "59bd4395-6e60-4db9-cd87-2ea35b45559a"
      },
      "outputs": [
        {
          "name": "stdout",
          "output_type": "stream",
          "text": [
            "Data(x=[4, 6], edge_index=[2, 4])\n",
            "tensor([[0, 1, 0, 2],\n",
            "        [1, 0, 2, 0]])\n"
          ]
        }
      ],
      "source": [
        "print(graph)\n",
        "print(graph.edge_index)"
      ]
    },
    {
      "cell_type": "code",
      "execution_count": 9,
      "metadata": {
        "colab": {
          "base_uri": "https://localhost:8080/",
          "height": 516
        },
        "id": "lIla1nISB70Q",
        "outputId": "4850287c-d6bd-4975-e81b-5e8f9a67c7aa"
      },
      "outputs": [
        {
          "data": {
            "image/png": "[encoded data removed]",
            "text/plain": [
              "<Figure size 640x480 with 1 Axes>"
            ]
          },
          "metadata": {},
          "output_type": "display_data"
        }
      ],
      "source": [
        "vis = to_networkx(graph)\n",
        "nx.draw_networkx(vis)"
      ]
    },
    {
      "cell_type": "code",
      "execution_count": 10,
      "metadata": {
        "id": "2e7qnLIQaisN"
      },
      "outputs": [],
      "source": [
        "graphs = [graph for _ in range(50)]\n"
      ]
    },
    {
      "cell_type": "code",
      "execution_count": 11,
      "metadata": {},
      "outputs": [],
      "source": [
        "from typing import Optional, Tuple\n",
        "\n",
        "import torch\n",
        "from torch import Tensor\n",
        "from torch.nn import Module\n",
        "\n",
        "from torch_geometric.nn.inits import reset\n",
        "from torch_geometric.utils import negative_sampling\n",
        "\n",
        "EPS = 1e-15\n",
        "MAX_LOGSTD = 10\n",
        "\n",
        "\n",
        "class InnerProductDecoder(torch.nn.Module):\n",
        "    r\"\"\"The inner product decoder from the `\"Variational Graph Auto-Encoders\"\n",
        "    <https://arxiv.org/abs/1611.07308>`_ paper\n",
        "\n",
        "    .. math::\n",
        "        \\sigma(\\mathbf{Z}\\mathbf{Z}^{\\top})\n",
        "\n",
        "    where :math:`\\mathbf{Z} \\in \\mathbb{R}^{N \\times d}` denotes the latent\n",
        "    space produced by the encoder.\"\"\"\n",
        "\n",
        "    def forward(self, z: Tensor, edge_index: Tensor,\n",
        "                sigmoid: bool = True) -> Tensor:\n",
        "        r\"\"\"Decodes the latent variables :obj:`z` into edge probabilities for\n",
        "        the given node-pairs :obj:`edge_index`.\n",
        "\n",
        "        Args:\n",
        "            z (torch.Tensor): The latent space :math:`\\mathbf{Z}`.\n",
        "            sigmoid (bool, optional): If set to :obj:`False`, does not apply\n",
        "                the logistic sigmoid function to the output.\n",
        "                (default: :obj:`True`)\n",
        "        \"\"\"\n",
        "        value = (z[edge_index[0]] * z[edge_index[1]]).sum(dim=1)\n",
        "        return torch.sigmoid(value) if sigmoid else value\n",
        "\n",
        "    def forward_all(self, z: Tensor, sigmoid: bool = True) -> Tensor:\n",
        "        r\"\"\"Decodes the latent variables :obj:`z` into a probabilistic dense\n",
        "        adjacency matrix.\n",
        "\n",
        "        Args:\n",
        "            z (torch.Tensor): The latent space :math:`\\mathbf{Z}`.\n",
        "            sigmoid (bool, optional): If set to :obj:`False`, does not apply\n",
        "                the logistic sigmoid function to the output.\n",
        "                (default: :obj:`True`)\n",
        "        \"\"\"\n",
        "        adj = torch.matmul(z, z.t())\n",
        "        return torch.sigmoid(adj) if sigmoid else adj\n",
        "\n",
        "\n",
        "class GAE(torch.nn.Module):\n",
        "    r\"\"\"The Graph Auto-Encoder model from the\n",
        "    `\"Variational Graph Auto-Encoders\" <https://arxiv.org/abs/1611.07308>`_\n",
        "    paper based on user-defined encoder and decoder models.\n",
        "\n",
        "    Args:\n",
        "        encoder (torch.nn.Module): The encoder module.\n",
        "        decoder (torch.nn.Module, optional): The decoder module. If set to\n",
        "            :obj:`None`, will default to the\n",
        "            :class:`torch_geometric.nn.models.InnerProductDecoder`.\n",
        "            (default: :obj:`None`)\n",
        "    \"\"\"\n",
        "\n",
        "    def __init__(self, encoder: Module, decoder: Optional[Module] = None):\n",
        "        super().__init__()\n",
        "        self.encoder = encoder\n",
        "        self.decoder = InnerProductDecoder() if decoder is None else decoder\n",
        "        GAE.reset_parameters(self)\n",
        "\n",
        "    def reset_parameters(self):\n",
        "        r\"\"\"Resets all learnable parameters of the module.\"\"\"\n",
        "        reset(self.encoder)\n",
        "        reset(self.decoder)\n",
        "\n",
        "    def forward(self, *args, **kwargs) -> Tensor:  # pragma: no cover\n",
        "        r\"\"\"Alias for :meth:`encode`.\"\"\"\n",
        "        return self.encoder(*args, **kwargs)\n",
        "\n",
        "    def encode(self, *args, **kwargs) -> Tensor:\n",
        "        r\"\"\"Runs the encoder and computes node-wise latent variables.\"\"\"\n",
        "        return self.encoder(*args, **kwargs)\n",
        "\n",
        "    def decode(self, *args, **kwargs) -> Tensor:\n",
        "        r\"\"\"Runs the decoder and computes edge probabilities.\"\"\"\n",
        "        return self.decoder(*args, **kwargs)\n",
        "\n",
        "    def recon_loss(self, z: Tensor, pos_edge_index: Tensor,\n",
        "                   neg_edge_index: Optional[Tensor] = None) -> Tensor:\n",
        "        r\"\"\"Given latent variables :obj:`z`, computes the binary cross\n",
        "        entropy loss for positive edges :obj:`pos_edge_index` and negative\n",
        "        sampled edges.\n",
        "\n",
        "        Args:\n",
        "            z (torch.Tensor): The latent space :math:`\\mathbf{Z}`.\n",
        "            pos_edge_index (torch.Tensor): The positive edges to train against.\n",
        "            neg_edge_index (torch.Tensor, optional): The negative edges to\n",
        "                train against. If not given, uses negative sampling to\n",
        "                calculate negative edges. (default: :obj:`None`)\n",
        "        \"\"\"\n",
        "        pos_loss = -torch.log(\n",
        "            self.decoder(z, pos_edge_index, sigmoid=True)[0] + EPS).mean()\n",
        "\n",
        "        if neg_edge_index is None:\n",
        "            neg_edge_index = negative_sampling(pos_edge_index, z.size(0))\n",
        "        neg_loss = -torch.log(1 -\n",
        "                              self.decoder(z, neg_edge_index.long(), sigmoid=True)[0] +\n",
        "                              EPS).mean()\n",
        "\n",
        "        return pos_loss + neg_loss\n",
        "\n",
        "    def test(self, z: Tensor, pos_edge_index: Tensor,\n",
        "             neg_edge_index: Tensor) -> Tuple[Tensor, Tensor]:\n",
        "        r\"\"\"Given latent variables :obj:`z`, positive edges\n",
        "        :obj:`pos_edge_index` and negative edges :obj:`neg_edge_index`,\n",
        "        computes area under the ROC curve (AUC) and average precision (AP)\n",
        "        \n",
        "        scores.\n",
        "\n",
        "        Args:\n",
        "            z (torch.Tensor): The latent space :math:`\\mathbf{Z}`.\n",
        "            pos_edge_index (torch.Tensor): The positive edges to evaluate\n",
        "                against.\n",
        "            neg_edge_index (torch.Tensor): The negative edges to evaluate\n",
        "                against.\n",
        "        \"\"\"\n",
        "        from sklearn.metrics import average_precision_score, roc_auc_score\n",
        "\n",
        "        pos_y = z.new_ones(pos_edge_index.size(1))\n",
        "        neg_y = z.new_zeros(neg_edge_index.size(1))\n",
        "        y = torch.cat([pos_y, neg_y], dim=0)\n",
        "\n",
        "        pos_pred = self.decoder(z, pos_edge_index, sigmoid=True)\n",
        "        neg_pred = self.decoder(z, neg_edge_index, sigmoid=True)\n",
        "        pred = torch.cat([pos_pred, neg_pred], dim=0)\n",
        "\n",
        "        y, pred = y.detach().cpu().numpy(), pred.detach().cpu().numpy()\n",
        "\n",
        "        return roc_auc_score(y, pred), average_precision_score(y, pred)\n",
        "\n",
        "\n",
        "class VGAE(GAE):\n",
        "    r\"\"\"The Variational Graph Auto-Encoder model from the\n",
        "    `\"Variational Graph Auto-Encoders\" <https://arxiv.org/abs/1611.07308>`_\n",
        "    paper.\n",
        "\n",
        "    Args:\n",
        "        encoder (torch.nn.Module): The encoder module to compute :math:`\\mu`\n",
        "            and :math:`\\log\\sigma^2`.\n",
        "        decoder (torch.nn.Module, optional): The decoder module. If set to\n",
        "            :obj:`None`, will default to the\n",
        "            :class:`torch_geometric.nn.models.InnerProductDecoder`.\n",
        "            (default: :obj:`None`)\n",
        "    \"\"\"\n",
        "\n",
        "    def __init__(self, encoder: Module, decoder: Optional[Module] = None):\n",
        "        super().__init__(encoder, decoder)\n",
        "\n",
        "    def reparametrize(self, mu: Tensor, logstd: Tensor) -> Tensor:\n",
        "        if self.training:\n",
        "            return mu + torch.randn_like(logstd) * torch.exp(logstd)\n",
        "        else:\n",
        "            return mu\n",
        "\n",
        "    def encode(self, *args, **kwargs) -> Tensor:\n",
        "        \"\"\"\"\"\"\n",
        "        self.__mu__, self.__logstd__, self.edge_index = self.encoder(\n",
        "            *args, **kwargs)\n",
        "        self.__logstd__ = self.__logstd__.clamp(max=MAX_LOGSTD)\n",
        "        z = self.reparametrize(self.__mu__, self.__logstd__)\n",
        "        return z, self.edge_index.long()\n",
        "\n",
        "    def kl_loss(self, mu: Optional[Tensor] = None,\n",
        "                logstd: Optional[Tensor] = None) -> Tensor:\n",
        "        r\"\"\"Computes the KL loss, either for the passed arguments :obj:`mu`\n",
        "        and :obj:`logstd`, or based on latent variables from last encoding.\n",
        "\n",
        "        Args:\n",
        "            mu (torch.Tensor, optional): The latent space for :math:`\\mu`. If\n",
        "                set to :obj:`None`, uses the last computation of :math:`\\mu`.\n",
        "                (default: :obj:`None`)\n",
        "            logstd (torch.Tensor, optional): The latent space for\n",
        "                :math:`\\log\\sigma`.  If set to :obj:`None`, uses the last\n",
        "                computation of :math:`\\log\\sigma^2`. (default: :obj:`None`)\n",
        "        \"\"\"\n",
        "        mu = self.__mu__ if mu is None else mu\n",
        "        logstd = self.__logstd__ if logstd is None else logstd.clamp(\n",
        "            max=MAX_LOGSTD)\n",
        "        return -0.5 * torch.mean(\n",
        "            torch.sum(1 + 2 * logstd - mu**2 - logstd.exp()**2, dim=1))\n"
      ]
    },
    {
      "cell_type": "code",
      "execution_count": 12,
      "metadata": {},
      "outputs": [],
      "source": [
        "def norm_g(g):\n",
        "    degrees = torch.sum(g, 1)\n",
        "    g = g / degrees\n",
        "    return g\n",
        "\n",
        "\n",
        "def top_k_graph(scores, g, h, k):\n",
        "    num_nodes = g.shape[0]\n",
        "    values, idx = torch.topk(scores, max(2, int(k*num_nodes)))\n",
        "    new_h = h[idx, :]\n",
        "    values = torch.unsqueeze(values, -1)\n",
        "    new_h = torch.mul(new_h, values)\n",
        "    un_g = g.bool().float()\n",
        "    un_g = torch.matmul(un_g, un_g).bool().float()\n",
        "    un_g = un_g[idx, :]\n",
        "    un_g = un_g[:, idx]\n",
        "    g = norm_g(un_g)\n",
        "    return g, new_h, idx\n",
        "\n",
        "class Pool(torch.nn.Module):\n",
        "\n",
        "    def __init__(self, k, in_dim, p):\n",
        "        super(Pool, self).__init__()\n",
        "        self.k = k\n",
        "        self.sigmoid = torch.nn.Sigmoid()\n",
        "        self.proj = torch.nn.Linear(in_dim, 1)\n",
        "        self.drop = torch.nn.Dropout(p=p) if p > 0 else torch.nn.Identity()\n",
        "\n",
        "    def forward(self, g, h):\n",
        "        Z = self.drop(h)\n",
        "        weights = self.proj(Z).squeeze()\n",
        "        scores = self.sigmoid(weights)\n",
        "        return top_k_graph(scores, g, h, self.k)\n",
        "\n",
        "\n",
        "class Unpool(torch.nn.Module):\n",
        "\n",
        "    def __init__(self, *args):\n",
        "        super(Unpool, self).__init__()\n",
        "\n",
        "    def forward(self, h, edge_indices,factor=1):\n",
        "        # add zeros to h factor times\n",
        "        h = torch.cat([h, torch.zeros(h.shape[0]*factor, h.shape[1]).to(h.device)], dim=0)\n",
        "        return h"
      ]
    },
    {
      "cell_type": "code",
      "execution_count": 13,
      "metadata": {
        "id": "K1H_72HfZhHF"
      },
      "outputs": [],
      "source": [
        "def convert_to_adj(edge_index, num_nodes=None):\n",
        "    if num_nodes is None:\n",
        "        num_nodes = edge_index.max() + 1\n",
        "    adj = torch.zeros(num_nodes, num_nodes)\n",
        "    adj[edge_index[0], edge_index[1]] = 1\n",
        "    return adj\n",
        "\n",
        "def convert_to_edge_index(adj):\n",
        "    edge_index = adj.nonzero().t()\n",
        "    return edge_index\n",
        "\n",
        "class VariationalGCNEncoder(torch.nn.Module):\n",
        "    \n",
        "    def __init__(self, in_channels, out_channels):\n",
        "        super().__init__()\n",
        "        self.conv1 = GCNConv(in_channels, 4 * out_channels)\n",
        "        self.conv2 = GCNConv(4 * out_channels, 2 * out_channels)\n",
        "\n",
        "        # add SAG pooling layer\n",
        "        self.pool = SAGPooling(in_channels, 0.5)\n",
        "\n",
        "        # Using a self defined pooling layer\n",
        "        # self.pool = Pool(0.5,in_channels, 0.5)\n",
        "\n",
        "        self.conv_mu = GCNConv(2 * out_channels, out_channels)\n",
        "        self.conv_logstd = GCNConv(2 * out_channels, out_channels)\n",
        "\n",
        "    def forward(self, x, edge_index):        \n",
        "        x = self.conv1(x, edge_index).relu()\n",
        "        x = self.conv2(x, edge_index).relu()\n",
        "        \n",
        "        x, edge_index,_,_,_,_ = self.pool(x, edge_index)\n",
        "\n",
        "        # adj_g = convert_to_adj(edge_index, x.shape[0])\n",
        "        # adj_g, x, idx = self.pool(adj_g, x)\n",
        "        # edge_index = convert_to_edge_index(adj_g)\n",
        "        \n",
        "        mu = self.conv_mu(x, edge_index)\n",
        "        logstd = self.conv_logstd(x, edge_index)\n",
        "        \n",
        "        return mu, logstd, edge_index\n"
      ]
    },
    {
      "cell_type": "code",
      "execution_count": 14,
      "metadata": {},
      "outputs": [],
      "source": [
        "import torch\n",
        "import torch.nn.functional as F\n",
        "\n",
        "class VariationalGCNDecoder(torch.nn.Module):\n",
        "    def __init__(self, in_channels, out_channels,sigmoid=True):\n",
        "        super().__init__()\n",
        "        self.unpool = Unpool()\n",
        "        self.conv_pre1 = GCNConv(in_channels, 2 * out_channels)\n",
        "        self.conv_pre2 = GCNConv(2 * out_channels, out_channels)\n",
        "        self.conv1 = GCNConv(in_channels, 2 * out_channels)\n",
        "        self.conv2 = GCNConv(2 * out_channels, out_channels)\n",
        "        \n",
        "    def forward(self, z, edge_index,sigmoid=True):\n",
        "        z = self.unpool(z, edge_index,factor=1)\n",
        "        edge_index = torch.cat([edge_index, torch.zeros(2,max(0,z.shape[0]-edge_index.shape[1]) ).long()], dim=1)\n",
        "        z = self.conv1(z, edge_index).relu()\n",
        "        z = self.conv2(z, edge_index).relu()\n",
        "\n",
        "        return z, edge_index\n",
        "        "
      ]
    },
    {
      "cell_type": "code",
      "execution_count": 15,
      "metadata": {
        "id": "vu-V-Dsc1D_B"
      },
      "outputs": [],
      "source": [
        "in_channels = graph.num_features\n",
        "out_channels = 3\n",
        "lr = 1e-2\n",
        "n_epochs = 20\n",
        "batch_size = 1\n",
        "\n",
        "model = VGAE(VariationalGCNEncoder(in_channels, out_channels),\n",
        "             VariationalGCNDecoder(out_channels, in_channels))\n",
        "optimizer = torch.optim.Adam(model.parameters(), lr=lr)\n"
      ]
    },
    {
      "cell_type": "code",
      "execution_count": 16,
      "metadata": {},
      "outputs": [
        {
          "name": "stdout",
          "output_type": "stream",
          "text": [
            "VGAE(\n",
            "  (encoder): VariationalGCNEncoder(\n",
            "    (conv1): GCNConv(6, 12)\n",
            "    (conv2): GCNConv(12, 6)\n",
            "    (pool): SAGPooling(GraphConv, 6, ratio=0.5, multiplier=1.0)\n",
            "    (conv_mu): GCNConv(6, 3)\n",
            "    (conv_logstd): GCNConv(6, 3)\n",
            "  )\n",
            "  (decoder): VariationalGCNDecoder(\n",
            "    (unpool): Unpool()\n",
            "    (conv_pre1): GCNConv(3, 12)\n",
            "    (conv_pre2): GCNConv(12, 6)\n",
            "    (conv1): GCNConv(3, 12)\n",
            "    (conv2): GCNConv(12, 6)\n",
            "  )\n",
            ")\n"
          ]
        }
      ],
      "source": [
        "print(model)"
      ]
    },
    {
      "cell_type": "code",
      "execution_count": 17,
      "metadata": {
        "id": "hqwvxYdccl4g"
      },
      "outputs": [],
      "source": [
        "train_loader = DataLoader(graphs, batch_size=batch_size)\n"
      ]
    },
    {
      "cell_type": "code",
      "execution_count": 18,
      "metadata": {
        "id": "PSlEaKJOczEn"
      },
      "outputs": [],
      "source": [
        "def train():\n",
        "    model.train()\n",
        "    model.double()\n",
        "    loss_all = 0\n",
        "\n",
        "    for data in train_loader:\n",
        "        optimizer.zero_grad()\n",
        "        z, encoded_edge = model.encode(data.x, data.edge_index)\n",
        "        decoded_x, decoded_edge = model.decode(z, encoded_edge)\n",
        "        # print(\"x\", data.x.shape)\n",
        "        # print(\"edge\", data.edge_index.shape)\n",
        "        # print(\"decoded x\", decoded_x.shape)\n",
        "        # print(\"decoded edge\", decoded_edge.shape)\n",
        "        lossF = F.mse_loss(decoded_x, data.x)\n",
        "        lossE = F.mse_loss(data.edge_index, decoded_edge.float())\n",
        "        loss = lossF + lossE\n",
        "        loss = loss + (1 / data.num_nodes) * model.kl_loss()\n",
        "        loss.backward()\n",
        "        loss_all += float(loss)\n",
        "        optimizer.step()\n",
        "    return loss_all / len(train_loader.dataset)\n"
      ]
    },
    {
      "cell_type": "code",
      "execution_count": 19,
      "metadata": {
        "colab": {
          "base_uri": "https://localhost:8080/"
        },
        "id": "X9117KpSc9uP",
        "outputId": "eae0f70e-c05e-42fe-a20c-477e5cab54fe"
      },
      "outputs": [
        {
          "name": "stdout",
          "output_type": "stream",
          "text": [
            "Epoch: 001, Loss: 11.8751\n",
            "Epoch: 002, Loss: 8.1919\n",
            "Epoch: 003, Loss: 7.9972\n",
            "Epoch: 004, Loss: 7.9790\n",
            "Epoch: 005, Loss: 7.7617\n",
            "Epoch: 006, Loss: 7.6098\n",
            "Epoch: 007, Loss: 7.6813\n",
            "Epoch: 008, Loss: 7.5053\n",
            "Epoch: 009, Loss: 7.5446\n",
            "Epoch: 010, Loss: 7.5475\n",
            "Epoch: 011, Loss: 7.5485\n",
            "Epoch: 012, Loss: 7.4381\n",
            "Epoch: 013, Loss: 7.5062\n",
            "Epoch: 014, Loss: 7.4217\n",
            "Epoch: 015, Loss: 7.5204\n",
            "Epoch: 016, Loss: 7.4648\n",
            "Epoch: 017, Loss: 7.4709\n",
            "Epoch: 018, Loss: 7.3757\n",
            "Epoch: 019, Loss: 7.4578\n",
            "Epoch: 020, Loss: 7.4944\n"
          ]
        }
      ],
      "source": [
        "Losses = []\n",
        "for epoch in range(1, n_epochs + 1):\n",
        "    loss = train()\n",
        "    print(f'Epoch: {epoch:03d}, Loss: {loss:.4f}')\n",
        "    Losses.append(loss)\n",
        "    \n",
        "    "
      ]
    },
    {
      "cell_type": "code",
      "execution_count": 20,
      "metadata": {
        "colab": {
          "base_uri": "https://localhost:8080/",
          "height": 447
        },
        "id": "Vp6sgGOOUuhs",
        "outputId": "8e483db8-e50c-4165-c93e-52a09d610557"
      },
      "outputs": [
        {
          "data": {
            "text/plain": [
              "[<matplotlib.lines.Line2D at 0x7fbc91d17eb0>]"
            ]
          },
          "execution_count": 20,
          "metadata": {},
          "output_type": "execute_result"
        },
        {
          "data": {
            "image/png": "[encoded data removed]",
            "text/plain": [
              "<Figure size 640x480 with 1 Axes>"
            ]
          },
          "metadata": {},
          "output_type": "display_data"
        }
      ],
      "source": [
        "plt.plot(Losses)\n"
      ]
    },
    {
      "cell_type": "code",
      "execution_count": 21,
      "metadata": {
        "colab": {
          "base_uri": "https://localhost:8080/"
        },
        "id": "Qh1tn4jHZzNy",
        "outputId": "baaf7ea4-07e8-41bd-aac6-9575569172ac"
      },
      "outputs": [
        {
          "name": "stdout",
          "output_type": "stream",
          "text": [
            "Input Graph features: \n",
            " tensor([[-1.7950e-02, -3.4650e-02, -8.0000e-03,  8.0000e+00,  1.5200e-01,\n",
            "          1.5999e+01],\n",
            "        [ 7.7750e-02, -3.4650e-02, -8.0000e-03,  1.0000e+00,  1.2000e-01,\n",
            "          1.0079e+00],\n",
            "        [-4.1850e-02,  5.7950e-02, -8.0000e-03,  1.0000e+00,  1.2000e-01,\n",
            "          1.0079e+00],\n",
            "        [-1.7950e-02,  1.1350e-02,  2.4000e-02,  0.0000e+00,  0.0000e+00,\n",
            "          0.0000e+00]], dtype=torch.float64)\n",
            "\n",
            "Input Edge Index: \n",
            " tensor([[0, 1, 0, 2],\n",
            "        [1, 0, 2, 0]])\n",
            "\n",
            "Encoded Graph: \n",
            " tensor([[-0.8951, -0.7998,  0.4541],\n",
            "        [-1.2539, -0.3617,  1.1953]], dtype=torch.float64,\n",
            "       grad_fn=<AddBackward0>)\n",
            "\n",
            "Decoded Node features: \n",
            " tensor([[0.0000, 0.0000, 0.0000, 4.1469, 0.0000, 7.7525],\n",
            "        [0.0000, 0.0000, 0.0000, 4.1469, 0.0000, 7.7525],\n",
            "        [0.0000, 0.0000, 0.0000, 0.6813, 0.0000, 0.8485],\n",
            "        [0.0000, 0.0000, 0.0000, 0.6813, 0.0000, 0.8485]], dtype=torch.float64,\n",
            "       grad_fn=<ReluBackward0>)\n",
            "\n",
            "Decoded Edge Index: \n",
            " tensor([[0, 1, 0, 2],\n",
            "        [1, 0, 2, 0]])\n"
          ]
        }
      ],
      "source": [
        "model.double()\n",
        "z,encoded_edge_index = model.encode(graph.x, graph.edge_index)\n",
        "r,decoded_edge_index = model.decode(z, encoded_edge_index)\n",
        "decoded_edge_index = graph.edge_index\n",
        "print(\"Input Graph features: \\n\", graph.x)\n",
        "print(\"\\nInput Edge Index: \\n\", graph.edge_index)\n",
        "print(\"\\nEncoded Graph: \\n\", z)\n",
        "print(\"\\nDecoded Node features: \\n\", r)\n",
        "print(\"\\nDecoded Edge Index: \\n\", decoded_edge_index)"
      ]
    },
    {
      "cell_type": "code",
      "execution_count": 22,
      "metadata": {
        "colab": {
          "base_uri": "https://localhost:8080/",
          "height": 516
        },
        "id": "YdJKGevGm0sr",
        "outputId": "476d0e1c-deb3-41e1-a68a-e71d58f173df"
      },
      "outputs": [
        {
          "data": {
            "image/png": "[encoded data removed]",
            "text/plain": [
              "<Figure size 640x480 with 1 Axes>"
            ]
          },
          "metadata": {},
          "output_type": "display_data"
        }
      ],
      "source": [
        "add_self_loops = False\n",
        "adj_binary = convert_to_adj(decoded_edge_index, r.shape[0])\n",
        "indices = torch.where(adj_binary)\n",
        "G = nx.Graph()\n",
        "if not add_self_loops:\n",
        "    edges = [(i, j) for i, j in zip(\n",
        "        indices[0].tolist(), indices[1].tolist()) if i != j]\n",
        "    G.add_edges_from(edges)\n",
        "else:\n",
        "    G.add_edges_from(zip(indices[0].tolist(), indices[1].tolist()))\n",
        "G.add_node(4)\n",
        "nx.draw_networkx(G, with_labels=True)\n",
        "plt.show()\n"
      ]
    }
  ],
  "metadata": {
    "colab": {
      "provenance": []
    },
    "kernelspec": {
      "display_name": "base",
      "language": "python",
      "name": "python3"
    },
    "language_info": {
      "codemirror_mode": {
        "name": "ipython",
        "version": 3
      },
      "file_extension": ".py",
      "mimetype": "text/x-python",
      "name": "python",
      "nbconvert_exporter": "python",
      "pygments_lexer": "ipython3",
      "version": "3.10.9"
    },
    "vscode": {
      "interpreter": {
        "hash": "1f9761786ac07e4eab4386916b2ac1a9951f01c213aa09aceac38efe2713e05d"
      }
    },
    "widgets": {
      "application/vnd.jupyter.widget-state+json": {
        "174bcfbaa57647a791816ea2f5f95aba": {
          "model_module": "@jupyter-widgets/controls",
          "model_module_version": "1.5.0",
          "model_name": "ButtonModel",
          "state": {
            "_dom_classes": [],
            "_model_module": "@jupyter-widgets/controls",
            "_model_module_version": "1.5.0",
            "_model_name": "ButtonModel",
            "_view_count": null,
            "_view_module": "@jupyter-widgets/controls",
            "_view_module_version": "1.5.0",
            "_view_name": "ButtonView",
            "button_style": "",
            "description": "",
            "disabled": false,
            "icon": "compress",
            "layout": "IPY_MODEL_f7e90ca6eca44a02aa7dbd7c721963d2",
            "style": "IPY_MODEL_d0b06dda6324492e96af92e3aeea444b",
            "tooltip": ""
          }
        },
        "1ccf61fe60854532adca37efa0ce3d8c": {
          "model_module": "@jupyter-widgets/base",
          "model_module_version": "1.2.0",
          "model_name": "LayoutModel",
          "state": {
            "_model_module": "@jupyter-widgets/base",
            "_model_module_version": "1.2.0",
            "_model_name": "LayoutModel",
            "_view_count": null,
            "_view_module": "@jupyter-widgets/base",
            "_view_module_version": "1.2.0",
            "_view_name": "LayoutView",
            "align_content": null,
            "align_items": null,
            "align_self": null,
            "border": null,
            "bottom": null,
            "display": null,
            "flex": null,
            "flex_flow": null,
            "grid_area": null,
            "grid_auto_columns": null,
            "grid_auto_flow": null,
            "grid_auto_rows": null,
            "grid_column": null,
            "grid_gap": null,
            "grid_row": null,
            "grid_template_areas": null,
            "grid_template_columns": null,
            "grid_template_rows": null,
            "height": null,
            "justify_content": null,
            "justify_items": null,
            "left": null,
            "margin": null,
            "max_height": null,
            "max_width": null,
            "min_height": null,
            "min_width": null,
            "object_fit": null,
            "object_position": null,
            "order": null,
            "overflow": null,
            "overflow_x": null,
            "overflow_y": null,
            "padding": null,
            "right": null,
            "top": null,
            "visibility": null,
            "width": null
          }
        },
        "1dbdb82571c54cdd93dc2852bfff8d40": {
          "model_module": "@jupyter-widgets/controls",
          "model_module_version": "1.5.0",
          "model_name": "HBoxModel",
          "state": {
            "_dom_classes": [],
            "_model_module": "@jupyter-widgets/controls",
            "_model_module_version": "1.5.0",
            "_model_name": "HBoxModel",
            "_view_count": null,
            "_view_module": "@jupyter-widgets/controls",
            "_view_module_version": "1.5.0",
            "_view_name": "HBoxView",
            "box_style": "",
            "children": [
              "IPY_MODEL_51f160dd2cbe413ca4340f08c1c556c6",
              "IPY_MODEL_f25cd88e94d7471fba0524c195300dbd"
            ],
            "layout": "IPY_MODEL_c842ad6e08ac425eade8ae91843af6cf"
          }
        },
        "51f160dd2cbe413ca4340f08c1c556c6": {
          "model_module": "@jupyter-widgets/controls",
          "model_module_version": "1.5.0",
          "model_name": "PlayModel",
          "state": {
            "_dom_classes": [],
            "_model_module": "@jupyter-widgets/controls",
            "_model_module_version": "1.5.0",
            "_model_name": "PlayModel",
            "_playing": false,
            "_repeat": false,
            "_view_count": null,
            "_view_module": "@jupyter-widgets/controls",
            "_view_module_version": "1.5.0",
            "_view_name": "PlayView",
            "description": "",
            "description_tooltip": null,
            "disabled": false,
            "interval": 100,
            "layout": "IPY_MODEL_8cb134fe0b18494bbefe6c95adc7d14e",
            "max": 0,
            "min": 0,
            "show_repeat": true,
            "step": 1,
            "style": "IPY_MODEL_65d323feef3b4d44a7846a7c208946f1",
            "value": 0
          }
        },
        "65d323feef3b4d44a7846a7c208946f1": {
          "model_module": "@jupyter-widgets/controls",
          "model_module_version": "1.5.0",
          "model_name": "DescriptionStyleModel",
          "state": {
            "_model_module": "@jupyter-widgets/controls",
            "_model_module_version": "1.5.0",
            "_model_name": "DescriptionStyleModel",
            "_view_count": null,
            "_view_module": "@jupyter-widgets/base",
            "_view_module_version": "1.2.0",
            "_view_name": "StyleView",
            "description_width": ""
          }
        },
        "83451c0f082c4aa888b1dd14e9c775bf": {
          "model_module": "@jupyter-widgets/base",
          "model_module_version": "1.2.0",
          "model_name": "LayoutModel",
          "state": {
            "_model_module": "@jupyter-widgets/base",
            "_model_module_version": "1.2.0",
            "_model_name": "LayoutModel",
            "_view_count": null,
            "_view_module": "@jupyter-widgets/base",
            "_view_module_version": "1.2.0",
            "_view_name": "LayoutView",
            "align_content": null,
            "align_items": null,
            "align_self": null,
            "border": null,
            "bottom": null,
            "display": null,
            "flex": null,
            "flex_flow": null,
            "grid_area": null,
            "grid_auto_columns": null,
            "grid_auto_flow": null,
            "grid_auto_rows": null,
            "grid_column": null,
            "grid_gap": null,
            "grid_row": null,
            "grid_template_areas": null,
            "grid_template_columns": null,
            "grid_template_rows": null,
            "height": null,
            "justify_content": null,
            "justify_items": null,
            "left": null,
            "margin": null,
            "max_height": null,
            "max_width": null,
            "min_height": null,
            "min_width": null,
            "object_fit": null,
            "object_position": null,
            "order": null,
            "overflow": null,
            "overflow_x": null,
            "overflow_y": null,
            "padding": null,
            "right": null,
            "top": null,
            "visibility": null,
            "width": null
          }
        },
        "8cb134fe0b18494bbefe6c95adc7d14e": {
          "model_module": "@jupyter-widgets/base",
          "model_module_version": "1.2.0",
          "model_name": "LayoutModel",
          "state": {
            "_model_module": "@jupyter-widgets/base",
            "_model_module_version": "1.2.0",
            "_model_name": "LayoutModel",
            "_view_count": null,
            "_view_module": "@jupyter-widgets/base",
            "_view_module_version": "1.2.0",
            "_view_name": "LayoutView",
            "align_content": null,
            "align_items": null,
            "align_self": null,
            "border": null,
            "bottom": null,
            "display": null,
            "flex": null,
            "flex_flow": null,
            "grid_area": null,
            "grid_auto_columns": null,
            "grid_auto_flow": null,
            "grid_auto_rows": null,
            "grid_column": null,
            "grid_gap": null,
            "grid_row": null,
            "grid_template_areas": null,
            "grid_template_columns": null,
            "grid_template_rows": null,
            "height": null,
            "justify_content": null,
            "justify_items": null,
            "left": null,
            "margin": null,
            "max_height": null,
            "max_width": null,
            "min_height": null,
            "min_width": null,
            "object_fit": null,
            "object_position": null,
            "order": null,
            "overflow": null,
            "overflow_x": null,
            "overflow_y": null,
            "padding": null,
            "right": null,
            "top": null,
            "visibility": null,
            "width": null
          }
        },
        "b3e2e11d45734b7d9224fb987459470b": {
          "model_module": "nglview-js-widgets",
          "model_module_version": "3.0.1",
          "model_name": "NGLModel",
          "state": {
            "_camera_orientation": [
              -10.103352365027183,
              6.385389408422379,
              -0.592550746983955,
              0,
              3.959195270940704,
              5.341158002393939,
              -9.949816445385695,
              0,
              -5.0447088212804285,
              -8.596561905384883,
              -6.622090275149148,
              0,
              -1.7100000381469727,
              -0.8059999942779541,
              -0.2979999780654907,
              1
            ],
            "_camera_str": "orthographic",
            "_dom_classes": [],
            "_gui_theme": null,
            "_ibtn_fullscreen": "IPY_MODEL_174bcfbaa57647a791816ea2f5f95aba",
            "_igui": null,
            "_iplayer": "IPY_MODEL_1dbdb82571c54cdd93dc2852bfff8d40",
            "_model_module": "nglview-js-widgets",
            "_model_module_version": "3.0.1",
            "_model_name": "NGLModel",
            "_ngl_color_dict": {},
            "_ngl_coordinate_resource": {},
            "_ngl_full_stage_parameters": {
              "ambientColor": 14540253,
              "ambientIntensity": 0.2,
              "backgroundColor": "white",
              "cameraEyeSep": 0.3,
              "cameraFov": 40,
              "cameraType": "perspective",
              "clipDist": 10,
              "clipFar": 100,
              "clipNear": 0,
              "fogFar": 100,
              "fogNear": 50,
              "hoverTimeout": 0,
              "impostor": true,
              "lightColor": 14540253,
              "lightIntensity": 1,
              "mousePreset": "default",
              "panSpeed": 1,
              "quality": "medium",
              "rotateSpeed": 2,
              "sampleLevel": 0,
              "tooltip": true,
              "workerDefault": true,
              "zoomSpeed": 1.2
            },
            "_ngl_msg_archive": [
              {
                "args": [
                  {
                    "binary": false,
                    "data": "MODEL     1\nATOM      1    O MOL     1       1.736   0.839   0.257  1.00  0.00           O  \nATOM      2    H MOL     1       1.777   0.781   0.322  1.00  0.00           H  \nATOM      3    H MOL     1       1.643   0.831   0.274  1.00  0.00           H  \nATOM      4    X MOL     1       1.730   0.831   0.267  1.00  0.00           X  \nENDMDL\n",
                    "type": "blob"
                  }
                ],
                "kwargs": {
                  "defaultRepresentation": true,
                  "ext": "pdb"
                },
                "methodName": "loadFile",
                "reconstruc_color_scheme": false,
                "target": "Stage",
                "type": "call_method"
              }
            ],
            "_ngl_original_stage_parameters": {
              "ambientColor": 14540253,
              "ambientIntensity": 0.2,
              "backgroundColor": "white",
              "cameraEyeSep": 0.3,
              "cameraFov": 40,
              "cameraType": "perspective",
              "clipDist": 10,
              "clipFar": 100,
              "clipNear": 0,
              "fogFar": 100,
              "fogNear": 50,
              "hoverTimeout": 0,
              "impostor": true,
              "lightColor": 14540253,
              "lightIntensity": 1,
              "mousePreset": "default",
              "panSpeed": 1,
              "quality": "medium",
              "rotateSpeed": 2,
              "sampleLevel": 0,
              "tooltip": true,
              "workerDefault": true,
              "zoomSpeed": 1.2
            },
            "_ngl_repr_dict": {
              "0": {
                "0": {
                  "params": {
                    "aspectRatio": 1.5,
                    "assembly": "default",
                    "bondScale": 0.3,
                    "bondSpacing": 0.75,
                    "clipCenter": {
                      "x": 0,
                      "y": 0,
                      "z": 0
                    },
                    "clipNear": 0,
                    "clipRadius": 0,
                    "colorMode": "hcl",
                    "colorReverse": false,
                    "colorScale": "",
                    "colorScheme": "element",
                    "colorValue": 9474192,
                    "cylinderOnly": false,
                    "defaultAssembly": "",
                    "depthWrite": true,
                    "diffuse": 16777215,
                    "diffuseInterior": false,
                    "disableImpostor": false,
                    "disablePicking": false,
                    "flatShaded": false,
                    "interiorColor": 2236962,
                    "interiorDarkening": 0,
                    "lazy": false,
                    "lineOnly": false,
                    "linewidth": 2,
                    "matrix": {
                      "elements": [
                        1,
                        0,
                        0,
                        0,
                        0,
                        1,
                        0,
                        0,
                        0,
                        0,
                        1,
                        0,
                        0,
                        0,
                        0,
                        1
                      ]
                    },
                    "metalness": 0,
                    "multipleBond": "off",
                    "opacity": 1,
                    "openEnded": true,
                    "quality": "high",
                    "radialSegments": 20,
                    "radiusData": {},
                    "radiusScale": 2,
                    "radiusSize": 0.15,
                    "radiusType": "size",
                    "roughness": 0.4,
                    "sele": "",
                    "side": "double",
                    "sphereDetail": 2,
                    "useInteriorColor": true,
                    "visible": true,
                    "wireframe": false
                  },
                  "type": "ball+stick"
                }
              },
              "1": {
                "0": {
                  "params": {
                    "aspectRatio": 1.5,
                    "assembly": "default",
                    "bondScale": 0.3,
                    "bondSpacing": 0.75,
                    "clipCenter": {
                      "x": 0,
                      "y": 0,
                      "z": 0
                    },
                    "clipNear": 0,
                    "clipRadius": 0,
                    "colorMode": "hcl",
                    "colorReverse": false,
                    "colorScale": "",
                    "colorScheme": "element",
                    "colorValue": 9474192,
                    "cylinderOnly": false,
                    "defaultAssembly": "",
                    "depthWrite": true,
                    "diffuse": 16777215,
                    "diffuseInterior": false,
                    "disableImpostor": false,
                    "disablePicking": false,
                    "flatShaded": false,
                    "interiorColor": 2236962,
                    "interiorDarkening": 0,
                    "lazy": false,
                    "lineOnly": false,
                    "linewidth": 2,
                    "matrix": {
                      "elements": [
                        1,
                        0,
                        0,
                        0,
                        0,
                        1,
                        0,
                        0,
                        0,
                        0,
                        1,
                        0,
                        0,
                        0,
                        0,
                        1
                      ]
                    },
                    "metalness": 0,
                    "multipleBond": "off",
                    "opacity": 1,
                    "openEnded": true,
                    "quality": "high",
                    "radialSegments": 20,
                    "radiusData": {},
                    "radiusScale": 2,
                    "radiusSize": 0.15,
                    "radiusType": "size",
                    "roughness": 0.4,
                    "sele": "",
                    "side": "double",
                    "sphereDetail": 2,
                    "useInteriorColor": true,
                    "visible": true,
                    "wireframe": false
                  },
                  "type": "ball+stick"
                }
              }
            },
            "_ngl_serialize": false,
            "_ngl_version": "2.0.0-dev.36",
            "_ngl_view_id": [
              "5FF00EC2-ABC3-45F3-A902-138379E769E1"
            ],
            "_player_dict": {},
            "_scene_position": {},
            "_scene_rotation": {},
            "_synced_model_ids": [],
            "_synced_repr_model_ids": [],
            "_view_count": null,
            "_view_height": "",
            "_view_module": "nglview-js-widgets",
            "_view_module_version": "3.0.1",
            "_view_name": "NGLView",
            "_view_width": "",
            "background": "white",
            "frame": 0,
            "gui_style": null,
            "layout": "IPY_MODEL_83451c0f082c4aa888b1dd14e9c775bf",
            "max_frame": 0,
            "n_components": 2,
            "picked": {}
          }
        },
        "c842ad6e08ac425eade8ae91843af6cf": {
          "model_module": "@jupyter-widgets/base",
          "model_module_version": "1.2.0",
          "model_name": "LayoutModel",
          "state": {
            "_model_module": "@jupyter-widgets/base",
            "_model_module_version": "1.2.0",
            "_model_name": "LayoutModel",
            "_view_count": null,
            "_view_module": "@jupyter-widgets/base",
            "_view_module_version": "1.2.0",
            "_view_name": "LayoutView",
            "align_content": null,
            "align_items": null,
            "align_self": null,
            "border": null,
            "bottom": null,
            "display": null,
            "flex": null,
            "flex_flow": null,
            "grid_area": null,
            "grid_auto_columns": null,
            "grid_auto_flow": null,
            "grid_auto_rows": null,
            "grid_column": null,
            "grid_gap": null,
            "grid_row": null,
            "grid_template_areas": null,
            "grid_template_columns": null,
            "grid_template_rows": null,
            "height": null,
            "justify_content": null,
            "justify_items": null,
            "left": null,
            "margin": null,
            "max_height": null,
            "max_width": null,
            "min_height": null,
            "min_width": null,
            "object_fit": null,
            "object_position": null,
            "order": null,
            "overflow": null,
            "overflow_x": null,
            "overflow_y": null,
            "padding": null,
            "right": null,
            "top": null,
            "visibility": null,
            "width": null
          }
        },
        "d0b06dda6324492e96af92e3aeea444b": {
          "model_module": "@jupyter-widgets/controls",
          "model_module_version": "1.5.0",
          "model_name": "ButtonStyleModel",
          "state": {
            "_model_module": "@jupyter-widgets/controls",
            "_model_module_version": "1.5.0",
            "_model_name": "ButtonStyleModel",
            "_view_count": null,
            "_view_module": "@jupyter-widgets/base",
            "_view_module_version": "1.2.0",
            "_view_name": "StyleView",
            "button_color": null,
            "font_weight": ""
          }
        },
        "e8f4eabea82a4f928fa75a55769ed112": {
          "model_module": "@jupyter-widgets/controls",
          "model_module_version": "1.5.0",
          "model_name": "SliderStyleModel",
          "state": {
            "_model_module": "@jupyter-widgets/controls",
            "_model_module_version": "1.5.0",
            "_model_name": "SliderStyleModel",
            "_view_count": null,
            "_view_module": "@jupyter-widgets/base",
            "_view_module_version": "1.2.0",
            "_view_name": "StyleView",
            "description_width": "",
            "handle_color": null
          }
        },
        "f25cd88e94d7471fba0524c195300dbd": {
          "model_module": "@jupyter-widgets/controls",
          "model_module_version": "1.5.0",
          "model_name": "IntSliderModel",
          "state": {
            "_dom_classes": [],
            "_model_module": "@jupyter-widgets/controls",
            "_model_module_version": "1.5.0",
            "_model_name": "IntSliderModel",
            "_view_count": null,
            "_view_module": "@jupyter-widgets/controls",
            "_view_module_version": "1.5.0",
            "_view_name": "IntSliderView",
            "continuous_update": true,
            "description": "",
            "description_tooltip": null,
            "disabled": false,
            "layout": "IPY_MODEL_1ccf61fe60854532adca37efa0ce3d8c",
            "max": 0,
            "min": 0,
            "orientation": "horizontal",
            "readout": true,
            "readout_format": "d",
            "step": 1,
            "style": "IPY_MODEL_e8f4eabea82a4f928fa75a55769ed112",
            "value": 0
          }
        },
        "f7e90ca6eca44a02aa7dbd7c721963d2": {
          "model_module": "@jupyter-widgets/base",
          "model_module_version": "1.2.0",
          "model_name": "LayoutModel",
          "state": {
            "_model_module": "@jupyter-widgets/base",
            "_model_module_version": "1.2.0",
            "_model_name": "LayoutModel",
            "_view_count": null,
            "_view_module": "@jupyter-widgets/base",
            "_view_module_version": "1.2.0",
            "_view_name": "LayoutView",
            "align_content": null,
            "align_items": null,
            "align_self": null,
            "border": null,
            "bottom": null,
            "display": null,
            "flex": null,
            "flex_flow": null,
            "grid_area": null,
            "grid_auto_columns": null,
            "grid_auto_flow": null,
            "grid_auto_rows": null,
            "grid_column": null,
            "grid_gap": null,
            "grid_row": null,
            "grid_template_areas": null,
            "grid_template_columns": null,
            "grid_template_rows": null,
            "height": null,
            "justify_content": null,
            "justify_items": null,
            "left": null,
            "margin": null,
            "max_height": null,
            "max_width": null,
            "min_height": null,
            "min_width": null,
            "object_fit": null,
            "object_position": null,
            "order": null,
            "overflow": null,
            "overflow_x": null,
            "overflow_y": null,
            "padding": null,
            "right": null,
            "top": null,
            "visibility": null,
            "width": "34px"
          }
        }
      }
    }
  },
  "nbformat": 4,
  "nbformat_minor": 0
}
