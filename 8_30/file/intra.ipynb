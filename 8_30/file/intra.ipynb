{
 "cells": [
  {
   "cell_type": "code",
   "execution_count": 5,
   "id": "1eff66c8",
   "metadata": {},
   "outputs": [
    {
     "data": {
      "application/vnd.jupyter.widget-view+json": {
       "model_id": "9415538bcf144cbea388f88039a7ec9a",
       "version_major": 2,
       "version_minor": 0
      },
      "text/plain": []
     },
     "metadata": {},
     "output_type": "display_data"
    },
    {
     "data": {
      "application/vnd.jupyter.widget-view+json": {
       "model_id": "0175e4565f9d4602bb602c2bb34e822f",
       "version_major": 2,
       "version_minor": 0
      },
      "text/plain": [
       "NGLWidget()"
      ]
     },
     "metadata": {},
     "output_type": "display_data"
    }
   ],
   "source": [
    "import mdtraj as md\n",
    "from ase import Atoms\n",
    "molecule=md.load_pdb(\"../../aug23/single.pdb\")\n",
    "import nglview as nv\n",
    "moleculeview=nv.show_mdtraj(molecule)\n",
    "moleculeview"
   ]
  },
  {
   "cell_type": "code",
   "execution_count": 6,
   "id": "00f044ef",
   "metadata": {},
   "outputs": [],
   "source": [
    "atomic_numbers=[atom.element.atomic_number for atom in molecule.top.atoms]\n",
    "water=Atoms(positions=molecule.xyz[0],numbers=atomic_numbers)"
   ]
  },
  {
   "cell_type": "code",
   "execution_count": 7,
   "id": "382efbf3",
   "metadata": {},
   "outputs": [
    {
     "name": "stdout",
     "output_type": "stream",
     "text": [
      "Relative positions:\n",
      " [[-0.01795 -0.03465 -0.008  ]\n",
      " [ 0.07775 -0.03465 -0.008  ]\n",
      " [-0.04185  0.05795 -0.008  ]\n",
      " [-0.01795  0.01135  0.024  ]]\n",
      "\n",
      "atomic_numbers:\n",
      " [[8]\n",
      " [1]\n",
      " [1]\n",
      " [0]]\n",
      "\n",
      "Vander wall Radii:\n",
      " [[0.152]\n",
      " [0.12 ]\n",
      " [0.12 ]\n",
      " [0.   ]]\n",
      "\n",
      "Atomic Mass:\n",
      " [[15.99943 ]\n",
      " [ 1.007947]\n",
      " [ 1.007947]\n",
      " [ 0.      ]]\n"
     ]
    }
   ],
   "source": [
    "import numpy as np\n",
    "poitions = molecule.xyz[0]\n",
    "com = poitions.mean(axis=0)\n",
    "relative_pos = poitions-com\n",
    "atomic_nums = np.array(\n",
    "    [[atom.element.atomic_number for atom in molecule.top.atoms]]).T\n",
    "vdwr = np.array([[atom.element.radius for atom in molecule.top.atoms]]).T\n",
    "mass = np.array([[atom.element.mass for atom in molecule.top.atoms]]).T\n",
    "print(\"Relative positions:\\n\", relative_pos)\n",
    "print(\"\\natomic_numbers:\\n\", atomic_nums)\n",
    "print(\"\\nVander wall Radii:\\n\", vdwr)\n",
    "print(\"\\nAtomic Mass:\\n\", mass)"
   ]
  },
  {
   "cell_type": "code",
   "execution_count": 8,
   "id": "cd8593d9",
   "metadata": {},
   "outputs": [
    {
     "name": "stdout",
     "output_type": "stream",
     "text": [
      "Node Features:\n",
      " [[-1.79500002e-02 -3.46500017e-02 -8.00000038e-03  8.00000000e+00\n",
      "   1.52000000e-01  1.59994300e+01]\n",
      " [ 7.77500048e-02 -3.46500017e-02 -8.00000038e-03  1.00000000e+00\n",
      "   1.20000000e-01  1.00794700e+00]\n",
      " [-4.18500006e-02  5.79500012e-02 -8.00000038e-03  1.00000000e+00\n",
      "   1.20000000e-01  1.00794700e+00]\n",
      " [-1.79500002e-02  1.13499984e-02  2.40000002e-02  0.00000000e+00\n",
      "   0.00000000e+00  0.00000000e+00]]\n",
      "\n",
      "Node Features Shape:\n",
      " (4, 6)\n"
     ]
    }
   ],
   "source": [
    "node_features = np.concatenate((relative_pos, atomic_nums, vdwr, mass), axis=1)\n",
    "print(\"Node Features:\\n\", node_features)\n",
    "print(\"\\nNode Features Shape:\\n\", node_features.shape)"
   ]
  },
  {
   "cell_type": "code",
   "execution_count": 9,
   "id": "7696a8a2",
   "metadata": {},
   "outputs": [],
   "source": [
    "from_list = []\n",
    "to_list = []\n",
    "for edge in molecule.topology.bonds:\n",
    "    from_list.append(edge.atom1.index)\n",
    "    to_list.append(edge.atom2.index)\n",
    "    from_list.append(edge.atom2.index)\n",
    "    to_list.append(edge.atom1.index)\n",
    "\n",
    "edge_list = np.array([from_list, to_list])\n"
   ]
  },
  {
   "cell_type": "code",
   "execution_count": 10,
   "id": "9ef669f3",
   "metadata": {},
   "outputs": [],
   "source": [
    "import mdtraj as md\n",
    "from ase import Atoms\n",
    "from nglview import show_ase\n",
    "import networkx as nx\n",
    "\n",
    "import torch\n",
    "import torch_geometric.transforms as T\n",
    "from torch_geometric.loader import DataLoader\n",
    "from torch_geometric.nn import GCNConv, SAGPooling, InnerProductDecoder\n",
    "import torch_geometric.data as data\n",
    "from torch_geometric.utils.convert import to_networkx\n",
    "\n",
    "import numpy as np\n",
    "import matplotlib.pyplot as plt\n"
   ]
  },
  {
   "cell_type": "code",
   "execution_count": 11,
   "id": "22803ac9",
   "metadata": {},
   "outputs": [],
   "source": [
    "graph = data.Data(x=torch.from_numpy(node_features),\n",
    "                  edge_index=torch.from_numpy(edge_list))"
   ]
  },
  {
   "cell_type": "code",
   "execution_count": 12,
   "id": "0a53c146",
   "metadata": {},
   "outputs": [
    {
     "name": "stdout",
     "output_type": "stream",
     "text": [
      "Data(x=[4, 6], edge_index=[2, 4])\n",
      "tensor([[0, 1, 0, 2],\n",
      "        [1, 0, 2, 0]])\n"
     ]
    }
   ],
   "source": [
    "print(graph)\n",
    "print(graph.edge_index)"
   ]
  },
  {
   "cell_type": "code",
   "execution_count": 13,
   "id": "c2b4d796",
   "metadata": {},
   "outputs": [
    {
     "data": {
      "image/png": "[encoded data removed]",
      "text/plain": [
       "<Figure size 640x480 with 1 Axes>"
      ]
     },
     "metadata": {},
     "output_type": "display_data"
    }
   ],
   "source": [
    "vis = to_networkx(graph)\n",
    "nx.draw_networkx(vis)"
   ]
  },
  {
   "cell_type": "code",
   "execution_count": 14,
   "id": "ef2a659f",
   "metadata": {},
   "outputs": [],
   "source": [
    "graphs = [graph for _ in range(50)]"
   ]
  },
  {
   "cell_type": "code",
   "execution_count": 15,
   "id": "6f058e91",
   "metadata": {},
   "outputs": [],
   "source": [
    "from typing import Optional, Tuple\n",
    "\n",
    "import torch\n",
    "from torch import Tensor\n",
    "from torch.nn import Module\n",
    "\n",
    "from torch_geometric.nn.inits import reset\n",
    "from torch_geometric.utils import negative_sampling\n",
    "\n",
    "EPS = 1e-15\n",
    "MAX_LOGSTD = 10\n",
    "\n",
    "\n",
    "class InnerProductDecoder(torch.nn.Module):\n",
    "    r\"\"\"The inner product decoder from the `\"Variational Graph Auto-Encoders\"\n",
    "    <https://arxiv.org/abs/1611.07308>`_ paper\n",
    "\n",
    "    .. math::\n",
    "        \\sigma(\\mathbf{Z}\\mathbf{Z}^{\\top})\n",
    "\n",
    "    where :math:`\\mathbf{Z} \\in \\mathbb{R}^{N \\times d}` denotes the latent\n",
    "    space produced by the encoder.\"\"\"\n",
    "\n",
    "    def forward(self, z: Tensor, edge_index: Tensor,\n",
    "                sigmoid: bool = True) -> Tensor:\n",
    "        r\"\"\"Decodes the latent variables :obj:`z` into edge probabilities for\n",
    "        the given node-pairs :obj:`edge_index`.\n",
    "\n",
    "        Args:\n",
    "            z (torch.Tensor): The latent space :math:`\\mathbf{Z}`.\n",
    "            sigmoid (bool, optional): If set to :obj:`False`, does not apply\n",
    "                the logistic sigmoid function to the output.\n",
    "                (default: :obj:`True`)\n",
    "        \"\"\"\n",
    "        value = (z[edge_index[0]] * z[edge_index[1]]).sum(dim=1)\n",
    "        return torch.sigmoid(value) if sigmoid else value\n",
    "\n",
    "    def forward_all(self, z: Tensor, sigmoid: bool = True) -> Tensor:\n",
    "        r\"\"\"Decodes the latent variables :obj:`z` into a probabilistic dense\n",
    "        adjacency matrix.\n",
    "\n",
    "        Args:\n",
    "            z (torch.Tensor): The latent space :math:`\\mathbf{Z}`.\n",
    "            sigmoid (bool, optional): If set to :obj:`False`, does not apply\n",
    "                the logistic sigmoid function to the output.\n",
    "                (default: :obj:`True`)\n",
    "        \"\"\"\n",
    "        adj = torch.matmul(z, z.t())\n",
    "        return torch.sigmoid(adj) if sigmoid else adj\n",
    "\n",
    "\n",
    "class GAE(torch.nn.Module):\n",
    "    r\"\"\"The Graph Auto-Encoder model from the\n",
    "    `\"Variational Graph Auto-Encoders\" <https://arxiv.org/abs/1611.07308>`_\n",
    "    paper based on user-defined encoder and decoder models.\n",
    "\n",
    "    Args:\n",
    "        encoder (torch.nn.Module): The encoder module.\n",
    "        decoder (torch.nn.Module, optional): The decoder module. If set to\n",
    "            :obj:`None`, will default to the\n",
    "            :class:`torch_geometric.nn.models.InnerProductDecoder`.\n",
    "            (default: :obj:`None`)\n",
    "    \"\"\"\n",
    "\n",
    "    def __init__(self, encoder: Module, decoder: Optional[Module] = None):\n",
    "        super().__init__()\n",
    "        self.encoder = encoder\n",
    "        self.decoder = InnerProductDecoder() if decoder is None else decoder\n",
    "        GAE.reset_parameters(self)\n",
    "\n",
    "    def reset_parameters(self):\n",
    "        r\"\"\"Resets all learnable parameters of the module.\"\"\"\n",
    "        reset(self.encoder)\n",
    "        reset(self.decoder)\n",
    "\n",
    "    def forward(self, *args, **kwargs) -> Tensor:  # pragma: no cover\n",
    "        r\"\"\"Alias for :meth:`encode`.\"\"\"\n",
    "        return self.encoder(*args, **kwargs)\n",
    "\n",
    "    def encode(self, *args, **kwargs) -> Tensor:\n",
    "        r\"\"\"Runs the encoder and computes node-wise latent variables.\"\"\"\n",
    "        return self.encoder(*args, **kwargs)\n",
    "\n",
    "    def decode(self, *args, **kwargs) -> Tensor:\n",
    "        r\"\"\"Runs the decoder and computes edge probabilities.\"\"\"\n",
    "        return self.decoder(*args, **kwargs)\n",
    "\n",
    "    def recon_loss(self, z: Tensor, pos_edge_index: Tensor,\n",
    "                   neg_edge_index: Optional[Tensor] = None) -> Tensor:\n",
    "        r\"\"\"Given latent variables :obj:`z`, computes the binary cross\n",
    "        entropy loss for positive edges :obj:`pos_edge_index` and negative\n",
    "        sampled edges.\n",
    "\n",
    "        Args:\n",
    "            z (torch.Tensor): The latent space :math:`\\mathbf{Z}`.\n",
    "            pos_edge_index (torch.Tensor): The positive edges to train against.\n",
    "            neg_edge_index (torch.Tensor, optional): The negative edges to\n",
    "                train against. If not given, uses negative sampling to\n",
    "                calculate negative edges. (default: :obj:`None`)\n",
    "        \"\"\"\n",
    "        pos_loss = -torch.log(\n",
    "            self.decoder(z, pos_edge_index, sigmoid=True)[0] + EPS).mean()\n",
    "\n",
    "        if neg_edge_index is None:\n",
    "            neg_edge_index = negative_sampling(pos_edge_index, z.size(0))\n",
    "        neg_loss = -torch.log(1 -\n",
    "                              self.decoder(z, neg_edge_index.long(), sigmoid=True)[0] +\n",
    "                              EPS).mean()\n",
    "\n",
    "        return pos_loss + neg_loss\n",
    "\n",
    "    def test(self, z: Tensor, pos_edge_index: Tensor,\n",
    "             neg_edge_index: Tensor) -> Tuple[Tensor, Tensor]:\n",
    "        r\"\"\"Given latent variables :obj:`z`, positive edges\n",
    "        :obj:`pos_edge_index` and negative edges :obj:`neg_edge_index`,\n",
    "        computes area under the ROC curve (AUC) and average precision (AP)\n",
    "        \n",
    "        scores.\n",
    "\n",
    "        Args:\n",
    "            z (torch.Tensor): The latent space :math:`\\mathbf{Z}`.\n",
    "            pos_edge_index (torch.Tensor): The positive edges to evaluate\n",
    "                against.\n",
    "            neg_edge_index (torch.Tensor): The negative edges to evaluate\n",
    "                against.\n",
    "        \"\"\"\n",
    "        from sklearn.metrics import average_precision_score, roc_auc_score\n",
    "\n",
    "        pos_y = z.new_ones(pos_edge_index.size(1))\n",
    "        neg_y = z.new_zeros(neg_edge_index.size(1))\n",
    "        y = torch.cat([pos_y, neg_y], dim=0)\n",
    "\n",
    "        pos_pred = self.decoder(z, pos_edge_index, sigmoid=True)\n",
    "        neg_pred = self.decoder(z, neg_edge_index, sigmoid=True)\n",
    "        pred = torch.cat([pos_pred, neg_pred], dim=0)\n",
    "\n",
    "        y, pred = y.detach().cpu().numpy(), pred.detach().cpu().numpy()\n",
    "\n",
    "        return roc_auc_score(y, pred), average_precision_score(y, pred)\n",
    "\n",
    "\n",
    "class VGAE(GAE):\n",
    "    r\"\"\"The Variational Graph Auto-Encoder model from the\n",
    "    `\"Variational Graph Auto-Encoders\" <https://arxiv.org/abs/1611.07308>`_\n",
    "    paper.\n",
    "\n",
    "    Args:\n",
    "        encoder (torch.nn.Module): The encoder module to compute :math:`\\mu`\n",
    "            and :math:`\\log\\sigma^2`.\n",
    "        decoder (torch.nn.Module, optional): The decoder module. If set to\n",
    "            :obj:`None`, will default to the\n",
    "            :class:`torch_geometric.nn.models.InnerProductDecoder`.\n",
    "            (default: :obj:`None`)\n",
    "    \"\"\"\n",
    "\n",
    "    def __init__(self, encoder: Module, decoder: Optional[Module] = None):\n",
    "        super().__init__(encoder, decoder)\n",
    "\n",
    "    def reparametrize(self, mu: Tensor, logstd: Tensor) -> Tensor:\n",
    "        if self.training:\n",
    "            return mu + torch.randn_like(logstd) * torch.exp(logstd)\n",
    "        else:\n",
    "            return mu\n",
    "\n",
    "    def encode(self, *args, **kwargs) -> Tensor:\n",
    "        \"\"\"\"\"\"\n",
    "        self.__mu__, self.__logstd__, self.edge_index = self.encoder(\n",
    "            *args, **kwargs)\n",
    "        self.__logstd__ = self.__logstd__.clamp(max=MAX_LOGSTD)\n",
    "        z = self.reparametrize(self.__mu__, self.__logstd__)\n",
    "        return z, self.edge_index.long()\n",
    "\n",
    "    def kl_loss(self, mu: Optional[Tensor] = None,\n",
    "                logstd: Optional[Tensor] = None) -> Tensor:\n",
    "        r\"\"\"Computes the KL loss, either for the passed arguments :obj:`mu`\n",
    "        and :obj:`logstd`, or based on latent variables from last encoding.\n",
    "\n",
    "        Args:\n",
    "            mu (torch.Tensor, optional): The latent space for :math:`\\mu`. If\n",
    "                set to :obj:`None`, uses the last computation of :math:`\\mu`.\n",
    "                (default: :obj:`None`)\n",
    "            logstd (torch.Tensor, optional): The latent space for\n",
    "                :math:`\\log\\sigma`.  If set to :obj:`None`, uses the last\n",
    "                computation of :math:`\\log\\sigma^2`. (default: :obj:`None`)\n",
    "        \"\"\"\n",
    "        mu = self.__mu__ if mu is None else mu\n",
    "        logstd = self.__logstd__ if logstd is None else logstd.clamp(\n",
    "            max=MAX_LOGSTD)\n",
    "        return -0.5 * torch.mean(\n",
    "            torch.sum(1 + 2 * logstd - mu**2 - logstd.exp()**2, dim=1))\n"
   ]
  },
  {
   "cell_type": "code",
   "execution_count": 16,
   "id": "fc6c00ba",
   "metadata": {},
   "outputs": [],
   "source": [
    "def norm_g(g):\n",
    "    degrees = torch.sum(g, 1)\n",
    "    g = g / degrees\n",
    "    return g\n",
    "\n",
    "\n",
    "def top_k_graph(scores, g, h, k):\n",
    "    num_nodes = g.shape[0]\n",
    "    values, idx = torch.topk(scores, max(2, int(k*num_nodes)))\n",
    "    new_h = h[idx, :]\n",
    "    values = torch.unsqueeze(values, -1)\n",
    "    new_h = torch.mul(new_h, values)\n",
    "    un_g = g.bool().float()\n",
    "    un_g = torch.matmul(un_g, un_g).bool().float()\n",
    "    un_g = un_g[idx, :]\n",
    "    un_g = un_g[:, idx]\n",
    "    g = norm_g(un_g)\n",
    "    return g, new_h, idx\n",
    "\n",
    "class Pool(torch.nn.Module):\n",
    "\n",
    "    def __init__(self, k, in_dim, p):\n",
    "        super(Pool, self).__init__()\n",
    "        self.k = k\n",
    "        self.sigmoid = torch.nn.Sigmoid()\n",
    "        self.proj = torch.nn.Linear(in_dim, 1)\n",
    "        self.drop = torch.nn.Dropout(p=p) if p > 0 else torch.nn.Identity()\n",
    "\n",
    "    def forward(self, g, h):\n",
    "        Z = self.drop(h)\n",
    "        weights = self.proj(Z).squeeze()\n",
    "        scores = self.sigmoid(weights)\n",
    "        return top_k_graph(scores, g, h, self.k)\n",
    "\n",
    "\n",
    "class Unpool(torch.nn.Module):\n",
    "\n",
    "    def __init__(self, *args):\n",
    "        super(Unpool, self).__init__()\n",
    "\n",
    "    def forward(self, h, edge_indices,factor=1):\n",
    "        # add zeros to h factor times\n",
    "        h = torch.cat([h, torch.zeros(h.shape[0]*factor, h.shape[1]).to(h.device)], dim=0)\n",
    "        return h"
   ]
  },
  {
   "cell_type": "code",
   "execution_count": 17,
   "id": "eb421e08",
   "metadata": {},
   "outputs": [],
   "source": [
    "def convert_to_adj(edge_index, num_nodes=None):\n",
    "    if num_nodes is None:\n",
    "        num_nodes = edge_index.max() + 1\n",
    "    adj = torch.zeros(num_nodes, num_nodes)\n",
    "    adj[edge_index[0], edge_index[1]] = 1\n",
    "    return adj\n",
    "\n",
    "def convert_to_edge_index(adj):\n",
    "    edge_index = adj.nonzero().t()\n",
    "    return edge_index\n",
    "\n",
    "class VariationalGCNEncoder(torch.nn.Module):\n",
    "    \n",
    "    def __init__(self, in_channels, out_channels):\n",
    "        super().__init__()\n",
    "        self.conv1 = GCNConv(in_channels, 4 * out_channels)\n",
    "        self.conv2 = GCNConv(4 * out_channels, 2 * out_channels)\n",
    "\n",
    "        # add SAG pooling layer\n",
    "        self.pool = SAGPooling(in_channels, 0.5)\n",
    "\n",
    "        # Using a self defined pooling layer\n",
    "        # self.pool = Pool(0.5,in_channels, 0.5)\n",
    "\n",
    "        self.conv_mu = GCNConv(2 * out_channels, out_channels)\n",
    "        self.conv_logstd = GCNConv(2 * out_channels, out_channels)\n",
    "\n",
    "    def forward(self, x, edge_index):        \n",
    "        x = self.conv1(x, edge_index).relu()\n",
    "        x = self.conv2(x, edge_index).relu()\n",
    "        \n",
    "        x, edge_index,_,_,_,_ = self.pool(x, edge_index)\n",
    "\n",
    "        # adj_g = convert_to_adj(edge_index, x.shape[0])\n",
    "        # adj_g, x, idx = self.pool(adj_g, x)\n",
    "        # edge_index = convert_to_edge_index(adj_g)\n",
    "        \n",
    "        mu = self.conv_mu(x, edge_index)\n",
    "        logstd = self.conv_logstd(x, edge_index)\n",
    "        \n",
    "        return mu, logstd, edge_index\n"
   ]
  },
  {
   "cell_type": "code",
   "execution_count": 18,
   "id": "f70c2e5c",
   "metadata": {},
   "outputs": [],
   "source": [
    "import torch\n",
    "import torch.nn.functional as F\n",
    "\n",
    "class VariationalGCNDecoder(torch.nn.Module):\n",
    "    def __init__(self, in_channels, out_channels,sigmoid=True):\n",
    "        super().__init__()\n",
    "        self.unpool = Unpool()\n",
    "        self.conv_pre1 = GCNConv(in_channels, 2 * out_channels)\n",
    "        self.conv_pre2 = GCNConv(2 * out_channels, out_channels)\n",
    "        self.conv1 = GCNConv(in_channels, 2 * out_channels)\n",
    "        self.conv2 = GCNConv(2 * out_channels, out_channels)\n",
    "        \n",
    "    def forward(self, z, edge_index,sigmoid=True):\n",
    "        z = self.unpool(z, edge_index,factor=1)\n",
    "        edge_index = torch.cat([edge_index, torch.zeros(2,max(0,z.shape[0]-edge_index.shape[1]) ).long()], dim=1)\n",
    "        z = self.conv1(z, edge_index).relu()\n",
    "        z = self.conv2(z, edge_index).relu()\n",
    "\n",
    "        return z, edge_index\n",
    "        "
   ]
  },
  {
   "cell_type": "code",
   "execution_count": 19,
   "id": "af40c2e4",
   "metadata": {},
   "outputs": [],
   "source": [
    "in_channels = graph.num_features\n",
    "out_channels = 3\n",
    "lr = 1e-2\n",
    "n_epochs = 20\n",
    "batch_size = 1\n",
    "\n",
    "model = VGAE(VariationalGCNEncoder(in_channels, out_channels),\n",
    "             VariationalGCNDecoder(out_channels, in_channels))\n",
    "optimizer = torch.optim.Adam(model.parameters(), lr=lr)\n"
   ]
  },
  {
   "cell_type": "code",
   "execution_count": 20,
   "id": "59accb4a",
   "metadata": {},
   "outputs": [
    {
     "name": "stdout",
     "output_type": "stream",
     "text": [
      "VGAE(\n",
      "  (encoder): VariationalGCNEncoder(\n",
      "    (conv1): GCNConv(6, 12)\n",
      "    (conv2): GCNConv(12, 6)\n",
      "    (pool): SAGPooling(GraphConv, 6, ratio=0.5, multiplier=1.0)\n",
      "    (conv_mu): GCNConv(6, 3)\n",
      "    (conv_logstd): GCNConv(6, 3)\n",
      "  )\n",
      "  (decoder): VariationalGCNDecoder(\n",
      "    (unpool): Unpool()\n",
      "    (conv_pre1): GCNConv(3, 12)\n",
      "    (conv_pre2): GCNConv(12, 6)\n",
      "    (conv1): GCNConv(3, 12)\n",
      "    (conv2): GCNConv(12, 6)\n",
      "  )\n",
      ")\n"
     ]
    }
   ],
   "source": [
    "print(model)"
   ]
  },
  {
   "cell_type": "code",
   "execution_count": 21,
   "id": "1b0f8e2a",
   "metadata": {},
   "outputs": [],
   "source": [
    "train_loader = DataLoader(graphs, batch_size=batch_size)\n",
    "\n"
   ]
  },
  {
   "cell_type": "code",
   "execution_count": 22,
   "id": "8dd72627",
   "metadata": {},
   "outputs": [],
   "source": [
    "def train():\n",
    "    model.train()\n",
    "    model.double()\n",
    "    loss_all = 0\n",
    "\n",
    "    for data in train_loader:\n",
    "        optimizer.zero_grad()\n",
    "        z, encoded_edge = model.encode(data.x, data.edge_index)\n",
    "        decoded_x, decoded_edge = model.decode(z, encoded_edge)\n",
    "        # print(\"x\", data.x.shape)\n",
    "        # print(\"edge\", data.edge_index.shape)\n",
    "        # print(\"decoded x\", decoded_x.shape)\n",
    "        # print(\"decoded edge\", decoded_edge.shape)\n",
    "        lossF = F.mse_loss(decoded_x, data.x)\n",
    "        lossE = F.mse_loss(data.edge_index, decoded_edge.float())\n",
    "        loss = lossF + lossE\n",
    "        loss = loss + (1 / data.num_nodes) * model.kl_loss()\n",
    "        loss.backward()\n",
    "        loss_all += float(loss)\n",
    "        optimizer.step()\n",
    "    return loss_all / len(train_loader.dataset)\n"
   ]
  },
  {
   "cell_type": "code",
   "execution_count": 23,
   "id": "dd30fd39",
   "metadata": {},
   "outputs": [
    {
     "name": "stdout",
     "output_type": "stream",
     "text": [
      "Epoch: 001, Loss: 11.9497\n",
      "Epoch: 002, Loss: 8.8994\n",
      "Epoch: 003, Loss: 5.0195\n",
      "Epoch: 004, Loss: 5.1240\n",
      "Epoch: 005, Loss: 4.4737\n",
      "Epoch: 006, Loss: 3.7177\n",
      "Epoch: 007, Loss: 2.6927\n",
      "Epoch: 008, Loss: 2.5693\n",
      "Epoch: 009, Loss: 2.3416\n",
      "Epoch: 010, Loss: 6.7734\n",
      "Epoch: 011, Loss: 7.4681\n",
      "Epoch: 012, Loss: 8.1997\n",
      "Epoch: 013, Loss: 7.5204\n",
      "Epoch: 014, Loss: 7.6792\n",
      "Epoch: 015, Loss: 7.8409\n",
      "Epoch: 016, Loss: 8.0346\n",
      "Epoch: 017, Loss: 8.1060\n",
      "Epoch: 018, Loss: 7.5258\n",
      "Epoch: 019, Loss: 7.1584\n",
      "Epoch: 020, Loss: 7.6819\n"
     ]
    }
   ],
   "source": [
    "Losses = []\n",
    "for epoch in range(1, n_epochs + 1):\n",
    "    loss = train()\n",
    "    print(f'Epoch: {epoch:03d}, Loss: {loss:.4f}')\n",
    "    Losses.append(loss)"
   ]
  },
  {
   "cell_type": "code",
   "execution_count": 24,
   "id": "99e41a7e",
   "metadata": {},
   "outputs": [
    {
     "data": {
      "text/plain": [
       "[<matplotlib.lines.Line2D at 0x7ff496273c70>]"
      ]
     },
     "execution_count": 24,
     "metadata": {},
     "output_type": "execute_result"
    },
    {
     "data": {
      "image/png": "[encoded data removed]",
      "text/plain": [
       "<Figure size 640x480 with 1 Axes>"
      ]
     },
     "metadata": {},
     "output_type": "display_data"
    }
   ],
   "source": [
    "plt.plot(Losses)\n"
   ]
  },
  {
   "cell_type": "code",
   "execution_count": 25,
   "id": "46cecc48",
   "metadata": {},
   "outputs": [
    {
     "name": "stdout",
     "output_type": "stream",
     "text": [
      "Input Graph features: \n",
      " tensor([[-1.7950e-02, -3.4650e-02, -8.0000e-03,  8.0000e+00,  1.5200e-01,\n",
      "          1.5999e+01],\n",
      "        [ 7.7750e-02, -3.4650e-02, -8.0000e-03,  1.0000e+00,  1.2000e-01,\n",
      "          1.0079e+00],\n",
      "        [-4.1850e-02,  5.7950e-02, -8.0000e-03,  1.0000e+00,  1.2000e-01,\n",
      "          1.0079e+00],\n",
      "        [-1.7950e-02,  1.1350e-02,  2.4000e-02,  0.0000e+00,  0.0000e+00,\n",
      "          0.0000e+00]], dtype=torch.float64)\n",
      "\n",
      "Input Edge Index: \n",
      " tensor([[0, 1, 0, 2],\n",
      "        [1, 0, 2, 0]])\n",
      "\n",
      "Encoded Graph: \n",
      " tensor([[-1.6087,  0.5001,  1.0171],\n",
      "        [-1.0586, -1.0908, -0.1682]], dtype=torch.float64,\n",
      "       grad_fn=<AddBackward0>)\n",
      "\n",
      "Decoded Node features: \n",
      " tensor([[0.0000, 0.0000, 0.0000, 5.0449, 0.0000, 9.7137],\n",
      "        [0.0000, 0.0000, 0.0000, 3.9159, 0.0000, 7.3226],\n",
      "        [0.0000, 0.0000, 0.0000, 0.5265, 0.0000, 0.5734],\n",
      "        [0.0000, 0.0000, 0.0000, 0.5265, 0.0000, 0.5734]], dtype=torch.float64,\n",
      "       grad_fn=<ReluBackward0>)\n",
      "\n",
      "Decoded Edge Index: \n",
      " tensor([[0, 1, 0, 2],\n",
      "        [1, 0, 2, 0]])\n"
     ]
    }
   ],
   "source": [
    "model.double()\n",
    "z,encoded_edge_index = model.encode(graph.x, graph.edge_index)\n",
    "r,decoded_edge_index = model.decode(z, encoded_edge_index)\n",
    "decoded_edge_index = graph.edge_index\n",
    "print(\"Input Graph features: \\n\", graph.x)\n",
    "print(\"\\nInput Edge Index: \\n\", graph.edge_index)\n",
    "print(\"\\nEncoded Graph: \\n\", z)\n",
    "print(\"\\nDecoded Node features: \\n\", r)\n",
    "print(\"\\nDecoded Edge Index: \\n\", decoded_edge_index)"
   ]
  },
  {
   "cell_type": "code",
   "execution_count": 26,
   "id": "9e43abf4",
   "metadata": {},
   "outputs": [
    {
     "data": {
      "image/png": "[encoded data removed]",
      "text/plain": [
       "<Figure size 640x480 with 1 Axes>"
      ]
     },
     "metadata": {},
     "output_type": "display_data"
    }
   ],
   "source": [
    "add_self_loops = False\n",
    "adj_binary = convert_to_adj(decoded_edge_index, r.shape[0])\n",
    "indices = torch.where(adj_binary)\n",
    "G = nx.Graph()\n",
    "if not add_self_loops:\n",
    "    edges = [(i, j) for i, j in zip(\n",
    "        indices[0].tolist(), indices[1].tolist()) if i != j]\n",
    "    G.add_edges_from(edges)\n",
    "else:\n",
    "    G.add_edges_from(zip(indices[0].tolist(), indices[1].tolist()))\n",
    "G.add_node(4)\n",
    "nx.draw_networkx(G, with_labels=True)\n",
    "plt.show()\n"
   ]
  },
  {
   "cell_type": "code",
   "execution_count": null,
   "id": "06d9d32d",
   "metadata": {},
   "outputs": [],
   "source": []
  }
 ],
 "metadata": {
  "kernelspec": {
   "display_name": "Python 3 (ipykernel)",
   "language": "python",
   "name": "python3"
  },
  "language_info": {
   "codemirror_mode": {
    "name": "ipython",
    "version": 3
   },
   "file_extension": ".py",
   "mimetype": "text/x-python",
   "name": "python",
   "nbconvert_exporter": "python",
   "pygments_lexer": "ipython3",
   "version": "3.10.9"
  }
 },
 "nbformat": 4,
 "nbformat_minor": 5
}
