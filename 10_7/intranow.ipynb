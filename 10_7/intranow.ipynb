{
  "cells": [
    {
      "cell_type": "code",
      "execution_count": 3,
      "metadata": {},
      "outputs": [
        {
          "data": {
            "application/vnd.jupyter.widget-view+json": {
              "model_id": "1b4cd9a67ec9400daaa0888266c2d5fd",
              "version_major": 2,
              "version_minor": 0
            },
            "text/plain": []
          },
          "metadata": {},
          "output_type": "display_data"
        }
      ],
      "source": [
        "#basic modules\n",
        "import numpy as np\n",
        "import mdtraj as md\n",
        "from ase import Atoms\n",
        "import networkx as nx\n",
        "from tqdm import tqdm\n",
        "from nglview import show_ase\n",
        "import matplotlib.pyplot as plt\n",
        "from typing import Optional, Tuple \n",
        "from sklearn.preprocessing import MinMaxScaler\n",
        "# torch modules\n",
        "import torch\n",
        "import torch.nn.functional as F\n",
        "import torch.nn as nn\n",
        "import torch.optim.lr_scheduler as lr_scheduler\n",
        "from torch import Tensor\n",
        "from torch.nn import Module\n",
        "# torch_geometric modules\n",
        "import torch_geometric.transforms as T\n",
        "from torch_geometric.loader import DataLoader\n",
        "from torch_geometric.nn import GCNConv, SAGPooling, InnerProductDecoder\n",
        "from torch_geometric.nn import BatchNorm,Linear\n",
        "import torch_geometric.data as data\n",
        "from torch_geometric.utils.convert import to_networkx\n",
        "from torch_geometric.data import Data\n",
        "from torch_geometric.nn import GATConv\n",
        "from torch_geometric.nn import GatedGraphConv\n",
        "from torch_geometric.nn.inits import reset\n",
        "from torch_geometric.utils import negative_sampling"
      ]
    },
    {
      "cell_type": "code",
      "execution_count": 4,
      "metadata": {
        "id": "LGVGTD4dPaQG"
      },
      "outputs": [],
      "source": [
        "\n",
        "frames=md.load_xtc(\"./singlesim/it50k/eql2.xtc\",top=\"./singlesim/it50k/conf.gro\")\n",
        "molecule=frames[0]"
      ]
    },
    {
      "cell_type": "code",
      "execution_count": 5,
      "metadata": {
        "colab": {
          "base_uri": "https://localhost:8080/",
          "height": 317,
          "referenced_widgets": [
            "b3e2e11d45734b7d9224fb987459470b",
            "83451c0f082c4aa888b1dd14e9c775bf",
            "174bcfbaa57647a791816ea2f5f95aba",
            "1dbdb82571c54cdd93dc2852bfff8d40",
            "8cb134fe0b18494bbefe6c95adc7d14e",
            "65d323feef3b4d44a7846a7c208946f1",
            "1ccf61fe60854532adca37efa0ce3d8c",
            "e8f4eabea82a4f928fa75a55769ed112",
            "51f160dd2cbe413ca4340f08c1c556c6",
            "f25cd88e94d7471fba0524c195300dbd",
            "f7e90ca6eca44a02aa7dbd7c721963d2",
            "d0b06dda6324492e96af92e3aeea444b",
            "c842ad6e08ac425eade8ae91843af6cf"
          ]
        },
        "id": "LfhgrqRRuEAv",
        "outputId": "82b81f8f-849f-4a0e-e6ef-549b93adb26c"
      },
      "outputs": [
        {
          "data": {
            "application/vnd.jupyter.widget-view+json": {
              "model_id": "a6baa51aaeab4268b56443c1a5504c21",
              "version_major": 2,
              "version_minor": 0
            },
            "text/plain": [
              "NGLWidget()"
            ]
          },
          "metadata": {},
          "output_type": "display_data"
        }
      ],
      "source": [
        "atomic_nums = [atom.element.atomic_number for atom in molecule.top.atoms]\n",
        "water = Atoms(positions=molecule.xyz[0], numbers=atomic_nums)\n",
        "show_ase(water)\n"
      ]
    },
    {
      "cell_type": "code",
      "execution_count": 6,
      "metadata": {
        "colab": {
          "base_uri": "https://localhost:8080/"
        },
        "id": "rfFrEF-W5vpx",
        "outputId": "4187ae4a-503a-4cef-ccc1-b5e557719f05"
      },
      "outputs": [
        {
          "name": "stderr",
          "output_type": "stream",
          "text": [
            "100%|██████████| 50001/50001 [00:01<00:00, 35213.01it/s]\n"
          ]
        }
      ],
      "source": [
        "# Relative position of atoms on one molecule\n",
        "features=[]\n",
        "for molecule in tqdm(frames):\n",
        "    # atomic Number\n",
        "    atomic_nums = np.array(\n",
        "        [[atom.element.atomic_number for atom in molecule.top.atoms]]).T\n",
        "    # Vander wall Radii\n",
        "    vdwr = np.array([[atom.element.radius for atom in molecule.top.atoms]]).T\n",
        "    # Atomic Mass\n",
        "    mass = np.array([[atom.element.mass for atom in molecule.top.atoms]]).T\n",
        "    poitions = molecule.xyz[0]*10 \n",
        "    # here multiplication by 10 for all of them to be of similar magnitude\n",
        "    # com = poitions.mean(axis=0)\n",
        "    node_features = np.concatenate((poitions,vdwr,atomic_nums, mass), axis=1)\n",
        "    features.append(node_features)\n",
        "    # relative_pos = poitions-com\n",
        "\n",
        "    # print(\"positions:\\n\", poitions)\n",
        "    # print(\"\\nVander wall Radii:\\n\", vdwr)\n",
        "    # print(\"\\natomic_numbers:\\n\", atomic_nums)\n",
        "    # print(\"\\nAtomic Mass:\\n\", mass)\n",
        "features=np.array(features)\n",
        "\n",
        "\n",
        "\n"
      ]
    },
    {
      "cell_type": "code",
      "execution_count": 7,
      "metadata": {
        "colab": {
          "base_uri": "https://localhost:8080/"
        },
        "id": "Wsal5pY3rTDA",
        "outputId": "c52d834d-061e-4913-c825-e9ab07d2ecfb"
      },
      "outputs": [
        {
          "name": "stdout",
          "output_type": "stream",
          "text": [
            "Node Features:\n",
            " [[13.4061327  12.54098034 13.48873329  0.152       8.         15.99943   ]\n",
            " [12.60031128 13.05296898 13.41979599  0.12        1.          1.007947  ]\n",
            " [14.10564613 13.16901016 13.30848122  0.12        1.          1.007947  ]\n",
            " [13.39479256 12.66259289 13.46215153  0.          0.          0.        ]]\n",
            "\n",
            "Node Features Shape:\n",
            " (4, 6)\n"
          ]
        }
      ],
      "source": [
        "# node_features = np.concatenate((relative_pos, atomic_nums, vdwr, mass), axis=1)\n",
        "print(\"Node Features:\\n\", features[1])\n",
        "print(\"\\nNode Features Shape:\\n\", features[1].shape)"
      ]
    },
    {
      "cell_type": "code",
      "execution_count": 8,
      "metadata": {
        "id": "VQ0Tk6jn_Eug"
      },
      "outputs": [],
      "source": [
        "from_list = []\n",
        "to_list = []\n",
        "for edge in molecule.topology.bonds:\n",
        "    from_list.append(edge.atom1.index)\n",
        "    to_list.append(edge.atom2.index)\n",
        "    from_list.append(edge.atom2.index)\n",
        "    to_list.append(edge.atom1.index)\n",
        "\n",
        "edge_list = np.array([from_list, to_list])\n"
      ]
    },
    {
      "cell_type": "code",
      "execution_count": 9,
      "metadata": {},
      "outputs": [],
      "source": [
        "def convert_to_adj(edge_index, num_nodes=None):\n",
        "    if num_nodes is None:\n",
        "        num_nodes = edge_index.max() + 1\n",
        "    adj = torch.zeros(num_nodes, num_nodes)\n",
        "    adj[edge_index[0], edge_index[1]] = 1\n",
        "    return adj\n",
        "\n",
        "def convert_to_edge_index(adj):\n",
        "    edge_index = adj.nonzero().t()\n",
        "    return edge_index"
      ]
    },
    {
      "cell_type": "code",
      "execution_count": 10,
      "metadata": {
        "id": "gXcyMUA1BYUl"
      },
      "outputs": [
        {
          "name": "stderr",
          "output_type": "stream",
          "text": [
            "100%|██████████| 50001/50001 [00:00<00:00, 51465.54it/s]\n"
          ]
        }
      ],
      "source": [
        "graphs=[]\n",
        "for node_features in tqdm(features):\n",
        "    graph = data.Data(x=torch.from_numpy(node_features),\n",
        "                  edge_index=torch.from_numpy(edge_list))\n",
        "    graphs.append(graph)"
      ]
    },
    {
      "cell_type": "code",
      "execution_count": 11,
      "metadata": {
        "colab": {
          "base_uri": "https://localhost:8080/"
        },
        "id": "bNnmkgsHevMj",
        "outputId": "59bd4395-6e60-4db9-cd87-2ea35b45559a"
      },
      "outputs": [
        {
          "name": "stdout",
          "output_type": "stream",
          "text": [
            "Data(x=[4, 6], edge_index=[2, 4])\n",
            "tensor([[0, 1, 0, 2],\n",
            "        [1, 0, 2, 0]])\n"
          ]
        }
      ],
      "source": [
        "print(graphs[0])\n",
        "print(graphs[0].edge_index)"
      ]
    },
    {
      "cell_type": "code",
      "execution_count": 12,
      "metadata": {
        "colab": {
          "base_uri": "https://localhost:8080/",
          "height": 516
        },
        "id": "lIla1nISB70Q",
        "outputId": "4850287c-d6bd-4975-e81b-5e8f9a67c7aa"
      },
      "outputs": [
        {
          "data": {
            "image/png": "[encoded data removed]",
            "text/plain": [
              "<Figure size 640x480 with 1 Axes>"
            ]
          },
          "metadata": {},
          "output_type": "display_data"
        }
      ],
      "source": [
        "vis = to_networkx(graphs[100])\n",
        "nx.draw_networkx(vis)"
      ]
    },
    {
      "cell_type": "code",
      "execution_count": 13,
      "metadata": {},
      "outputs": [],
      "source": [
        "from typing import Optional, Tuple\n",
        "\n",
        "import torch\n",
        "from torch import Tensor\n",
        "from torch.nn import Module\n",
        "\n",
        "from torch_geometric.nn.inits import reset\n",
        "from torch_geometric.utils import negative_sampling\n",
        "\n",
        "EPS = 1e-15\n",
        "MAX_LOGSTD = 10\n",
        "\n",
        "\n",
        "class InnerProductDecoder(torch.nn.Module):\n",
        "    r\"\"\"The inner product decoder from the `\"Variational Graph Auto-Encoders\"\n",
        "    <https://arxiv.org/abs/1611.07308>`_ paper\n",
        "\n",
        "    .. math::\n",
        "        \\sigma(\\mathbf{Z}\\mathbf{Z}^{\\top})\n",
        "\n",
        "    where :math:`\\mathbf{Z} \\in \\mathbb{R}^{N \\times d}` denotes the latent\n",
        "    space produced by the encoder.\"\"\"\n",
        "\n",
        "    def forward(self, z: Tensor, edge_index: Tensor,\n",
        "                sigmoid: bool = True) -> Tensor:\n",
        "        r\"\"\"Decodes the latent variables :obj:`z` into edge probabilities for\n",
        "        the given node-pairs :obj:`edge_index`.\n",
        "\n",
        "        Args:\n",
        "            z (torch.Tensor): The latent space :math:`\\mathbf{Z}`.\n",
        "            sigmoid (bool, optional): If set to :obj:`False`, does not apply\n",
        "                the logistic sigmoid function to the output.\n",
        "                (default: :obj:`True`)\n",
        "        \"\"\"\n",
        "        value = (z[edge_index[0]] * z[edge_index[1]]).sum(dim=1)\n",
        "        return torch.sigmoid(value) if sigmoid else value\n",
        "\n",
        "    def forward_all(self, z: Tensor, sigmoid: bool = True) -> Tensor:\n",
        "        r\"\"\"Decodes the latent variables :obj:`z` into a probabilistic dense\n",
        "        adjacency matrix.\n",
        "\n",
        "        Args:\n",
        "            z (torch.Tensor): The latent space :math:`\\mathbf{Z}`.\n",
        "            sigmoid (bool, optional): If set to :obj:`False`, does not apply\n",
        "                the logistic sigmoid function to the output.\n",
        "                (default: :obj:`True`)\n",
        "        \"\"\"\n",
        "        adj = torch.matmul(z, z.t())\n",
        "        return torch.sigmoid(adj) if sigmoid else adj\n",
        "\n",
        "\n",
        "class GAE(torch.nn.Module):\n",
        "    r\"\"\"The Graph Auto-Encoder model from the\n",
        "    `\"Variational Graph Auto-Encoders\" <https://arxiv.org/abs/1611.07308>`_\n",
        "    paper based on user-defined encoder and decoder models.\n",
        "\n",
        "    Args:\n",
        "        encoder (torch.nn.Module): The encoder module.\n",
        "        decoder (torch.nn.Module, optional): The decoder module. If set to\n",
        "            :obj:`None`, will default to the\n",
        "            :class:`torch_geometric.nn.models.InnerProductDecoder`.\n",
        "            (default: :obj:`None`)\n",
        "    \"\"\"\n",
        "\n",
        "    def __init__(self, encoder: Module, decoder: Optional[Module] = None):\n",
        "        super().__init__()\n",
        "        self.encoder = encoder\n",
        "        self.decoder = InnerProductDecoder() if decoder is None else decoder\n",
        "        GAE.reset_parameters(self)\n",
        "\n",
        "    def reset_parameters(self):\n",
        "        r\"\"\"Resets all learnable parameters of the module.\"\"\"\n",
        "        reset(self.encoder)\n",
        "        reset(self.decoder)\n",
        "\n",
        "    def forward(self, *args, **kwargs) -> Tensor:  # pragma: no cover\n",
        "        r\"\"\"Alias for :meth:`encode`.\"\"\"\n",
        "        return self.encoder(*args, **kwargs)\n",
        "\n",
        "    def encode(self, *args, **kwargs) -> Tensor:\n",
        "        r\"\"\"Runs the encoder and computes node-wise latent variables.\"\"\"\n",
        "        return self.encoder(*args, **kwargs)\n",
        "\n",
        "    def decode(self, *args, **kwargs) -> Tensor:\n",
        "        r\"\"\"Runs the decoder and computes edge probabilities.\"\"\"\n",
        "        return self.decoder(*args, **kwargs)\n",
        "\n",
        "    def recon_loss(self, z: Tensor, pos_edge_index: Tensor,\n",
        "                   neg_edge_index: Optional[Tensor] = None) -> Tensor:\n",
        "        r\"\"\"Given latent variables :obj:`z`, computes the binary cross\n",
        "        entropy loss for positive edges :obj:`pos_edge_index` and negative\n",
        "        sampled edges.\n",
        "\n",
        "        Args:\n",
        "            z (torch.Tensor): The latent space :math:`\\mathbf{Z}`.\n",
        "            pos_edge_index (torch.Tensor): The positive edges to train against.\n",
        "            neg_edge_index (torch.Tensor, optional): The negative edges to\n",
        "                train against. If not given, uses negative sampling to\n",
        "                calculate negative edges. (default: :obj:`None`)\n",
        "        \"\"\"\n",
        "        pos_loss = -torch.log(\n",
        "            self.decoder(z, pos_edge_index, sigmoid=True)[0] + EPS).mean()\n",
        "\n",
        "        if neg_edge_index is None:\n",
        "            neg_edge_index = negative_sampling(pos_edge_index, z.size(0))\n",
        "        neg_loss = -torch.log(1 -\n",
        "                              self.decoder(z, neg_edge_index.long(), sigmoid=True)[0] +\n",
        "                              EPS).mean()\n",
        "\n",
        "        return pos_loss + neg_loss\n",
        "\n",
        "    def test(self, z: Tensor, pos_edge_index: Tensor,\n",
        "             neg_edge_index: Tensor) -> Tuple[Tensor, Tensor]:\n",
        "        r\"\"\"Given latent variables :obj:`z`, positive edges\n",
        "        :obj:`pos_edge_index` and negative edges :obj:`neg_edge_index`,\n",
        "        computes area under the ROC curve (AUC) and average precision (AP)\n",
        "        \n",
        "        scores.\n",
        "\n",
        "        Args:\n",
        "            z (torch.Tensor): The latent space :math:`\\mathbf{Z}`.\n",
        "            pos_edge_index (torch.Tensor): The positive edges to evaluate\n",
        "                against.\n",
        "            neg_edge_index (torch.Tensor): The negative edges to evaluate\n",
        "                against.\n",
        "        \"\"\"\n",
        "        from sklearn.metrics import average_precision_score, roc_auc_score\n",
        "\n",
        "        pos_y = z.new_ones(pos_edge_index.size(1))\n",
        "        neg_y = z.new_zeros(neg_edge_index.size(1))\n",
        "        y = torch.cat([pos_y, neg_y], dim=0)\n",
        "\n",
        "        pos_pred = self.decoder(z, pos_edge_index, sigmoid=True)\n",
        "        neg_pred = self.decoder(z, neg_edge_index, sigmoid=True)\n",
        "        pred = torch.cat([pos_pred, neg_pred], dim=0)\n",
        "\n",
        "        y, pred = y.detach().cpu().numpy(), pred.detach().cpu().numpy()\n",
        "\n",
        "        return roc_auc_score(y, pred), average_precision_score(y, pred)\n",
        "\n",
        "\n",
        "class VGAE(GAE):\n",
        "    r\"\"\"The Variational Graph Auto-Encoder model from the\n",
        "    `\"Variational Graph Auto-Encoders\" <https://arxiv.org/abs/1611.07308>`_\n",
        "    paper.\n",
        "\n",
        "    Args:\n",
        "        encoder (torch.nn.Module): The encoder module to compute :math:`\\mu`\n",
        "            and :math:`\\log\\sigma^2`.\n",
        "        decoder (torch.nn.Module, optional): The decoder module. If set to\n",
        "            :obj:`None`, will default to the\n",
        "            :class:`torch_geometric.nn.models.InnerProductDecoder`.\n",
        "            (default: :obj:`None`)\n",
        "    \"\"\"\n",
        "\n",
        "    def __init__(self, encoder: Module, decoder: Optional[Module] = None):\n",
        "        super().__init__(encoder, decoder)\n",
        "\n",
        "    def reparametrize(self, mu: Tensor, logstd: Tensor) -> Tensor:\n",
        "        if self.training:\n",
        "            return mu + torch.randn_like(logstd) * torch.exp(logstd)\n",
        "        else:\n",
        "            return mu\n",
        "\n",
        "    def encode(self, *args, **kwargs) -> Tensor:\n",
        "        \"\"\"\"\"\"\n",
        "        self.__mu__, self.__logstd__, self.edge_index = self.encoder(\n",
        "            *args, **kwargs)\n",
        "        self.__logstd__ = self.__logstd__.clamp(max=MAX_LOGSTD)\n",
        "        z = self.reparametrize(self.__mu__, self.__logstd__)\n",
        "        return z, self.edge_index.long()\n",
        "\n",
        "    def kl_loss(self, mu: Optional[Tensor] = None,\n",
        "                logstd: Optional[Tensor] = None) -> Tensor:\n",
        "        r\"\"\"Computes the KL loss, either for the passed arguments :obj:`mu`\n",
        "        and :obj:`logstd`, or based on latent variables from last encoding.\n",
        "\n",
        "        Args:\n",
        "            mu (torch.Tensor, optional): The latent space for :math:`\\mu`. If\n",
        "                set to :obj:`None`, uses the last computation of :math:`\\mu`.\n",
        "                (default: :obj:`None`)\n",
        "            logstd (torch.Tensor, optional): The latent space for\n",
        "                :math:`\\log\\sigma`.  If set to :obj:`None`, uses the last\n",
        "                computation of :math:`\\log\\sigma^2`. (default: :obj:`None`)\n",
        "        \"\"\"\n",
        "        mu = self.__mu__ if mu is None else mu\n",
        "        logstd = self.__logstd__ if logstd is None else logstd.clamp(\n",
        "            max=MAX_LOGSTD)\n",
        "        return -0.5 * torch.mean(\n",
        "            torch.sum(1 + 2 * logstd - mu**2 - logstd.exp()**2, dim=1))\n"
      ]
    },
    {
      "cell_type": "code",
      "execution_count": 14,
      "metadata": {
        "id": "K1H_72HfZhHF"
      },
      "outputs": [],
      "source": [
        "def convert_to_adj(edge_index, num_nodes=None):\n",
        "    if num_nodes is None:\n",
        "        num_nodes = edge_index.max() + 1\n",
        "    adj = torch.zeros(num_nodes, num_nodes)\n",
        "    adj[edge_index[0], edge_index[1]] = 1\n",
        "    return adj\n",
        "\n",
        "def convert_to_edge_index(adj):\n",
        "    edge_index = adj.nonzero().t()\n",
        "    return edge_index\n",
        "\n",
        "class VariationalGCNEncoder(torch.nn.Module):\n",
        "    \n",
        "    def __init__(self, in_channels, out_channels,batch_size,n_atoms):\n",
        "        self.embedding_size1=32\n",
        "        self.embedding_size2=16\n",
        "        self.linear_size1=32\n",
        "        self.linear_size2=16\n",
        "        self.batch_size=batch_size\n",
        "        self.n_atoms=n_atoms\n",
        "        self.in_channels=in_channels\n",
        "        self.out_channels=out_channels\n",
        "\n",
        "        super().__init__()\n",
        "        self.conv1 = GATConv(in_channels, self.embedding_size1,heads=3)\n",
        "        self.head_transform1 = Linear(self.embedding_size1 * 3, self.embedding_size1)\n",
        "        self.bn1 = BatchNorm(self.embedding_size1)\n",
        "        self.conv2=GCNConv(self.embedding_size1, self.embedding_size2)\n",
        "        self.bn2 = BatchNorm(self.embedding_size2)\n",
        "        # here self.embedding_size2 is the number of features per node\n",
        "        # and is multiplied by the number of nodes to get the total number of features\n",
        "        # where number of nodes - n_atoms\n",
        "        self.linear1=Linear(self.embedding_size2*self.n_atoms,self.linear_size1)\n",
        "        self.linear2=Linear(self.linear_size1,self.linear_size2)\n",
        "        # here self.linear_size2 is the number of features per node\n",
        "        # not multiplied by the number of node\n",
        "\n",
        "        self.transform=Linear(self.linear_size2,self.out_channels)\n",
        "        self.mu=Linear(self.out_channels,self.out_channels)\n",
        "        self.logstd=Linear(self.out_channels,self.out_channels)\n",
        "    def forward(self, x, edge_index):       \n",
        "        self.batch_size=x.shape[0]\n",
        "        x=self.conv1= self.conv1(x, edge_index)\n",
        "        x=self.head_transform1(x)\n",
        "        x=self.bn1(x) \n",
        "        x=self.conv2(x, edge_index)\n",
        "        x=self.bn2(x)\n",
        "        x=self.linear1(x) \n",
        "        x=F.leaky_relu(x)\n",
        "        x=self.linear2(x)\n",
        "        x=F.leaky_relu(x)\n",
        "        # using linear_size2 as the number of features per node \n",
        "        # instead -1\n",
        "        x=x.reshape(self.batch_size,self.n_atoms,self.linear_size2)\n",
        "        # this will reshape the tensor to have the number of nodes as the first dimension\n",
        "        # and the number of features per node as the second dimension\n",
        "        # and the number of nodes is n_atoms\n",
        "\n",
        "        x=x.reshape(self.batch_size,self.n_atoms*self.linear_size2)\n",
        "        # this will reshape the tensor to have the number of nodes as the first dimension\n",
        "        # and the number of features per node as the second dimension\n",
        "        x=self.transform(x)\n",
        "        x=F.leaky_relu(x)\n",
        "        x=self.mu(x)\n",
        "        y=self.logstd(x)\n",
        "        return x,y,edge_index\n"
      ]
    },
    {
      "cell_type": "code",
      "execution_count": 15,
      "metadata": {},
      "outputs": [],
      "source": [
        "\n",
        "class VariationalGCNDecoder(torch.nn.Module):\n",
        "    def __init__(self, in_channels, out_channels,batch_size,n_atoms):\n",
        "        self.embedding_size1=32\n",
        "        self.embedding_size2=16\n",
        "        self.embedding_size3=8\n",
        "        self.linear_size1=32\n",
        "        self.linear_size2=16\n",
        "        self.batch_size=batch_size\n",
        "        self.n_atoms=n_atoms\n",
        "        self.in_channels=in_channels\n",
        "        self.out_channels=out_channels\n",
        "\n",
        "        super().__init__()\n",
        "        # different from that one used out_channels instead of in_channels\n",
        "        # and linear_size2 instead of n_atoms\n",
        "        self.inv_transform=Linear(self.out_channels,self.linear_size2)       \n",
        "        # this will reshape the tensor to have the number of nodes as the first dimension\n",
        "        # and the number of features per node as the second dimension\n",
        "        # this will be used to convert input to the requires shape\n",
        "        # shape is batch_size*n_atoms*linear_size2\n",
        "        self.conv1=GCNConv(self.linear_size2,self.embedding_size2)\n",
        "        self.bn1 = BatchNorm(self.embedding_size2)\n",
        "        self.conv2=GCNConv(self.embedding_size2,self.embedding_size1)\n",
        "        self.bn2 = BatchNorm(self.embedding_size1)\n",
        "        self.conv3=GCNConv(self.embedding_size1,self.embedding_size3)\n",
        "        self.linear1=Linear(self.embedding_size3*self.n_atoms,self.linear_size1)\n",
        "        self.linear2=Linear(self.linear_size1,self.linear_size2)\n",
        "        self.linear3=Linear(self.linear_size2,self.out_channels)\n",
        "\n",
        "    def forward(self, z, edge_index,sigmoid=True):\n",
        "        self.batch_size=z.shape[0]//self.n_atoms\n",
        "        z=self.inv_transform(z)\n",
        "        z=F.leaky_relu(z)\n",
        "        z=z.reshape(self.batch_size,self.n_atoms,self.linear_size2)\n",
        "        z=z.reshape(self.batch_size,self.n_atoms*self.linear_size2)\n",
        "        z=self.conv1(z, edge_index)\n",
        "        z=self.conv2(z, edge_index)\n",
        "        z=self.conv3(z, edge_index)\n",
        "        z=self.linear1(z)\n",
        "        z=F.leaky_relu(z)\n",
        "        z=self.linear2(z)\n",
        "        z=F.leaky_relu(z)\n",
        "        # leaky relu will be used instead of relu\n",
        "        # it will be used to avoid the dying relu problem\n",
        "        z=self.linear3(z)\n",
        "        z=F.leaky_relu(z)\n",
        "\n",
        "\n",
        "        return z, edge_index\n",
        "        "
      ]
    },
    {
      "cell_type": "code",
      "execution_count": 16,
      "metadata": {},
      "outputs": [],
      "source": [
        "class EarlyStopper:\n",
        "    def __init__(self, patience=1, min_delta=0):\n",
        "        self.patience = patience\n",
        "        self.min_delta = min_delta\n",
        "        self.counter = 0\n",
        "        self.min_validation_loss = np.inf\n",
        "\n",
        "    def early_stop(self, validation_loss):\n",
        "        if validation_loss < self.min_validation_loss:\n",
        "            self.min_validation_loss = validation_loss\n",
        "            self.counter = 0\n",
        "        elif validation_loss > (self.min_validation_loss + self.min_delta):\n",
        "            self.counter += 1\n",
        "            if self.counter >= self.patience:\n",
        "                return True\n",
        "        return False"
      ]
    },
    {
      "cell_type": "code",
      "execution_count": 17,
      "metadata": {},
      "outputs": [
        {
          "name": "stderr",
          "output_type": "stream",
          "text": [
            "100%|██████████| 50001/50001 [00:00<00:00, 150280.90it/s]\n"
          ]
        }
      ],
      "source": [
        "device = torch.device('cuda' if torch.cuda.is_available() else 'cpu')\n",
        "graphs_device = []\n",
        "for graph in tqdm(graphs):\n",
        "    graphs_device.append(graph.to(device))"
      ]
    },
    {
      "cell_type": "code",
      "execution_count": 18,
      "metadata": {},
      "outputs": [],
      "source": [
        "import os\n",
        "in_channels = graph.num_features\n",
        "out_channels = 3\n",
        "n_atoms = 4\n",
        "lr = 1e-3\n",
        "n_epochs = 100\n",
        "batch_size=256\n",
        "test_train_split = 0.8\n",
        "model_name = \"IntraVGAE.pt\"\n",
        "model_loaded = False\n",
        "force_train = True\n",
        "device = torch.device('cuda' if torch.cuda.is_available() else 'cpu')\n",
        "if os.path.exists(\"./models/\"+model_name) and not force_train:\n",
        "    model = torch.load(\"./models/\"+model_name)\n",
        "    model_loaded = True\n",
        "else:\n",
        "    model = VGAE(VariationalGCNEncoder(in_channels, out_channels,batch_size,n_atoms),\n",
        "                VariationalGCNDecoder(out_channels, in_channels,batch_size,n_atoms))\n",
        "    \n",
        "model = model.to(device)\n",
        "optimizer = torch.optim.Adam(model.parameters(), lr=lr)\n",
        "scheduler = lr_scheduler.StepLR(optimizer, step_size=200, gamma=0.5)"
      ]
    },
    {
      "cell_type": "code",
      "execution_count": 19,
      "metadata": {},
      "outputs": [],
      "source": [
        "split = int(test_train_split * len(graphs_device))\n",
        "train_loader = DataLoader(graphs_device[:split], batch_size=batch_size,shuffle=True)\n",
        "test_loader = DataLoader(graphs_device[split:], batch_size=batch_size,shuffle=True)"
      ]
    },
    {
      "cell_type": "code",
      "execution_count": 20,
      "metadata": {},
      "outputs": [
        {
          "name": "stdout",
          "output_type": "stream",
          "text": [
            "Using: cpu\n",
            "total_graphs: 50001\n",
            "Graphs in a batch: 256\n",
            "Train Graphs Batches: 157 (Total graphs: 40192)\n",
            "Test Graphs Batches: 40 (Total graphs: 10240)\n",
            "Model Specifics:\n",
            " VGAE(\n",
            "  (encoder): VariationalGCNEncoder(\n",
            "    (conv1): GATConv(6, 32, heads=3)\n",
            "    (head_transform1): Linear(96, 32, bias=True)\n",
            "    (bn1): BatchNorm(32)\n",
            "    (conv2): GCNConv(32, 16)\n",
            "    (bn2): BatchNorm(16)\n",
            "    (linear1): Linear(64, 32, bias=True)\n",
            "    (linear2): Linear(32, 16, bias=True)\n",
            "    (transform): Linear(16, 3, bias=True)\n",
            "    (mu): Linear(3, 3, bias=True)\n",
            "    (logstd): Linear(3, 3, bias=True)\n",
            "  )\n",
            "  (decoder): VariationalGCNDecoder(\n",
            "    (inv_transform): Linear(6, 16, bias=True)\n",
            "    (conv1): GCNConv(16, 16)\n",
            "    (bn1): BatchNorm(16)\n",
            "    (conv2): GCNConv(16, 32)\n",
            "    (bn2): BatchNorm(32)\n",
            "    (conv3): GCNConv(32, 8)\n",
            "    (linear1): Linear(32, 32, bias=True)\n",
            "    (linear2): Linear(32, 16, bias=True)\n",
            "    (linear3): Linear(16, 6, bias=True)\n",
            "  )\n",
            ")\n"
          ]
        }
      ],
      "source": [
        "print(\"Using:\",device )\n",
        "print(\"total_graphs:\", len(graphs_device))\n",
        "print(\"Graphs in a batch:\", batch_size)\n",
        "print(\"Train Graphs Batches:\",len(train_loader),f\"(Total graphs: {len(train_loader)*batch_size})\")\n",
        "print(\"Test Graphs Batches:\",len(test_loader),f\"(Total graphs: {len(test_loader)*batch_size})\")\n",
        "print(\"Model Specifics:\\n\",model)"
      ]
    },
    {
      "cell_type": "code",
      "execution_count": 21,
      "metadata": {
        "id": "PSlEaKJOczEn"
      },
      "outputs": [],
      "source": [
        "lossFxn = torch.nn.MSELoss()\n",
        "def train():\n",
        "    model.train()\n",
        "    model.double()\n",
        "    loss_all = 0\n",
        "    feature_loss_all = 0\n",
        "    edge_loss_all = 0\n",
        "    position_loss_all = 0\n",
        "\n",
        "    for data in train_loader:\n",
        "        optimizer.zero_grad()\n",
        "        z,encoded_edge_index = model.encode(data.x, data.edge_index)\n",
        "        decoded_x, decoded_edge_index = model.decode(z, encoded_edge_index)\n",
        "        \n",
        "        heavy_indices = torch.where(data.x[:,4] > torch.tensor([1]).to(device))\n",
        "     \n",
        "        \n",
        "        decoded_pos = decoded_x[:,:3]\n",
        "        decoded_features = decoded_x[:,3:]\n",
        "        orignal_pos = data.x[:,:3]\n",
        "        orignal_features = data.x[:,3:]\n",
        "\n",
        "\n",
        "        positionLoss = lossFxn(decoded_pos[heavy_indices], orignal_pos[heavy_indices])\n",
        "        FeatureLoss = lossFxn(decoded_features[heavy_indices], orignal_features[heavy_indices])\n",
        "        loss = lossFxn(decoded_x[heavy_indices], data.x[heavy_indices])\n",
        "        EdgeLoss = lossFxn(decoded_edge_index.float(), data.edge_index)\n",
        "\n",
        "\n",
        "        loss_all +=  float(loss)\n",
        "        feature_loss_all += float(FeatureLoss)\n",
        "        edge_loss_all += float(EdgeLoss)\n",
        "        position_loss_all += float(positionLoss)\n",
        "\n",
        "#         positionLoss.backward()\n",
        "        loss.backward()\n",
        "        optimizer.step()\n",
        "\n",
        "    return loss_all / len(train_loader), feature_loss_all / len(train_loader), edge_loss_all / len(train_loader) ,position_loss_all / len(train_loader)"
      ]
    },
    {
      "cell_type": "code",
      "execution_count": 22,
      "metadata": {},
      "outputs": [],
      "source": [
        "lossFxn = torch.nn.MSELoss()\n",
        "def test():\n",
        "    model.eval()\n",
        "    model.double()\n",
        "    \n",
        "    loss_all = 0\n",
        "    feature_loss_all = 0\n",
        "    edge_loss_all = 0\n",
        "    position_loss_all = 0\n",
        "\n",
        "    for data in test_loader:\n",
        "        optimizer.zero_grad()\n",
        "        z,encoded_edge_index = model.encode(data.x, data.edge_index)\n",
        "        decoded_x, decoded_edge_index = model.decode(z, encoded_edge_index)\n",
        "\n",
        "        decoded_pos = decoded_x[:,:3]\n",
        "        decoded_features = decoded_x[:,3:]\n",
        "        orignal_pos = data.x[:,:3]\n",
        "        orignal_features = data.x[:,3:]\n",
        "        \n",
        "        \n",
        "        heavy_indices = torch.where(data.x[:,4] > torch.tensor([1]).to(device))\n",
        "   \n",
        "        \n",
        "        positionLoss = lossFxn(decoded_pos[heavy_indices], orignal_pos[heavy_indices])\n",
        "        FeatureLoss = lossFxn(decoded_features[heavy_indices], orignal_features[heavy_indices])\n",
        "        loss = lossFxn(decoded_x[heavy_indices], data.x[heavy_indices])\n",
        "\n",
        "        EdgeLoss = lossFxn(decoded_edge_index.float(), data.edge_index)\n",
        "        \n",
        "        \n",
        "        loss_all +=  float(loss)\n",
        "        feature_loss_all += float(FeatureLoss)\n",
        "        edge_loss_all += float(EdgeLoss)\n",
        "        position_loss_all += float(positionLoss)\n",
        "\n",
        "\n",
        "\n",
        "    return loss_all / len(test_loader), feature_loss_all / len(test_loader), edge_loss_all / len(test_loader), position_loss_all / len(test_loader)"
      ]
    },
    {
      "cell_type": "code",
      "execution_count": 23,
      "metadata": {},
      "outputs": [
        {
          "ename": "TypeError",
          "evalue": "cannot assign 'torch.DoubleTensor' as child module 'conv1' (torch.nn.Module or None expected)",
          "output_type": "error",
          "traceback": [
            "\u001b[0;31m---------------------------------------------------------------------------\u001b[0m",
            "\u001b[0;31mTypeError\u001b[0m                                 Traceback (most recent call last)",
            "\u001b[1;32m/home/imami/watermodel/10_7/intranow.ipynb Cell 21\u001b[0m line \u001b[0;36m1\n\u001b[1;32m     <a href='vscode-notebook-cell:/home/imami/watermodel/10_7/intranow.ipynb#X42sZmlsZQ%3D%3D?line=15'>16</a>\u001b[0m \u001b[39melse\u001b[39;00m:\n\u001b[1;32m     <a href='vscode-notebook-cell:/home/imami/watermodel/10_7/intranow.ipynb#X42sZmlsZQ%3D%3D?line=16'>17</a>\u001b[0m     \u001b[39mfor\u001b[39;00m epoch \u001b[39min\u001b[39;00m \u001b[39mrange\u001b[39m(\u001b[39m1\u001b[39m, n_epochs \u001b[39m+\u001b[39m \u001b[39m1\u001b[39m):\n\u001b[0;32m---> <a href='vscode-notebook-cell:/home/imami/watermodel/10_7/intranow.ipynb#X42sZmlsZQ%3D%3D?line=17'>18</a>\u001b[0m         train_total_loss, train_feature_loss, train_edge_loss,train_position_loss \u001b[39m=\u001b[39m train()\n\u001b[1;32m     <a href='vscode-notebook-cell:/home/imami/watermodel/10_7/intranow.ipynb#X42sZmlsZQ%3D%3D?line=18'>19</a>\u001b[0m         test_total_loss, test_feature_loss, test_edge_loss,test_position_loss \u001b[39m=\u001b[39m test()\n\u001b[1;32m     <a href='vscode-notebook-cell:/home/imami/watermodel/10_7/intranow.ipynb#X42sZmlsZQ%3D%3D?line=20'>21</a>\u001b[0m         \u001b[39mprint\u001b[39m(\u001b[39mf\u001b[39m\u001b[39m\"\u001b[39m\u001b[39mEpoch: \u001b[39m\u001b[39m{\u001b[39;00mepoch\u001b[39m:\u001b[39;00m\u001b[39m03d\u001b[39m\u001b[39m}\u001b[39;00m\u001b[39m\"\u001b[39m)\n",
            "\u001b[1;32m/home/imami/watermodel/10_7/intranow.ipynb Cell 21\u001b[0m line \u001b[0;36m1\n\u001b[1;32m     <a href='vscode-notebook-cell:/home/imami/watermodel/10_7/intranow.ipynb#X42sZmlsZQ%3D%3D?line=9'>10</a>\u001b[0m \u001b[39mfor\u001b[39;00m data \u001b[39min\u001b[39;00m train_loader:\n\u001b[1;32m     <a href='vscode-notebook-cell:/home/imami/watermodel/10_7/intranow.ipynb#X42sZmlsZQ%3D%3D?line=10'>11</a>\u001b[0m     optimizer\u001b[39m.\u001b[39mzero_grad()\n\u001b[0;32m---> <a href='vscode-notebook-cell:/home/imami/watermodel/10_7/intranow.ipynb#X42sZmlsZQ%3D%3D?line=11'>12</a>\u001b[0m     z,encoded_edge_index \u001b[39m=\u001b[39m model\u001b[39m.\u001b[39;49mencode(data\u001b[39m.\u001b[39;49mx, data\u001b[39m.\u001b[39;49medge_index)\n\u001b[1;32m     <a href='vscode-notebook-cell:/home/imami/watermodel/10_7/intranow.ipynb#X42sZmlsZQ%3D%3D?line=12'>13</a>\u001b[0m     decoded_x, decoded_edge_index \u001b[39m=\u001b[39m model\u001b[39m.\u001b[39mdecode(z, encoded_edge_index)\n\u001b[1;32m     <a href='vscode-notebook-cell:/home/imami/watermodel/10_7/intranow.ipynb#X42sZmlsZQ%3D%3D?line=14'>15</a>\u001b[0m     heavy_indices \u001b[39m=\u001b[39m torch\u001b[39m.\u001b[39mwhere(data\u001b[39m.\u001b[39mx[:,\u001b[39m4\u001b[39m] \u001b[39m>\u001b[39m torch\u001b[39m.\u001b[39mtensor([\u001b[39m1\u001b[39m])\u001b[39m.\u001b[39mto(device))\n",
            "\u001b[1;32m/home/imami/watermodel/10_7/intranow.ipynb Cell 21\u001b[0m line \u001b[0;36m1\n\u001b[1;32m    <a href='vscode-notebook-cell:/home/imami/watermodel/10_7/intranow.ipynb#X42sZmlsZQ%3D%3D?line=164'>165</a>\u001b[0m \u001b[39mdef\u001b[39;00m \u001b[39mencode\u001b[39m(\u001b[39mself\u001b[39m, \u001b[39m*\u001b[39margs, \u001b[39m*\u001b[39m\u001b[39m*\u001b[39mkwargs) \u001b[39m-\u001b[39m\u001b[39m>\u001b[39m Tensor:\n\u001b[1;32m    <a href='vscode-notebook-cell:/home/imami/watermodel/10_7/intranow.ipynb#X42sZmlsZQ%3D%3D?line=165'>166</a>\u001b[0m \u001b[39m    \u001b[39m\u001b[39m\"\"\"\"\"\"\u001b[39;00m\n\u001b[0;32m--> <a href='vscode-notebook-cell:/home/imami/watermodel/10_7/intranow.ipynb#X42sZmlsZQ%3D%3D?line=166'>167</a>\u001b[0m     \u001b[39mself\u001b[39m\u001b[39m.\u001b[39m__mu__, \u001b[39mself\u001b[39m\u001b[39m.\u001b[39m__logstd__, \u001b[39mself\u001b[39m\u001b[39m.\u001b[39medge_index \u001b[39m=\u001b[39m \u001b[39mself\u001b[39;49m\u001b[39m.\u001b[39;49mencoder(\n\u001b[1;32m    <a href='vscode-notebook-cell:/home/imami/watermodel/10_7/intranow.ipynb#X42sZmlsZQ%3D%3D?line=167'>168</a>\u001b[0m         \u001b[39m*\u001b[39;49margs, \u001b[39m*\u001b[39;49m\u001b[39m*\u001b[39;49mkwargs)\n\u001b[1;32m    <a href='vscode-notebook-cell:/home/imami/watermodel/10_7/intranow.ipynb#X42sZmlsZQ%3D%3D?line=168'>169</a>\u001b[0m     \u001b[39mself\u001b[39m\u001b[39m.\u001b[39m__logstd__ \u001b[39m=\u001b[39m \u001b[39mself\u001b[39m\u001b[39m.\u001b[39m__logstd__\u001b[39m.\u001b[39mclamp(\u001b[39mmax\u001b[39m\u001b[39m=\u001b[39mMAX_LOGSTD)\n\u001b[1;32m    <a href='vscode-notebook-cell:/home/imami/watermodel/10_7/intranow.ipynb#X42sZmlsZQ%3D%3D?line=169'>170</a>\u001b[0m     z \u001b[39m=\u001b[39m \u001b[39mself\u001b[39m\u001b[39m.\u001b[39mreparametrize(\u001b[39mself\u001b[39m\u001b[39m.\u001b[39m__mu__, \u001b[39mself\u001b[39m\u001b[39m.\u001b[39m__logstd__)\n",
            "File \u001b[0;32m~/anaconda3/envs/3dpytorch/lib/python3.11/site-packages/torch/nn/modules/module.py:1501\u001b[0m, in \u001b[0;36mModule._call_impl\u001b[0;34m(self, *args, **kwargs)\u001b[0m\n\u001b[1;32m   1496\u001b[0m \u001b[39m# If we don't have any hooks, we want to skip the rest of the logic in\u001b[39;00m\n\u001b[1;32m   1497\u001b[0m \u001b[39m# this function, and just call forward.\u001b[39;00m\n\u001b[1;32m   1498\u001b[0m \u001b[39mif\u001b[39;00m \u001b[39mnot\u001b[39;00m (\u001b[39mself\u001b[39m\u001b[39m.\u001b[39m_backward_hooks \u001b[39mor\u001b[39;00m \u001b[39mself\u001b[39m\u001b[39m.\u001b[39m_backward_pre_hooks \u001b[39mor\u001b[39;00m \u001b[39mself\u001b[39m\u001b[39m.\u001b[39m_forward_hooks \u001b[39mor\u001b[39;00m \u001b[39mself\u001b[39m\u001b[39m.\u001b[39m_forward_pre_hooks\n\u001b[1;32m   1499\u001b[0m         \u001b[39mor\u001b[39;00m _global_backward_pre_hooks \u001b[39mor\u001b[39;00m _global_backward_hooks\n\u001b[1;32m   1500\u001b[0m         \u001b[39mor\u001b[39;00m _global_forward_hooks \u001b[39mor\u001b[39;00m _global_forward_pre_hooks):\n\u001b[0;32m-> 1501\u001b[0m     \u001b[39mreturn\u001b[39;00m forward_call(\u001b[39m*\u001b[39;49margs, \u001b[39m*\u001b[39;49m\u001b[39m*\u001b[39;49mkwargs)\n\u001b[1;32m   1502\u001b[0m \u001b[39m# Do not call functions when jit is used\u001b[39;00m\n\u001b[1;32m   1503\u001b[0m full_backward_hooks, non_full_backward_hooks \u001b[39m=\u001b[39m [], []\n",
            "\u001b[1;32m/home/imami/watermodel/10_7/intranow.ipynb Cell 21\u001b[0m line \u001b[0;36m4\n\u001b[1;32m     <a href='vscode-notebook-cell:/home/imami/watermodel/10_7/intranow.ipynb#X42sZmlsZQ%3D%3D?line=40'>41</a>\u001b[0m \u001b[39mdef\u001b[39;00m \u001b[39mforward\u001b[39m(\u001b[39mself\u001b[39m, x, edge_index):       \n\u001b[1;32m     <a href='vscode-notebook-cell:/home/imami/watermodel/10_7/intranow.ipynb#X42sZmlsZQ%3D%3D?line=41'>42</a>\u001b[0m     \u001b[39mself\u001b[39m\u001b[39m.\u001b[39mbatch_size\u001b[39m=\u001b[39mx\u001b[39m.\u001b[39mshape[\u001b[39m0\u001b[39m]\n\u001b[0;32m---> <a href='vscode-notebook-cell:/home/imami/watermodel/10_7/intranow.ipynb#X42sZmlsZQ%3D%3D?line=42'>43</a>\u001b[0m     x\u001b[39m=\u001b[39m\u001b[39mself\u001b[39;49m\u001b[39m.\u001b[39;49mconv1\u001b[39m=\u001b[39m \u001b[39mself\u001b[39m\u001b[39m.\u001b[39mconv1(x, edge_index)\n\u001b[1;32m     <a href='vscode-notebook-cell:/home/imami/watermodel/10_7/intranow.ipynb#X42sZmlsZQ%3D%3D?line=43'>44</a>\u001b[0m     x\u001b[39m=\u001b[39m\u001b[39mself\u001b[39m\u001b[39m.\u001b[39mhead_transform1(x)\n\u001b[1;32m     <a href='vscode-notebook-cell:/home/imami/watermodel/10_7/intranow.ipynb#X42sZmlsZQ%3D%3D?line=44'>45</a>\u001b[0m     x\u001b[39m=\u001b[39m\u001b[39mself\u001b[39m\u001b[39m.\u001b[39mbn1(x) \n",
            "File \u001b[0;32m~/anaconda3/envs/3dpytorch/lib/python3.11/site-packages/torch/nn/modules/module.py:1653\u001b[0m, in \u001b[0;36mModule.__setattr__\u001b[0;34m(self, name, value)\u001b[0m\n\u001b[1;32m   1651\u001b[0m \u001b[39melif\u001b[39;00m modules \u001b[39mis\u001b[39;00m \u001b[39mnot\u001b[39;00m \u001b[39mNone\u001b[39;00m \u001b[39mand\u001b[39;00m name \u001b[39min\u001b[39;00m modules:\n\u001b[1;32m   1652\u001b[0m     \u001b[39mif\u001b[39;00m value \u001b[39mis\u001b[39;00m \u001b[39mnot\u001b[39;00m \u001b[39mNone\u001b[39;00m:\n\u001b[0;32m-> 1653\u001b[0m         \u001b[39mraise\u001b[39;00m \u001b[39mTypeError\u001b[39;00m(\u001b[39m\"\u001b[39m\u001b[39mcannot assign \u001b[39m\u001b[39m'\u001b[39m\u001b[39m{}\u001b[39;00m\u001b[39m'\u001b[39m\u001b[39m as child module \u001b[39m\u001b[39m'\u001b[39m\u001b[39m{}\u001b[39;00m\u001b[39m'\u001b[39m\u001b[39m \u001b[39m\u001b[39m\"\u001b[39m\n\u001b[1;32m   1654\u001b[0m                         \u001b[39m\"\u001b[39m\u001b[39m(torch.nn.Module or None expected)\u001b[39m\u001b[39m\"\u001b[39m\n\u001b[1;32m   1655\u001b[0m                         \u001b[39m.\u001b[39mformat(torch\u001b[39m.\u001b[39mtypename(value), name))\n\u001b[1;32m   1656\u001b[0m     \u001b[39mfor\u001b[39;00m hook \u001b[39min\u001b[39;00m _global_module_registration_hooks\u001b[39m.\u001b[39mvalues():\n\u001b[1;32m   1657\u001b[0m         output \u001b[39m=\u001b[39m hook(\u001b[39mself\u001b[39m, name, value)\n",
            "\u001b[0;31mTypeError\u001b[0m: cannot assign 'torch.DoubleTensor' as child module 'conv1' (torch.nn.Module or None expected)"
          ]
        }
      ],
      "source": [
        "train_total_losses = []\n",
        "train_feature_losses = []\n",
        "train_edge_losses = []\n",
        "train_position_losses = []\n",
        "\n",
        "test_total_losses = []\n",
        "test_feature_losses = []\n",
        "test_edge_losses = []\n",
        "test_position_losses = []\n",
        "\n",
        "early_stopper = EarlyStopper(patience=3, min_delta=10)\n",
        "\n",
        "\n",
        "if model_loaded:        \n",
        "    print(\"Pretrained Model Loaded, no training required\")\n",
        "else:\n",
        "    for epoch in range(1, n_epochs + 1):\n",
        "        train_total_loss, train_feature_loss, train_edge_loss,train_position_loss = train()\n",
        "        test_total_loss, test_feature_loss, test_edge_loss,test_position_loss = test()\n",
        "        \n",
        "        print(f\"Epoch: {epoch:03d}\")\n",
        "        print(f'\\tTrain:\\tTotal Loss: {train_total_loss:.4f}, Feature Loss: {train_feature_loss:.4f}, Position Loss: {train_position_loss:.4f}, LR: {scheduler.get_last_lr()[0]:.6f}')\n",
        "        print(f'\\tTest: \\tTotal Loss: {test_total_loss:.4f}, Feature Loss: {test_feature_loss:.4f}, Position Loss: {test_position_loss:.4f}, LR: {scheduler.get_last_lr()[0]:.6f}')\n",
        "        \n",
        "        if(early_stopper.early_stop(test_total_loss)):\n",
        "            print(\"Early Stopping\")\n",
        "            break\n",
        "\n",
        "        train_total_losses.append(train_total_loss)\n",
        "        train_feature_losses.append(train_feature_loss)\n",
        "        train_edge_losses.append(train_edge_loss)\n",
        "        train_position_losses.append(train_position_loss)\n",
        "\n",
        "        test_total_losses.append(test_total_loss)\n",
        "        test_feature_losses.append(test_feature_loss)\n",
        "        test_edge_losses.append(test_edge_loss)\n",
        "        test_position_losses.append(test_position_loss)\n",
        "        \n",
        "        scheduler.step()\n",
        "\n",
        "    torch.save(model,\"./models/\"+model_name)"
      ]
    },
    {
      "cell_type": "code",
      "execution_count": null,
      "metadata": {
        "colab": {
          "base_uri": "https://localhost:8080/",
          "height": 447
        },
        "id": "Vp6sgGOOUuhs",
        "outputId": "8e483db8-e50c-4165-c93e-52a09d610557"
      },
      "outputs": [
        {
          "data": {
            "text/plain": [
              "[<matplotlib.lines.Line2D at 0x7f08a59ed710>]"
            ]
          },
          "execution_count": 39,
          "metadata": {},
          "output_type": "execute_result"
        },
        {
          "data": {
            "image/png": "[encoded data removed]",
            "text/plain": [
              "<Figure size 640x480 with 1 Axes>"
            ]
          },
          "metadata": {},
          "output_type": "display_data"
        }
      ],
      "source": [
        "plt.plot(Losses)\n"
      ]
    },
    {
      "cell_type": "code",
      "execution_count": null,
      "metadata": {
        "colab": {
          "base_uri": "https://localhost:8080/"
        },
        "id": "Qh1tn4jHZzNy",
        "outputId": "baaf7ea4-07e8-41bd-aac6-9575569172ac"
      },
      "outputs": [
        {
          "name": "stdout",
          "output_type": "stream",
          "text": [
            "Input Graph features: \n",
            " tensor([[ 9.7772,  9.0773,  9.8188,  0.1520,  8.0000, 15.9994],\n",
            "        [10.7062,  8.8494,  9.8558,  0.1200,  1.0000,  1.0079],\n",
            "        [ 9.3453,  8.2763,  9.5219,  0.1200,  1.0000,  1.0079],\n",
            "        [ 9.8302,  8.9675,  9.7910,  0.0000,  0.0000,  0.0000]],\n",
            "       dtype=torch.float64)\n",
            "\n",
            "Input Edge Index: \n",
            " tensor([[0, 1, 0, 2],\n",
            "        [1, 0, 2, 0]])\n",
            "\n",
            "Encoded Graph: \n",
            " tensor([[ 1.1416,  0.1774,  1.4214],\n",
            "        [ 0.7912,  0.6577, -0.2124]], dtype=torch.float64,\n",
            "       grad_fn=<AddBackward0>)\n",
            "\n",
            "Decoded Node features: \n",
            " tensor([[9.9131, 8.8796, 9.8316, 0.0000, 4.4899, 8.5040],\n",
            "        [9.9131, 8.8796, 9.8316, 0.0000, 4.4899, 8.5040],\n",
            "        [9.7767, 8.4800, 9.6834, 0.0000, 0.4542, 0.9311],\n",
            "        [9.7767, 8.4800, 9.6834, 0.0000, 0.4542, 0.9311]], dtype=torch.float64,\n",
            "       grad_fn=<ReluBackward0>)\n",
            "\n",
            "Decoded Edge Index: \n",
            " tensor([[0, 1, 0, 2],\n",
            "        [1, 0, 2, 0]])\n"
          ]
        }
      ],
      "source": [
        "model.double()\n",
        "z,encoded_edge_index = model.encode(graph.x, graph.edge_index,batch_size,n_atoms)\n",
        "r,decoded_edge_index = model.decode(z, encoded_edge_index,batch_size,n_atoms)\n",
        "decoded_edge_index = graph.edge_index\n",
        "print(\"Input Graph features: \\n\", graph.x)\n",
        "print(\"\\nInput Edge Index: \\n\", graph.edge_index)\n",
        "print(\"\\nEncoded Graph: \\n\", z)\n",
        "print(\"\\nDecoded Node features: \\n\", r)\n",
        "print(\"\\nDecoded Edge Index: \\n\", decoded_edge_index)"
      ]
    },
    {
      "cell_type": "code",
      "execution_count": null,
      "metadata": {
        "colab": {
          "base_uri": "https://localhost:8080/",
          "height": 516
        },
        "id": "YdJKGevGm0sr",
        "outputId": "476d0e1c-deb3-41e1-a68a-e71d58f173df"
      },
      "outputs": [
        {
          "data": {
            "image/png": "[encoded data removed]",
            "text/plain": [
              "<Figure size 640x480 with 1 Axes>"
            ]
          },
          "metadata": {},
          "output_type": "display_data"
        }
      ],
      "source": [
        "add_self_loops = False\n",
        "adj_binary = convert_to_adj(decoded_edge_index, r.shape[0])\n",
        "indices = torch.where(adj_binary)\n",
        "G = nx.Graph()\n",
        "if not add_self_loops:\n",
        "    edges = [(i, j) for i, j in zip(\n",
        "        indices[0].tolist(), indices[1].tolist()) if i != j]\n",
        "    G.add_edges_from(edges)\n",
        "else:\n",
        "    G.add_edges_from(zip(indices[0].tolist(), indices[1].tolist()))\n",
        "G.add_node(4)\n",
        "nx.draw_networkx(G, with_labels=True)\n",
        "plt.show()\n"
      ]
    }
  ],
  "metadata": {
    "colab": {
      "provenance": []
    },
    "kernelspec": {
      "display_name": "base",
      "language": "python",
      "name": "python3"
    },
    "language_info": {
      "codemirror_mode": {
        "name": "ipython",
        "version": 3
      },
      "file_extension": ".py",
      "mimetype": "text/x-python",
      "name": "python",
      "nbconvert_exporter": "python",
      "pygments_lexer": "ipython3",
      "version": "3.11.4"
    },
    "vscode": {
      "interpreter": {
        "hash": "1f9761786ac07e4eab4386916b2ac1a9951f01c213aa09aceac38efe2713e05d"
      }
    },
    "widgets": {
      "application/vnd.jupyter.widget-state+json": {
        "174bcfbaa57647a791816ea2f5f95aba": {
          "model_module": "@jupyter-widgets/controls",
          "model_module_version": "1.5.0",
          "model_name": "ButtonModel",
          "state": {
            "_dom_classes": [],
            "_model_module": "@jupyter-widgets/controls",
            "_model_module_version": "1.5.0",
            "_model_name": "ButtonModel",
            "_view_count": null,
            "_view_module": "@jupyter-widgets/controls",
            "_view_module_version": "1.5.0",
            "_view_name": "ButtonView",
            "button_style": "",
            "description": "",
            "disabled": false,
            "icon": "compress",
            "layout": "IPY_MODEL_f7e90ca6eca44a02aa7dbd7c721963d2",
            "style": "IPY_MODEL_d0b06dda6324492e96af92e3aeea444b",
            "tooltip": ""
          }
        },
        "1ccf61fe60854532adca37efa0ce3d8c": {
          "model_module": "@jupyter-widgets/base",
          "model_module_version": "1.2.0",
          "model_name": "LayoutModel",
          "state": {
            "_model_module": "@jupyter-widgets/base",
            "_model_module_version": "1.2.0",
            "_model_name": "LayoutModel",
            "_view_count": null,
            "_view_module": "@jupyter-widgets/base",
            "_view_module_version": "1.2.0",
            "_view_name": "LayoutView",
            "align_content": null,
            "align_items": null,
            "align_self": null,
            "border": null,
            "bottom": null,
            "display": null,
            "flex": null,
            "flex_flow": null,
            "grid_area": null,
            "grid_auto_columns": null,
            "grid_auto_flow": null,
            "grid_auto_rows": null,
            "grid_column": null,
            "grid_gap": null,
            "grid_row": null,
            "grid_template_areas": null,
            "grid_template_columns": null,
            "grid_template_rows": null,
            "height": null,
            "justify_content": null,
            "justify_items": null,
            "left": null,
            "margin": null,
            "max_height": null,
            "max_width": null,
            "min_height": null,
            "min_width": null,
            "object_fit": null,
            "object_position": null,
            "order": null,
            "overflow": null,
            "overflow_x": null,
            "overflow_y": null,
            "padding": null,
            "right": null,
            "top": null,
            "visibility": null,
            "width": null
          }
        },
        "1dbdb82571c54cdd93dc2852bfff8d40": {
          "model_module": "@jupyter-widgets/controls",
          "model_module_version": "1.5.0",
          "model_name": "HBoxModel",
          "state": {
            "_dom_classes": [],
            "_model_module": "@jupyter-widgets/controls",
            "_model_module_version": "1.5.0",
            "_model_name": "HBoxModel",
            "_view_count": null,
            "_view_module": "@jupyter-widgets/controls",
            "_view_module_version": "1.5.0",
            "_view_name": "HBoxView",
            "box_style": "",
            "children": [
              "IPY_MODEL_51f160dd2cbe413ca4340f08c1c556c6",
              "IPY_MODEL_f25cd88e94d7471fba0524c195300dbd"
            ],
            "layout": "IPY_MODEL_c842ad6e08ac425eade8ae91843af6cf"
          }
        },
        "51f160dd2cbe413ca4340f08c1c556c6": {
          "model_module": "@jupyter-widgets/controls",
          "model_module_version": "1.5.0",
          "model_name": "PlayModel",
          "state": {
            "_dom_classes": [],
            "_model_module": "@jupyter-widgets/controls",
            "_model_module_version": "1.5.0",
            "_model_name": "PlayModel",
            "_playing": false,
            "_repeat": false,
            "_view_count": null,
            "_view_module": "@jupyter-widgets/controls",
            "_view_module_version": "1.5.0",
            "_view_name": "PlayView",
            "description": "",
            "description_tooltip": null,
            "disabled": false,
            "interval": 100,
            "layout": "IPY_MODEL_8cb134fe0b18494bbefe6c95adc7d14e",
            "max": 0,
            "min": 0,
            "show_repeat": true,
            "step": 1,
            "style": "IPY_MODEL_65d323feef3b4d44a7846a7c208946f1",
            "value": 0
          }
        },
        "65d323feef3b4d44a7846a7c208946f1": {
          "model_module": "@jupyter-widgets/controls",
          "model_module_version": "1.5.0",
          "model_name": "DescriptionStyleModel",
          "state": {
            "_model_module": "@jupyter-widgets/controls",
            "_model_module_version": "1.5.0",
            "_model_name": "DescriptionStyleModel",
            "_view_count": null,
            "_view_module": "@jupyter-widgets/base",
            "_view_module_version": "1.2.0",
            "_view_name": "StyleView",
            "description_width": ""
          }
        },
        "83451c0f082c4aa888b1dd14e9c775bf": {
          "model_module": "@jupyter-widgets/base",
          "model_module_version": "1.2.0",
          "model_name": "LayoutModel",
          "state": {
            "_model_module": "@jupyter-widgets/base",
            "_model_module_version": "1.2.0",
            "_model_name": "LayoutModel",
            "_view_count": null,
            "_view_module": "@jupyter-widgets/base",
            "_view_module_version": "1.2.0",
            "_view_name": "LayoutView",
            "align_content": null,
            "align_items": null,
            "align_self": null,
            "border": null,
            "bottom": null,
            "display": null,
            "flex": null,
            "flex_flow": null,
            "grid_area": null,
            "grid_auto_columns": null,
            "grid_auto_flow": null,
            "grid_auto_rows": null,
            "grid_column": null,
            "grid_gap": null,
            "grid_row": null,
            "grid_template_areas": null,
            "grid_template_columns": null,
            "grid_template_rows": null,
            "height": null,
            "justify_content": null,
            "justify_items": null,
            "left": null,
            "margin": null,
            "max_height": null,
            "max_width": null,
            "min_height": null,
            "min_width": null,
            "object_fit": null,
            "object_position": null,
            "order": null,
            "overflow": null,
            "overflow_x": null,
            "overflow_y": null,
            "padding": null,
            "right": null,
            "top": null,
            "visibility": null,
            "width": null
          }
        },
        "8cb134fe0b18494bbefe6c95adc7d14e": {
          "model_module": "@jupyter-widgets/base",
          "model_module_version": "1.2.0",
          "model_name": "LayoutModel",
          "state": {
            "_model_module": "@jupyter-widgets/base",
            "_model_module_version": "1.2.0",
            "_model_name": "LayoutModel",
            "_view_count": null,
            "_view_module": "@jupyter-widgets/base",
            "_view_module_version": "1.2.0",
            "_view_name": "LayoutView",
            "align_content": null,
            "align_items": null,
            "align_self": null,
            "border": null,
            "bottom": null,
            "display": null,
            "flex": null,
            "flex_flow": null,
            "grid_area": null,
            "grid_auto_columns": null,
            "grid_auto_flow": null,
            "grid_auto_rows": null,
            "grid_column": null,
            "grid_gap": null,
            "grid_row": null,
            "grid_template_areas": null,
            "grid_template_columns": null,
            "grid_template_rows": null,
            "height": null,
            "justify_content": null,
            "justify_items": null,
            "left": null,
            "margin": null,
            "max_height": null,
            "max_width": null,
            "min_height": null,
            "min_width": null,
            "object_fit": null,
            "object_position": null,
            "order": null,
            "overflow": null,
            "overflow_x": null,
            "overflow_y": null,
            "padding": null,
            "right": null,
            "top": null,
            "visibility": null,
            "width": null
          }
        },
        "b3e2e11d45734b7d9224fb987459470b": {
          "model_module": "nglview-js-widgets",
          "model_module_version": "3.0.1",
          "model_name": "NGLModel",
          "state": {
            "_camera_orientation": [
              -10.103352365027183,
              6.385389408422379,
              -0.592550746983955,
              0,
              3.959195270940704,
              5.341158002393939,
              -9.949816445385695,
              0,
              -5.0447088212804285,
              -8.596561905384883,
              -6.622090275149148,
              0,
              -1.7100000381469727,
              -0.8059999942779541,
              -0.2979999780654907,
              1
            ],
            "_camera_str": "orthographic",
            "_dom_classes": [],
            "_gui_theme": null,
            "_ibtn_fullscreen": "IPY_MODEL_174bcfbaa57647a791816ea2f5f95aba",
            "_igui": null,
            "_iplayer": "IPY_MODEL_1dbdb82571c54cdd93dc2852bfff8d40",
            "_model_module": "nglview-js-widgets",
            "_model_module_version": "3.0.1",
            "_model_name": "NGLModel",
            "_ngl_color_dict": {},
            "_ngl_coordinate_resource": {},
            "_ngl_full_stage_parameters": {
              "ambientColor": 14540253,
              "ambientIntensity": 0.2,
              "backgroundColor": "white",
              "cameraEyeSep": 0.3,
              "cameraFov": 40,
              "cameraType": "perspective",
              "clipDist": 10,
              "clipFar": 100,
              "clipNear": 0,
              "fogFar": 100,
              "fogNear": 50,
              "hoverTimeout": 0,
              "impostor": true,
              "lightColor": 14540253,
              "lightIntensity": 1,
              "mousePreset": "default",
              "panSpeed": 1,
              "quality": "medium",
              "rotateSpeed": 2,
              "sampleLevel": 0,
              "tooltip": true,
              "workerDefault": true,
              "zoomSpeed": 1.2
            },
            "_ngl_msg_archive": [
              {
                "args": [
                  {
                    "binary": false,
                    "data": "MODEL     1\nATOM      1    O MOL     1       1.736   0.839   0.257  1.00  0.00           O  \nATOM      2    H MOL     1       1.777   0.781   0.322  1.00  0.00           H  \nATOM      3    H MOL     1       1.643   0.831   0.274  1.00  0.00           H  \nATOM      4    X MOL     1       1.730   0.831   0.267  1.00  0.00           X  \nENDMDL\n",
                    "type": "blob"
                  }
                ],
                "kwargs": {
                  "defaultRepresentation": true,
                  "ext": "pdb"
                },
                "methodName": "loadFile",
                "reconstruc_color_scheme": false,
                "target": "Stage",
                "type": "call_method"
              }
            ],
            "_ngl_original_stage_parameters": {
              "ambientColor": 14540253,
              "ambientIntensity": 0.2,
              "backgroundColor": "white",
              "cameraEyeSep": 0.3,
              "cameraFov": 40,
              "cameraType": "perspective",
              "clipDist": 10,
              "clipFar": 100,
              "clipNear": 0,
              "fogFar": 100,
              "fogNear": 50,
              "hoverTimeout": 0,
              "impostor": true,
              "lightColor": 14540253,
              "lightIntensity": 1,
              "mousePreset": "default",
              "panSpeed": 1,
              "quality": "medium",
              "rotateSpeed": 2,
              "sampleLevel": 0,
              "tooltip": true,
              "workerDefault": true,
              "zoomSpeed": 1.2
            },
            "_ngl_repr_dict": {
              "0": {
                "0": {
                  "params": {
                    "aspectRatio": 1.5,
                    "assembly": "default",
                    "bondScale": 0.3,
                    "bondSpacing": 0.75,
                    "clipCenter": {
                      "x": 0,
                      "y": 0,
                      "z": 0
                    },
                    "clipNear": 0,
                    "clipRadius": 0,
                    "colorMode": "hcl",
                    "colorReverse": false,
                    "colorScale": "",
                    "colorScheme": "element",
                    "colorValue": 9474192,
                    "cylinderOnly": false,
                    "defaultAssembly": "",
                    "depthWrite": true,
                    "diffuse": 16777215,
                    "diffuseInterior": false,
                    "disableImpostor": false,
                    "disablePicking": false,
                    "flatShaded": false,
                    "interiorColor": 2236962,
                    "interiorDarkening": 0,
                    "lazy": false,
                    "lineOnly": false,
                    "linewidth": 2,
                    "matrix": {
                      "elements": [
                        1,
                        0,
                        0,
                        0,
                        0,
                        1,
                        0,
                        0,
                        0,
                        0,
                        1,
                        0,
                        0,
                        0,
                        0,
                        1
                      ]
                    },
                    "metalness": 0,
                    "multipleBond": "off",
                    "opacity": 1,
                    "openEnded": true,
                    "quality": "high",
                    "radialSegments": 20,
                    "radiusData": {},
                    "radiusScale": 2,
                    "radiusSize": 0.15,
                    "radiusType": "size",
                    "roughness": 0.4,
                    "sele": "",
                    "side": "double",
                    "sphereDetail": 2,
                    "useInteriorColor": true,
                    "visible": true,
                    "wireframe": false
                  },
                  "type": "ball+stick"
                }
              },
              "1": {
                "0": {
                  "params": {
                    "aspectRatio": 1.5,
                    "assembly": "default",
                    "bondScale": 0.3,
                    "bondSpacing": 0.75,
                    "clipCenter": {
                      "x": 0,
                      "y": 0,
                      "z": 0
                    },
                    "clipNear": 0,
                    "clipRadius": 0,
                    "colorMode": "hcl",
                    "colorReverse": false,
                    "colorScale": "",
                    "colorScheme": "element",
                    "colorValue": 9474192,
                    "cylinderOnly": false,
                    "defaultAssembly": "",
                    "depthWrite": true,
                    "diffuse": 16777215,
                    "diffuseInterior": false,
                    "disableImpostor": false,
                    "disablePicking": false,
                    "flatShaded": false,
                    "interiorColor": 2236962,
                    "interiorDarkening": 0,
                    "lazy": false,
                    "lineOnly": false,
                    "linewidth": 2,
                    "matrix": {
                      "elements": [
                        1,
                        0,
                        0,
                        0,
                        0,
                        1,
                        0,
                        0,
                        0,
                        0,
                        1,
                        0,
                        0,
                        0,
                        0,
                        1
                      ]
                    },
                    "metalness": 0,
                    "multipleBond": "off",
                    "opacity": 1,
                    "openEnded": true,
                    "quality": "high",
                    "radialSegments": 20,
                    "radiusData": {},
                    "radiusScale": 2,
                    "radiusSize": 0.15,
                    "radiusType": "size",
                    "roughness": 0.4,
                    "sele": "",
                    "side": "double",
                    "sphereDetail": 2,
                    "useInteriorColor": true,
                    "visible": true,
                    "wireframe": false
                  },
                  "type": "ball+stick"
                }
              }
            },
            "_ngl_serialize": false,
            "_ngl_version": "2.0.0-dev.36",
            "_ngl_view_id": [
              "5FF00EC2-ABC3-45F3-A902-138379E769E1"
            ],
            "_player_dict": {},
            "_scene_position": {},
            "_scene_rotation": {},
            "_synced_model_ids": [],
            "_synced_repr_model_ids": [],
            "_view_count": null,
            "_view_height": "",
            "_view_module": "nglview-js-widgets",
            "_view_module_version": "3.0.1",
            "_view_name": "NGLView",
            "_view_width": "",
            "background": "white",
            "frame": 0,
            "gui_style": null,
            "layout": "IPY_MODEL_83451c0f082c4aa888b1dd14e9c775bf",
            "max_frame": 0,
            "n_components": 2,
            "picked": {}
          }
        },
        "c842ad6e08ac425eade8ae91843af6cf": {
          "model_module": "@jupyter-widgets/base",
          "model_module_version": "1.2.0",
          "model_name": "LayoutModel",
          "state": {
            "_model_module": "@jupyter-widgets/base",
            "_model_module_version": "1.2.0",
            "_model_name": "LayoutModel",
            "_view_count": null,
            "_view_module": "@jupyter-widgets/base",
            "_view_module_version": "1.2.0",
            "_view_name": "LayoutView",
            "align_content": null,
            "align_items": null,
            "align_self": null,
            "border": null,
            "bottom": null,
            "display": null,
            "flex": null,
            "flex_flow": null,
            "grid_area": null,
            "grid_auto_columns": null,
            "grid_auto_flow": null,
            "grid_auto_rows": null,
            "grid_column": null,
            "grid_gap": null,
            "grid_row": null,
            "grid_template_areas": null,
            "grid_template_columns": null,
            "grid_template_rows": null,
            "height": null,
            "justify_content": null,
            "justify_items": null,
            "left": null,
            "margin": null,
            "max_height": null,
            "max_width": null,
            "min_height": null,
            "min_width": null,
            "object_fit": null,
            "object_position": null,
            "order": null,
            "overflow": null,
            "overflow_x": null,
            "overflow_y": null,
            "padding": null,
            "right": null,
            "top": null,
            "visibility": null,
            "width": null
          }
        },
        "d0b06dda6324492e96af92e3aeea444b": {
          "model_module": "@jupyter-widgets/controls",
          "model_module_version": "1.5.0",
          "model_name": "ButtonStyleModel",
          "state": {
            "_model_module": "@jupyter-widgets/controls",
            "_model_module_version": "1.5.0",
            "_model_name": "ButtonStyleModel",
            "_view_count": null,
            "_view_module": "@jupyter-widgets/base",
            "_view_module_version": "1.2.0",
            "_view_name": "StyleView",
            "button_color": null,
            "font_weight": ""
          }
        },
        "e8f4eabea82a4f928fa75a55769ed112": {
          "model_module": "@jupyter-widgets/controls",
          "model_module_version": "1.5.0",
          "model_name": "SliderStyleModel",
          "state": {
            "_model_module": "@jupyter-widgets/controls",
            "_model_module_version": "1.5.0",
            "_model_name": "SliderStyleModel",
            "_view_count": null,
            "_view_module": "@jupyter-widgets/base",
            "_view_module_version": "1.2.0",
            "_view_name": "StyleView",
            "description_width": "",
            "handle_color": null
          }
        },
        "f25cd88e94d7471fba0524c195300dbd": {
          "model_module": "@jupyter-widgets/controls",
          "model_module_version": "1.5.0",
          "model_name": "IntSliderModel",
          "state": {
            "_dom_classes": [],
            "_model_module": "@jupyter-widgets/controls",
            "_model_module_version": "1.5.0",
            "_model_name": "IntSliderModel",
            "_view_count": null,
            "_view_module": "@jupyter-widgets/controls",
            "_view_module_version": "1.5.0",
            "_view_name": "IntSliderView",
            "continuous_update": true,
            "description": "",
            "description_tooltip": null,
            "disabled": false,
            "layout": "IPY_MODEL_1ccf61fe60854532adca37efa0ce3d8c",
            "max": 0,
            "min": 0,
            "orientation": "horizontal",
            "readout": true,
            "readout_format": "d",
            "step": 1,
            "style": "IPY_MODEL_e8f4eabea82a4f928fa75a55769ed112",
            "value": 0
          }
        },
        "f7e90ca6eca44a02aa7dbd7c721963d2": {
          "model_module": "@jupyter-widgets/base",
          "model_module_version": "1.2.0",
          "model_name": "LayoutModel",
          "state": {
            "_model_module": "@jupyter-widgets/base",
            "_model_module_version": "1.2.0",
            "_model_name": "LayoutModel",
            "_view_count": null,
            "_view_module": "@jupyter-widgets/base",
            "_view_module_version": "1.2.0",
            "_view_name": "LayoutView",
            "align_content": null,
            "align_items": null,
            "align_self": null,
            "border": null,
            "bottom": null,
            "display": null,
            "flex": null,
            "flex_flow": null,
            "grid_area": null,
            "grid_auto_columns": null,
            "grid_auto_flow": null,
            "grid_auto_rows": null,
            "grid_column": null,
            "grid_gap": null,
            "grid_row": null,
            "grid_template_areas": null,
            "grid_template_columns": null,
            "grid_template_rows": null,
            "height": null,
            "justify_content": null,
            "justify_items": null,
            "left": null,
            "margin": null,
            "max_height": null,
            "max_width": null,
            "min_height": null,
            "min_width": null,
            "object_fit": null,
            "object_position": null,
            "order": null,
            "overflow": null,
            "overflow_x": null,
            "overflow_y": null,
            "padding": null,
            "right": null,
            "top": null,
            "visibility": null,
            "width": "34px"
          }
        }
      }
    }
  },
  "nbformat": 4,
  "nbformat_minor": 0
}
